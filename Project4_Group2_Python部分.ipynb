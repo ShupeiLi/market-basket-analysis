{
 "cells": [
  {
   "cell_type": "markdown",
   "metadata": {},
   "source": [
    "# 一、Apriori&FPgrowth measures函数封包"
   ]
  },
  {
   "cell_type": "code",
   "execution_count": 30,
   "metadata": {},
   "outputs": [],
   "source": [
    "#加载必要的包，设置DataFrame参数\n",
    "import pandas as pd\n",
    "import math, typing, numbers, itertools, datetime\n",
    "from efficient_apriori import rules\n",
    "from efficient_apriori.itemsets import apriori_gen\n",
    "from efficient_apriori.itemsets import itemsets_from_transactions, ItemsetCount\n",
    "from pyfpgrowth.pyfpgrowth import FPTree\n",
    "\n",
    "heading_properties = [('font-size', '12px')]\n",
    "cell_properties = [('font-size', '10px')]\n",
    "center_properties = [('text-align', 'center')]\n",
    "dfstyle = [dict(selector=\"th\", props=heading_properties),\\\n",
    " dict(selector=\"td\", props=cell_properties),\\\n",
    " dict(selector=\"th\", props=center_properties)]"
   ]
  },
  {
   "cell_type": "code",
   "execution_count": 31,
   "metadata": {},
   "outputs": [],
   "source": [
    "#Apriori算法    \n",
    "class Rule_ex(rules.Rule):\n",
    "    \"\"\"\n",
    "    Calculate phi_correlation.\n",
    "    \"\"\"\n",
    "    \n",
    "    @property\n",
    "    def correlation(self):\n",
    "        \"\"\"\n",
    "        Phi_correlation.\n",
    "        \"\"\"\n",
    "        try:\n",
    "            phi_numerator = self.num_transactions * self.count_full - self.count_lhs * self.count_rhs\n",
    "            phi_denominator = math.sqrt(self.count_lhs * self.count_rhs \n",
    "                                        * (self.num_transactions - self.count_lhs)\n",
    "                                        * (self.num_transactions - self.count_rhs))\n",
    "            return phi_numerator / phi_denominator\n",
    "        except ZeroDivisionError:\n",
    "            return None\n",
    "        except AttributeError:\n",
    "            return None\n",
    "        \n",
    "    def __str__(self):\n",
    "        \"\"\"\n",
    "        Printing of a rule.\n",
    "        \"\"\"\n",
    "        return \"{} -> {}\".format(self._pf(self.lhs), self._pf(self.rhs))\n",
    "\n",
    "def _ap_genrules(\n",
    "    itemset: tuple,\n",
    "    H_m: typing.List[tuple],\n",
    "    itemsets: typing.Dict[int, typing.Dict[tuple, int]],\n",
    "    min_conf: float,\n",
    "    num_transactions: int,\n",
    "):\n",
    "    def count(itemset):\n",
    "        return itemsets[len(itemset)][itemset]\n",
    "\n",
    "    # If H_1 is so large that calling `apriori_gen` will produce right-hand\n",
    "    # sides as large as `itemset`, there will be no right hand side\n",
    "    # This cannot happen, so abort if it will\n",
    "    if len(itemset) <= (len(H_m[0]) + 1):\n",
    "        return\n",
    "\n",
    "    # Generate left-hand itemsets of length k + 1 if H is of length k\n",
    "    H_m = list(apriori_gen(H_m))\n",
    "    H_m_copy = H_m.copy()\n",
    "\n",
    "    # For every possible right hand side\n",
    "    for h_m in H_m:\n",
    "        # Compute the right hand side of the rule\n",
    "        lhs = tuple(sorted(set(itemset).difference(set(h_m))))\n",
    "\n",
    "        # If the confidence is high enough, yield the rule, else remove from\n",
    "        # the upcoming recursive generator call\n",
    "        if (count(itemset) / count(lhs)) >= min_conf:\n",
    "            yield Rule_ex(\n",
    "                lhs,\n",
    "                h_m,\n",
    "                count(itemset),\n",
    "                count(lhs),\n",
    "                count(h_m),\n",
    "                num_transactions,\n",
    "            )\n",
    "        else:\n",
    "            H_m_copy.remove(h_m)\n",
    "\n",
    "    # Unless the list of right-hand sides is empty, recurse the generator call\n",
    "    if H_m_copy:\n",
    "        yield from _ap_genrules(itemset, H_m_copy, itemsets, min_conf, num_transactions)\n",
    "\n",
    "def generate_rules_apriori(\n",
    "    itemsets: typing.Dict[int, typing.Dict[tuple, int]],\n",
    "    min_confidence: float,\n",
    "    num_transactions: int,\n",
    "    verbosity: int = 0,\n",
    "):\n",
    "    # Validate user inputs\n",
    "    if not ((0 <= min_confidence <= 1) and isinstance(min_confidence, numbers.Number)):\n",
    "        raise ValueError(\"`min_confidence` must be a number between 0 and 1.\")\n",
    "\n",
    "    if not ((num_transactions >= 0) and isinstance(num_transactions, numbers.Number)):\n",
    "        raise ValueError(\"`num_transactions` must be a number greater than 0.\")\n",
    "\n",
    "    def count(itemset):\n",
    "        \"\"\"\n",
    "        Helper function to retrieve the count of the itemset in the dataset.\n",
    "        \"\"\"\n",
    "        return itemsets[len(itemset)][itemset]\n",
    "\n",
    "    if verbosity > 0:\n",
    "        print(\"Generating rules from itemsets.\")\n",
    "\n",
    "    # For every itemset of a perscribed size\n",
    "    for size in itemsets.keys():\n",
    "\n",
    "        # Do not consider itemsets of size 1\n",
    "        if size < 2:\n",
    "            continue\n",
    "\n",
    "        if verbosity > 0:\n",
    "            print(\" Generating rules of size {}.\".format(size))\n",
    "\n",
    "        # For every itemset of this size\n",
    "        for itemset in itemsets[size].keys():\n",
    "\n",
    "            # Special case to capture rules such as {others} -> {1 item}\n",
    "            for removed in itertools.combinations(itemset, 1):\n",
    "\n",
    "                # Compute the left hand side\n",
    "                remaining = set(itemset).difference(set(removed))\n",
    "                lhs = tuple(sorted(remaining))\n",
    "\n",
    "                # If the confidence is high enough, yield the rule\n",
    "                conf = count(itemset) / count(lhs)\n",
    "                if conf >= min_confidence:\n",
    "                    yield Rule_ex(\n",
    "                        lhs,\n",
    "                        removed,\n",
    "                        count(itemset),\n",
    "                        count(lhs),\n",
    "                        count(removed),\n",
    "                        num_transactions,\n",
    "                    )\n",
    "            # Generate combinations to start off of. These 1-combinations will\n",
    "            # be merged to 2-combinations in the function `_ap_genrules`\n",
    "            H_1 = list(itertools.combinations(itemset, 1))\n",
    "            yield from _ap_genrules(itemset, H_1, itemsets, min_confidence, num_transactions)\n",
    "\n",
    "    if verbosity > 0:\n",
    "        print(\"Rule generation terminated.\\n\")\n",
    "\n",
    "def apriori(\n",
    "    transactions: typing.Union[typing.List[tuple], typing.Callable],\n",
    "    min_support: float = 0.5,\n",
    "    min_confidence: float = 0.5,\n",
    "    max_length: int = 8,\n",
    "    verbosity: int = 0,\n",
    "    output_transaction_ids: bool = False,\n",
    "):\n",
    "    itemsets, num_trans = itemsets_from_transactions(\n",
    "        transactions,\n",
    "        min_support,\n",
    "        max_length,\n",
    "        verbosity,\n",
    "        output_transaction_ids,\n",
    "    )\n",
    "    if itemsets and isinstance(next(iter(itemsets[1].values())), ItemsetCount):\n",
    "        itemsets_for_rules = _convert_to_counts(itemsets)\n",
    "    else:\n",
    "        itemsets_for_rules = itemsets\n",
    "\n",
    "    rules = generate_rules_apriori(itemsets_for_rules, min_confidence, num_trans, verbosity)\n",
    "    return itemsets, list(rules)\n",
    "\n",
    "def _convert_to_counts(itemsets):\n",
    "    itemsets_counts = {}\n",
    "    for size, sets in itemsets.items():\n",
    "        itemsets_counts[size] = {i: c.itemset_count for i, c in sets.items()}\n",
    "    return itemsets_counts"
   ]
  },
  {
   "cell_type": "code",
   "execution_count": 32,
   "metadata": {},
   "outputs": [],
   "source": [
    "#FP-growth算法\n",
    "def find_frequent_patterns(transactions, support_threshold):\n",
    "    tree = FPTree(transactions, support_threshold, None, None)\n",
    "    tr_patterns = tree.mine_patterns(support_threshold)\n",
    "    tr_source = tree.frequent\n",
    "    tr_source_keys = dict(zip(list(tr_source.keys()), \n",
    "                              [(tr_key,) for tr_key in list(tr_source.keys())]))\n",
    "    tr_source_target = dict((tr_source_keys[key], value) for (key, value) in tr_source.items())\n",
    "    return {**tr_patterns, **tr_source_target}\n",
    "\n",
    "def generate_association_rules(patterns, confidence_threshold, transactions):\n",
    "    rules = []\n",
    "    num_transactions = len(transactions)\n",
    "    for itemset in patterns.keys():\n",
    "        upper_support = patterns[itemset]\n",
    "\n",
    "        for i in range(1, len(itemset)):\n",
    "            for antecedent in itertools.combinations(itemset, i):\n",
    "                antecedent = tuple(sorted(antecedent))\n",
    "                consequent = tuple(sorted(set(itemset) - set(antecedent)))\n",
    "\n",
    "                if antecedent in patterns:\n",
    "                    lower_support = patterns[antecedent]\n",
    "                    confidence = float(upper_support) / lower_support\n",
    "           \n",
    "                    if confidence >= confidence_threshold:\n",
    "                        support = upper_support / num_transactions\n",
    "                        try:\n",
    "                            lower_support_r = patterns[consequent]\n",
    "                            lift = (num_transactions * upper_support) / (lower_support * lower_support_r)\n",
    "                            phi_numerator = num_transactions * upper_support - lower_support * lower_support_r\n",
    "                            phi_denominator = math.sqrt(lower_support * lower_support_r\n",
    "                                                        * (num_transactions - lower_support)\n",
    "                                                        * (num_transactions - lower_support_r))\n",
    "                            phi_corr = phi_numerator / phi_denominator\n",
    "                            rule_value = (consequent, support, confidence, lift, phi_corr)\n",
    "                            rule_key_value = (antecedent, rule_value)\n",
    "                            rules.append(rule_key_value)\n",
    "                        except:\n",
    "                            sys.exc_clear()\n",
    "    return rules"
   ]
  },
  {
   "cell_type": "code",
   "execution_count": 33,
   "metadata": {},
   "outputs": [],
   "source": [
    "#算法执行\n",
    "def data_loader(df, groupby_key, groupby_column, algorithm=\"apr\"):\n",
    "    \"\"\"\n",
    "    Load data.\n",
    "    Parameters:\n",
    "        algorithm: apr -- Apriori\n",
    "                   fp -- FP-growth\n",
    "        groupby_key: pandas df.groupby (key)\n",
    "        groupby_column: pandas df.groupby [column]\n",
    "    \"\"\"\n",
    "    datadict = dict(list(df.groupby(groupby_key)[groupby_column]))\n",
    "    datakeys = datadict.keys()\n",
    "    transactions = []\n",
    "    for key in datakeys:\n",
    "        if algorithm == \"apr\":\n",
    "            transactions.append(tuple(set([x for x in datadict[key]])))\n",
    "        elif algorithm == \"fp\":\n",
    "            transactions.append(list(set([x for x in datadict[key]])))\n",
    "        else:\n",
    "            raise KeyError\n",
    "    return transactions\n",
    "\n",
    "def apriori_main(transactions, min_support, min_confidence, printorder=0):\n",
    "    \"\"\"\n",
    "    执行Apriori算法，\n",
    "    If printorder=0：按Lift值从大到下进行排序，输出前20个最强规则\n",
    "    If printorder=1：按φ的绝对值从大到下进行排序，输出前20个最强规则\n",
    "    \"\"\"\n",
    "    starttime = datetime.datetime.now()\n",
    "    apr_patterns, apr_rules = apriori(transactions, min_support=min_support, min_confidence=min_confidence)\n",
    "    endtime = datetime.datetime.now()\n",
    "    print(\"Apriori算法本次用时为 {}s\".format((endtime - starttime)))\n",
    "    \n",
    "    if (printorder==0):\n",
    "        apr_rules = sorted(apr_rules, key=lambda rule: rule.lift,reverse=True)\n",
    "    elif (printorder==1):\n",
    "        apr_rules = sorted(apr_rules, key=lambda rule: abs(rule.correlation),reverse=True)\n",
    "\n",
    "    #apr_rules = apr_rules[:20]\n",
    "    col_1 = []\n",
    "    support = []\n",
    "    confidence = []\n",
    "    lift = []\n",
    "    correlation = []\n",
    "    for index in range(len(apr_rules)):\n",
    "        col_1.append(apr_rules[index])\n",
    "        support.append(apr_rules[index].support)\n",
    "        confidence.append(apr_rules[index].confidence)\n",
    "        lift.append(apr_rules[index].lift)\n",
    "        correlation.append(apr_rules[index].correlation)\n",
    "    apr_dict = {\"Rule\":col_1, \"Support\":support, \"Confidence\":confidence, \"Lift\":lift, \"Correlation\":correlation}\n",
    "    apr_df = pd.DataFrame(apr_dict, columns=[\"Rule\", \"Support\", \"Confidence\", \"Lift\", \"Correlation\"])\n",
    "    return apr_df\n",
    "\n",
    "def fp_growth_main(transactions, min_support, min_confidence, printorder=0):\n",
    "    \"\"\"\n",
    "    执行FP-growth算法，\n",
    "    If printorder=0：按Lift值从大到下进行排序，输出前20个最强规则\n",
    "    If printorder=1：按φ的绝对值从大到下进行排序，输出前20个最强规则\n",
    "    \"\"\"\n",
    "    starttime = datetime.datetime.now()\n",
    "    fp_patterns = find_frequent_patterns(transactions, min_support*len(transactions))\n",
    "    fp_rules = generate_association_rules(fp_patterns, min_confidence, transactions)\n",
    "    endtime = datetime.datetime.now()\n",
    "    print(\"FP-growth算法本次用时为 {}s\".format((endtime - starttime)))\n",
    "    \n",
    "    if (printorder==0):\n",
    "        fp_rules = sorted(fp_rules, key=lambda rule: abs(rule[1][3]),reverse=True)\n",
    "    elif (printorder==1):\n",
    "        fp_rules = sorted(fp_rules, key=lambda rule: abs(rule[1][4]),reverse=True)\n",
    "    \n",
    "    #fp_rules = fp_rules[:20]\n",
    "    col_1 = []\n",
    "    support = []\n",
    "    confidence = []\n",
    "    lift = []\n",
    "    correlation = []\n",
    "    for index in range(len(fp_rules)):\n",
    "        col_1.append(\"{} -> {}\".format(set(fp_rules[index][0]), set(fp_rules[index][1][0])))\n",
    "        support.append(fp_rules[index][1][1])\n",
    "        confidence.append(fp_rules[index][1][2])\n",
    "        lift.append(fp_rules[index][1][3])\n",
    "        correlation.append(fp_rules[index][1][4])\n",
    "    fp_dict = {\"Rule\":col_1, \"Support\":support, \"Confidence\":confidence, \"Lift\":lift, \"Correlation\":correlation}\n",
    "    fp_df = pd.DataFrame(fp_dict, columns=[\"Rule\", \"Support\", \"Confidence\", \"Lift\", \"Correlation\"])\n",
    "    return fp_df"
   ]
  },
  {
   "cell_type": "markdown",
   "metadata": {},
   "source": [
    "# 二、数据集1 "
   ]
  },
  {
   "cell_type": "markdown",
   "metadata": {},
   "source": [
    "## 2.0 数据概览"
   ]
  },
  {
   "cell_type": "code",
   "execution_count": 36,
   "metadata": {},
   "outputs": [
    {
     "data": {
      "text/html": [
       "<div>\n",
       "<style scoped>\n",
       "    .dataframe tbody tr th:only-of-type {\n",
       "        vertical-align: middle;\n",
       "    }\n",
       "\n",
       "    .dataframe tbody tr th {\n",
       "        vertical-align: top;\n",
       "    }\n",
       "\n",
       "    .dataframe thead th {\n",
       "        text-align: right;\n",
       "    }\n",
       "</style>\n",
       "<table border=\"1\" class=\"dataframe\">\n",
       "  <thead>\n",
       "    <tr style=\"text-align: right;\">\n",
       "      <th></th>\n",
       "      <th>City</th>\n",
       "      <th>Country</th>\n",
       "      <th>Customer Name</th>\n",
       "      <th>Discount</th>\n",
       "      <th>Order Date</th>\n",
       "      <th>Order ID</th>\n",
       "      <th>Postal Code</th>\n",
       "      <th>Manufacturer</th>\n",
       "      <th>Product Name</th>\n",
       "      <th>Product Container</th>\n",
       "      <th>Category</th>\n",
       "      <th>Sub-Category</th>\n",
       "      <th>Profit</th>\n",
       "      <th>Quantity</th>\n",
       "      <th>Region</th>\n",
       "      <th>Sales</th>\n",
       "      <th>Segment</th>\n",
       "      <th>Ship Date</th>\n",
       "      <th>Ship Mode</th>\n",
       "      <th>State</th>\n",
       "    </tr>\n",
       "  </thead>\n",
       "  <tbody>\n",
       "    <tr>\n",
       "      <th>0</th>\n",
       "      <td>Henderson</td>\n",
       "      <td>United States</td>\n",
       "      <td>Claire Gute</td>\n",
       "      <td>0.00</td>\n",
       "      <td>08/11/2017</td>\n",
       "      <td>CA-2017-152156</td>\n",
       "      <td>42420.0</td>\n",
       "      <td>Bush</td>\n",
       "      <td>Bush Somerset Collection Bookcase</td>\n",
       "      <td>Small Pack</td>\n",
       "      <td>Furniture</td>\n",
       "      <td>Bookcases</td>\n",
       "      <td>42</td>\n",
       "      <td>2</td>\n",
       "      <td>South</td>\n",
       "      <td>262</td>\n",
       "      <td>Consumer</td>\n",
       "      <td>11/11/2017</td>\n",
       "      <td>Second Class</td>\n",
       "      <td>Kentucky</td>\n",
       "    </tr>\n",
       "    <tr>\n",
       "      <th>1</th>\n",
       "      <td>Henderson</td>\n",
       "      <td>United States</td>\n",
       "      <td>Claire Gute</td>\n",
       "      <td>0.00</td>\n",
       "      <td>08/11/2017</td>\n",
       "      <td>CA-2017-152156</td>\n",
       "      <td>42420.0</td>\n",
       "      <td>Hon</td>\n",
       "      <td>Hon Deluxe Fabric Upholstered Stacking Chairs,...</td>\n",
       "      <td>Small Box</td>\n",
       "      <td>Furniture</td>\n",
       "      <td>Chairs</td>\n",
       "      <td>220</td>\n",
       "      <td>3</td>\n",
       "      <td>South</td>\n",
       "      <td>732</td>\n",
       "      <td>Consumer</td>\n",
       "      <td>11/11/2017</td>\n",
       "      <td>Second Class</td>\n",
       "      <td>Kentucky</td>\n",
       "    </tr>\n",
       "    <tr>\n",
       "      <th>2</th>\n",
       "      <td>Los Angeles</td>\n",
       "      <td>United States</td>\n",
       "      <td>Darrin Van Huff</td>\n",
       "      <td>0.00</td>\n",
       "      <td>12/06/2017</td>\n",
       "      <td>CA-2017-138688</td>\n",
       "      <td>90036.0</td>\n",
       "      <td>Universal</td>\n",
       "      <td>Self-Adhesive Address Labels for Typewriters b...</td>\n",
       "      <td>Small Box</td>\n",
       "      <td>Office Supplies</td>\n",
       "      <td>Labels</td>\n",
       "      <td>7</td>\n",
       "      <td>2</td>\n",
       "      <td>West</td>\n",
       "      <td>15</td>\n",
       "      <td>Corporate</td>\n",
       "      <td>16/06/2017</td>\n",
       "      <td>Second Class</td>\n",
       "      <td>California</td>\n",
       "    </tr>\n",
       "    <tr>\n",
       "      <th>3</th>\n",
       "      <td>Fort Lauderdale</td>\n",
       "      <td>United States</td>\n",
       "      <td>Sean O'Donnell</td>\n",
       "      <td>0.45</td>\n",
       "      <td>11/10/2016</td>\n",
       "      <td>US-2016-108966</td>\n",
       "      <td>33311.0</td>\n",
       "      <td>Bretford</td>\n",
       "      <td>Bretford CR4500 Series Slim Rectangular Table</td>\n",
       "      <td>Small Pack</td>\n",
       "      <td>Furniture</td>\n",
       "      <td>Tables</td>\n",
       "      <td>-383</td>\n",
       "      <td>5</td>\n",
       "      <td>South</td>\n",
       "      <td>958</td>\n",
       "      <td>Consumer</td>\n",
       "      <td>18/10/2016</td>\n",
       "      <td>Standard Class</td>\n",
       "      <td>Florida</td>\n",
       "    </tr>\n",
       "    <tr>\n",
       "      <th>4</th>\n",
       "      <td>Fort Lauderdale</td>\n",
       "      <td>United States</td>\n",
       "      <td>Sean O'Donnell</td>\n",
       "      <td>0.20</td>\n",
       "      <td>11/10/2016</td>\n",
       "      <td>US-2016-108966</td>\n",
       "      <td>33311.0</td>\n",
       "      <td>Eldon</td>\n",
       "      <td>Eldon Fold 'N Roll Cart System</td>\n",
       "      <td>Small Box</td>\n",
       "      <td>Office Supplies</td>\n",
       "      <td>Storage</td>\n",
       "      <td>3</td>\n",
       "      <td>2</td>\n",
       "      <td>South</td>\n",
       "      <td>22</td>\n",
       "      <td>Consumer</td>\n",
       "      <td>18/10/2016</td>\n",
       "      <td>Standard Class</td>\n",
       "      <td>Florida</td>\n",
       "    </tr>\n",
       "  </tbody>\n",
       "</table>\n",
       "</div>"
      ],
      "text/plain": [
       "              City        Country    Customer Name  Discount  Order Date  \\\n",
       "0        Henderson  United States      Claire Gute      0.00  08/11/2017   \n",
       "1        Henderson  United States      Claire Gute      0.00  08/11/2017   \n",
       "2      Los Angeles  United States  Darrin Van Huff      0.00  12/06/2017   \n",
       "3  Fort Lauderdale  United States   Sean O'Donnell      0.45  11/10/2016   \n",
       "4  Fort Lauderdale  United States   Sean O'Donnell      0.20  11/10/2016   \n",
       "\n",
       "         Order ID  Postal Code Manufacturer  \\\n",
       "0  CA-2017-152156      42420.0         Bush   \n",
       "1  CA-2017-152156      42420.0          Hon   \n",
       "2  CA-2017-138688      90036.0    Universal   \n",
       "3  US-2016-108966      33311.0     Bretford   \n",
       "4  US-2016-108966      33311.0        Eldon   \n",
       "\n",
       "                                        Product Name Product Container  \\\n",
       "0                  Bush Somerset Collection Bookcase        Small Pack   \n",
       "1  Hon Deluxe Fabric Upholstered Stacking Chairs,...         Small Box   \n",
       "2  Self-Adhesive Address Labels for Typewriters b...         Small Box   \n",
       "3      Bretford CR4500 Series Slim Rectangular Table        Small Pack   \n",
       "4                     Eldon Fold 'N Roll Cart System         Small Box   \n",
       "\n",
       "          Category Sub-Category  Profit  Quantity Region  Sales    Segment  \\\n",
       "0        Furniture    Bookcases      42         2  South    262   Consumer   \n",
       "1        Furniture       Chairs     220         3  South    732   Consumer   \n",
       "2  Office Supplies       Labels       7         2   West     15  Corporate   \n",
       "3        Furniture       Tables    -383         5  South    958   Consumer   \n",
       "4  Office Supplies      Storage       3         2  South     22   Consumer   \n",
       "\n",
       "    Ship Date       Ship Mode       State  \n",
       "0  11/11/2017    Second Class    Kentucky  \n",
       "1  11/11/2017    Second Class    Kentucky  \n",
       "2  16/06/2017    Second Class  California  \n",
       "3  18/10/2016  Standard Class     Florida  \n",
       "4  18/10/2016  Standard Class     Florida  "
      ]
     },
     "execution_count": 36,
     "metadata": {},
     "output_type": "execute_result"
    }
   ],
   "source": [
    "#数据集路径\n",
    "filepath_1 = \".\\Power Mart.xlsx\"\n",
    "Power_Mart = pd.read_excel(filepath_1)\n",
    "Power_Mart.head()"
   ]
  },
  {
   "cell_type": "code",
   "execution_count": 37,
   "metadata": {},
   "outputs": [
    {
     "data": {
      "text/plain": [
       "5009"
      ]
     },
     "execution_count": 37,
     "metadata": {},
     "output_type": "execute_result"
    }
   ],
   "source": [
    "#以Order ID为单位，计算总事务数\n",
    "len(Power_Mart.loc[:,'Order ID'].unique()) "
   ]
  },
  {
   "cell_type": "code",
   "execution_count": 38,
   "metadata": {},
   "outputs": [
    {
     "data": {
      "text/plain": [
       "1850"
      ]
     },
     "execution_count": 38,
     "metadata": {},
     "output_type": "execute_result"
    }
   ],
   "source": [
    "#以Product Name为单位，计算不同的商品数\n",
    "len(Power_Mart.loc[:,'Product Name'].unique())"
   ]
  },
  {
   "cell_type": "markdown",
   "metadata": {},
   "source": [
    "Product Name的unique个数太多，没必要对其在进行预处理：\n",
    "一方面是个数太多NLP存在难度，另一方面是后续有Category和Sub-Category的任务。"
   ]
  },
  {
   "cell_type": "markdown",
   "metadata": {},
   "source": [
    "## 2.1 参数调整、关联规则输出、算法时间代价比较：第（1）问"
   ]
  },
  {
   "cell_type": "markdown",
   "metadata": {},
   "source": [
    "### 2.1.1 第一组参数：minsup=0.4  minconf=0.4"
   ]
  },
  {
   "cell_type": "code",
   "execution_count": 68,
   "metadata": {},
   "outputs": [],
   "source": [
    "#参数\n",
    "min_support = 0.4 #支持度阈值\n",
    "min_confidence = 0.4 #置信度阈值\n",
    "groupby_key = \"Order ID\" #汇总索引\n",
    "groupby_column = \"Product Name\" #需要汇总的列\n",
    "#注：data_loader需要传入algorithm参数, \"apr\":Apriori, \"fp\":FP-growth"
   ]
  },
  {
   "cell_type": "code",
   "execution_count": 69,
   "metadata": {},
   "outputs": [
    {
     "name": "stdout",
     "output_type": "stream",
     "text": [
      "Apriori算法本次用时为 0:00:00.004984s\n"
     ]
    }
   ],
   "source": [
    "#Apriori算法\n",
    "Power_Mart_apr_transactions = data_loader(Power_Mart, groupby_key, groupby_column, algorithm=\"apr\")\n",
    "Power_Mart_apr_df = apriori_main(Power_Mart_apr_transactions, min_support, min_confidence)"
   ]
  },
  {
   "cell_type": "code",
   "execution_count": 70,
   "metadata": {},
   "outputs": [
    {
     "data": {
      "text/plain": [
       "0"
      ]
     },
     "execution_count": 70,
     "metadata": {},
     "output_type": "execute_result"
    }
   ],
   "source": [
    "Power_Mart_apr_df.shape[0] #统计满足支持度和置信度要求的规则条数"
   ]
  },
  {
   "cell_type": "code",
   "execution_count": 71,
   "metadata": {},
   "outputs": [
    {
     "name": "stdout",
     "output_type": "stream",
     "text": [
      "FP-growth算法本次用时为 0:00:00.007978s\n"
     ]
    }
   ],
   "source": [
    "#FP-growth算法\n",
    "Power_Mart_fp_transactions = data_loader(Power_Mart, groupby_key, groupby_column, algorithm=\"fp\")\n",
    "Power_Mart_fp_df = fp_growth_main(Power_Mart_fp_transactions, min_support, min_confidence)"
   ]
  },
  {
   "cell_type": "code",
   "execution_count": 72,
   "metadata": {},
   "outputs": [
    {
     "data": {
      "text/plain": [
       "0"
      ]
     },
     "execution_count": 72,
     "metadata": {},
     "output_type": "execute_result"
    }
   ],
   "source": [
    "Power_Mart_fp_df.shape[0] #统计满足支持度和置信度要求的规则条数"
   ]
  },
  {
   "cell_type": "markdown",
   "metadata": {},
   "source": [
    "### 2.1.2 第二组参数：minsup=0.01  minconf=0.4"
   ]
  },
  {
   "cell_type": "code",
   "execution_count": 73,
   "metadata": {},
   "outputs": [],
   "source": [
    "#参数\n",
    "min_support = 0.01 #支持度阈值\n",
    "min_confidence = 0.4 #置信度阈值\n",
    "groupby_key = \"Order ID\" #汇总索引\n",
    "groupby_column = \"Product Name\" #需要汇总的列\n",
    "#注：data_loader需要传入algorithm参数, \"apr\":Apriori, \"fp\":FP-growth"
   ]
  },
  {
   "cell_type": "code",
   "execution_count": 74,
   "metadata": {},
   "outputs": [
    {
     "name": "stdout",
     "output_type": "stream",
     "text": [
      "Apriori算法本次用时为 0:00:00.003990s\n"
     ]
    }
   ],
   "source": [
    "#Apriori算法\n",
    "Power_Mart_apr_transactions = data_loader(Power_Mart, groupby_key, groupby_column, algorithm=\"apr\")\n",
    "Power_Mart_apr_df = apriori_main(Power_Mart_apr_transactions, min_support, min_confidence)"
   ]
  },
  {
   "cell_type": "code",
   "execution_count": 75,
   "metadata": {},
   "outputs": [
    {
     "data": {
      "text/plain": [
       "0"
      ]
     },
     "execution_count": 75,
     "metadata": {},
     "output_type": "execute_result"
    }
   ],
   "source": [
    "Power_Mart_apr_df.shape[0] #统计满足支持度和置信度要求的规则条数"
   ]
  },
  {
   "cell_type": "code",
   "execution_count": 76,
   "metadata": {},
   "outputs": [
    {
     "name": "stdout",
     "output_type": "stream",
     "text": [
      "FP-growth算法本次用时为 0:00:00.007979s\n"
     ]
    }
   ],
   "source": [
    "#FP-growth算法\n",
    "Power_Mart_fp_transactions = data_loader(Power_Mart, groupby_key, groupby_column, algorithm=\"fp\")\n",
    "Power_Mart_fp_df = fp_growth_main(Power_Mart_fp_transactions, min_support, min_confidence)"
   ]
  },
  {
   "cell_type": "code",
   "execution_count": 77,
   "metadata": {},
   "outputs": [
    {
     "data": {
      "text/plain": [
       "0"
      ]
     },
     "execution_count": 77,
     "metadata": {},
     "output_type": "execute_result"
    }
   ],
   "source": [
    "Power_Mart_fp_df.shape[0] #统计满足支持度和置信度要求的规则条数"
   ]
  },
  {
   "cell_type": "markdown",
   "metadata": {},
   "source": [
    "### 2.1.3 第三组参数：minsup=0.0005 minconf=0.4"
   ]
  },
  {
   "cell_type": "code",
   "execution_count": 78,
   "metadata": {},
   "outputs": [],
   "source": [
    "#参数\n",
    "min_support = 0.0005 #支持度阈值\n",
    "min_confidence = 0.4 #置信度阈值\n",
    "groupby_key = \"Order ID\" #汇总索引\n",
    "groupby_column = \"Product Name\" #需要汇总的列\n",
    "#注：data_loader需要传入algorithm参数, \"apr\":Apriori, \"fp\":FP-growth"
   ]
  },
  {
   "cell_type": "code",
   "execution_count": 79,
   "metadata": {},
   "outputs": [
    {
     "name": "stdout",
     "output_type": "stream",
     "text": [
      "Apriori算法本次用时为 0:10:20.798356s\n"
     ]
    }
   ],
   "source": [
    "#Apriori算法\n",
    "Power_Mart_apr_transactions = data_loader(Power_Mart, groupby_key, groupby_column, algorithm=\"apr\")\n",
    "Power_Mart_apr_df = apriori_main(Power_Mart_apr_transactions, min_support, min_confidence)"
   ]
  },
  {
   "cell_type": "code",
   "execution_count": 80,
   "metadata": {},
   "outputs": [
    {
     "data": {
      "text/plain": [
       "0"
      ]
     },
     "execution_count": 80,
     "metadata": {},
     "output_type": "execute_result"
    }
   ],
   "source": [
    "Power_Mart_apr_df.shape[0] #统计满足支持度和置信度要求的规则条数"
   ]
  },
  {
   "cell_type": "code",
   "execution_count": 81,
   "metadata": {},
   "outputs": [
    {
     "name": "stdout",
     "output_type": "stream",
     "text": [
      "FP-growth算法本次用时为 0:00:00.256316s\n"
     ]
    }
   ],
   "source": [
    "#FP-growth算法\n",
    "Power_Mart_fp_transactions = data_loader(Power_Mart, groupby_key, groupby_column, algorithm=\"fp\")\n",
    "Power_Mart_fp_df = fp_growth_main(Power_Mart_fp_transactions, min_support, min_confidence)"
   ]
  },
  {
   "cell_type": "code",
   "execution_count": 82,
   "metadata": {},
   "outputs": [
    {
     "data": {
      "text/plain": [
       "0"
      ]
     },
     "execution_count": 82,
     "metadata": {},
     "output_type": "execute_result"
    }
   ],
   "source": [
    "Power_Mart_fp_df.shape[0] #统计满足支持度和置信度要求的规则条数"
   ]
  },
  {
   "cell_type": "markdown",
   "metadata": {},
   "source": [
    "### 2.1.4 第四组参数：minsup=0.0002 minconf=0.4   "
   ]
  },
  {
   "cell_type": "code",
   "execution_count": 84,
   "metadata": {},
   "outputs": [],
   "source": [
    "#参数\n",
    "min_support = 0.0002 #支持度阈值\n",
    "min_confidence = 0.4 #置信度阈值\n",
    "groupby_key = \"Order ID\" #汇总索引\n",
    "groupby_column = \"Product Name\" #需要汇总的列\n",
    "#注：data_loader需要传入algorithm参数, \"apr\":Apriori, \"fp\":FP-growth"
   ]
  },
  {
   "cell_type": "code",
   "execution_count": 85,
   "metadata": {},
   "outputs": [
    {
     "name": "stdout",
     "output_type": "stream",
     "text": [
      "Apriori算法本次用时为 0:11:59.163515s\n"
     ]
    },
    {
     "data": {
      "text/html": [
       "<style  type=\"text/css\" >\n",
       "    #T_176f358c_32fc_11eb_a59f_7c67a253903e th {\n",
       "          font-size: 12px;\n",
       "    }    #T_176f358c_32fc_11eb_a59f_7c67a253903e td {\n",
       "          font-size: 10px;\n",
       "    }    #T_176f358c_32fc_11eb_a59f_7c67a253903e th {\n",
       "          text-align: center;\n",
       "    }</style><table id=\"T_176f358c_32fc_11eb_a59f_7c67a253903e\" ><thead>    <tr>        <th class=\"blank level0\" ></th>        <th class=\"col_heading level0 col0\" >Rule</th>        <th class=\"col_heading level0 col1\" >Support</th>        <th class=\"col_heading level0 col2\" >Confidence</th>        <th class=\"col_heading level0 col3\" >Lift</th>        <th class=\"col_heading level0 col4\" >Correlation</th>    </tr></thead><tbody>\n",
       "                <tr>\n",
       "                        <th id=\"T_176f358c_32fc_11eb_a59f_7c67a253903elevel0_row0\" class=\"row_heading level0 row0\" >0</th>\n",
       "                        <td id=\"T_176f358c_32fc_11eb_a59f_7c67a253903erow0_col0\" class=\"data row0 col0\" >{Microsoft Natural Ergonomic Keyboard 4000} -> {Boston 16765 Mini Stand Up Battery Pencil Sharpener}</td>\n",
       "                        <td id=\"T_176f358c_32fc_11eb_a59f_7c67a253903erow0_col1\" class=\"data row0 col1\" >0.000399</td>\n",
       "                        <td id=\"T_176f358c_32fc_11eb_a59f_7c67a253903erow0_col2\" class=\"data row0 col2\" >0.400000</td>\n",
       "                        <td id=\"T_176f358c_32fc_11eb_a59f_7c67a253903erow0_col3\" class=\"data row0 col3\" >500.900000</td>\n",
       "                        <td id=\"T_176f358c_32fc_11eb_a59f_7c67a253903erow0_col4\" class=\"data row0 col4\" >0.446722</td>\n",
       "            </tr>\n",
       "            <tr>\n",
       "                        <th id=\"T_176f358c_32fc_11eb_a59f_7c67a253903elevel0_row1\" class=\"row_heading level0 row1\" >1</th>\n",
       "                        <td id=\"T_176f358c_32fc_11eb_a59f_7c67a253903erow1_col0\" class=\"data row1 col0\" >{Boston 16765 Mini Stand Up Battery Pencil Sharpener} -> {Microsoft Natural Ergonomic Keyboard 4000}</td>\n",
       "                        <td id=\"T_176f358c_32fc_11eb_a59f_7c67a253903erow1_col1\" class=\"data row1 col1\" >0.000399</td>\n",
       "                        <td id=\"T_176f358c_32fc_11eb_a59f_7c67a253903erow1_col2\" class=\"data row1 col2\" >0.500000</td>\n",
       "                        <td id=\"T_176f358c_32fc_11eb_a59f_7c67a253903erow1_col3\" class=\"data row1 col3\" >500.900000</td>\n",
       "                        <td id=\"T_176f358c_32fc_11eb_a59f_7c67a253903erow1_col4\" class=\"data row1 col4\" >0.446722</td>\n",
       "            </tr>\n",
       "            <tr>\n",
       "                        <th id=\"T_176f358c_32fc_11eb_a59f_7c67a253903elevel0_row2\" class=\"row_heading level0 row2\" >2</th>\n",
       "                        <td id=\"T_176f358c_32fc_11eb_a59f_7c67a253903erow2_col0\" class=\"data row2 col0\" >{Anker Astro Mini 3000mAh Ultra-Compact Portable Charger} -> {Bretford CR8500 Series Meeting Room Furniture}</td>\n",
       "                        <td id=\"T_176f358c_32fc_11eb_a59f_7c67a253903erow2_col1\" class=\"data row2 col1\" >0.000399</td>\n",
       "                        <td id=\"T_176f358c_32fc_11eb_a59f_7c67a253903erow2_col2\" class=\"data row2 col2\" >0.500000</td>\n",
       "                        <td id=\"T_176f358c_32fc_11eb_a59f_7c67a253903erow2_col3\" class=\"data row2 col3\" >417.416667</td>\n",
       "                        <td id=\"T_176f358c_32fc_11eb_a59f_7c67a253903erow2_col4\" class=\"data row2 col4\" >0.407677</td>\n",
       "            </tr>\n",
       "            <tr>\n",
       "                        <th id=\"T_176f358c_32fc_11eb_a59f_7c67a253903elevel0_row3\" class=\"row_heading level0 row3\" >3</th>\n",
       "                        <td id=\"T_176f358c_32fc_11eb_a59f_7c67a253903erow3_col0\" class=\"data row3 col0\" >{Acco Side-Punched Conventional Columnar Pads} -> {Avery Fluorescent Highlighter Four-Color Set}</td>\n",
       "                        <td id=\"T_176f358c_32fc_11eb_a59f_7c67a253903erow3_col1\" class=\"data row3 col1\" >0.000399</td>\n",
       "                        <td id=\"T_176f358c_32fc_11eb_a59f_7c67a253903erow3_col2\" class=\"data row3 col2\" >0.500000</td>\n",
       "                        <td id=\"T_176f358c_32fc_11eb_a59f_7c67a253903erow3_col3\" class=\"data row3 col3\" >313.062500</td>\n",
       "                        <td id=\"T_176f358c_32fc_11eb_a59f_7c67a253903erow3_col4\" class=\"data row3 col4\" >0.352847</td>\n",
       "            </tr>\n",
       "            <tr>\n",
       "                        <th id=\"T_176f358c_32fc_11eb_a59f_7c67a253903elevel0_row4\" class=\"row_heading level0 row4\" >4</th>\n",
       "                        <td id=\"T_176f358c_32fc_11eb_a59f_7c67a253903erow4_col0\" class=\"data row4 col0\" >{SAFCO Optional Arm Kit for Workspace Cribbage Stacking Chair} -> {Belkin Premiere Surge Master II 8-outlet surge protector}</td>\n",
       "                        <td id=\"T_176f358c_32fc_11eb_a59f_7c67a253903erow4_col1\" class=\"data row4 col1\" >0.000399</td>\n",
       "                        <td id=\"T_176f358c_32fc_11eb_a59f_7c67a253903erow4_col2\" class=\"data row4 col2\" >0.400000</td>\n",
       "                        <td id=\"T_176f358c_32fc_11eb_a59f_7c67a253903erow4_col3\" class=\"data row4 col3\" >286.228571</td>\n",
       "                        <td id=\"T_176f358c_32fc_11eb_a59f_7c67a253903erow4_col4\" class=\"data row4 col4\" >0.337285</td>\n",
       "            </tr>\n",
       "            <tr>\n",
       "                        <th id=\"T_176f358c_32fc_11eb_a59f_7c67a253903elevel0_row5\" class=\"row_heading level0 row5\" >5</th>\n",
       "                        <td id=\"T_176f358c_32fc_11eb_a59f_7c67a253903erow5_col0\" class=\"data row5 col0\" >{Seth Thomas 8 1/2\" Cubicle Clock} -> {Cisco SPA301}</td>\n",
       "                        <td id=\"T_176f358c_32fc_11eb_a59f_7c67a253903erow5_col1\" class=\"data row5 col1\" >0.000399</td>\n",
       "                        <td id=\"T_176f358c_32fc_11eb_a59f_7c67a253903erow5_col2\" class=\"data row5 col2\" >0.500000</td>\n",
       "                        <td id=\"T_176f358c_32fc_11eb_a59f_7c67a253903erow5_col3\" class=\"data row5 col3\" >278.277778</td>\n",
       "                        <td id=\"T_176f358c_32fc_11eb_a59f_7c67a253903erow5_col4\" class=\"data row5 col4\" >0.332567</td>\n",
       "            </tr>\n",
       "            <tr>\n",
       "                        <th id=\"T_176f358c_32fc_11eb_a59f_7c67a253903elevel0_row6\" class=\"row_heading level0 row6\" >6</th>\n",
       "                        <td id=\"T_176f358c_32fc_11eb_a59f_7c67a253903erow6_col0\" class=\"data row6 col0\" >{Hon Rectangular Conference Tables} -> {Plantronics CS510 - Over-the-Head monaural Wireless Headset System}</td>\n",
       "                        <td id=\"T_176f358c_32fc_11eb_a59f_7c67a253903erow6_col1\" class=\"data row6 col1\" >0.000399</td>\n",
       "                        <td id=\"T_176f358c_32fc_11eb_a59f_7c67a253903erow6_col2\" class=\"data row6 col2\" >0.500000</td>\n",
       "                        <td id=\"T_176f358c_32fc_11eb_a59f_7c67a253903erow6_col3\" class=\"data row6 col3\" >250.450000</td>\n",
       "                        <td id=\"T_176f358c_32fc_11eb_a59f_7c67a253903erow6_col4\" class=\"data row6 col4\" >0.315406</td>\n",
       "            </tr>\n",
       "            <tr>\n",
       "                        <th id=\"T_176f358c_32fc_11eb_a59f_7c67a253903elevel0_row7\" class=\"row_heading level0 row7\" >7</th>\n",
       "                        <td id=\"T_176f358c_32fc_11eb_a59f_7c67a253903erow7_col0\" class=\"data row7 col0\" >{Hon Valutask Swivel Chairs} -> {GBC Plastic Binding Combs}</td>\n",
       "                        <td id=\"T_176f358c_32fc_11eb_a59f_7c67a253903erow7_col1\" class=\"data row7 col1\" >0.000399</td>\n",
       "                        <td id=\"T_176f358c_32fc_11eb_a59f_7c67a253903erow7_col2\" class=\"data row7 col2\" >0.500000</td>\n",
       "                        <td id=\"T_176f358c_32fc_11eb_a59f_7c67a253903erow7_col3\" class=\"data row7 col3\" >250.450000</td>\n",
       "                        <td id=\"T_176f358c_32fc_11eb_a59f_7c67a253903erow7_col4\" class=\"data row7 col4\" >0.315406</td>\n",
       "            </tr>\n",
       "            <tr>\n",
       "                        <th id=\"T_176f358c_32fc_11eb_a59f_7c67a253903elevel0_row8\" class=\"row_heading level0 row8\" >8</th>\n",
       "                        <td id=\"T_176f358c_32fc_11eb_a59f_7c67a253903erow8_col0\" class=\"data row8 col0\" >{Cisco SPA508G} -> {Global Commerce Series High-Back Swivel/Tilt Chairs}</td>\n",
       "                        <td id=\"T_176f358c_32fc_11eb_a59f_7c67a253903erow8_col1\" class=\"data row8 col1\" >0.000399</td>\n",
       "                        <td id=\"T_176f358c_32fc_11eb_a59f_7c67a253903erow8_col2\" class=\"data row8 col2\" >0.400000</td>\n",
       "                        <td id=\"T_176f358c_32fc_11eb_a59f_7c67a253903erow8_col3\" class=\"data row8 col3\" >222.622222</td>\n",
       "                        <td id=\"T_176f358c_32fc_11eb_a59f_7c67a253903erow8_col4\" class=\"data row8 col4\" >0.297219</td>\n",
       "            </tr>\n",
       "            <tr>\n",
       "                        <th id=\"T_176f358c_32fc_11eb_a59f_7c67a253903elevel0_row9\" class=\"row_heading level0 row9\" >9</th>\n",
       "                        <td id=\"T_176f358c_32fc_11eb_a59f_7c67a253903erow9_col0\" class=\"data row9 col0\" >{Logitech VX Revolution Cordless Laser Mouse for Notebooks (Black)} -> {Tennsco Industrial Shelving}</td>\n",
       "                        <td id=\"T_176f358c_32fc_11eb_a59f_7c67a253903erow9_col1\" class=\"data row9 col1\" >0.000399</td>\n",
       "                        <td id=\"T_176f358c_32fc_11eb_a59f_7c67a253903erow9_col2\" class=\"data row9 col2\" >0.400000</td>\n",
       "                        <td id=\"T_176f358c_32fc_11eb_a59f_7c67a253903erow9_col3\" class=\"data row9 col3\" >222.622222</td>\n",
       "                        <td id=\"T_176f358c_32fc_11eb_a59f_7c67a253903erow9_col4\" class=\"data row9 col4\" >0.297219</td>\n",
       "            </tr>\n",
       "            <tr>\n",
       "                        <th id=\"T_176f358c_32fc_11eb_a59f_7c67a253903elevel0_row10\" class=\"row_heading level0 row10\" >10</th>\n",
       "                        <td id=\"T_176f358c_32fc_11eb_a59f_7c67a253903erow10_col0\" class=\"data row10 col0\" >{Xerox 1882} -> {Wirebound Message Books, Four 2 3/4\" x 5\" Forms per Page, 600 Sets per Book}</td>\n",
       "                        <td id=\"T_176f358c_32fc_11eb_a59f_7c67a253903erow10_col1\" class=\"data row10 col1\" >0.000399</td>\n",
       "                        <td id=\"T_176f358c_32fc_11eb_a59f_7c67a253903erow10_col2\" class=\"data row10 col2\" >0.400000</td>\n",
       "                        <td id=\"T_176f358c_32fc_11eb_a59f_7c67a253903erow10_col3\" class=\"data row10 col3\" >222.622222</td>\n",
       "                        <td id=\"T_176f358c_32fc_11eb_a59f_7c67a253903erow10_col4\" class=\"data row10 col4\" >0.297219</td>\n",
       "            </tr>\n",
       "            <tr>\n",
       "                        <th id=\"T_176f358c_32fc_11eb_a59f_7c67a253903elevel0_row11\" class=\"row_heading level0 row11\" >11</th>\n",
       "                        <td id=\"T_176f358c_32fc_11eb_a59f_7c67a253903erow11_col0\" class=\"data row11 col0\" >{Xerox 1894} -> {Xerox 225}</td>\n",
       "                        <td id=\"T_176f358c_32fc_11eb_a59f_7c67a253903erow11_col1\" class=\"data row11 col1\" >0.000399</td>\n",
       "                        <td id=\"T_176f358c_32fc_11eb_a59f_7c67a253903erow11_col2\" class=\"data row11 col2\" >0.400000</td>\n",
       "                        <td id=\"T_176f358c_32fc_11eb_a59f_7c67a253903erow11_col3\" class=\"data row11 col3\" >222.622222</td>\n",
       "                        <td id=\"T_176f358c_32fc_11eb_a59f_7c67a253903erow11_col4\" class=\"data row11 col4\" >0.297219</td>\n",
       "            </tr>\n",
       "            <tr>\n",
       "                        <th id=\"T_176f358c_32fc_11eb_a59f_7c67a253903elevel0_row12\" class=\"row_heading level0 row12\" >12</th>\n",
       "                        <td id=\"T_176f358c_32fc_11eb_a59f_7c67a253903erow12_col0\" class=\"data row12 col0\" >{Anker Astro 15000mAh USB Portable Charger} -> {GBC Prestige Therm-A-Bind Covers}</td>\n",
       "                        <td id=\"T_176f358c_32fc_11eb_a59f_7c67a253903erow12_col1\" class=\"data row12 col1\" >0.000399</td>\n",
       "                        <td id=\"T_176f358c_32fc_11eb_a59f_7c67a253903erow12_col2\" class=\"data row12 col2\" >0.400000</td>\n",
       "                        <td id=\"T_176f358c_32fc_11eb_a59f_7c67a253903erow12_col3\" class=\"data row12 col3\" >200.360000</td>\n",
       "                        <td id=\"T_176f358c_32fc_11eb_a59f_7c67a253903erow12_col4\" class=\"data row12 col4\" >0.281853</td>\n",
       "            </tr>\n",
       "            <tr>\n",
       "                        <th id=\"T_176f358c_32fc_11eb_a59f_7c67a253903elevel0_row13\" class=\"row_heading level0 row13\" >13</th>\n",
       "                        <td id=\"T_176f358c_32fc_11eb_a59f_7c67a253903erow13_col0\" class=\"data row13 col0\" >{Canon imageCLASS 2200 Advanced Copier} -> {Acco Perma 4000 Stacking Storage Drawers}</td>\n",
       "                        <td id=\"T_176f358c_32fc_11eb_a59f_7c67a253903erow13_col1\" class=\"data row13 col1\" >0.000399</td>\n",
       "                        <td id=\"T_176f358c_32fc_11eb_a59f_7c67a253903erow13_col2\" class=\"data row13 col2\" >0.400000</td>\n",
       "                        <td id=\"T_176f358c_32fc_11eb_a59f_7c67a253903erow13_col3\" class=\"data row13 col3\" >182.145455</td>\n",
       "                        <td id=\"T_176f358c_32fc_11eb_a59f_7c67a253903erow13_col4\" class=\"data row13 col4\" >0.268628</td>\n",
       "            </tr>\n",
       "            <tr>\n",
       "                        <th id=\"T_176f358c_32fc_11eb_a59f_7c67a253903elevel0_row14\" class=\"row_heading level0 row14\" >14</th>\n",
       "                        <td id=\"T_176f358c_32fc_11eb_a59f_7c67a253903erow14_col0\" class=\"data row14 col0\" >{Eldon Expressions Punched Metal & Wood Desk Accessories, Black & Cherry} -> {GBC DocuBind TL300 Electric Binding System}</td>\n",
       "                        <td id=\"T_176f358c_32fc_11eb_a59f_7c67a253903erow14_col1\" class=\"data row14 col1\" >0.000399</td>\n",
       "                        <td id=\"T_176f358c_32fc_11eb_a59f_7c67a253903erow14_col2\" class=\"data row14 col2\" >0.400000</td>\n",
       "                        <td id=\"T_176f358c_32fc_11eb_a59f_7c67a253903erow14_col3\" class=\"data row14 col3\" >182.145455</td>\n",
       "                        <td id=\"T_176f358c_32fc_11eb_a59f_7c67a253903erow14_col4\" class=\"data row14 col4\" >0.268628</td>\n",
       "            </tr>\n",
       "            <tr>\n",
       "                        <th id=\"T_176f358c_32fc_11eb_a59f_7c67a253903elevel0_row15\" class=\"row_heading level0 row15\" >15</th>\n",
       "                        <td id=\"T_176f358c_32fc_11eb_a59f_7c67a253903erow15_col0\" class=\"data row15 col0\" >{Google Nexus 5} -> {GBC Standard Therm-A-Bind Covers}</td>\n",
       "                        <td id=\"T_176f358c_32fc_11eb_a59f_7c67a253903erow15_col1\" class=\"data row15 col1\" >0.000399</td>\n",
       "                        <td id=\"T_176f358c_32fc_11eb_a59f_7c67a253903erow15_col2\" class=\"data row15 col2\" >0.400000</td>\n",
       "                        <td id=\"T_176f358c_32fc_11eb_a59f_7c67a253903erow15_col3\" class=\"data row15 col3\" >166.966667</td>\n",
       "                        <td id=\"T_176f358c_32fc_11eb_a59f_7c67a253903erow15_col4\" class=\"data row15 col4\" >0.257089</td>\n",
       "            </tr>\n",
       "            <tr>\n",
       "                        <th id=\"T_176f358c_32fc_11eb_a59f_7c67a253903elevel0_row16\" class=\"row_heading level0 row16\" >16</th>\n",
       "                        <td id=\"T_176f358c_32fc_11eb_a59f_7c67a253903erow16_col0\" class=\"data row16 col0\" >{Hon Olson Stacker Chairs} -> {Staples}</td>\n",
       "                        <td id=\"T_176f358c_32fc_11eb_a59f_7c67a253903erow16_col1\" class=\"data row16 col1\" >0.000399</td>\n",
       "                        <td id=\"T_176f358c_32fc_11eb_a59f_7c67a253903erow16_col2\" class=\"data row16 col2\" >0.500000</td>\n",
       "                        <td id=\"T_176f358c_32fc_11eb_a59f_7c67a253903erow16_col3\" class=\"data row16 col3\" >54.445652</td>\n",
       "                        <td id=\"T_176f358c_32fc_11eb_a59f_7c67a253903erow16_col4\" class=\"data row16 col4\" >0.145461</td>\n",
       "            </tr>\n",
       "            <tr>\n",
       "                        <th id=\"T_176f358c_32fc_11eb_a59f_7c67a253903elevel0_row17\" class=\"row_heading level0 row17\" >17</th>\n",
       "                        <td id=\"T_176f358c_32fc_11eb_a59f_7c67a253903erow17_col0\" class=\"data row17 col0\" >{Square Credit Card Reader, 4 1/2\" x 4 1/2\" x 1\", White} -> {Staples}</td>\n",
       "                        <td id=\"T_176f358c_32fc_11eb_a59f_7c67a253903erow17_col1\" class=\"data row17 col1\" >0.000399</td>\n",
       "                        <td id=\"T_176f358c_32fc_11eb_a59f_7c67a253903erow17_col2\" class=\"data row17 col2\" >0.400000</td>\n",
       "                        <td id=\"T_176f358c_32fc_11eb_a59f_7c67a253903erow17_col3\" class=\"data row17 col3\" >43.556522</td>\n",
       "                        <td id=\"T_176f358c_32fc_11eb_a59f_7c67a253903erow17_col4\" class=\"data row17 col4\" >0.129509</td>\n",
       "            </tr>\n",
       "    </tbody></table>"
      ],
      "text/plain": [
       "<pandas.io.formats.style.Styler at 0x1f303d94bc8>"
      ]
     },
     "execution_count": 85,
     "metadata": {},
     "output_type": "execute_result"
    }
   ],
   "source": [
    "#Apriori算法\n",
    "Power_Mart_apr_transactions = data_loader(Power_Mart, groupby_key, groupby_column, algorithm=\"apr\")\n",
    "Power_Mart_apr_df = apriori_main(Power_Mart_apr_transactions, min_support, min_confidence)\n",
    "Power_Mart_apr_df[0:20].style.set_table_styles(dfstyle)"
   ]
  },
  {
   "cell_type": "code",
   "execution_count": 86,
   "metadata": {},
   "outputs": [
    {
     "data": {
      "text/plain": [
       "18"
      ]
     },
     "execution_count": 86,
     "metadata": {},
     "output_type": "execute_result"
    }
   ],
   "source": [
    "Power_Mart_apr_df.shape[0] #统计满足支持度和置信度要求的规则条数"
   ]
  },
  {
   "cell_type": "code",
   "execution_count": 88,
   "metadata": {},
   "outputs": [
    {
     "name": "stdout",
     "output_type": "stream",
     "text": [
      "FP-growth算法本次用时为 0:00:00.251360s\n"
     ]
    },
    {
     "data": {
      "text/html": [
       "<style  type=\"text/css\" >\n",
       "    #T_33a2b212_32fc_11eb_b38c_7c67a253903e th {\n",
       "          font-size: 12px;\n",
       "    }    #T_33a2b212_32fc_11eb_b38c_7c67a253903e td {\n",
       "          font-size: 10px;\n",
       "    }    #T_33a2b212_32fc_11eb_b38c_7c67a253903e th {\n",
       "          text-align: center;\n",
       "    }</style><table id=\"T_33a2b212_32fc_11eb_b38c_7c67a253903e\" ><thead>    <tr>        <th class=\"blank level0\" ></th>        <th class=\"col_heading level0 col0\" >Rule</th>        <th class=\"col_heading level0 col1\" >Support</th>        <th class=\"col_heading level0 col2\" >Confidence</th>        <th class=\"col_heading level0 col3\" >Lift</th>        <th class=\"col_heading level0 col4\" >Correlation</th>    </tr></thead><tbody>\n",
       "                <tr>\n",
       "                        <th id=\"T_33a2b212_32fc_11eb_b38c_7c67a253903elevel0_row0\" class=\"row_heading level0 row0\" >0</th>\n",
       "                        <td id=\"T_33a2b212_32fc_11eb_b38c_7c67a253903erow0_col0\" class=\"data row0 col0\" >{'Boston 16765 Mini Stand Up Battery Pencil Sharpener'} -> {'Microsoft Natural Ergonomic Keyboard 4000'}</td>\n",
       "                        <td id=\"T_33a2b212_32fc_11eb_b38c_7c67a253903erow0_col1\" class=\"data row0 col1\" >0.000399</td>\n",
       "                        <td id=\"T_33a2b212_32fc_11eb_b38c_7c67a253903erow0_col2\" class=\"data row0 col2\" >0.500000</td>\n",
       "                        <td id=\"T_33a2b212_32fc_11eb_b38c_7c67a253903erow0_col3\" class=\"data row0 col3\" >500.900000</td>\n",
       "                        <td id=\"T_33a2b212_32fc_11eb_b38c_7c67a253903erow0_col4\" class=\"data row0 col4\" >0.446722</td>\n",
       "            </tr>\n",
       "            <tr>\n",
       "                        <th id=\"T_33a2b212_32fc_11eb_b38c_7c67a253903elevel0_row1\" class=\"row_heading level0 row1\" >1</th>\n",
       "                        <td id=\"T_33a2b212_32fc_11eb_b38c_7c67a253903erow1_col0\" class=\"data row1 col0\" >{'Microsoft Natural Ergonomic Keyboard 4000'} -> {'Boston 16765 Mini Stand Up Battery Pencil Sharpener'}</td>\n",
       "                        <td id=\"T_33a2b212_32fc_11eb_b38c_7c67a253903erow1_col1\" class=\"data row1 col1\" >0.000399</td>\n",
       "                        <td id=\"T_33a2b212_32fc_11eb_b38c_7c67a253903erow1_col2\" class=\"data row1 col2\" >0.400000</td>\n",
       "                        <td id=\"T_33a2b212_32fc_11eb_b38c_7c67a253903erow1_col3\" class=\"data row1 col3\" >500.900000</td>\n",
       "                        <td id=\"T_33a2b212_32fc_11eb_b38c_7c67a253903erow1_col4\" class=\"data row1 col4\" >0.446722</td>\n",
       "            </tr>\n",
       "            <tr>\n",
       "                        <th id=\"T_33a2b212_32fc_11eb_b38c_7c67a253903elevel0_row2\" class=\"row_heading level0 row2\" >2</th>\n",
       "                        <td id=\"T_33a2b212_32fc_11eb_b38c_7c67a253903erow2_col0\" class=\"data row2 col0\" >{'Anker Astro Mini 3000mAh Ultra-Compact Portable Charger'} -> {'Bretford CR8500 Series Meeting Room Furniture'}</td>\n",
       "                        <td id=\"T_33a2b212_32fc_11eb_b38c_7c67a253903erow2_col1\" class=\"data row2 col1\" >0.000399</td>\n",
       "                        <td id=\"T_33a2b212_32fc_11eb_b38c_7c67a253903erow2_col2\" class=\"data row2 col2\" >0.500000</td>\n",
       "                        <td id=\"T_33a2b212_32fc_11eb_b38c_7c67a253903erow2_col3\" class=\"data row2 col3\" >417.416667</td>\n",
       "                        <td id=\"T_33a2b212_32fc_11eb_b38c_7c67a253903erow2_col4\" class=\"data row2 col4\" >0.407677</td>\n",
       "            </tr>\n",
       "            <tr>\n",
       "                        <th id=\"T_33a2b212_32fc_11eb_b38c_7c67a253903elevel0_row3\" class=\"row_heading level0 row3\" >3</th>\n",
       "                        <td id=\"T_33a2b212_32fc_11eb_b38c_7c67a253903erow3_col0\" class=\"data row3 col0\" >{'Acco Side-Punched Conventional Columnar Pads'} -> {'Avery Fluorescent Highlighter Four-Color Set'}</td>\n",
       "                        <td id=\"T_33a2b212_32fc_11eb_b38c_7c67a253903erow3_col1\" class=\"data row3 col1\" >0.000399</td>\n",
       "                        <td id=\"T_33a2b212_32fc_11eb_b38c_7c67a253903erow3_col2\" class=\"data row3 col2\" >0.500000</td>\n",
       "                        <td id=\"T_33a2b212_32fc_11eb_b38c_7c67a253903erow3_col3\" class=\"data row3 col3\" >313.062500</td>\n",
       "                        <td id=\"T_33a2b212_32fc_11eb_b38c_7c67a253903erow3_col4\" class=\"data row3 col4\" >0.352847</td>\n",
       "            </tr>\n",
       "            <tr>\n",
       "                        <th id=\"T_33a2b212_32fc_11eb_b38c_7c67a253903elevel0_row4\" class=\"row_heading level0 row4\" >4</th>\n",
       "                        <td id=\"T_33a2b212_32fc_11eb_b38c_7c67a253903erow4_col0\" class=\"data row4 col0\" >{'SAFCO Optional Arm Kit for Workspace Cribbage Stacking Chair'} -> {'Belkin Premiere Surge Master II 8-outlet surge protector'}</td>\n",
       "                        <td id=\"T_33a2b212_32fc_11eb_b38c_7c67a253903erow4_col1\" class=\"data row4 col1\" >0.000399</td>\n",
       "                        <td id=\"T_33a2b212_32fc_11eb_b38c_7c67a253903erow4_col2\" class=\"data row4 col2\" >0.400000</td>\n",
       "                        <td id=\"T_33a2b212_32fc_11eb_b38c_7c67a253903erow4_col3\" class=\"data row4 col3\" >286.228571</td>\n",
       "                        <td id=\"T_33a2b212_32fc_11eb_b38c_7c67a253903erow4_col4\" class=\"data row4 col4\" >0.337285</td>\n",
       "            </tr>\n",
       "            <tr>\n",
       "                        <th id=\"T_33a2b212_32fc_11eb_b38c_7c67a253903elevel0_row5\" class=\"row_heading level0 row5\" >5</th>\n",
       "                        <td id=\"T_33a2b212_32fc_11eb_b38c_7c67a253903erow5_col0\" class=\"data row5 col0\" >{'Seth Thomas 8 1/2\" Cubicle Clock'} -> {'Cisco SPA301'}</td>\n",
       "                        <td id=\"T_33a2b212_32fc_11eb_b38c_7c67a253903erow5_col1\" class=\"data row5 col1\" >0.000399</td>\n",
       "                        <td id=\"T_33a2b212_32fc_11eb_b38c_7c67a253903erow5_col2\" class=\"data row5 col2\" >0.500000</td>\n",
       "                        <td id=\"T_33a2b212_32fc_11eb_b38c_7c67a253903erow5_col3\" class=\"data row5 col3\" >278.277778</td>\n",
       "                        <td id=\"T_33a2b212_32fc_11eb_b38c_7c67a253903erow5_col4\" class=\"data row5 col4\" >0.332567</td>\n",
       "            </tr>\n",
       "            <tr>\n",
       "                        <th id=\"T_33a2b212_32fc_11eb_b38c_7c67a253903elevel0_row6\" class=\"row_heading level0 row6\" >6</th>\n",
       "                        <td id=\"T_33a2b212_32fc_11eb_b38c_7c67a253903erow6_col0\" class=\"data row6 col0\" >{'Hon Rectangular Conference Tables'} -> {'Plantronics CS510 - Over-the-Head monaural Wireless Headset System'}</td>\n",
       "                        <td id=\"T_33a2b212_32fc_11eb_b38c_7c67a253903erow6_col1\" class=\"data row6 col1\" >0.000399</td>\n",
       "                        <td id=\"T_33a2b212_32fc_11eb_b38c_7c67a253903erow6_col2\" class=\"data row6 col2\" >0.500000</td>\n",
       "                        <td id=\"T_33a2b212_32fc_11eb_b38c_7c67a253903erow6_col3\" class=\"data row6 col3\" >250.450000</td>\n",
       "                        <td id=\"T_33a2b212_32fc_11eb_b38c_7c67a253903erow6_col4\" class=\"data row6 col4\" >0.315406</td>\n",
       "            </tr>\n",
       "            <tr>\n",
       "                        <th id=\"T_33a2b212_32fc_11eb_b38c_7c67a253903elevel0_row7\" class=\"row_heading level0 row7\" >7</th>\n",
       "                        <td id=\"T_33a2b212_32fc_11eb_b38c_7c67a253903erow7_col0\" class=\"data row7 col0\" >{'Hon Valutask Swivel Chairs'} -> {'GBC Plastic Binding Combs'}</td>\n",
       "                        <td id=\"T_33a2b212_32fc_11eb_b38c_7c67a253903erow7_col1\" class=\"data row7 col1\" >0.000399</td>\n",
       "                        <td id=\"T_33a2b212_32fc_11eb_b38c_7c67a253903erow7_col2\" class=\"data row7 col2\" >0.500000</td>\n",
       "                        <td id=\"T_33a2b212_32fc_11eb_b38c_7c67a253903erow7_col3\" class=\"data row7 col3\" >250.450000</td>\n",
       "                        <td id=\"T_33a2b212_32fc_11eb_b38c_7c67a253903erow7_col4\" class=\"data row7 col4\" >0.315406</td>\n",
       "            </tr>\n",
       "            <tr>\n",
       "                        <th id=\"T_33a2b212_32fc_11eb_b38c_7c67a253903elevel0_row8\" class=\"row_heading level0 row8\" >8</th>\n",
       "                        <td id=\"T_33a2b212_32fc_11eb_b38c_7c67a253903erow8_col0\" class=\"data row8 col0\" >{'Cisco SPA508G'} -> {'Global Commerce Series High-Back Swivel/Tilt Chairs'}</td>\n",
       "                        <td id=\"T_33a2b212_32fc_11eb_b38c_7c67a253903erow8_col1\" class=\"data row8 col1\" >0.000399</td>\n",
       "                        <td id=\"T_33a2b212_32fc_11eb_b38c_7c67a253903erow8_col2\" class=\"data row8 col2\" >0.400000</td>\n",
       "                        <td id=\"T_33a2b212_32fc_11eb_b38c_7c67a253903erow8_col3\" class=\"data row8 col3\" >222.622222</td>\n",
       "                        <td id=\"T_33a2b212_32fc_11eb_b38c_7c67a253903erow8_col4\" class=\"data row8 col4\" >0.297219</td>\n",
       "            </tr>\n",
       "            <tr>\n",
       "                        <th id=\"T_33a2b212_32fc_11eb_b38c_7c67a253903elevel0_row9\" class=\"row_heading level0 row9\" >9</th>\n",
       "                        <td id=\"T_33a2b212_32fc_11eb_b38c_7c67a253903erow9_col0\" class=\"data row9 col0\" >{'Xerox 1894'} -> {'Xerox 225'}</td>\n",
       "                        <td id=\"T_33a2b212_32fc_11eb_b38c_7c67a253903erow9_col1\" class=\"data row9 col1\" >0.000399</td>\n",
       "                        <td id=\"T_33a2b212_32fc_11eb_b38c_7c67a253903erow9_col2\" class=\"data row9 col2\" >0.400000</td>\n",
       "                        <td id=\"T_33a2b212_32fc_11eb_b38c_7c67a253903erow9_col3\" class=\"data row9 col3\" >222.622222</td>\n",
       "                        <td id=\"T_33a2b212_32fc_11eb_b38c_7c67a253903erow9_col4\" class=\"data row9 col4\" >0.297219</td>\n",
       "            </tr>\n",
       "            <tr>\n",
       "                        <th id=\"T_33a2b212_32fc_11eb_b38c_7c67a253903elevel0_row10\" class=\"row_heading level0 row10\" >10</th>\n",
       "                        <td id=\"T_33a2b212_32fc_11eb_b38c_7c67a253903erow10_col0\" class=\"data row10 col0\" >{'Logitech\\xa0VX Revolution Cordless Laser Mouse for Notebooks (Black)'} -> {'Tennsco Industrial Shelving'}</td>\n",
       "                        <td id=\"T_33a2b212_32fc_11eb_b38c_7c67a253903erow10_col1\" class=\"data row10 col1\" >0.000399</td>\n",
       "                        <td id=\"T_33a2b212_32fc_11eb_b38c_7c67a253903erow10_col2\" class=\"data row10 col2\" >0.400000</td>\n",
       "                        <td id=\"T_33a2b212_32fc_11eb_b38c_7c67a253903erow10_col3\" class=\"data row10 col3\" >222.622222</td>\n",
       "                        <td id=\"T_33a2b212_32fc_11eb_b38c_7c67a253903erow10_col4\" class=\"data row10 col4\" >0.297219</td>\n",
       "            </tr>\n",
       "            <tr>\n",
       "                        <th id=\"T_33a2b212_32fc_11eb_b38c_7c67a253903elevel0_row11\" class=\"row_heading level0 row11\" >11</th>\n",
       "                        <td id=\"T_33a2b212_32fc_11eb_b38c_7c67a253903erow11_col0\" class=\"data row11 col0\" >{'Xerox 1882'} -> {'Wirebound Message Books, Four 2 3/4\" x 5\" Forms per Page, 600 Sets per Book'}</td>\n",
       "                        <td id=\"T_33a2b212_32fc_11eb_b38c_7c67a253903erow11_col1\" class=\"data row11 col1\" >0.000399</td>\n",
       "                        <td id=\"T_33a2b212_32fc_11eb_b38c_7c67a253903erow11_col2\" class=\"data row11 col2\" >0.400000</td>\n",
       "                        <td id=\"T_33a2b212_32fc_11eb_b38c_7c67a253903erow11_col3\" class=\"data row11 col3\" >222.622222</td>\n",
       "                        <td id=\"T_33a2b212_32fc_11eb_b38c_7c67a253903erow11_col4\" class=\"data row11 col4\" >0.297219</td>\n",
       "            </tr>\n",
       "            <tr>\n",
       "                        <th id=\"T_33a2b212_32fc_11eb_b38c_7c67a253903elevel0_row12\" class=\"row_heading level0 row12\" >12</th>\n",
       "                        <td id=\"T_33a2b212_32fc_11eb_b38c_7c67a253903erow12_col0\" class=\"data row12 col0\" >{'Anker Astro 15000mAh USB Portable Charger'} -> {'GBC Prestige Therm-A-Bind Covers'}</td>\n",
       "                        <td id=\"T_33a2b212_32fc_11eb_b38c_7c67a253903erow12_col1\" class=\"data row12 col1\" >0.000399</td>\n",
       "                        <td id=\"T_33a2b212_32fc_11eb_b38c_7c67a253903erow12_col2\" class=\"data row12 col2\" >0.400000</td>\n",
       "                        <td id=\"T_33a2b212_32fc_11eb_b38c_7c67a253903erow12_col3\" class=\"data row12 col3\" >200.360000</td>\n",
       "                        <td id=\"T_33a2b212_32fc_11eb_b38c_7c67a253903erow12_col4\" class=\"data row12 col4\" >0.281853</td>\n",
       "            </tr>\n",
       "            <tr>\n",
       "                        <th id=\"T_33a2b212_32fc_11eb_b38c_7c67a253903elevel0_row13\" class=\"row_heading level0 row13\" >13</th>\n",
       "                        <td id=\"T_33a2b212_32fc_11eb_b38c_7c67a253903erow13_col0\" class=\"data row13 col0\" >{'Eldon Expressions Punched Metal & Wood Desk Accessories, Black & Cherry'} -> {'GBC DocuBind TL300 Electric Binding System'}</td>\n",
       "                        <td id=\"T_33a2b212_32fc_11eb_b38c_7c67a253903erow13_col1\" class=\"data row13 col1\" >0.000399</td>\n",
       "                        <td id=\"T_33a2b212_32fc_11eb_b38c_7c67a253903erow13_col2\" class=\"data row13 col2\" >0.400000</td>\n",
       "                        <td id=\"T_33a2b212_32fc_11eb_b38c_7c67a253903erow13_col3\" class=\"data row13 col3\" >182.145455</td>\n",
       "                        <td id=\"T_33a2b212_32fc_11eb_b38c_7c67a253903erow13_col4\" class=\"data row13 col4\" >0.268628</td>\n",
       "            </tr>\n",
       "            <tr>\n",
       "                        <th id=\"T_33a2b212_32fc_11eb_b38c_7c67a253903elevel0_row14\" class=\"row_heading level0 row14\" >14</th>\n",
       "                        <td id=\"T_33a2b212_32fc_11eb_b38c_7c67a253903erow14_col0\" class=\"data row14 col0\" >{'Canon imageCLASS 2200 Advanced Copier'} -> {'Acco Perma 4000 Stacking Storage Drawers'}</td>\n",
       "                        <td id=\"T_33a2b212_32fc_11eb_b38c_7c67a253903erow14_col1\" class=\"data row14 col1\" >0.000399</td>\n",
       "                        <td id=\"T_33a2b212_32fc_11eb_b38c_7c67a253903erow14_col2\" class=\"data row14 col2\" >0.400000</td>\n",
       "                        <td id=\"T_33a2b212_32fc_11eb_b38c_7c67a253903erow14_col3\" class=\"data row14 col3\" >182.145455</td>\n",
       "                        <td id=\"T_33a2b212_32fc_11eb_b38c_7c67a253903erow14_col4\" class=\"data row14 col4\" >0.268628</td>\n",
       "            </tr>\n",
       "            <tr>\n",
       "                        <th id=\"T_33a2b212_32fc_11eb_b38c_7c67a253903elevel0_row15\" class=\"row_heading level0 row15\" >15</th>\n",
       "                        <td id=\"T_33a2b212_32fc_11eb_b38c_7c67a253903erow15_col0\" class=\"data row15 col0\" >{'Google Nexus 5'} -> {'GBC Standard Therm-A-Bind Covers'}</td>\n",
       "                        <td id=\"T_33a2b212_32fc_11eb_b38c_7c67a253903erow15_col1\" class=\"data row15 col1\" >0.000399</td>\n",
       "                        <td id=\"T_33a2b212_32fc_11eb_b38c_7c67a253903erow15_col2\" class=\"data row15 col2\" >0.400000</td>\n",
       "                        <td id=\"T_33a2b212_32fc_11eb_b38c_7c67a253903erow15_col3\" class=\"data row15 col3\" >166.966667</td>\n",
       "                        <td id=\"T_33a2b212_32fc_11eb_b38c_7c67a253903erow15_col4\" class=\"data row15 col4\" >0.257089</td>\n",
       "            </tr>\n",
       "            <tr>\n",
       "                        <th id=\"T_33a2b212_32fc_11eb_b38c_7c67a253903elevel0_row16\" class=\"row_heading level0 row16\" >16</th>\n",
       "                        <td id=\"T_33a2b212_32fc_11eb_b38c_7c67a253903erow16_col0\" class=\"data row16 col0\" >{'Hon Olson Stacker Chairs'} -> {'Staples'}</td>\n",
       "                        <td id=\"T_33a2b212_32fc_11eb_b38c_7c67a253903erow16_col1\" class=\"data row16 col1\" >0.000399</td>\n",
       "                        <td id=\"T_33a2b212_32fc_11eb_b38c_7c67a253903erow16_col2\" class=\"data row16 col2\" >0.500000</td>\n",
       "                        <td id=\"T_33a2b212_32fc_11eb_b38c_7c67a253903erow16_col3\" class=\"data row16 col3\" >54.445652</td>\n",
       "                        <td id=\"T_33a2b212_32fc_11eb_b38c_7c67a253903erow16_col4\" class=\"data row16 col4\" >0.145461</td>\n",
       "            </tr>\n",
       "            <tr>\n",
       "                        <th id=\"T_33a2b212_32fc_11eb_b38c_7c67a253903elevel0_row17\" class=\"row_heading level0 row17\" >17</th>\n",
       "                        <td id=\"T_33a2b212_32fc_11eb_b38c_7c67a253903erow17_col0\" class=\"data row17 col0\" >{'Square Credit Card Reader, 4 1/2\" x 4 1/2\" x 1\", White'} -> {'Staples'}</td>\n",
       "                        <td id=\"T_33a2b212_32fc_11eb_b38c_7c67a253903erow17_col1\" class=\"data row17 col1\" >0.000399</td>\n",
       "                        <td id=\"T_33a2b212_32fc_11eb_b38c_7c67a253903erow17_col2\" class=\"data row17 col2\" >0.400000</td>\n",
       "                        <td id=\"T_33a2b212_32fc_11eb_b38c_7c67a253903erow17_col3\" class=\"data row17 col3\" >43.556522</td>\n",
       "                        <td id=\"T_33a2b212_32fc_11eb_b38c_7c67a253903erow17_col4\" class=\"data row17 col4\" >0.129509</td>\n",
       "            </tr>\n",
       "    </tbody></table>"
      ],
      "text/plain": [
       "<pandas.io.formats.style.Styler at 0x1f30ad91908>"
      ]
     },
     "execution_count": 88,
     "metadata": {},
     "output_type": "execute_result"
    }
   ],
   "source": [
    "#FP-growth算法\n",
    "Power_Mart_fp_transactions = data_loader(Power_Mart, groupby_key, groupby_column, algorithm=\"fp\")\n",
    "Power_Mart_fp_df = fp_growth_main(Power_Mart_fp_transactions, min_support, min_confidence)\n",
    "Power_Mart_fp_df[0:20].style.set_table_styles(dfstyle)"
   ]
  },
  {
   "cell_type": "code",
   "execution_count": 89,
   "metadata": {},
   "outputs": [
    {
     "data": {
      "text/plain": [
       "18"
      ]
     },
     "execution_count": 89,
     "metadata": {},
     "output_type": "execute_result"
    }
   ],
   "source": [
    "Power_Mart_fp_df.shape[0] #统计满足支持度和置信度要求的规则条数"
   ]
  },
  {
   "cell_type": "markdown",
   "metadata": {},
   "source": [
    "### 2.1.5 第五组参数：minsup=0.0002 minconf=0.3   "
   ]
  },
  {
   "cell_type": "code",
   "execution_count": 25,
   "metadata": {},
   "outputs": [],
   "source": [
    "#参数\n",
    "min_support = 0.0002 #支持度阈值\n",
    "min_confidence = 0.3 #置信度阈值\n",
    "groupby_key = \"Order ID\" #汇总索引\n",
    "groupby_column = \"Product Name\" #需要汇总的列\n",
    "#注：data_loader需要传入algorithm参数, \"apr\":Apriori, \"fp\":FP-growth"
   ]
  },
  {
   "cell_type": "code",
   "execution_count": 26,
   "metadata": {
    "scrolled": true
   },
   "outputs": [
    {
     "name": "stdout",
     "output_type": "stream",
     "text": [
      "Apriori算法本次用时为 0:14:24.803241s\n"
     ]
    },
    {
     "data": {
      "text/html": [
       "<style  type=\"text/css\" >\n",
       "    #T_2ae902ae_351a_11eb_842f_7c67a253903e th {\n",
       "          font-size: 12px;\n",
       "    }    #T_2ae902ae_351a_11eb_842f_7c67a253903e td {\n",
       "          font-size: 10px;\n",
       "    }    #T_2ae902ae_351a_11eb_842f_7c67a253903e th {\n",
       "          text-align: center;\n",
       "    }</style><table id=\"T_2ae902ae_351a_11eb_842f_7c67a253903e\" ><thead>    <tr>        <th class=\"blank level0\" ></th>        <th class=\"col_heading level0 col0\" >Rule</th>        <th class=\"col_heading level0 col1\" >Support</th>        <th class=\"col_heading level0 col2\" >Confidence</th>        <th class=\"col_heading level0 col3\" >Lift</th>        <th class=\"col_heading level0 col4\" >Correlation</th>    </tr></thead><tbody>\n",
       "                <tr>\n",
       "                        <th id=\"T_2ae902ae_351a_11eb_842f_7c67a253903elevel0_row0\" class=\"row_heading level0 row0\" >0</th>\n",
       "                        <td id=\"T_2ae902ae_351a_11eb_842f_7c67a253903erow0_col0\" class=\"data row0 col0\" >{Microsoft Natural Ergonomic Keyboard 4000} -> {Boston 16765 Mini Stand Up Battery Pencil Sharpener}</td>\n",
       "                        <td id=\"T_2ae902ae_351a_11eb_842f_7c67a253903erow0_col1\" class=\"data row0 col1\" >0.000399</td>\n",
       "                        <td id=\"T_2ae902ae_351a_11eb_842f_7c67a253903erow0_col2\" class=\"data row0 col2\" >0.400000</td>\n",
       "                        <td id=\"T_2ae902ae_351a_11eb_842f_7c67a253903erow0_col3\" class=\"data row0 col3\" >500.900000</td>\n",
       "                        <td id=\"T_2ae902ae_351a_11eb_842f_7c67a253903erow0_col4\" class=\"data row0 col4\" >0.446722</td>\n",
       "            </tr>\n",
       "            <tr>\n",
       "                        <th id=\"T_2ae902ae_351a_11eb_842f_7c67a253903elevel0_row1\" class=\"row_heading level0 row1\" >1</th>\n",
       "                        <td id=\"T_2ae902ae_351a_11eb_842f_7c67a253903erow1_col0\" class=\"data row1 col0\" >{Boston 16765 Mini Stand Up Battery Pencil Sharpener} -> {Microsoft Natural Ergonomic Keyboard 4000}</td>\n",
       "                        <td id=\"T_2ae902ae_351a_11eb_842f_7c67a253903erow1_col1\" class=\"data row1 col1\" >0.000399</td>\n",
       "                        <td id=\"T_2ae902ae_351a_11eb_842f_7c67a253903erow1_col2\" class=\"data row1 col2\" >0.500000</td>\n",
       "                        <td id=\"T_2ae902ae_351a_11eb_842f_7c67a253903erow1_col3\" class=\"data row1 col3\" >500.900000</td>\n",
       "                        <td id=\"T_2ae902ae_351a_11eb_842f_7c67a253903erow1_col4\" class=\"data row1 col4\" >0.446722</td>\n",
       "            </tr>\n",
       "            <tr>\n",
       "                        <th id=\"T_2ae902ae_351a_11eb_842f_7c67a253903elevel0_row2\" class=\"row_heading level0 row2\" >2</th>\n",
       "                        <td id=\"T_2ae902ae_351a_11eb_842f_7c67a253903erow2_col0\" class=\"data row2 col0\" >{Bretford CR8500 Series Meeting Room Furniture} -> {Anker Astro Mini 3000mAh Ultra-Compact Portable Charger}</td>\n",
       "                        <td id=\"T_2ae902ae_351a_11eb_842f_7c67a253903erow2_col1\" class=\"data row2 col1\" >0.000399</td>\n",
       "                        <td id=\"T_2ae902ae_351a_11eb_842f_7c67a253903erow2_col2\" class=\"data row2 col2\" >0.333333</td>\n",
       "                        <td id=\"T_2ae902ae_351a_11eb_842f_7c67a253903erow2_col3\" class=\"data row2 col3\" >417.416667</td>\n",
       "                        <td id=\"T_2ae902ae_351a_11eb_842f_7c67a253903erow2_col4\" class=\"data row2 col4\" >0.407677</td>\n",
       "            </tr>\n",
       "            <tr>\n",
       "                        <th id=\"T_2ae902ae_351a_11eb_842f_7c67a253903elevel0_row3\" class=\"row_heading level0 row3\" >3</th>\n",
       "                        <td id=\"T_2ae902ae_351a_11eb_842f_7c67a253903erow3_col0\" class=\"data row3 col0\" >{Anker Astro Mini 3000mAh Ultra-Compact Portable Charger} -> {Bretford CR8500 Series Meeting Room Furniture}</td>\n",
       "                        <td id=\"T_2ae902ae_351a_11eb_842f_7c67a253903erow3_col1\" class=\"data row3 col1\" >0.000399</td>\n",
       "                        <td id=\"T_2ae902ae_351a_11eb_842f_7c67a253903erow3_col2\" class=\"data row3 col2\" >0.500000</td>\n",
       "                        <td id=\"T_2ae902ae_351a_11eb_842f_7c67a253903erow3_col3\" class=\"data row3 col3\" >417.416667</td>\n",
       "                        <td id=\"T_2ae902ae_351a_11eb_842f_7c67a253903erow3_col4\" class=\"data row3 col4\" >0.407677</td>\n",
       "            </tr>\n",
       "            <tr>\n",
       "                        <th id=\"T_2ae902ae_351a_11eb_842f_7c67a253903elevel0_row4\" class=\"row_heading level0 row4\" >4</th>\n",
       "                        <td id=\"T_2ae902ae_351a_11eb_842f_7c67a253903erow4_col0\" class=\"data row4 col0\" >{Acco Side-Punched Conventional Columnar Pads} -> {Avery Fluorescent Highlighter Four-Color Set}</td>\n",
       "                        <td id=\"T_2ae902ae_351a_11eb_842f_7c67a253903erow4_col1\" class=\"data row4 col1\" >0.000399</td>\n",
       "                        <td id=\"T_2ae902ae_351a_11eb_842f_7c67a253903erow4_col2\" class=\"data row4 col2\" >0.500000</td>\n",
       "                        <td id=\"T_2ae902ae_351a_11eb_842f_7c67a253903erow4_col3\" class=\"data row4 col3\" >313.062500</td>\n",
       "                        <td id=\"T_2ae902ae_351a_11eb_842f_7c67a253903erow4_col4\" class=\"data row4 col4\" >0.352847</td>\n",
       "            </tr>\n",
       "            <tr>\n",
       "                        <th id=\"T_2ae902ae_351a_11eb_842f_7c67a253903elevel0_row5\" class=\"row_heading level0 row5\" >5</th>\n",
       "                        <td id=\"T_2ae902ae_351a_11eb_842f_7c67a253903erow5_col0\" class=\"data row5 col0\" >{SAFCO Optional Arm Kit for Workspace Cribbage Stacking Chair} -> {Belkin Premiere Surge Master II 8-outlet surge protector}</td>\n",
       "                        <td id=\"T_2ae902ae_351a_11eb_842f_7c67a253903erow5_col1\" class=\"data row5 col1\" >0.000399</td>\n",
       "                        <td id=\"T_2ae902ae_351a_11eb_842f_7c67a253903erow5_col2\" class=\"data row5 col2\" >0.400000</td>\n",
       "                        <td id=\"T_2ae902ae_351a_11eb_842f_7c67a253903erow5_col3\" class=\"data row5 col3\" >286.228571</td>\n",
       "                        <td id=\"T_2ae902ae_351a_11eb_842f_7c67a253903erow5_col4\" class=\"data row5 col4\" >0.337285</td>\n",
       "            </tr>\n",
       "            <tr>\n",
       "                        <th id=\"T_2ae902ae_351a_11eb_842f_7c67a253903elevel0_row6\" class=\"row_heading level0 row6\" >6</th>\n",
       "                        <td id=\"T_2ae902ae_351a_11eb_842f_7c67a253903erow6_col0\" class=\"data row6 col0\" >{Seth Thomas 8 1/2\" Cubicle Clock} -> {Cisco SPA301}</td>\n",
       "                        <td id=\"T_2ae902ae_351a_11eb_842f_7c67a253903erow6_col1\" class=\"data row6 col1\" >0.000399</td>\n",
       "                        <td id=\"T_2ae902ae_351a_11eb_842f_7c67a253903erow6_col2\" class=\"data row6 col2\" >0.500000</td>\n",
       "                        <td id=\"T_2ae902ae_351a_11eb_842f_7c67a253903erow6_col3\" class=\"data row6 col3\" >278.277778</td>\n",
       "                        <td id=\"T_2ae902ae_351a_11eb_842f_7c67a253903erow6_col4\" class=\"data row6 col4\" >0.332567</td>\n",
       "            </tr>\n",
       "            <tr>\n",
       "                        <th id=\"T_2ae902ae_351a_11eb_842f_7c67a253903elevel0_row7\" class=\"row_heading level0 row7\" >7</th>\n",
       "                        <td id=\"T_2ae902ae_351a_11eb_842f_7c67a253903erow7_col0\" class=\"data row7 col0\" >{Hon Rectangular Conference Tables} -> {Plantronics CS510 - Over-the-Head monaural Wireless Headset System}</td>\n",
       "                        <td id=\"T_2ae902ae_351a_11eb_842f_7c67a253903erow7_col1\" class=\"data row7 col1\" >0.000399</td>\n",
       "                        <td id=\"T_2ae902ae_351a_11eb_842f_7c67a253903erow7_col2\" class=\"data row7 col2\" >0.500000</td>\n",
       "                        <td id=\"T_2ae902ae_351a_11eb_842f_7c67a253903erow7_col3\" class=\"data row7 col3\" >250.450000</td>\n",
       "                        <td id=\"T_2ae902ae_351a_11eb_842f_7c67a253903erow7_col4\" class=\"data row7 col4\" >0.315406</td>\n",
       "            </tr>\n",
       "            <tr>\n",
       "                        <th id=\"T_2ae902ae_351a_11eb_842f_7c67a253903elevel0_row8\" class=\"row_heading level0 row8\" >8</th>\n",
       "                        <td id=\"T_2ae902ae_351a_11eb_842f_7c67a253903erow8_col0\" class=\"data row8 col0\" >{Hon Valutask Swivel Chairs} -> {GBC Plastic Binding Combs}</td>\n",
       "                        <td id=\"T_2ae902ae_351a_11eb_842f_7c67a253903erow8_col1\" class=\"data row8 col1\" >0.000399</td>\n",
       "                        <td id=\"T_2ae902ae_351a_11eb_842f_7c67a253903erow8_col2\" class=\"data row8 col2\" >0.500000</td>\n",
       "                        <td id=\"T_2ae902ae_351a_11eb_842f_7c67a253903erow8_col3\" class=\"data row8 col3\" >250.450000</td>\n",
       "                        <td id=\"T_2ae902ae_351a_11eb_842f_7c67a253903erow8_col4\" class=\"data row8 col4\" >0.315406</td>\n",
       "            </tr>\n",
       "            <tr>\n",
       "                        <th id=\"T_2ae902ae_351a_11eb_842f_7c67a253903elevel0_row9\" class=\"row_heading level0 row9\" >9</th>\n",
       "                        <td id=\"T_2ae902ae_351a_11eb_842f_7c67a253903erow9_col0\" class=\"data row9 col0\" >{Lumber Crayons} -> {Avery Recycled Flexi-View Covers for Binding Systems}</td>\n",
       "                        <td id=\"T_2ae902ae_351a_11eb_842f_7c67a253903erow9_col1\" class=\"data row9 col1\" >0.000399</td>\n",
       "                        <td id=\"T_2ae902ae_351a_11eb_842f_7c67a253903erow9_col2\" class=\"data row9 col2\" >0.333333</td>\n",
       "                        <td id=\"T_2ae902ae_351a_11eb_842f_7c67a253903erow9_col3\" class=\"data row9 col3\" >238.523810</td>\n",
       "                        <td id=\"T_2ae902ae_351a_11eb_842f_7c67a253903erow9_col4\" class=\"data row9 col4\" >0.307712</td>\n",
       "            </tr>\n",
       "            <tr>\n",
       "                        <th id=\"T_2ae902ae_351a_11eb_842f_7c67a253903elevel0_row10\" class=\"row_heading level0 row10\" >10</th>\n",
       "                        <td id=\"T_2ae902ae_351a_11eb_842f_7c67a253903erow10_col0\" class=\"data row10 col0\" >{Newell 315} -> {Acco Hanging Data Binders}</td>\n",
       "                        <td id=\"T_2ae902ae_351a_11eb_842f_7c67a253903erow10_col1\" class=\"data row10 col1\" >0.000399</td>\n",
       "                        <td id=\"T_2ae902ae_351a_11eb_842f_7c67a253903erow10_col2\" class=\"data row10 col2\" >0.333333</td>\n",
       "                        <td id=\"T_2ae902ae_351a_11eb_842f_7c67a253903erow10_col3\" class=\"data row10 col3\" >238.523810</td>\n",
       "                        <td id=\"T_2ae902ae_351a_11eb_842f_7c67a253903erow10_col4\" class=\"data row10 col4\" >0.307712</td>\n",
       "            </tr>\n",
       "            <tr>\n",
       "                        <th id=\"T_2ae902ae_351a_11eb_842f_7c67a253903elevel0_row11\" class=\"row_heading level0 row11\" >11</th>\n",
       "                        <td id=\"T_2ae902ae_351a_11eb_842f_7c67a253903erow11_col0\" class=\"data row11 col0\" >{Cisco SPA508G} -> {Global Commerce Series High-Back Swivel/Tilt Chairs}</td>\n",
       "                        <td id=\"T_2ae902ae_351a_11eb_842f_7c67a253903erow11_col1\" class=\"data row11 col1\" >0.000399</td>\n",
       "                        <td id=\"T_2ae902ae_351a_11eb_842f_7c67a253903erow11_col2\" class=\"data row11 col2\" >0.400000</td>\n",
       "                        <td id=\"T_2ae902ae_351a_11eb_842f_7c67a253903erow11_col3\" class=\"data row11 col3\" >222.622222</td>\n",
       "                        <td id=\"T_2ae902ae_351a_11eb_842f_7c67a253903erow11_col4\" class=\"data row11 col4\" >0.297219</td>\n",
       "            </tr>\n",
       "            <tr>\n",
       "                        <th id=\"T_2ae902ae_351a_11eb_842f_7c67a253903elevel0_row12\" class=\"row_heading level0 row12\" >12</th>\n",
       "                        <td id=\"T_2ae902ae_351a_11eb_842f_7c67a253903erow12_col0\" class=\"data row12 col0\" >{Logitech VX Revolution Cordless Laser Mouse for Notebooks (Black)} -> {Tennsco Industrial Shelving}</td>\n",
       "                        <td id=\"T_2ae902ae_351a_11eb_842f_7c67a253903erow12_col1\" class=\"data row12 col1\" >0.000399</td>\n",
       "                        <td id=\"T_2ae902ae_351a_11eb_842f_7c67a253903erow12_col2\" class=\"data row12 col2\" >0.400000</td>\n",
       "                        <td id=\"T_2ae902ae_351a_11eb_842f_7c67a253903erow12_col3\" class=\"data row12 col3\" >222.622222</td>\n",
       "                        <td id=\"T_2ae902ae_351a_11eb_842f_7c67a253903erow12_col4\" class=\"data row12 col4\" >0.297219</td>\n",
       "            </tr>\n",
       "            <tr>\n",
       "                        <th id=\"T_2ae902ae_351a_11eb_842f_7c67a253903elevel0_row13\" class=\"row_heading level0 row13\" >13</th>\n",
       "                        <td id=\"T_2ae902ae_351a_11eb_842f_7c67a253903erow13_col0\" class=\"data row13 col0\" >{Xerox 1882} -> {Wirebound Message Books, Four 2 3/4\" x 5\" Forms per Page, 600 Sets per Book}</td>\n",
       "                        <td id=\"T_2ae902ae_351a_11eb_842f_7c67a253903erow13_col1\" class=\"data row13 col1\" >0.000399</td>\n",
       "                        <td id=\"T_2ae902ae_351a_11eb_842f_7c67a253903erow13_col2\" class=\"data row13 col2\" >0.400000</td>\n",
       "                        <td id=\"T_2ae902ae_351a_11eb_842f_7c67a253903erow13_col3\" class=\"data row13 col3\" >222.622222</td>\n",
       "                        <td id=\"T_2ae902ae_351a_11eb_842f_7c67a253903erow13_col4\" class=\"data row13 col4\" >0.297219</td>\n",
       "            </tr>\n",
       "            <tr>\n",
       "                        <th id=\"T_2ae902ae_351a_11eb_842f_7c67a253903elevel0_row14\" class=\"row_heading level0 row14\" >14</th>\n",
       "                        <td id=\"T_2ae902ae_351a_11eb_842f_7c67a253903erow14_col0\" class=\"data row14 col0\" >{Xerox 1894} -> {Xerox 225}</td>\n",
       "                        <td id=\"T_2ae902ae_351a_11eb_842f_7c67a253903erow14_col1\" class=\"data row14 col1\" >0.000399</td>\n",
       "                        <td id=\"T_2ae902ae_351a_11eb_842f_7c67a253903erow14_col2\" class=\"data row14 col2\" >0.400000</td>\n",
       "                        <td id=\"T_2ae902ae_351a_11eb_842f_7c67a253903erow14_col3\" class=\"data row14 col3\" >222.622222</td>\n",
       "                        <td id=\"T_2ae902ae_351a_11eb_842f_7c67a253903erow14_col4\" class=\"data row14 col4\" >0.297219</td>\n",
       "            </tr>\n",
       "            <tr>\n",
       "                        <th id=\"T_2ae902ae_351a_11eb_842f_7c67a253903elevel0_row15\" class=\"row_heading level0 row15\" >15</th>\n",
       "                        <td id=\"T_2ae902ae_351a_11eb_842f_7c67a253903erow15_col0\" class=\"data row15 col0\" >{DMI Eclipse Executive Suite Bookcases} -> {Avery 485}</td>\n",
       "                        <td id=\"T_2ae902ae_351a_11eb_842f_7c67a253903erow15_col1\" class=\"data row15 col1\" >0.000399</td>\n",
       "                        <td id=\"T_2ae902ae_351a_11eb_842f_7c67a253903erow15_col2\" class=\"data row15 col2\" >0.333333</td>\n",
       "                        <td id=\"T_2ae902ae_351a_11eb_842f_7c67a253903erow15_col3\" class=\"data row15 col3\" >208.708333</td>\n",
       "                        <td id=\"T_2ae902ae_351a_11eb_842f_7c67a253903erow15_col4\" class=\"data row15 col4\" >0.287694</td>\n",
       "            </tr>\n",
       "            <tr>\n",
       "                        <th id=\"T_2ae902ae_351a_11eb_842f_7c67a253903elevel0_row16\" class=\"row_heading level0 row16\" >16</th>\n",
       "                        <td id=\"T_2ae902ae_351a_11eb_842f_7c67a253903erow16_col0\" class=\"data row16 col0\" >{Wilson Jones Active Use Binders} -> {GBC Recycled VeloBinder Covers}</td>\n",
       "                        <td id=\"T_2ae902ae_351a_11eb_842f_7c67a253903erow16_col1\" class=\"data row16 col1\" >0.000399</td>\n",
       "                        <td id=\"T_2ae902ae_351a_11eb_842f_7c67a253903erow16_col2\" class=\"data row16 col2\" >0.333333</td>\n",
       "                        <td id=\"T_2ae902ae_351a_11eb_842f_7c67a253903erow16_col3\" class=\"data row16 col3\" >208.708333</td>\n",
       "                        <td id=\"T_2ae902ae_351a_11eb_842f_7c67a253903erow16_col4\" class=\"data row16 col4\" >0.287694</td>\n",
       "            </tr>\n",
       "            <tr>\n",
       "                        <th id=\"T_2ae902ae_351a_11eb_842f_7c67a253903elevel0_row17\" class=\"row_heading level0 row17\" >17</th>\n",
       "                        <td id=\"T_2ae902ae_351a_11eb_842f_7c67a253903erow17_col0\" class=\"data row17 col0\" >{Anker Astro 15000mAh USB Portable Charger} -> {GBC Prestige Therm-A-Bind Covers}</td>\n",
       "                        <td id=\"T_2ae902ae_351a_11eb_842f_7c67a253903erow17_col1\" class=\"data row17 col1\" >0.000399</td>\n",
       "                        <td id=\"T_2ae902ae_351a_11eb_842f_7c67a253903erow17_col2\" class=\"data row17 col2\" >0.400000</td>\n",
       "                        <td id=\"T_2ae902ae_351a_11eb_842f_7c67a253903erow17_col3\" class=\"data row17 col3\" >200.360000</td>\n",
       "                        <td id=\"T_2ae902ae_351a_11eb_842f_7c67a253903erow17_col4\" class=\"data row17 col4\" >0.281853</td>\n",
       "            </tr>\n",
       "            <tr>\n",
       "                        <th id=\"T_2ae902ae_351a_11eb_842f_7c67a253903elevel0_row18\" class=\"row_heading level0 row18\" >18</th>\n",
       "                        <td id=\"T_2ae902ae_351a_11eb_842f_7c67a253903erow18_col0\" class=\"data row18 col0\" >{Xerox 192} -> {X-Rack File for Hanging Folders}</td>\n",
       "                        <td id=\"T_2ae902ae_351a_11eb_842f_7c67a253903erow18_col1\" class=\"data row18 col1\" >0.000399</td>\n",
       "                        <td id=\"T_2ae902ae_351a_11eb_842f_7c67a253903erow18_col2\" class=\"data row18 col2\" >0.333333</td>\n",
       "                        <td id=\"T_2ae902ae_351a_11eb_842f_7c67a253903erow18_col3\" class=\"data row18 col3\" >185.518519</td>\n",
       "                        <td id=\"T_2ae902ae_351a_11eb_842f_7c67a253903erow18_col4\" class=\"data row18 col4\" >0.271104</td>\n",
       "            </tr>\n",
       "            <tr>\n",
       "                        <th id=\"T_2ae902ae_351a_11eb_842f_7c67a253903elevel0_row19\" class=\"row_heading level0 row19\" >19</th>\n",
       "                        <td id=\"T_2ae902ae_351a_11eb_842f_7c67a253903erow19_col0\" class=\"data row19 col0\" >{Logitech G35 7.1-Channel Surround Sound Headset} -> {Avery 486}</td>\n",
       "                        <td id=\"T_2ae902ae_351a_11eb_842f_7c67a253903erow19_col1\" class=\"data row19 col1\" >0.000399</td>\n",
       "                        <td id=\"T_2ae902ae_351a_11eb_842f_7c67a253903erow19_col2\" class=\"data row19 col2\" >0.333333</td>\n",
       "                        <td id=\"T_2ae902ae_351a_11eb_842f_7c67a253903erow19_col3\" class=\"data row19 col3\" >185.518519</td>\n",
       "                        <td id=\"T_2ae902ae_351a_11eb_842f_7c67a253903erow19_col4\" class=\"data row19 col4\" >0.271104</td>\n",
       "            </tr>\n",
       "    </tbody></table>"
      ],
      "text/plain": [
       "<pandas.io.formats.style.Styler at 0x256f8213d88>"
      ]
     },
     "execution_count": 26,
     "metadata": {},
     "output_type": "execute_result"
    }
   ],
   "source": [
    "#Apriori算法\n",
    "Power_Mart_apr_transactions = data_loader(Power_Mart, groupby_key, groupby_column, algorithm=\"apr\")\n",
    "Power_Mart_apr_df = apriori_main(Power_Mart_apr_transactions, min_support, min_confidence)\n",
    "Power_Mart_apr_df[0:20].style.set_table_styles(dfstyle)"
   ]
  },
  {
   "cell_type": "code",
   "execution_count": 27,
   "metadata": {},
   "outputs": [
    {
     "data": {
      "text/plain": [
       "30"
      ]
     },
     "execution_count": 27,
     "metadata": {},
     "output_type": "execute_result"
    }
   ],
   "source": [
    "Power_Mart_apr_df.shape[0] #统计满足支持度和置信度要求的规则条数"
   ]
  },
  {
   "cell_type": "code",
   "execution_count": 28,
   "metadata": {},
   "outputs": [
    {
     "name": "stdout",
     "output_type": "stream",
     "text": [
      "FP-growth算法本次用时为 0:00:00.345077s\n"
     ]
    },
    {
     "data": {
      "text/html": [
       "<style  type=\"text/css\" >\n",
       "    #T_2ba0d858_351a_11eb_9b74_7c67a253903e th {\n",
       "          font-size: 12px;\n",
       "    }    #T_2ba0d858_351a_11eb_9b74_7c67a253903e td {\n",
       "          font-size: 10px;\n",
       "    }    #T_2ba0d858_351a_11eb_9b74_7c67a253903e th {\n",
       "          text-align: center;\n",
       "    }</style><table id=\"T_2ba0d858_351a_11eb_9b74_7c67a253903e\" ><thead>    <tr>        <th class=\"blank level0\" ></th>        <th class=\"col_heading level0 col0\" >Rule</th>        <th class=\"col_heading level0 col1\" >Support</th>        <th class=\"col_heading level0 col2\" >Confidence</th>        <th class=\"col_heading level0 col3\" >Lift</th>        <th class=\"col_heading level0 col4\" >Correlation</th>    </tr></thead><tbody>\n",
       "                <tr>\n",
       "                        <th id=\"T_2ba0d858_351a_11eb_9b74_7c67a253903elevel0_row0\" class=\"row_heading level0 row0\" >0</th>\n",
       "                        <td id=\"T_2ba0d858_351a_11eb_9b74_7c67a253903erow0_col0\" class=\"data row0 col0\" >{'Boston 16765 Mini Stand Up Battery Pencil Sharpener'} -> {'Microsoft Natural Ergonomic Keyboard 4000'}</td>\n",
       "                        <td id=\"T_2ba0d858_351a_11eb_9b74_7c67a253903erow0_col1\" class=\"data row0 col1\" >0.000399</td>\n",
       "                        <td id=\"T_2ba0d858_351a_11eb_9b74_7c67a253903erow0_col2\" class=\"data row0 col2\" >0.500000</td>\n",
       "                        <td id=\"T_2ba0d858_351a_11eb_9b74_7c67a253903erow0_col3\" class=\"data row0 col3\" >500.900000</td>\n",
       "                        <td id=\"T_2ba0d858_351a_11eb_9b74_7c67a253903erow0_col4\" class=\"data row0 col4\" >0.446722</td>\n",
       "            </tr>\n",
       "            <tr>\n",
       "                        <th id=\"T_2ba0d858_351a_11eb_9b74_7c67a253903elevel0_row1\" class=\"row_heading level0 row1\" >1</th>\n",
       "                        <td id=\"T_2ba0d858_351a_11eb_9b74_7c67a253903erow1_col0\" class=\"data row1 col0\" >{'Microsoft Natural Ergonomic Keyboard 4000'} -> {'Boston 16765 Mini Stand Up Battery Pencil Sharpener'}</td>\n",
       "                        <td id=\"T_2ba0d858_351a_11eb_9b74_7c67a253903erow1_col1\" class=\"data row1 col1\" >0.000399</td>\n",
       "                        <td id=\"T_2ba0d858_351a_11eb_9b74_7c67a253903erow1_col2\" class=\"data row1 col2\" >0.400000</td>\n",
       "                        <td id=\"T_2ba0d858_351a_11eb_9b74_7c67a253903erow1_col3\" class=\"data row1 col3\" >500.900000</td>\n",
       "                        <td id=\"T_2ba0d858_351a_11eb_9b74_7c67a253903erow1_col4\" class=\"data row1 col4\" >0.446722</td>\n",
       "            </tr>\n",
       "            <tr>\n",
       "                        <th id=\"T_2ba0d858_351a_11eb_9b74_7c67a253903elevel0_row2\" class=\"row_heading level0 row2\" >2</th>\n",
       "                        <td id=\"T_2ba0d858_351a_11eb_9b74_7c67a253903erow2_col0\" class=\"data row2 col0\" >{'Anker Astro Mini 3000mAh Ultra-Compact Portable Charger'} -> {'Bretford CR8500 Series Meeting Room Furniture'}</td>\n",
       "                        <td id=\"T_2ba0d858_351a_11eb_9b74_7c67a253903erow2_col1\" class=\"data row2 col1\" >0.000399</td>\n",
       "                        <td id=\"T_2ba0d858_351a_11eb_9b74_7c67a253903erow2_col2\" class=\"data row2 col2\" >0.500000</td>\n",
       "                        <td id=\"T_2ba0d858_351a_11eb_9b74_7c67a253903erow2_col3\" class=\"data row2 col3\" >417.416667</td>\n",
       "                        <td id=\"T_2ba0d858_351a_11eb_9b74_7c67a253903erow2_col4\" class=\"data row2 col4\" >0.407677</td>\n",
       "            </tr>\n",
       "            <tr>\n",
       "                        <th id=\"T_2ba0d858_351a_11eb_9b74_7c67a253903elevel0_row3\" class=\"row_heading level0 row3\" >3</th>\n",
       "                        <td id=\"T_2ba0d858_351a_11eb_9b74_7c67a253903erow3_col0\" class=\"data row3 col0\" >{'Bretford CR8500 Series Meeting Room Furniture'} -> {'Anker Astro Mini 3000mAh Ultra-Compact Portable Charger'}</td>\n",
       "                        <td id=\"T_2ba0d858_351a_11eb_9b74_7c67a253903erow3_col1\" class=\"data row3 col1\" >0.000399</td>\n",
       "                        <td id=\"T_2ba0d858_351a_11eb_9b74_7c67a253903erow3_col2\" class=\"data row3 col2\" >0.333333</td>\n",
       "                        <td id=\"T_2ba0d858_351a_11eb_9b74_7c67a253903erow3_col3\" class=\"data row3 col3\" >417.416667</td>\n",
       "                        <td id=\"T_2ba0d858_351a_11eb_9b74_7c67a253903erow3_col4\" class=\"data row3 col4\" >0.407677</td>\n",
       "            </tr>\n",
       "            <tr>\n",
       "                        <th id=\"T_2ba0d858_351a_11eb_9b74_7c67a253903elevel0_row4\" class=\"row_heading level0 row4\" >4</th>\n",
       "                        <td id=\"T_2ba0d858_351a_11eb_9b74_7c67a253903erow4_col0\" class=\"data row4 col0\" >{'Acco Side-Punched Conventional Columnar Pads'} -> {'Avery Fluorescent Highlighter Four-Color Set'}</td>\n",
       "                        <td id=\"T_2ba0d858_351a_11eb_9b74_7c67a253903erow4_col1\" class=\"data row4 col1\" >0.000399</td>\n",
       "                        <td id=\"T_2ba0d858_351a_11eb_9b74_7c67a253903erow4_col2\" class=\"data row4 col2\" >0.500000</td>\n",
       "                        <td id=\"T_2ba0d858_351a_11eb_9b74_7c67a253903erow4_col3\" class=\"data row4 col3\" >313.062500</td>\n",
       "                        <td id=\"T_2ba0d858_351a_11eb_9b74_7c67a253903erow4_col4\" class=\"data row4 col4\" >0.352847</td>\n",
       "            </tr>\n",
       "            <tr>\n",
       "                        <th id=\"T_2ba0d858_351a_11eb_9b74_7c67a253903elevel0_row5\" class=\"row_heading level0 row5\" >5</th>\n",
       "                        <td id=\"T_2ba0d858_351a_11eb_9b74_7c67a253903erow5_col0\" class=\"data row5 col0\" >{'SAFCO Optional Arm Kit for Workspace Cribbage Stacking Chair'} -> {'Belkin Premiere Surge Master II 8-outlet surge protector'}</td>\n",
       "                        <td id=\"T_2ba0d858_351a_11eb_9b74_7c67a253903erow5_col1\" class=\"data row5 col1\" >0.000399</td>\n",
       "                        <td id=\"T_2ba0d858_351a_11eb_9b74_7c67a253903erow5_col2\" class=\"data row5 col2\" >0.400000</td>\n",
       "                        <td id=\"T_2ba0d858_351a_11eb_9b74_7c67a253903erow5_col3\" class=\"data row5 col3\" >286.228571</td>\n",
       "                        <td id=\"T_2ba0d858_351a_11eb_9b74_7c67a253903erow5_col4\" class=\"data row5 col4\" >0.337285</td>\n",
       "            </tr>\n",
       "            <tr>\n",
       "                        <th id=\"T_2ba0d858_351a_11eb_9b74_7c67a253903elevel0_row6\" class=\"row_heading level0 row6\" >6</th>\n",
       "                        <td id=\"T_2ba0d858_351a_11eb_9b74_7c67a253903erow6_col0\" class=\"data row6 col0\" >{'Seth Thomas 8 1/2\" Cubicle Clock'} -> {'Cisco SPA301'}</td>\n",
       "                        <td id=\"T_2ba0d858_351a_11eb_9b74_7c67a253903erow6_col1\" class=\"data row6 col1\" >0.000399</td>\n",
       "                        <td id=\"T_2ba0d858_351a_11eb_9b74_7c67a253903erow6_col2\" class=\"data row6 col2\" >0.500000</td>\n",
       "                        <td id=\"T_2ba0d858_351a_11eb_9b74_7c67a253903erow6_col3\" class=\"data row6 col3\" >278.277778</td>\n",
       "                        <td id=\"T_2ba0d858_351a_11eb_9b74_7c67a253903erow6_col4\" class=\"data row6 col4\" >0.332567</td>\n",
       "            </tr>\n",
       "            <tr>\n",
       "                        <th id=\"T_2ba0d858_351a_11eb_9b74_7c67a253903elevel0_row7\" class=\"row_heading level0 row7\" >7</th>\n",
       "                        <td id=\"T_2ba0d858_351a_11eb_9b74_7c67a253903erow7_col0\" class=\"data row7 col0\" >{'Hon Rectangular Conference Tables'} -> {'Plantronics CS510 - Over-the-Head monaural Wireless Headset System'}</td>\n",
       "                        <td id=\"T_2ba0d858_351a_11eb_9b74_7c67a253903erow7_col1\" class=\"data row7 col1\" >0.000399</td>\n",
       "                        <td id=\"T_2ba0d858_351a_11eb_9b74_7c67a253903erow7_col2\" class=\"data row7 col2\" >0.500000</td>\n",
       "                        <td id=\"T_2ba0d858_351a_11eb_9b74_7c67a253903erow7_col3\" class=\"data row7 col3\" >250.450000</td>\n",
       "                        <td id=\"T_2ba0d858_351a_11eb_9b74_7c67a253903erow7_col4\" class=\"data row7 col4\" >0.315406</td>\n",
       "            </tr>\n",
       "            <tr>\n",
       "                        <th id=\"T_2ba0d858_351a_11eb_9b74_7c67a253903elevel0_row8\" class=\"row_heading level0 row8\" >8</th>\n",
       "                        <td id=\"T_2ba0d858_351a_11eb_9b74_7c67a253903erow8_col0\" class=\"data row8 col0\" >{'Hon Valutask Swivel Chairs'} -> {'GBC Plastic Binding Combs'}</td>\n",
       "                        <td id=\"T_2ba0d858_351a_11eb_9b74_7c67a253903erow8_col1\" class=\"data row8 col1\" >0.000399</td>\n",
       "                        <td id=\"T_2ba0d858_351a_11eb_9b74_7c67a253903erow8_col2\" class=\"data row8 col2\" >0.500000</td>\n",
       "                        <td id=\"T_2ba0d858_351a_11eb_9b74_7c67a253903erow8_col3\" class=\"data row8 col3\" >250.450000</td>\n",
       "                        <td id=\"T_2ba0d858_351a_11eb_9b74_7c67a253903erow8_col4\" class=\"data row8 col4\" >0.315406</td>\n",
       "            </tr>\n",
       "            <tr>\n",
       "                        <th id=\"T_2ba0d858_351a_11eb_9b74_7c67a253903elevel0_row9\" class=\"row_heading level0 row9\" >9</th>\n",
       "                        <td id=\"T_2ba0d858_351a_11eb_9b74_7c67a253903erow9_col0\" class=\"data row9 col0\" >{'Newell 315'} -> {'Acco Hanging Data Binders'}</td>\n",
       "                        <td id=\"T_2ba0d858_351a_11eb_9b74_7c67a253903erow9_col1\" class=\"data row9 col1\" >0.000399</td>\n",
       "                        <td id=\"T_2ba0d858_351a_11eb_9b74_7c67a253903erow9_col2\" class=\"data row9 col2\" >0.333333</td>\n",
       "                        <td id=\"T_2ba0d858_351a_11eb_9b74_7c67a253903erow9_col3\" class=\"data row9 col3\" >238.523810</td>\n",
       "                        <td id=\"T_2ba0d858_351a_11eb_9b74_7c67a253903erow9_col4\" class=\"data row9 col4\" >0.307712</td>\n",
       "            </tr>\n",
       "            <tr>\n",
       "                        <th id=\"T_2ba0d858_351a_11eb_9b74_7c67a253903elevel0_row10\" class=\"row_heading level0 row10\" >10</th>\n",
       "                        <td id=\"T_2ba0d858_351a_11eb_9b74_7c67a253903erow10_col0\" class=\"data row10 col0\" >{'Lumber Crayons'} -> {'Avery Recycled Flexi-View Covers for Binding Systems'}</td>\n",
       "                        <td id=\"T_2ba0d858_351a_11eb_9b74_7c67a253903erow10_col1\" class=\"data row10 col1\" >0.000399</td>\n",
       "                        <td id=\"T_2ba0d858_351a_11eb_9b74_7c67a253903erow10_col2\" class=\"data row10 col2\" >0.333333</td>\n",
       "                        <td id=\"T_2ba0d858_351a_11eb_9b74_7c67a253903erow10_col3\" class=\"data row10 col3\" >238.523810</td>\n",
       "                        <td id=\"T_2ba0d858_351a_11eb_9b74_7c67a253903erow10_col4\" class=\"data row10 col4\" >0.307712</td>\n",
       "            </tr>\n",
       "            <tr>\n",
       "                        <th id=\"T_2ba0d858_351a_11eb_9b74_7c67a253903elevel0_row11\" class=\"row_heading level0 row11\" >11</th>\n",
       "                        <td id=\"T_2ba0d858_351a_11eb_9b74_7c67a253903erow11_col0\" class=\"data row11 col0\" >{'Cisco SPA508G'} -> {'Global Commerce Series High-Back Swivel/Tilt Chairs'}</td>\n",
       "                        <td id=\"T_2ba0d858_351a_11eb_9b74_7c67a253903erow11_col1\" class=\"data row11 col1\" >0.000399</td>\n",
       "                        <td id=\"T_2ba0d858_351a_11eb_9b74_7c67a253903erow11_col2\" class=\"data row11 col2\" >0.400000</td>\n",
       "                        <td id=\"T_2ba0d858_351a_11eb_9b74_7c67a253903erow11_col3\" class=\"data row11 col3\" >222.622222</td>\n",
       "                        <td id=\"T_2ba0d858_351a_11eb_9b74_7c67a253903erow11_col4\" class=\"data row11 col4\" >0.297219</td>\n",
       "            </tr>\n",
       "            <tr>\n",
       "                        <th id=\"T_2ba0d858_351a_11eb_9b74_7c67a253903elevel0_row12\" class=\"row_heading level0 row12\" >12</th>\n",
       "                        <td id=\"T_2ba0d858_351a_11eb_9b74_7c67a253903erow12_col0\" class=\"data row12 col0\" >{'Xerox 1894'} -> {'Xerox 225'}</td>\n",
       "                        <td id=\"T_2ba0d858_351a_11eb_9b74_7c67a253903erow12_col1\" class=\"data row12 col1\" >0.000399</td>\n",
       "                        <td id=\"T_2ba0d858_351a_11eb_9b74_7c67a253903erow12_col2\" class=\"data row12 col2\" >0.400000</td>\n",
       "                        <td id=\"T_2ba0d858_351a_11eb_9b74_7c67a253903erow12_col3\" class=\"data row12 col3\" >222.622222</td>\n",
       "                        <td id=\"T_2ba0d858_351a_11eb_9b74_7c67a253903erow12_col4\" class=\"data row12 col4\" >0.297219</td>\n",
       "            </tr>\n",
       "            <tr>\n",
       "                        <th id=\"T_2ba0d858_351a_11eb_9b74_7c67a253903elevel0_row13\" class=\"row_heading level0 row13\" >13</th>\n",
       "                        <td id=\"T_2ba0d858_351a_11eb_9b74_7c67a253903erow13_col0\" class=\"data row13 col0\" >{'Logitech\\xa0VX Revolution Cordless Laser Mouse for Notebooks (Black)'} -> {'Tennsco Industrial Shelving'}</td>\n",
       "                        <td id=\"T_2ba0d858_351a_11eb_9b74_7c67a253903erow13_col1\" class=\"data row13 col1\" >0.000399</td>\n",
       "                        <td id=\"T_2ba0d858_351a_11eb_9b74_7c67a253903erow13_col2\" class=\"data row13 col2\" >0.400000</td>\n",
       "                        <td id=\"T_2ba0d858_351a_11eb_9b74_7c67a253903erow13_col3\" class=\"data row13 col3\" >222.622222</td>\n",
       "                        <td id=\"T_2ba0d858_351a_11eb_9b74_7c67a253903erow13_col4\" class=\"data row13 col4\" >0.297219</td>\n",
       "            </tr>\n",
       "            <tr>\n",
       "                        <th id=\"T_2ba0d858_351a_11eb_9b74_7c67a253903elevel0_row14\" class=\"row_heading level0 row14\" >14</th>\n",
       "                        <td id=\"T_2ba0d858_351a_11eb_9b74_7c67a253903erow14_col0\" class=\"data row14 col0\" >{'Xerox 1882'} -> {'Wirebound Message Books, Four 2 3/4\" x 5\" Forms per Page, 600 Sets per Book'}</td>\n",
       "                        <td id=\"T_2ba0d858_351a_11eb_9b74_7c67a253903erow14_col1\" class=\"data row14 col1\" >0.000399</td>\n",
       "                        <td id=\"T_2ba0d858_351a_11eb_9b74_7c67a253903erow14_col2\" class=\"data row14 col2\" >0.400000</td>\n",
       "                        <td id=\"T_2ba0d858_351a_11eb_9b74_7c67a253903erow14_col3\" class=\"data row14 col3\" >222.622222</td>\n",
       "                        <td id=\"T_2ba0d858_351a_11eb_9b74_7c67a253903erow14_col4\" class=\"data row14 col4\" >0.297219</td>\n",
       "            </tr>\n",
       "            <tr>\n",
       "                        <th id=\"T_2ba0d858_351a_11eb_9b74_7c67a253903elevel0_row15\" class=\"row_heading level0 row15\" >15</th>\n",
       "                        <td id=\"T_2ba0d858_351a_11eb_9b74_7c67a253903erow15_col0\" class=\"data row15 col0\" >{'DMI Eclipse Executive Suite Bookcases'} -> {'Avery 485'}</td>\n",
       "                        <td id=\"T_2ba0d858_351a_11eb_9b74_7c67a253903erow15_col1\" class=\"data row15 col1\" >0.000399</td>\n",
       "                        <td id=\"T_2ba0d858_351a_11eb_9b74_7c67a253903erow15_col2\" class=\"data row15 col2\" >0.333333</td>\n",
       "                        <td id=\"T_2ba0d858_351a_11eb_9b74_7c67a253903erow15_col3\" class=\"data row15 col3\" >208.708333</td>\n",
       "                        <td id=\"T_2ba0d858_351a_11eb_9b74_7c67a253903erow15_col4\" class=\"data row15 col4\" >0.287694</td>\n",
       "            </tr>\n",
       "            <tr>\n",
       "                        <th id=\"T_2ba0d858_351a_11eb_9b74_7c67a253903elevel0_row16\" class=\"row_heading level0 row16\" >16</th>\n",
       "                        <td id=\"T_2ba0d858_351a_11eb_9b74_7c67a253903erow16_col0\" class=\"data row16 col0\" >{'Wilson Jones Active Use Binders'} -> {'GBC Recycled VeloBinder Covers'}</td>\n",
       "                        <td id=\"T_2ba0d858_351a_11eb_9b74_7c67a253903erow16_col1\" class=\"data row16 col1\" >0.000399</td>\n",
       "                        <td id=\"T_2ba0d858_351a_11eb_9b74_7c67a253903erow16_col2\" class=\"data row16 col2\" >0.333333</td>\n",
       "                        <td id=\"T_2ba0d858_351a_11eb_9b74_7c67a253903erow16_col3\" class=\"data row16 col3\" >208.708333</td>\n",
       "                        <td id=\"T_2ba0d858_351a_11eb_9b74_7c67a253903erow16_col4\" class=\"data row16 col4\" >0.287694</td>\n",
       "            </tr>\n",
       "            <tr>\n",
       "                        <th id=\"T_2ba0d858_351a_11eb_9b74_7c67a253903elevel0_row17\" class=\"row_heading level0 row17\" >17</th>\n",
       "                        <td id=\"T_2ba0d858_351a_11eb_9b74_7c67a253903erow17_col0\" class=\"data row17 col0\" >{'Anker Astro 15000mAh USB Portable Charger'} -> {'GBC Prestige Therm-A-Bind Covers'}</td>\n",
       "                        <td id=\"T_2ba0d858_351a_11eb_9b74_7c67a253903erow17_col1\" class=\"data row17 col1\" >0.000399</td>\n",
       "                        <td id=\"T_2ba0d858_351a_11eb_9b74_7c67a253903erow17_col2\" class=\"data row17 col2\" >0.400000</td>\n",
       "                        <td id=\"T_2ba0d858_351a_11eb_9b74_7c67a253903erow17_col3\" class=\"data row17 col3\" >200.360000</td>\n",
       "                        <td id=\"T_2ba0d858_351a_11eb_9b74_7c67a253903erow17_col4\" class=\"data row17 col4\" >0.281853</td>\n",
       "            </tr>\n",
       "            <tr>\n",
       "                        <th id=\"T_2ba0d858_351a_11eb_9b74_7c67a253903elevel0_row18\" class=\"row_heading level0 row18\" >18</th>\n",
       "                        <td id=\"T_2ba0d858_351a_11eb_9b74_7c67a253903erow18_col0\" class=\"data row18 col0\" >{'Xerox 192'} -> {'X-Rack File for Hanging Folders'}</td>\n",
       "                        <td id=\"T_2ba0d858_351a_11eb_9b74_7c67a253903erow18_col1\" class=\"data row18 col1\" >0.000399</td>\n",
       "                        <td id=\"T_2ba0d858_351a_11eb_9b74_7c67a253903erow18_col2\" class=\"data row18 col2\" >0.333333</td>\n",
       "                        <td id=\"T_2ba0d858_351a_11eb_9b74_7c67a253903erow18_col3\" class=\"data row18 col3\" >185.518519</td>\n",
       "                        <td id=\"T_2ba0d858_351a_11eb_9b74_7c67a253903erow18_col4\" class=\"data row18 col4\" >0.271104</td>\n",
       "            </tr>\n",
       "            <tr>\n",
       "                        <th id=\"T_2ba0d858_351a_11eb_9b74_7c67a253903elevel0_row19\" class=\"row_heading level0 row19\" >19</th>\n",
       "                        <td id=\"T_2ba0d858_351a_11eb_9b74_7c67a253903erow19_col0\" class=\"data row19 col0\" >{'Logitech G35 7.1-Channel Surround Sound Headset'} -> {'Avery 486'}</td>\n",
       "                        <td id=\"T_2ba0d858_351a_11eb_9b74_7c67a253903erow19_col1\" class=\"data row19 col1\" >0.000399</td>\n",
       "                        <td id=\"T_2ba0d858_351a_11eb_9b74_7c67a253903erow19_col2\" class=\"data row19 col2\" >0.333333</td>\n",
       "                        <td id=\"T_2ba0d858_351a_11eb_9b74_7c67a253903erow19_col3\" class=\"data row19 col3\" >185.518519</td>\n",
       "                        <td id=\"T_2ba0d858_351a_11eb_9b74_7c67a253903erow19_col4\" class=\"data row19 col4\" >0.271104</td>\n",
       "            </tr>\n",
       "    </tbody></table>"
      ],
      "text/plain": [
       "<pandas.io.formats.style.Styler at 0x256ee6b8f08>"
      ]
     },
     "execution_count": 28,
     "metadata": {},
     "output_type": "execute_result"
    }
   ],
   "source": [
    "#FP-growth算法\n",
    "Power_Mart_fp_transactions = data_loader(Power_Mart, groupby_key, groupby_column, algorithm=\"fp\")\n",
    "Power_Mart_fp_df = fp_growth_main(Power_Mart_fp_transactions, min_support, min_confidence)\n",
    "Power_Mart_fp_df[0:20].style.set_table_styles(dfstyle)"
   ]
  },
  {
   "cell_type": "code",
   "execution_count": 29,
   "metadata": {},
   "outputs": [
    {
     "data": {
      "text/plain": [
       "30"
      ]
     },
     "execution_count": 29,
     "metadata": {},
     "output_type": "execute_result"
    }
   ],
   "source": [
    "Power_Mart_fp_df.shape[0] #统计满足支持度和置信度要求的规则条数"
   ]
  },
  {
   "cell_type": "markdown",
   "metadata": {},
   "source": [
    "综上，选择第五组参数进行后续处理！"
   ]
  },
  {
   "cell_type": "markdown",
   "metadata": {},
   "source": [
    "## 2.2 规则图示：第（2）问"
   ]
  },
  {
   "cell_type": "markdown",
   "metadata": {},
   "source": [
    "见R语言代码"
   ]
  },
  {
   "cell_type": "markdown",
   "metadata": {},
   "source": [
    "## 2.3 最强规则及兴趣度指标计算：第（3）问"
   ]
  },
  {
   "cell_type": "markdown",
   "metadata": {},
   "source": [
    "采用的是2.1.5的第五组参数"
   ]
  },
  {
   "cell_type": "code",
   "execution_count": 39,
   "metadata": {},
   "outputs": [],
   "source": [
    "#参数\n",
    "min_support = 0.0002 #支持度阈值\n",
    "min_confidence = 0.3 #置信度阈值\n",
    "groupby_key = \"Order ID\" #汇总索引\n",
    "groupby_column = \"Product Name\" #需要汇总的列\n",
    "#注：data_loader需要传入algorithm参数, \"apr\":Apriori, \"fp\":FP-growth"
   ]
  },
  {
   "cell_type": "code",
   "execution_count": 40,
   "metadata": {},
   "outputs": [
    {
     "name": "stdout",
     "output_type": "stream",
     "text": [
      "FP-growth算法本次用时为 0:00:00.468746s\n"
     ]
    },
    {
     "data": {
      "text/html": [
       "<style  type=\"text/css\" >\n",
       "    #T_de4ca8da_36b8_11eb_a3c9_7c67a253903e th {\n",
       "          font-size: 12px;\n",
       "    }    #T_de4ca8da_36b8_11eb_a3c9_7c67a253903e td {\n",
       "          font-size: 10px;\n",
       "    }    #T_de4ca8da_36b8_11eb_a3c9_7c67a253903e th {\n",
       "          text-align: center;\n",
       "    }</style><table id=\"T_de4ca8da_36b8_11eb_a3c9_7c67a253903e\" ><thead>    <tr>        <th class=\"blank level0\" ></th>        <th class=\"col_heading level0 col0\" >Rule</th>        <th class=\"col_heading level0 col1\" >Support</th>        <th class=\"col_heading level0 col2\" >Confidence</th>        <th class=\"col_heading level0 col3\" >Lift</th>        <th class=\"col_heading level0 col4\" >Correlation</th>    </tr></thead><tbody>\n",
       "                <tr>\n",
       "                        <th id=\"T_de4ca8da_36b8_11eb_a3c9_7c67a253903elevel0_row0\" class=\"row_heading level0 row0\" >0</th>\n",
       "                        <td id=\"T_de4ca8da_36b8_11eb_a3c9_7c67a253903erow0_col0\" class=\"data row0 col0\" >{'Boston 16765 Mini Stand Up Battery Pencil Sharpener'} -> {'Microsoft Natural Ergonomic Keyboard 4000'}</td>\n",
       "                        <td id=\"T_de4ca8da_36b8_11eb_a3c9_7c67a253903erow0_col1\" class=\"data row0 col1\" >0.000399</td>\n",
       "                        <td id=\"T_de4ca8da_36b8_11eb_a3c9_7c67a253903erow0_col2\" class=\"data row0 col2\" >0.500000</td>\n",
       "                        <td id=\"T_de4ca8da_36b8_11eb_a3c9_7c67a253903erow0_col3\" class=\"data row0 col3\" >500.900000</td>\n",
       "                        <td id=\"T_de4ca8da_36b8_11eb_a3c9_7c67a253903erow0_col4\" class=\"data row0 col4\" >0.446722</td>\n",
       "            </tr>\n",
       "            <tr>\n",
       "                        <th id=\"T_de4ca8da_36b8_11eb_a3c9_7c67a253903elevel0_row1\" class=\"row_heading level0 row1\" >1</th>\n",
       "                        <td id=\"T_de4ca8da_36b8_11eb_a3c9_7c67a253903erow1_col0\" class=\"data row1 col0\" >{'Microsoft Natural Ergonomic Keyboard 4000'} -> {'Boston 16765 Mini Stand Up Battery Pencil Sharpener'}</td>\n",
       "                        <td id=\"T_de4ca8da_36b8_11eb_a3c9_7c67a253903erow1_col1\" class=\"data row1 col1\" >0.000399</td>\n",
       "                        <td id=\"T_de4ca8da_36b8_11eb_a3c9_7c67a253903erow1_col2\" class=\"data row1 col2\" >0.400000</td>\n",
       "                        <td id=\"T_de4ca8da_36b8_11eb_a3c9_7c67a253903erow1_col3\" class=\"data row1 col3\" >500.900000</td>\n",
       "                        <td id=\"T_de4ca8da_36b8_11eb_a3c9_7c67a253903erow1_col4\" class=\"data row1 col4\" >0.446722</td>\n",
       "            </tr>\n",
       "            <tr>\n",
       "                        <th id=\"T_de4ca8da_36b8_11eb_a3c9_7c67a253903elevel0_row2\" class=\"row_heading level0 row2\" >2</th>\n",
       "                        <td id=\"T_de4ca8da_36b8_11eb_a3c9_7c67a253903erow2_col0\" class=\"data row2 col0\" >{'Anker Astro Mini 3000mAh Ultra-Compact Portable Charger'} -> {'Bretford CR8500 Series Meeting Room Furniture'}</td>\n",
       "                        <td id=\"T_de4ca8da_36b8_11eb_a3c9_7c67a253903erow2_col1\" class=\"data row2 col1\" >0.000399</td>\n",
       "                        <td id=\"T_de4ca8da_36b8_11eb_a3c9_7c67a253903erow2_col2\" class=\"data row2 col2\" >0.500000</td>\n",
       "                        <td id=\"T_de4ca8da_36b8_11eb_a3c9_7c67a253903erow2_col3\" class=\"data row2 col3\" >417.416667</td>\n",
       "                        <td id=\"T_de4ca8da_36b8_11eb_a3c9_7c67a253903erow2_col4\" class=\"data row2 col4\" >0.407677</td>\n",
       "            </tr>\n",
       "            <tr>\n",
       "                        <th id=\"T_de4ca8da_36b8_11eb_a3c9_7c67a253903elevel0_row3\" class=\"row_heading level0 row3\" >3</th>\n",
       "                        <td id=\"T_de4ca8da_36b8_11eb_a3c9_7c67a253903erow3_col0\" class=\"data row3 col0\" >{'Bretford CR8500 Series Meeting Room Furniture'} -> {'Anker Astro Mini 3000mAh Ultra-Compact Portable Charger'}</td>\n",
       "                        <td id=\"T_de4ca8da_36b8_11eb_a3c9_7c67a253903erow3_col1\" class=\"data row3 col1\" >0.000399</td>\n",
       "                        <td id=\"T_de4ca8da_36b8_11eb_a3c9_7c67a253903erow3_col2\" class=\"data row3 col2\" >0.333333</td>\n",
       "                        <td id=\"T_de4ca8da_36b8_11eb_a3c9_7c67a253903erow3_col3\" class=\"data row3 col3\" >417.416667</td>\n",
       "                        <td id=\"T_de4ca8da_36b8_11eb_a3c9_7c67a253903erow3_col4\" class=\"data row3 col4\" >0.407677</td>\n",
       "            </tr>\n",
       "            <tr>\n",
       "                        <th id=\"T_de4ca8da_36b8_11eb_a3c9_7c67a253903elevel0_row4\" class=\"row_heading level0 row4\" >4</th>\n",
       "                        <td id=\"T_de4ca8da_36b8_11eb_a3c9_7c67a253903erow4_col0\" class=\"data row4 col0\" >{'Acco Side-Punched Conventional Columnar Pads'} -> {'Avery Fluorescent Highlighter Four-Color Set'}</td>\n",
       "                        <td id=\"T_de4ca8da_36b8_11eb_a3c9_7c67a253903erow4_col1\" class=\"data row4 col1\" >0.000399</td>\n",
       "                        <td id=\"T_de4ca8da_36b8_11eb_a3c9_7c67a253903erow4_col2\" class=\"data row4 col2\" >0.500000</td>\n",
       "                        <td id=\"T_de4ca8da_36b8_11eb_a3c9_7c67a253903erow4_col3\" class=\"data row4 col3\" >313.062500</td>\n",
       "                        <td id=\"T_de4ca8da_36b8_11eb_a3c9_7c67a253903erow4_col4\" class=\"data row4 col4\" >0.352847</td>\n",
       "            </tr>\n",
       "            <tr>\n",
       "                        <th id=\"T_de4ca8da_36b8_11eb_a3c9_7c67a253903elevel0_row5\" class=\"row_heading level0 row5\" >5</th>\n",
       "                        <td id=\"T_de4ca8da_36b8_11eb_a3c9_7c67a253903erow5_col0\" class=\"data row5 col0\" >{'SAFCO Optional Arm Kit for Workspace Cribbage Stacking Chair'} -> {'Belkin Premiere Surge Master II 8-outlet surge protector'}</td>\n",
       "                        <td id=\"T_de4ca8da_36b8_11eb_a3c9_7c67a253903erow5_col1\" class=\"data row5 col1\" >0.000399</td>\n",
       "                        <td id=\"T_de4ca8da_36b8_11eb_a3c9_7c67a253903erow5_col2\" class=\"data row5 col2\" >0.400000</td>\n",
       "                        <td id=\"T_de4ca8da_36b8_11eb_a3c9_7c67a253903erow5_col3\" class=\"data row5 col3\" >286.228571</td>\n",
       "                        <td id=\"T_de4ca8da_36b8_11eb_a3c9_7c67a253903erow5_col4\" class=\"data row5 col4\" >0.337285</td>\n",
       "            </tr>\n",
       "            <tr>\n",
       "                        <th id=\"T_de4ca8da_36b8_11eb_a3c9_7c67a253903elevel0_row6\" class=\"row_heading level0 row6\" >6</th>\n",
       "                        <td id=\"T_de4ca8da_36b8_11eb_a3c9_7c67a253903erow6_col0\" class=\"data row6 col0\" >{'Seth Thomas 8 1/2\" Cubicle Clock'} -> {'Cisco SPA301'}</td>\n",
       "                        <td id=\"T_de4ca8da_36b8_11eb_a3c9_7c67a253903erow6_col1\" class=\"data row6 col1\" >0.000399</td>\n",
       "                        <td id=\"T_de4ca8da_36b8_11eb_a3c9_7c67a253903erow6_col2\" class=\"data row6 col2\" >0.500000</td>\n",
       "                        <td id=\"T_de4ca8da_36b8_11eb_a3c9_7c67a253903erow6_col3\" class=\"data row6 col3\" >278.277778</td>\n",
       "                        <td id=\"T_de4ca8da_36b8_11eb_a3c9_7c67a253903erow6_col4\" class=\"data row6 col4\" >0.332567</td>\n",
       "            </tr>\n",
       "            <tr>\n",
       "                        <th id=\"T_de4ca8da_36b8_11eb_a3c9_7c67a253903elevel0_row7\" class=\"row_heading level0 row7\" >7</th>\n",
       "                        <td id=\"T_de4ca8da_36b8_11eb_a3c9_7c67a253903erow7_col0\" class=\"data row7 col0\" >{'Hon Rectangular Conference Tables'} -> {'Plantronics CS510 - Over-the-Head monaural Wireless Headset System'}</td>\n",
       "                        <td id=\"T_de4ca8da_36b8_11eb_a3c9_7c67a253903erow7_col1\" class=\"data row7 col1\" >0.000399</td>\n",
       "                        <td id=\"T_de4ca8da_36b8_11eb_a3c9_7c67a253903erow7_col2\" class=\"data row7 col2\" >0.500000</td>\n",
       "                        <td id=\"T_de4ca8da_36b8_11eb_a3c9_7c67a253903erow7_col3\" class=\"data row7 col3\" >250.450000</td>\n",
       "                        <td id=\"T_de4ca8da_36b8_11eb_a3c9_7c67a253903erow7_col4\" class=\"data row7 col4\" >0.315406</td>\n",
       "            </tr>\n",
       "            <tr>\n",
       "                        <th id=\"T_de4ca8da_36b8_11eb_a3c9_7c67a253903elevel0_row8\" class=\"row_heading level0 row8\" >8</th>\n",
       "                        <td id=\"T_de4ca8da_36b8_11eb_a3c9_7c67a253903erow8_col0\" class=\"data row8 col0\" >{'Hon Valutask Swivel Chairs'} -> {'GBC Plastic Binding Combs'}</td>\n",
       "                        <td id=\"T_de4ca8da_36b8_11eb_a3c9_7c67a253903erow8_col1\" class=\"data row8 col1\" >0.000399</td>\n",
       "                        <td id=\"T_de4ca8da_36b8_11eb_a3c9_7c67a253903erow8_col2\" class=\"data row8 col2\" >0.500000</td>\n",
       "                        <td id=\"T_de4ca8da_36b8_11eb_a3c9_7c67a253903erow8_col3\" class=\"data row8 col3\" >250.450000</td>\n",
       "                        <td id=\"T_de4ca8da_36b8_11eb_a3c9_7c67a253903erow8_col4\" class=\"data row8 col4\" >0.315406</td>\n",
       "            </tr>\n",
       "            <tr>\n",
       "                        <th id=\"T_de4ca8da_36b8_11eb_a3c9_7c67a253903elevel0_row9\" class=\"row_heading level0 row9\" >9</th>\n",
       "                        <td id=\"T_de4ca8da_36b8_11eb_a3c9_7c67a253903erow9_col0\" class=\"data row9 col0\" >{'Newell 315'} -> {'Acco Hanging Data Binders'}</td>\n",
       "                        <td id=\"T_de4ca8da_36b8_11eb_a3c9_7c67a253903erow9_col1\" class=\"data row9 col1\" >0.000399</td>\n",
       "                        <td id=\"T_de4ca8da_36b8_11eb_a3c9_7c67a253903erow9_col2\" class=\"data row9 col2\" >0.333333</td>\n",
       "                        <td id=\"T_de4ca8da_36b8_11eb_a3c9_7c67a253903erow9_col3\" class=\"data row9 col3\" >238.523810</td>\n",
       "                        <td id=\"T_de4ca8da_36b8_11eb_a3c9_7c67a253903erow9_col4\" class=\"data row9 col4\" >0.307712</td>\n",
       "            </tr>\n",
       "            <tr>\n",
       "                        <th id=\"T_de4ca8da_36b8_11eb_a3c9_7c67a253903elevel0_row10\" class=\"row_heading level0 row10\" >10</th>\n",
       "                        <td id=\"T_de4ca8da_36b8_11eb_a3c9_7c67a253903erow10_col0\" class=\"data row10 col0\" >{'Lumber Crayons'} -> {'Avery Recycled Flexi-View Covers for Binding Systems'}</td>\n",
       "                        <td id=\"T_de4ca8da_36b8_11eb_a3c9_7c67a253903erow10_col1\" class=\"data row10 col1\" >0.000399</td>\n",
       "                        <td id=\"T_de4ca8da_36b8_11eb_a3c9_7c67a253903erow10_col2\" class=\"data row10 col2\" >0.333333</td>\n",
       "                        <td id=\"T_de4ca8da_36b8_11eb_a3c9_7c67a253903erow10_col3\" class=\"data row10 col3\" >238.523810</td>\n",
       "                        <td id=\"T_de4ca8da_36b8_11eb_a3c9_7c67a253903erow10_col4\" class=\"data row10 col4\" >0.307712</td>\n",
       "            </tr>\n",
       "            <tr>\n",
       "                        <th id=\"T_de4ca8da_36b8_11eb_a3c9_7c67a253903elevel0_row11\" class=\"row_heading level0 row11\" >11</th>\n",
       "                        <td id=\"T_de4ca8da_36b8_11eb_a3c9_7c67a253903erow11_col0\" class=\"data row11 col0\" >{'Cisco SPA508G'} -> {'Global Commerce Series High-Back Swivel/Tilt Chairs'}</td>\n",
       "                        <td id=\"T_de4ca8da_36b8_11eb_a3c9_7c67a253903erow11_col1\" class=\"data row11 col1\" >0.000399</td>\n",
       "                        <td id=\"T_de4ca8da_36b8_11eb_a3c9_7c67a253903erow11_col2\" class=\"data row11 col2\" >0.400000</td>\n",
       "                        <td id=\"T_de4ca8da_36b8_11eb_a3c9_7c67a253903erow11_col3\" class=\"data row11 col3\" >222.622222</td>\n",
       "                        <td id=\"T_de4ca8da_36b8_11eb_a3c9_7c67a253903erow11_col4\" class=\"data row11 col4\" >0.297219</td>\n",
       "            </tr>\n",
       "            <tr>\n",
       "                        <th id=\"T_de4ca8da_36b8_11eb_a3c9_7c67a253903elevel0_row12\" class=\"row_heading level0 row12\" >12</th>\n",
       "                        <td id=\"T_de4ca8da_36b8_11eb_a3c9_7c67a253903erow12_col0\" class=\"data row12 col0\" >{'Xerox 1894'} -> {'Xerox 225'}</td>\n",
       "                        <td id=\"T_de4ca8da_36b8_11eb_a3c9_7c67a253903erow12_col1\" class=\"data row12 col1\" >0.000399</td>\n",
       "                        <td id=\"T_de4ca8da_36b8_11eb_a3c9_7c67a253903erow12_col2\" class=\"data row12 col2\" >0.400000</td>\n",
       "                        <td id=\"T_de4ca8da_36b8_11eb_a3c9_7c67a253903erow12_col3\" class=\"data row12 col3\" >222.622222</td>\n",
       "                        <td id=\"T_de4ca8da_36b8_11eb_a3c9_7c67a253903erow12_col4\" class=\"data row12 col4\" >0.297219</td>\n",
       "            </tr>\n",
       "            <tr>\n",
       "                        <th id=\"T_de4ca8da_36b8_11eb_a3c9_7c67a253903elevel0_row13\" class=\"row_heading level0 row13\" >13</th>\n",
       "                        <td id=\"T_de4ca8da_36b8_11eb_a3c9_7c67a253903erow13_col0\" class=\"data row13 col0\" >{'Logitech\\xa0VX Revolution Cordless Laser Mouse for Notebooks (Black)'} -> {'Tennsco Industrial Shelving'}</td>\n",
       "                        <td id=\"T_de4ca8da_36b8_11eb_a3c9_7c67a253903erow13_col1\" class=\"data row13 col1\" >0.000399</td>\n",
       "                        <td id=\"T_de4ca8da_36b8_11eb_a3c9_7c67a253903erow13_col2\" class=\"data row13 col2\" >0.400000</td>\n",
       "                        <td id=\"T_de4ca8da_36b8_11eb_a3c9_7c67a253903erow13_col3\" class=\"data row13 col3\" >222.622222</td>\n",
       "                        <td id=\"T_de4ca8da_36b8_11eb_a3c9_7c67a253903erow13_col4\" class=\"data row13 col4\" >0.297219</td>\n",
       "            </tr>\n",
       "            <tr>\n",
       "                        <th id=\"T_de4ca8da_36b8_11eb_a3c9_7c67a253903elevel0_row14\" class=\"row_heading level0 row14\" >14</th>\n",
       "                        <td id=\"T_de4ca8da_36b8_11eb_a3c9_7c67a253903erow14_col0\" class=\"data row14 col0\" >{'Xerox 1882'} -> {'Wirebound Message Books, Four 2 3/4\" x 5\" Forms per Page, 600 Sets per Book'}</td>\n",
       "                        <td id=\"T_de4ca8da_36b8_11eb_a3c9_7c67a253903erow14_col1\" class=\"data row14 col1\" >0.000399</td>\n",
       "                        <td id=\"T_de4ca8da_36b8_11eb_a3c9_7c67a253903erow14_col2\" class=\"data row14 col2\" >0.400000</td>\n",
       "                        <td id=\"T_de4ca8da_36b8_11eb_a3c9_7c67a253903erow14_col3\" class=\"data row14 col3\" >222.622222</td>\n",
       "                        <td id=\"T_de4ca8da_36b8_11eb_a3c9_7c67a253903erow14_col4\" class=\"data row14 col4\" >0.297219</td>\n",
       "            </tr>\n",
       "            <tr>\n",
       "                        <th id=\"T_de4ca8da_36b8_11eb_a3c9_7c67a253903elevel0_row15\" class=\"row_heading level0 row15\" >15</th>\n",
       "                        <td id=\"T_de4ca8da_36b8_11eb_a3c9_7c67a253903erow15_col0\" class=\"data row15 col0\" >{'DMI Eclipse Executive Suite Bookcases'} -> {'Avery 485'}</td>\n",
       "                        <td id=\"T_de4ca8da_36b8_11eb_a3c9_7c67a253903erow15_col1\" class=\"data row15 col1\" >0.000399</td>\n",
       "                        <td id=\"T_de4ca8da_36b8_11eb_a3c9_7c67a253903erow15_col2\" class=\"data row15 col2\" >0.333333</td>\n",
       "                        <td id=\"T_de4ca8da_36b8_11eb_a3c9_7c67a253903erow15_col3\" class=\"data row15 col3\" >208.708333</td>\n",
       "                        <td id=\"T_de4ca8da_36b8_11eb_a3c9_7c67a253903erow15_col4\" class=\"data row15 col4\" >0.287694</td>\n",
       "            </tr>\n",
       "            <tr>\n",
       "                        <th id=\"T_de4ca8da_36b8_11eb_a3c9_7c67a253903elevel0_row16\" class=\"row_heading level0 row16\" >16</th>\n",
       "                        <td id=\"T_de4ca8da_36b8_11eb_a3c9_7c67a253903erow16_col0\" class=\"data row16 col0\" >{'Wilson Jones Active Use Binders'} -> {'GBC Recycled VeloBinder Covers'}</td>\n",
       "                        <td id=\"T_de4ca8da_36b8_11eb_a3c9_7c67a253903erow16_col1\" class=\"data row16 col1\" >0.000399</td>\n",
       "                        <td id=\"T_de4ca8da_36b8_11eb_a3c9_7c67a253903erow16_col2\" class=\"data row16 col2\" >0.333333</td>\n",
       "                        <td id=\"T_de4ca8da_36b8_11eb_a3c9_7c67a253903erow16_col3\" class=\"data row16 col3\" >208.708333</td>\n",
       "                        <td id=\"T_de4ca8da_36b8_11eb_a3c9_7c67a253903erow16_col4\" class=\"data row16 col4\" >0.287694</td>\n",
       "            </tr>\n",
       "            <tr>\n",
       "                        <th id=\"T_de4ca8da_36b8_11eb_a3c9_7c67a253903elevel0_row17\" class=\"row_heading level0 row17\" >17</th>\n",
       "                        <td id=\"T_de4ca8da_36b8_11eb_a3c9_7c67a253903erow17_col0\" class=\"data row17 col0\" >{'Anker Astro 15000mAh USB Portable Charger'} -> {'GBC Prestige Therm-A-Bind Covers'}</td>\n",
       "                        <td id=\"T_de4ca8da_36b8_11eb_a3c9_7c67a253903erow17_col1\" class=\"data row17 col1\" >0.000399</td>\n",
       "                        <td id=\"T_de4ca8da_36b8_11eb_a3c9_7c67a253903erow17_col2\" class=\"data row17 col2\" >0.400000</td>\n",
       "                        <td id=\"T_de4ca8da_36b8_11eb_a3c9_7c67a253903erow17_col3\" class=\"data row17 col3\" >200.360000</td>\n",
       "                        <td id=\"T_de4ca8da_36b8_11eb_a3c9_7c67a253903erow17_col4\" class=\"data row17 col4\" >0.281853</td>\n",
       "            </tr>\n",
       "            <tr>\n",
       "                        <th id=\"T_de4ca8da_36b8_11eb_a3c9_7c67a253903elevel0_row18\" class=\"row_heading level0 row18\" >18</th>\n",
       "                        <td id=\"T_de4ca8da_36b8_11eb_a3c9_7c67a253903erow18_col0\" class=\"data row18 col0\" >{'Xerox 192'} -> {'X-Rack File for Hanging Folders'}</td>\n",
       "                        <td id=\"T_de4ca8da_36b8_11eb_a3c9_7c67a253903erow18_col1\" class=\"data row18 col1\" >0.000399</td>\n",
       "                        <td id=\"T_de4ca8da_36b8_11eb_a3c9_7c67a253903erow18_col2\" class=\"data row18 col2\" >0.333333</td>\n",
       "                        <td id=\"T_de4ca8da_36b8_11eb_a3c9_7c67a253903erow18_col3\" class=\"data row18 col3\" >185.518519</td>\n",
       "                        <td id=\"T_de4ca8da_36b8_11eb_a3c9_7c67a253903erow18_col4\" class=\"data row18 col4\" >0.271104</td>\n",
       "            </tr>\n",
       "            <tr>\n",
       "                        <th id=\"T_de4ca8da_36b8_11eb_a3c9_7c67a253903elevel0_row19\" class=\"row_heading level0 row19\" >19</th>\n",
       "                        <td id=\"T_de4ca8da_36b8_11eb_a3c9_7c67a253903erow19_col0\" class=\"data row19 col0\" >{'Logitech G35 7.1-Channel Surround Sound Headset'} -> {'Avery 486'}</td>\n",
       "                        <td id=\"T_de4ca8da_36b8_11eb_a3c9_7c67a253903erow19_col1\" class=\"data row19 col1\" >0.000399</td>\n",
       "                        <td id=\"T_de4ca8da_36b8_11eb_a3c9_7c67a253903erow19_col2\" class=\"data row19 col2\" >0.333333</td>\n",
       "                        <td id=\"T_de4ca8da_36b8_11eb_a3c9_7c67a253903erow19_col3\" class=\"data row19 col3\" >185.518519</td>\n",
       "                        <td id=\"T_de4ca8da_36b8_11eb_a3c9_7c67a253903erow19_col4\" class=\"data row19 col4\" >0.271104</td>\n",
       "            </tr>\n",
       "    </tbody></table>"
      ],
      "text/plain": [
       "<pandas.io.formats.style.Styler at 0x18036293188>"
      ]
     },
     "execution_count": 40,
     "metadata": {},
     "output_type": "execute_result"
    }
   ],
   "source": [
    "#FP-growth算法\n",
    "Power_Mart_fp_transactions = data_loader(Power_Mart, groupby_key, groupby_column, algorithm=\"fp\")\n",
    "Power_Mart_fp_df = fp_growth_main(Power_Mart_fp_transactions, min_support, min_confidence)\n",
    "Power_Mart_fp_df[0:20].style.set_table_styles(dfstyle)"
   ]
  },
  {
   "cell_type": "markdown",
   "metadata": {},
   "source": [
    "## 2.4 商品类上不同子集关联分析：第（4）问"
   ]
  },
  {
   "cell_type": "markdown",
   "metadata": {},
   "source": [
    "注意1：这部分关联分析的不算商品，而是商品类，即根据字段Sub-category来进行关联分析\n",
    "\n",
    "注意2：这部分关联规则较多，因此我们将具体的关联规则输出到xlsx文件中，感兴趣的同学可以运行一下代码在输出文件中看各子集的关联规则。我们把【各子集差异】在PPT上展示，具体规则在这里就不一一展示。"
   ]
  },
  {
   "cell_type": "markdown",
   "metadata": {},
   "source": [
    "### 2.4.0 数据输入和变量指定"
   ]
  },
  {
   "cell_type": "code",
   "execution_count": 43,
   "metadata": {},
   "outputs": [],
   "source": [
    "#数据集路径\n",
    "path = \".\\Power Mart.xlsx\"\n",
    "PM = pd.read_excel(path)"
   ]
  },
  {
   "cell_type": "code",
   "execution_count": 44,
   "metadata": {},
   "outputs": [],
   "source": [
    "#变量指定\n",
    "groupby_key = \"Order ID\" #汇总索引\n",
    "groupby_column = \"Sub-Category\" #需要汇总的列\n",
    "#注：data_loader需要传入algorithm参数, \"apr\":Apriori, \"fp\":FP-growth"
   ]
  },
  {
   "cell_type": "markdown",
   "metadata": {},
   "source": [
    "### 2.4.1 根据Region变量分成多个子集合"
   ]
  },
  {
   "cell_type": "code",
   "execution_count": 45,
   "metadata": {},
   "outputs": [],
   "source": [
    "#支持度和置信度的阈值参数\n",
    "min_support = 0.005\n",
    "min_confidence = 0.3"
   ]
  },
  {
   "cell_type": "code",
   "execution_count": 46,
   "metadata": {},
   "outputs": [
    {
     "data": {
      "text/plain": [
       "['West', 'East', 'Central', 'South']"
      ]
     },
     "execution_count": 46,
     "metadata": {},
     "output_type": "execute_result"
    }
   ],
   "source": [
    "regions = list(set(PM['Region']))\n",
    "region_cut = [PM[PM['Region'] == region] for region in regions]\n",
    "regions"
   ]
  },
  {
   "cell_type": "code",
   "execution_count": 47,
   "metadata": {
    "scrolled": true
   },
   "outputs": [
    {
     "name": "stdout",
     "output_type": "stream",
     "text": [
      "Apriori算法本次用时为 0:00:00.043881s\n",
      "Apriori算法本次用时为 0:00:00.043881s\n",
      "Apriori算法本次用时为 0:00:00.034907s\n",
      "Apriori算法本次用时为 0:00:00.024933s\n"
     ]
    }
   ],
   "source": [
    "#Apriori算法\n",
    "PM_R_apr_transactions = [data_loader(region, groupby_key, groupby_column, algorithm=\"apr\") for region in region_cut]\n",
    "PM_R_apr = [apriori_main(PM_R_apr_trans, min_support, min_confidence) for PM_R_apr_trans in PM_R_apr_transactions]"
   ]
  },
  {
   "cell_type": "code",
   "execution_count": 48,
   "metadata": {},
   "outputs": [
    {
     "name": "stdout",
     "output_type": "stream",
     "text": [
      "FP-growth算法本次用时为 0:00:00.023935s\n",
      "FP-growth算法本次用时为 0:00:00.017952s\n",
      "FP-growth算法本次用时为 0:00:00.016954s\n",
      "FP-growth算法本次用时为 0:00:00.019942s\n"
     ]
    }
   ],
   "source": [
    "#FP-growth算法\n",
    "PM_R_fp_transactions = [data_loader(region, groupby_key, groupby_column, algorithm=\"fp\") for region in region_cut]\n",
    "PM_R_fp = [fp_growth_main(PM_R_fp_trans, min_support, min_confidence) for PM_R_fp_trans in PM_R_fp_transactions]"
   ]
  },
  {
   "cell_type": "code",
   "execution_count": 50,
   "metadata": {},
   "outputs": [],
   "source": [
    "writer_R = pd.ExcelWriter('Region.xlsx')\n",
    "for i in range(4):\n",
    "    PM_R_fp[i].to_excel(writer_R, sheet_name=regions[i], encoding='UTF-8')\n",
    "writer_R.save()"
   ]
  },
  {
   "cell_type": "markdown",
   "metadata": {},
   "source": [
    "### 2.4.2 根据Segment变量分成多个子集合"
   ]
  },
  {
   "cell_type": "code",
   "execution_count": 52,
   "metadata": {},
   "outputs": [
    {
     "data": {
      "text/plain": [
       "['Home Office', 'Consumer', 'Corporate']"
      ]
     },
     "execution_count": 52,
     "metadata": {},
     "output_type": "execute_result"
    }
   ],
   "source": [
    "segments = list(set(PM['Segment']))\n",
    "segment_cut = [PM[PM['Segment'] == segment] for segment in segments]\n",
    "segments"
   ]
  },
  {
   "cell_type": "code",
   "execution_count": 53,
   "metadata": {},
   "outputs": [
    {
     "name": "stdout",
     "output_type": "stream",
     "text": [
      "Apriori算法本次用时为 0:00:00.029946s\n",
      "Apriori算法本次用时为 0:00:00.084774s\n",
      "Apriori算法本次用时为 0:00:00.055851s\n"
     ]
    }
   ],
   "source": [
    "#Apriori算法\n",
    "PM_S_apr_transactions = [data_loader(segment, groupby_key, groupby_column, algorithm=\"apr\") for segment in segment_cut]\n",
    "PM_S_apr = [apriori_main(PM_S_apr_trans, min_support, min_confidence) for PM_S_apr_trans in PM_S_apr_transactions]"
   ]
  },
  {
   "cell_type": "code",
   "execution_count": 54,
   "metadata": {},
   "outputs": [
    {
     "name": "stdout",
     "output_type": "stream",
     "text": [
      "FP-growth算法本次用时为 0:00:00.011968s\n",
      "FP-growth算法本次用时为 0:00:00.037899s\n",
      "FP-growth算法本次用时为 0:00:00.014960s\n"
     ]
    }
   ],
   "source": [
    "#FP-growth算法\n",
    "PM_S_fp_transactions = [data_loader(segment, groupby_key, groupby_column, algorithm=\"fp\") for segment in segment_cut]\n",
    "PM_S_fp = [fp_growth_main(PM_S_fp_trans, min_support, min_confidence) for PM_S_fp_trans in PM_S_fp_transactions]"
   ]
  },
  {
   "cell_type": "code",
   "execution_count": 55,
   "metadata": {},
   "outputs": [],
   "source": [
    "writer_S = pd.ExcelWriter('Segment.xlsx')\n",
    "for i in range(3):\n",
    "    PM_S_fp[i].to_excel(writer_S, sheet_name=segments[i], encoding='utf-8')\n",
    "writer_S.save()"
   ]
  },
  {
   "cell_type": "markdown",
   "metadata": {},
   "source": [
    "### 2.4.3 根据Ship Mode变量分成多个子集合"
   ]
  },
  {
   "cell_type": "code",
   "execution_count": 57,
   "metadata": {},
   "outputs": [
    {
     "data": {
      "text/plain": [
       "['Second Class', 'Standard Class', 'Same Day', 'First Class']"
      ]
     },
     "execution_count": 57,
     "metadata": {},
     "output_type": "execute_result"
    }
   ],
   "source": [
    "shipmodes = list(set(PM['Ship Mode']))\n",
    "shipmode_cut = [PM[PM['Ship Mode'] == shipmode] for shipmode in shipmodes]\n",
    "shipmodes"
   ]
  },
  {
   "cell_type": "code",
   "execution_count": 58,
   "metadata": {},
   "outputs": [],
   "source": [
    "#支持度和置信度的阈值参数\n",
    "min_support = 0.008\n",
    "min_confidence = 0.3"
   ]
  },
  {
   "cell_type": "code",
   "execution_count": 59,
   "metadata": {},
   "outputs": [
    {
     "name": "stdout",
     "output_type": "stream",
     "text": [
      "Apriori算法本次用时为 0:00:00.034905s\n",
      "Apriori算法本次用时为 0:00:00.069812s\n",
      "Apriori算法本次用时为 0:00:00.007980s\n",
      "Apriori算法本次用时为 0:00:00.019915s\n"
     ]
    }
   ],
   "source": [
    "#Apriori算法\n",
    "PM_M_apr_transactions = [data_loader(shipmode, groupby_key, groupby_column, algorithm=\"apr\") for shipmode in shipmode_cut]\n",
    "PM_M_apr = [apriori_main(PM_M_apr_trans, min_support, min_confidence) for PM_M_apr_trans in PM_M_apr_transactions]"
   ]
  },
  {
   "cell_type": "code",
   "execution_count": 60,
   "metadata": {},
   "outputs": [
    {
     "name": "stdout",
     "output_type": "stream",
     "text": [
      "FP-growth算法本次用时为 0:00:00.013964s\n",
      "FP-growth算法本次用时为 0:00:00.028921s\n",
      "FP-growth算法本次用时为 0:00:00.004986s\n",
      "FP-growth算法本次用时为 0:00:00.011967s\n"
     ]
    }
   ],
   "source": [
    "#FP-growth算法\n",
    "PM_M_fp_transactions = [data_loader(shipmode, groupby_key, groupby_column, algorithm=\"fp\") for shipmode in shipmode_cut]\n",
    "PM_M_fp = [fp_growth_main(PM_M_fp_trans, min_support, min_confidence) for PM_M_fp_trans in PM_M_fp_transactions]"
   ]
  },
  {
   "cell_type": "code",
   "execution_count": 61,
   "metadata": {},
   "outputs": [],
   "source": [
    "writer_M = pd.ExcelWriter('Ship Mode.xlsx')\n",
    "for i in range(4):\n",
    "    PM_M_fp[i].to_excel(writer_M, sheet_name=shipmodes[i], encoding='utf-8')\n",
    "writer_M.save()"
   ]
  },
  {
   "cell_type": "markdown",
   "metadata": {},
   "source": [
    "## 2.5 商品类上总体关联分析：第（5）问"
   ]
  },
  {
   "cell_type": "code",
   "execution_count": 73,
   "metadata": {},
   "outputs": [
    {
     "data": {
      "text/html": [
       "<div>\n",
       "<style scoped>\n",
       "    .dataframe tbody tr th:only-of-type {\n",
       "        vertical-align: middle;\n",
       "    }\n",
       "\n",
       "    .dataframe tbody tr th {\n",
       "        vertical-align: top;\n",
       "    }\n",
       "\n",
       "    .dataframe thead th {\n",
       "        text-align: right;\n",
       "    }\n",
       "</style>\n",
       "<table border=\"1\" class=\"dataframe\">\n",
       "  <thead>\n",
       "    <tr style=\"text-align: right;\">\n",
       "      <th></th>\n",
       "      <th>City</th>\n",
       "      <th>Country</th>\n",
       "      <th>Customer Name</th>\n",
       "      <th>Discount</th>\n",
       "      <th>Order Date</th>\n",
       "      <th>Order ID</th>\n",
       "      <th>Postal Code</th>\n",
       "      <th>Manufacturer</th>\n",
       "      <th>Product Name</th>\n",
       "      <th>Product Container</th>\n",
       "      <th>Category</th>\n",
       "      <th>Sub-Category</th>\n",
       "      <th>Profit</th>\n",
       "      <th>Quantity</th>\n",
       "      <th>Region</th>\n",
       "      <th>Sales</th>\n",
       "      <th>Segment</th>\n",
       "      <th>Ship Date</th>\n",
       "      <th>Ship Mode</th>\n",
       "      <th>State</th>\n",
       "    </tr>\n",
       "  </thead>\n",
       "  <tbody>\n",
       "    <tr>\n",
       "      <th>0</th>\n",
       "      <td>Henderson</td>\n",
       "      <td>United States</td>\n",
       "      <td>Claire Gute</td>\n",
       "      <td>0.00</td>\n",
       "      <td>08/11/2017</td>\n",
       "      <td>CA-2017-152156</td>\n",
       "      <td>42420.0</td>\n",
       "      <td>Bush</td>\n",
       "      <td>Bush Somerset Collection Bookcase</td>\n",
       "      <td>Small Pack</td>\n",
       "      <td>Furniture</td>\n",
       "      <td>Bookcases</td>\n",
       "      <td>42</td>\n",
       "      <td>2</td>\n",
       "      <td>South</td>\n",
       "      <td>262</td>\n",
       "      <td>Consumer</td>\n",
       "      <td>11/11/2017</td>\n",
       "      <td>Second Class</td>\n",
       "      <td>Kentucky</td>\n",
       "    </tr>\n",
       "    <tr>\n",
       "      <th>1</th>\n",
       "      <td>Henderson</td>\n",
       "      <td>United States</td>\n",
       "      <td>Claire Gute</td>\n",
       "      <td>0.00</td>\n",
       "      <td>08/11/2017</td>\n",
       "      <td>CA-2017-152156</td>\n",
       "      <td>42420.0</td>\n",
       "      <td>Hon</td>\n",
       "      <td>Hon Deluxe Fabric Upholstered Stacking Chairs,...</td>\n",
       "      <td>Small Box</td>\n",
       "      <td>Furniture</td>\n",
       "      <td>Chairs</td>\n",
       "      <td>220</td>\n",
       "      <td>3</td>\n",
       "      <td>South</td>\n",
       "      <td>732</td>\n",
       "      <td>Consumer</td>\n",
       "      <td>11/11/2017</td>\n",
       "      <td>Second Class</td>\n",
       "      <td>Kentucky</td>\n",
       "    </tr>\n",
       "    <tr>\n",
       "      <th>2</th>\n",
       "      <td>Los Angeles</td>\n",
       "      <td>United States</td>\n",
       "      <td>Darrin Van Huff</td>\n",
       "      <td>0.00</td>\n",
       "      <td>12/06/2017</td>\n",
       "      <td>CA-2017-138688</td>\n",
       "      <td>90036.0</td>\n",
       "      <td>Universal</td>\n",
       "      <td>Self-Adhesive Address Labels for Typewriters b...</td>\n",
       "      <td>Small Box</td>\n",
       "      <td>Office Supplies</td>\n",
       "      <td>Labels</td>\n",
       "      <td>7</td>\n",
       "      <td>2</td>\n",
       "      <td>West</td>\n",
       "      <td>15</td>\n",
       "      <td>Corporate</td>\n",
       "      <td>16/06/2017</td>\n",
       "      <td>Second Class</td>\n",
       "      <td>California</td>\n",
       "    </tr>\n",
       "    <tr>\n",
       "      <th>3</th>\n",
       "      <td>Fort Lauderdale</td>\n",
       "      <td>United States</td>\n",
       "      <td>Sean O'Donnell</td>\n",
       "      <td>0.45</td>\n",
       "      <td>11/10/2016</td>\n",
       "      <td>US-2016-108966</td>\n",
       "      <td>33311.0</td>\n",
       "      <td>Bretford</td>\n",
       "      <td>Bretford CR4500 Series Slim Rectangular Table</td>\n",
       "      <td>Small Pack</td>\n",
       "      <td>Furniture</td>\n",
       "      <td>Tables</td>\n",
       "      <td>-383</td>\n",
       "      <td>5</td>\n",
       "      <td>South</td>\n",
       "      <td>958</td>\n",
       "      <td>Consumer</td>\n",
       "      <td>18/10/2016</td>\n",
       "      <td>Standard Class</td>\n",
       "      <td>Florida</td>\n",
       "    </tr>\n",
       "    <tr>\n",
       "      <th>4</th>\n",
       "      <td>Fort Lauderdale</td>\n",
       "      <td>United States</td>\n",
       "      <td>Sean O'Donnell</td>\n",
       "      <td>0.20</td>\n",
       "      <td>11/10/2016</td>\n",
       "      <td>US-2016-108966</td>\n",
       "      <td>33311.0</td>\n",
       "      <td>Eldon</td>\n",
       "      <td>Eldon Fold 'N Roll Cart System</td>\n",
       "      <td>Small Box</td>\n",
       "      <td>Office Supplies</td>\n",
       "      <td>Storage</td>\n",
       "      <td>3</td>\n",
       "      <td>2</td>\n",
       "      <td>South</td>\n",
       "      <td>22</td>\n",
       "      <td>Consumer</td>\n",
       "      <td>18/10/2016</td>\n",
       "      <td>Standard Class</td>\n",
       "      <td>Florida</td>\n",
       "    </tr>\n",
       "  </tbody>\n",
       "</table>\n",
       "</div>"
      ],
      "text/plain": [
       "              City        Country    Customer Name  Discount  Order Date  \\\n",
       "0        Henderson  United States      Claire Gute      0.00  08/11/2017   \n",
       "1        Henderson  United States      Claire Gute      0.00  08/11/2017   \n",
       "2      Los Angeles  United States  Darrin Van Huff      0.00  12/06/2017   \n",
       "3  Fort Lauderdale  United States   Sean O'Donnell      0.45  11/10/2016   \n",
       "4  Fort Lauderdale  United States   Sean O'Donnell      0.20  11/10/2016   \n",
       "\n",
       "         Order ID  Postal Code Manufacturer  \\\n",
       "0  CA-2017-152156      42420.0         Bush   \n",
       "1  CA-2017-152156      42420.0          Hon   \n",
       "2  CA-2017-138688      90036.0    Universal   \n",
       "3  US-2016-108966      33311.0     Bretford   \n",
       "4  US-2016-108966      33311.0        Eldon   \n",
       "\n",
       "                                        Product Name Product Container  \\\n",
       "0                  Bush Somerset Collection Bookcase        Small Pack   \n",
       "1  Hon Deluxe Fabric Upholstered Stacking Chairs,...         Small Box   \n",
       "2  Self-Adhesive Address Labels for Typewriters b...         Small Box   \n",
       "3      Bretford CR4500 Series Slim Rectangular Table        Small Pack   \n",
       "4                     Eldon Fold 'N Roll Cart System         Small Box   \n",
       "\n",
       "          Category Sub-Category  Profit  Quantity Region  Sales    Segment  \\\n",
       "0        Furniture    Bookcases      42         2  South    262   Consumer   \n",
       "1        Furniture       Chairs     220         3  South    732   Consumer   \n",
       "2  Office Supplies       Labels       7         2   West     15  Corporate   \n",
       "3        Furniture       Tables    -383         5  South    958   Consumer   \n",
       "4  Office Supplies      Storage       3         2  South     22   Consumer   \n",
       "\n",
       "    Ship Date       Ship Mode       State  \n",
       "0  11/11/2017    Second Class    Kentucky  \n",
       "1  11/11/2017    Second Class    Kentucky  \n",
       "2  16/06/2017    Second Class  California  \n",
       "3  18/10/2016  Standard Class     Florida  \n",
       "4  18/10/2016  Standard Class     Florida  "
      ]
     },
     "execution_count": 73,
     "metadata": {},
     "output_type": "execute_result"
    }
   ],
   "source": [
    "filepath_1 = \".\\Power Mart.xlsx\"\n",
    "Power_Mart = pd.read_excel(filepath_1)\n",
    "Power_Mart.head()"
   ]
  },
  {
   "cell_type": "code",
   "execution_count": 74,
   "metadata": {},
   "outputs": [
    {
     "data": {
      "text/plain": [
       "5009"
      ]
     },
     "execution_count": 74,
     "metadata": {},
     "output_type": "execute_result"
    }
   ],
   "source": [
    "#以Order ID为单位，计算总事务数\n",
    "len(Power_Mart.loc[:,'Order ID'].unique()) "
   ]
  },
  {
   "cell_type": "code",
   "execution_count": 75,
   "metadata": {},
   "outputs": [
    {
     "data": {
      "text/plain": [
       "17"
      ]
     },
     "execution_count": 75,
     "metadata": {},
     "output_type": "execute_result"
    }
   ],
   "source": [
    "#以Product Name为单位，计算不同的商品数\n",
    "len(Power_Mart.loc[:,'Sub-Category'].unique())"
   ]
  },
  {
   "cell_type": "markdown",
   "metadata": {},
   "source": [
    "### 2.5.1 参数调整、关联规则输出、算法时间代价比较"
   ]
  },
  {
   "cell_type": "code",
   "execution_count": 76,
   "metadata": {},
   "outputs": [],
   "source": [
    "#参数\n",
    "min_support = 0.001 #支持度阈值\n",
    "min_confidence = 0.5 #置信度阈值\n",
    "groupby_key = \"Order ID\" #汇总索引\n",
    "groupby_column = \"Sub-Category\" #需要汇总的列\n",
    "#注：data_loader需要传入algorithm参数, \"apr\":Apriori, \"fp\":FP-growth"
   ]
  },
  {
   "cell_type": "code",
   "execution_count": 78,
   "metadata": {},
   "outputs": [
    {
     "name": "stdout",
     "output_type": "stream",
     "text": [
      "Apriori算法本次用时为 0:00:00.388961s\n"
     ]
    },
    {
     "data": {
      "text/html": [
       "<style  type=\"text/css\" >\n",
       "    #T_2e847140_36bc_11eb_886a_7c67a253903e th {\n",
       "          font-size: 12px;\n",
       "    }    #T_2e847140_36bc_11eb_886a_7c67a253903e td {\n",
       "          font-size: 10px;\n",
       "    }    #T_2e847140_36bc_11eb_886a_7c67a253903e th {\n",
       "          text-align: center;\n",
       "    }</style><table id=\"T_2e847140_36bc_11eb_886a_7c67a253903e\" ><thead>    <tr>        <th class=\"blank level0\" ></th>        <th class=\"col_heading level0 col0\" >Rule</th>        <th class=\"col_heading level0 col1\" >Support</th>        <th class=\"col_heading level0 col2\" >Confidence</th>        <th class=\"col_heading level0 col3\" >Lift</th>        <th class=\"col_heading level0 col4\" >Correlation</th>    </tr></thead><tbody>\n",
       "                <tr>\n",
       "                        <th id=\"T_2e847140_36bc_11eb_886a_7c67a253903elevel0_row0\" class=\"row_heading level0 row0\" >0</th>\n",
       "                        <td id=\"T_2e847140_36bc_11eb_886a_7c67a253903erow0_col0\" class=\"data row0 col0\" >{Appliances, Furnishings, Tables} -> {Phones}</td>\n",
       "                        <td id=\"T_2e847140_36bc_11eb_886a_7c67a253903erow0_col1\" class=\"data row0 col1\" >0.001397</td>\n",
       "                        <td id=\"T_2e847140_36bc_11eb_886a_7c67a253903erow0_col2\" class=\"data row0 col2\" >0.700000</td>\n",
       "                        <td id=\"T_2e847140_36bc_11eb_886a_7c67a253903erow0_col3\" class=\"data row0 col3\" >4.307494</td>\n",
       "                        <td id=\"T_2e847140_36bc_11eb_886a_7c67a253903erow0_col4\" class=\"data row0 col4\" >0.065163</td>\n",
       "            </tr>\n",
       "            <tr>\n",
       "                        <th id=\"T_2e847140_36bc_11eb_886a_7c67a253903elevel0_row1\" class=\"row_heading level0 row1\" >1</th>\n",
       "                        <td id=\"T_2e847140_36bc_11eb_886a_7c67a253903erow1_col0\" class=\"data row1 col0\" >{Appliances, Phones, Tables} -> {Furnishings}</td>\n",
       "                        <td id=\"T_2e847140_36bc_11eb_886a_7c67a253903erow1_col1\" class=\"data row1 col1\" >0.001397</td>\n",
       "                        <td id=\"T_2e847140_36bc_11eb_886a_7c67a253903erow1_col2\" class=\"data row1 col2\" >0.700000</td>\n",
       "                        <td id=\"T_2e847140_36bc_11eb_886a_7c67a253903erow1_col3\" class=\"data row1 col3\" >3.998062</td>\n",
       "                        <td id=\"T_2e847140_36bc_11eb_886a_7c67a253903erow1_col4\" class=\"data row1 col4\" >0.061776</td>\n",
       "            </tr>\n",
       "            <tr>\n",
       "                        <th id=\"T_2e847140_36bc_11eb_886a_7c67a253903elevel0_row2\" class=\"row_heading level0 row2\" >2</th>\n",
       "                        <td id=\"T_2e847140_36bc_11eb_886a_7c67a253903erow2_col0\" class=\"data row2 col0\" >{Art, Binders, Tables} -> {Phones}</td>\n",
       "                        <td id=\"T_2e847140_36bc_11eb_886a_7c67a253903erow2_col1\" class=\"data row2 col1\" >0.001397</td>\n",
       "                        <td id=\"T_2e847140_36bc_11eb_886a_7c67a253903erow2_col2\" class=\"data row2 col2\" >0.636364</td>\n",
       "                        <td id=\"T_2e847140_36bc_11eb_886a_7c67a253903erow2_col3\" class=\"data row2 col3\" >3.915904</td>\n",
       "                        <td id=\"T_2e847140_36bc_11eb_886a_7c67a253903erow2_col4\" class=\"data row2 col4\" >0.060258</td>\n",
       "            </tr>\n",
       "            <tr>\n",
       "                        <th id=\"T_2e847140_36bc_11eb_886a_7c67a253903elevel0_row3\" class=\"row_heading level0 row3\" >3</th>\n",
       "                        <td id=\"T_2e847140_36bc_11eb_886a_7c67a253903erow3_col0\" class=\"data row3 col0\" >{Binders, Envelopes, Phones} -> {Storage}</td>\n",
       "                        <td id=\"T_2e847140_36bc_11eb_886a_7c67a253903erow3_col1\" class=\"data row3 col1\" >0.001397</td>\n",
       "                        <td id=\"T_2e847140_36bc_11eb_886a_7c67a253903erow3_col2\" class=\"data row3 col2\" >0.583333</td>\n",
       "                        <td id=\"T_2e847140_36bc_11eb_886a_7c67a253903erow3_col3\" class=\"data row3 col3\" >3.760511</td>\n",
       "                        <td id=\"T_2e847140_36bc_11eb_886a_7c67a253903erow3_col4\" class=\"data row3 col4\" >0.057965</td>\n",
       "            </tr>\n",
       "            <tr>\n",
       "                        <th id=\"T_2e847140_36bc_11eb_886a_7c67a253903elevel0_row4\" class=\"row_heading level0 row4\" >4</th>\n",
       "                        <td id=\"T_2e847140_36bc_11eb_886a_7c67a253903erow4_col0\" class=\"data row4 col0\" >{Appliances, Chairs, Storage} -> {Art}</td>\n",
       "                        <td id=\"T_2e847140_36bc_11eb_886a_7c67a253903erow4_col1\" class=\"data row4 col1\" >0.001198</td>\n",
       "                        <td id=\"T_2e847140_36bc_11eb_886a_7c67a253903erow4_col2\" class=\"data row4 col2\" >0.545455</td>\n",
       "                        <td id=\"T_2e847140_36bc_11eb_886a_7c67a253903erow4_col3\" class=\"data row4 col3\" >3.737595</td>\n",
       "                        <td id=\"T_2e847140_36bc_11eb_886a_7c67a253903erow4_col4\" class=\"data row4 col4\" >0.053089</td>\n",
       "            </tr>\n",
       "            <tr>\n",
       "                        <th id=\"T_2e847140_36bc_11eb_886a_7c67a253903elevel0_row5\" class=\"row_heading level0 row5\" >5</th>\n",
       "                        <td id=\"T_2e847140_36bc_11eb_886a_7c67a253903erow5_col0\" class=\"data row5 col0\" >{Binders, Envelopes, Storage} -> {Phones}</td>\n",
       "                        <td id=\"T_2e847140_36bc_11eb_886a_7c67a253903erow5_col1\" class=\"data row5 col1\" >0.001397</td>\n",
       "                        <td id=\"T_2e847140_36bc_11eb_886a_7c67a253903erow5_col2\" class=\"data row5 col2\" >0.583333</td>\n",
       "                        <td id=\"T_2e847140_36bc_11eb_886a_7c67a253903erow5_col3\" class=\"data row5 col3\" >3.589578</td>\n",
       "                        <td id=\"T_2e847140_36bc_11eb_886a_7c67a253903erow5_col4\" class=\"data row5 col4\" >0.055900</td>\n",
       "            </tr>\n",
       "            <tr>\n",
       "                        <th id=\"T_2e847140_36bc_11eb_886a_7c67a253903elevel0_row6\" class=\"row_heading level0 row6\" >6</th>\n",
       "                        <td id=\"T_2e847140_36bc_11eb_886a_7c67a253903erow6_col0\" class=\"data row6 col0\" >{Appliances, Binders, Tables} -> {Furnishings}</td>\n",
       "                        <td id=\"T_2e847140_36bc_11eb_886a_7c67a253903erow6_col1\" class=\"data row6 col1\" >0.001198</td>\n",
       "                        <td id=\"T_2e847140_36bc_11eb_886a_7c67a253903erow6_col2\" class=\"data row6 col2\" >0.600000</td>\n",
       "                        <td id=\"T_2e847140_36bc_11eb_886a_7c67a253903erow6_col3\" class=\"data row6 col3\" >3.426910</td>\n",
       "                        <td id=\"T_2e847140_36bc_11eb_886a_7c67a253903erow6_col4\" class=\"data row6 col4\" >0.050007</td>\n",
       "            </tr>\n",
       "            <tr>\n",
       "                        <th id=\"T_2e847140_36bc_11eb_886a_7c67a253903elevel0_row7\" class=\"row_heading level0 row7\" >7</th>\n",
       "                        <td id=\"T_2e847140_36bc_11eb_886a_7c67a253903erow7_col0\" class=\"data row7 col0\" >{Chairs, Copiers} -> {Paper}</td>\n",
       "                        <td id=\"T_2e847140_36bc_11eb_886a_7c67a253903erow7_col1\" class=\"data row7 col1\" >0.001597</td>\n",
       "                        <td id=\"T_2e847140_36bc_11eb_886a_7c67a253903erow7_col2\" class=\"data row7 col2\" >0.800000</td>\n",
       "                        <td id=\"T_2e847140_36bc_11eb_886a_7c67a253903erow7_col3\" class=\"data row7 col3\" >3.364568</td>\n",
       "                        <td id=\"T_2e847140_36bc_11eb_886a_7c67a253903erow7_col4\" class=\"data row7 col4\" >0.059067</td>\n",
       "            </tr>\n",
       "            <tr>\n",
       "                        <th id=\"T_2e847140_36bc_11eb_886a_7c67a253903elevel0_row8\" class=\"row_heading level0 row8\" >8</th>\n",
       "                        <td id=\"T_2e847140_36bc_11eb_886a_7c67a253903erow8_col0\" class=\"data row8 col0\" >{Bookcases, Paper, Storage} -> {Phones}</td>\n",
       "                        <td id=\"T_2e847140_36bc_11eb_886a_7c67a253903erow8_col1\" class=\"data row8 col1\" >0.001198</td>\n",
       "                        <td id=\"T_2e847140_36bc_11eb_886a_7c67a253903erow8_col2\" class=\"data row8 col2\" >0.545455</td>\n",
       "                        <td id=\"T_2e847140_36bc_11eb_886a_7c67a253903erow8_col3\" class=\"data row8 col3\" >3.356489</td>\n",
       "                        <td id=\"T_2e847140_36bc_11eb_886a_7c67a253903erow8_col4\" class=\"data row8 col4\" >0.048698</td>\n",
       "            </tr>\n",
       "            <tr>\n",
       "                        <th id=\"T_2e847140_36bc_11eb_886a_7c67a253903elevel0_row9\" class=\"row_heading level0 row9\" >9</th>\n",
       "                        <td id=\"T_2e847140_36bc_11eb_886a_7c67a253903erow9_col0\" class=\"data row9 col0\" >{Accessories, Furnishings, Tables} -> {Paper}</td>\n",
       "                        <td id=\"T_2e847140_36bc_11eb_886a_7c67a253903erow9_col1\" class=\"data row9 col1\" >0.001397</td>\n",
       "                        <td id=\"T_2e847140_36bc_11eb_886a_7c67a253903erow9_col2\" class=\"data row9 col2\" >0.777778</td>\n",
       "                        <td id=\"T_2e847140_36bc_11eb_886a_7c67a253903erow9_col3\" class=\"data row9 col3\" >3.271107</td>\n",
       "                        <td id=\"T_2e847140_36bc_11eb_886a_7c67a253903erow9_col4\" class=\"data row9 col4\" >0.053816</td>\n",
       "            </tr>\n",
       "            <tr>\n",
       "                        <th id=\"T_2e847140_36bc_11eb_886a_7c67a253903elevel0_row10\" class=\"row_heading level0 row10\" >10</th>\n",
       "                        <td id=\"T_2e847140_36bc_11eb_886a_7c67a253903erow10_col0\" class=\"data row10 col0\" >{Bookcases, Paper, Phones} -> {Storage}</td>\n",
       "                        <td id=\"T_2e847140_36bc_11eb_886a_7c67a253903erow10_col1\" class=\"data row10 col1\" >0.001198</td>\n",
       "                        <td id=\"T_2e847140_36bc_11eb_886a_7c67a253903erow10_col2\" class=\"data row10 col2\" >0.500000</td>\n",
       "                        <td id=\"T_2e847140_36bc_11eb_886a_7c67a253903erow10_col3\" class=\"data row10 col3\" >3.223295</td>\n",
       "                        <td id=\"T_2e847140_36bc_11eb_886a_7c67a253903erow10_col4\" class=\"data row10 col4\" >0.046684</td>\n",
       "            </tr>\n",
       "            <tr>\n",
       "                        <th id=\"T_2e847140_36bc_11eb_886a_7c67a253903elevel0_row11\" class=\"row_heading level0 row11\" >11</th>\n",
       "                        <td id=\"T_2e847140_36bc_11eb_886a_7c67a253903erow11_col0\" class=\"data row11 col0\" >{Appliances, Phones, Storage} -> {Furnishings}</td>\n",
       "                        <td id=\"T_2e847140_36bc_11eb_886a_7c67a253903erow11_col1\" class=\"data row11 col1\" >0.001198</td>\n",
       "                        <td id=\"T_2e847140_36bc_11eb_886a_7c67a253903erow11_col2\" class=\"data row11 col2\" >0.545455</td>\n",
       "                        <td id=\"T_2e847140_36bc_11eb_886a_7c67a253903erow11_col3\" class=\"data row11 col3\" >3.115373</td>\n",
       "                        <td id=\"T_2e847140_36bc_11eb_886a_7c67a253903erow11_col4\" class=\"data row11 col4\" >0.045720</td>\n",
       "            </tr>\n",
       "            <tr>\n",
       "                        <th id=\"T_2e847140_36bc_11eb_886a_7c67a253903elevel0_row12\" class=\"row_heading level0 row12\" >12</th>\n",
       "                        <td id=\"T_2e847140_36bc_11eb_886a_7c67a253903erow12_col0\" class=\"data row12 col0\" >{Art, Binders, Fasteners} -> {Phones}</td>\n",
       "                        <td id=\"T_2e847140_36bc_11eb_886a_7c67a253903erow12_col1\" class=\"data row12 col1\" >0.001198</td>\n",
       "                        <td id=\"T_2e847140_36bc_11eb_886a_7c67a253903erow12_col2\" class=\"data row12 col2\" >0.500000</td>\n",
       "                        <td id=\"T_2e847140_36bc_11eb_886a_7c67a253903erow12_col3\" class=\"data row12 col3\" >3.076781</td>\n",
       "                        <td id=\"T_2e847140_36bc_11eb_886a_7c67a253903erow12_col4\" class=\"data row12 col4\" >0.044830</td>\n",
       "            </tr>\n",
       "            <tr>\n",
       "                        <th id=\"T_2e847140_36bc_11eb_886a_7c67a253903elevel0_row13\" class=\"row_heading level0 row13\" >13</th>\n",
       "                        <td id=\"T_2e847140_36bc_11eb_886a_7c67a253903erow13_col0\" class=\"data row13 col0\" >{Binders, Paper, Tables} -> {Phones}</td>\n",
       "                        <td id=\"T_2e847140_36bc_11eb_886a_7c67a253903erow13_col1\" class=\"data row13 col1\" >0.001597</td>\n",
       "                        <td id=\"T_2e847140_36bc_11eb_886a_7c67a253903erow13_col2\" class=\"data row13 col2\" >0.500000</td>\n",
       "                        <td id=\"T_2e847140_36bc_11eb_886a_7c67a253903erow13_col3\" class=\"data row13 col3\" >3.076781</td>\n",
       "                        <td id=\"T_2e847140_36bc_11eb_886a_7c67a253903erow13_col4\" class=\"data row13 col4\" >0.051786</td>\n",
       "            </tr>\n",
       "            <tr>\n",
       "                        <th id=\"T_2e847140_36bc_11eb_886a_7c67a253903elevel0_row14\" class=\"row_heading level0 row14\" >14</th>\n",
       "                        <td id=\"T_2e847140_36bc_11eb_886a_7c67a253903erow14_col0\" class=\"data row14 col0\" >{Fasteners, Paper, Storage} -> {Phones}</td>\n",
       "                        <td id=\"T_2e847140_36bc_11eb_886a_7c67a253903erow14_col1\" class=\"data row14 col1\" >0.001198</td>\n",
       "                        <td id=\"T_2e847140_36bc_11eb_886a_7c67a253903erow14_col2\" class=\"data row14 col2\" >0.500000</td>\n",
       "                        <td id=\"T_2e847140_36bc_11eb_886a_7c67a253903erow14_col3\" class=\"data row14 col3\" >3.076781</td>\n",
       "                        <td id=\"T_2e847140_36bc_11eb_886a_7c67a253903erow14_col4\" class=\"data row14 col4\" >0.044830</td>\n",
       "            </tr>\n",
       "            <tr>\n",
       "                        <th id=\"T_2e847140_36bc_11eb_886a_7c67a253903elevel0_row15\" class=\"row_heading level0 row15\" >15</th>\n",
       "                        <td id=\"T_2e847140_36bc_11eb_886a_7c67a253903erow15_col0\" class=\"data row15 col0\" >{Accessories, Chairs, Furnishings} -> {Phones}</td>\n",
       "                        <td id=\"T_2e847140_36bc_11eb_886a_7c67a253903erow15_col1\" class=\"data row15 col1\" >0.001397</td>\n",
       "                        <td id=\"T_2e847140_36bc_11eb_886a_7c67a253903erow15_col2\" class=\"data row15 col2\" >0.500000</td>\n",
       "                        <td id=\"T_2e847140_36bc_11eb_886a_7c67a253903erow15_col3\" class=\"data row15 col3\" >3.076781</td>\n",
       "                        <td id=\"T_2e847140_36bc_11eb_886a_7c67a253903erow15_col4\" class=\"data row15 col4\" >0.048432</td>\n",
       "            </tr>\n",
       "            <tr>\n",
       "                        <th id=\"T_2e847140_36bc_11eb_886a_7c67a253903elevel0_row16\" class=\"row_heading level0 row16\" >16</th>\n",
       "                        <td id=\"T_2e847140_36bc_11eb_886a_7c67a253903erow16_col0\" class=\"data row16 col0\" >{Accessories, Chairs, Phones} -> {Furnishings}</td>\n",
       "                        <td id=\"T_2e847140_36bc_11eb_886a_7c67a253903erow16_col1\" class=\"data row16 col1\" >0.001397</td>\n",
       "                        <td id=\"T_2e847140_36bc_11eb_886a_7c67a253903erow16_col2\" class=\"data row16 col2\" >0.500000</td>\n",
       "                        <td id=\"T_2e847140_36bc_11eb_886a_7c67a253903erow16_col3\" class=\"data row16 col3\" >2.855758</td>\n",
       "                        <td id=\"T_2e847140_36bc_11eb_886a_7c67a253903erow16_col4\" class=\"data row16 col4\" >0.045262</td>\n",
       "            </tr>\n",
       "            <tr>\n",
       "                        <th id=\"T_2e847140_36bc_11eb_886a_7c67a253903elevel0_row17\" class=\"row_heading level0 row17\" >17</th>\n",
       "                        <td id=\"T_2e847140_36bc_11eb_886a_7c67a253903erow17_col0\" class=\"data row17 col0\" >{Accessories, Paper, Tables} -> {Furnishings}</td>\n",
       "                        <td id=\"T_2e847140_36bc_11eb_886a_7c67a253903erow17_col1\" class=\"data row17 col1\" >0.001397</td>\n",
       "                        <td id=\"T_2e847140_36bc_11eb_886a_7c67a253903erow17_col2\" class=\"data row17 col2\" >0.500000</td>\n",
       "                        <td id=\"T_2e847140_36bc_11eb_886a_7c67a253903erow17_col3\" class=\"data row17 col3\" >2.855758</td>\n",
       "                        <td id=\"T_2e847140_36bc_11eb_886a_7c67a253903erow17_col4\" class=\"data row17 col4\" >0.045262</td>\n",
       "            </tr>\n",
       "            <tr>\n",
       "                        <th id=\"T_2e847140_36bc_11eb_886a_7c67a253903elevel0_row18\" class=\"row_heading level0 row18\" >18</th>\n",
       "                        <td id=\"T_2e847140_36bc_11eb_886a_7c67a253903erow18_col0\" class=\"data row18 col0\" >{Fasteners, Paper, Storage} -> {Furnishings}</td>\n",
       "                        <td id=\"T_2e847140_36bc_11eb_886a_7c67a253903erow18_col1\" class=\"data row18 col1\" >0.001198</td>\n",
       "                        <td id=\"T_2e847140_36bc_11eb_886a_7c67a253903erow18_col2\" class=\"data row18 col2\" >0.500000</td>\n",
       "                        <td id=\"T_2e847140_36bc_11eb_886a_7c67a253903erow18_col3\" class=\"data row18 col3\" >2.855758</td>\n",
       "                        <td id=\"T_2e847140_36bc_11eb_886a_7c67a253903erow18_col4\" class=\"data row18 col4\" >0.041896</td>\n",
       "            </tr>\n",
       "            <tr>\n",
       "                        <th id=\"T_2e847140_36bc_11eb_886a_7c67a253903elevel0_row19\" class=\"row_heading level0 row19\" >19</th>\n",
       "                        <td id=\"T_2e847140_36bc_11eb_886a_7c67a253903erow19_col0\" class=\"data row19 col0\" >{Art, Fasteners, Phones} -> {Binders}</td>\n",
       "                        <td id=\"T_2e847140_36bc_11eb_886a_7c67a253903erow19_col1\" class=\"data row19 col1\" >0.001198</td>\n",
       "                        <td id=\"T_2e847140_36bc_11eb_886a_7c67a253903erow19_col2\" class=\"data row19 col2\" >0.750000</td>\n",
       "                        <td id=\"T_2e847140_36bc_11eb_886a_7c67a253903erow19_col3\" class=\"data row19 col3\" >2.854673</td>\n",
       "                        <td id=\"T_2e847140_36bc_11eb_886a_7c67a253903erow19_col4\" class=\"data row19 col4\" >0.044281</td>\n",
       "            </tr>\n",
       "    </tbody></table>"
      ],
      "text/plain": [
       "<pandas.io.formats.style.Styler at 0x18037a02c88>"
      ]
     },
     "execution_count": 78,
     "metadata": {},
     "output_type": "execute_result"
    }
   ],
   "source": [
    "#Apriori算法\n",
    "Power_Mart_apr_transactions = data_loader(Power_Mart, groupby_key, groupby_column, algorithm=\"apr\")\n",
    "Power_Mart_apr_df = apriori_main(Power_Mart_apr_transactions, min_support, min_confidence)\n",
    "Power_Mart_apr_df[0:20].style.set_table_styles(dfstyle)"
   ]
  },
  {
   "cell_type": "code",
   "execution_count": 84,
   "metadata": {},
   "outputs": [
    {
     "name": "stdout",
     "output_type": "stream",
     "text": [
      "FP-growth算法本次用时为 0:00:00.071843s\n"
     ]
    },
    {
     "data": {
      "text/html": [
       "<style  type=\"text/css\" >\n",
       "    #T_b3fc7ef6_36bc_11eb_a4a8_7c67a253903e th {\n",
       "          font-size: 12px;\n",
       "    }    #T_b3fc7ef6_36bc_11eb_a4a8_7c67a253903e td {\n",
       "          font-size: 10px;\n",
       "    }    #T_b3fc7ef6_36bc_11eb_a4a8_7c67a253903e th {\n",
       "          text-align: center;\n",
       "    }</style><table id=\"T_b3fc7ef6_36bc_11eb_a4a8_7c67a253903e\" ><thead>    <tr>        <th class=\"blank level0\" ></th>        <th class=\"col_heading level0 col0\" >Rule</th>        <th class=\"col_heading level0 col1\" >Support</th>        <th class=\"col_heading level0 col2\" >Confidence</th>        <th class=\"col_heading level0 col3\" >Lift</th>        <th class=\"col_heading level0 col4\" >Correlation</th>    </tr></thead><tbody>\n",
       "                <tr>\n",
       "                        <th id=\"T_b3fc7ef6_36bc_11eb_a4a8_7c67a253903elevel0_row0\" class=\"row_heading level0 row0\" >0</th>\n",
       "                        <td id=\"T_b3fc7ef6_36bc_11eb_a4a8_7c67a253903erow0_col0\" class=\"data row0 col0\" >{'Furnishings', 'Appliances', 'Tables'} -> {'Phones'}</td>\n",
       "                        <td id=\"T_b3fc7ef6_36bc_11eb_a4a8_7c67a253903erow0_col1\" class=\"data row0 col1\" >0.001397</td>\n",
       "                        <td id=\"T_b3fc7ef6_36bc_11eb_a4a8_7c67a253903erow0_col2\" class=\"data row0 col2\" >0.700000</td>\n",
       "                        <td id=\"T_b3fc7ef6_36bc_11eb_a4a8_7c67a253903erow0_col3\" class=\"data row0 col3\" >4.307494</td>\n",
       "                        <td id=\"T_b3fc7ef6_36bc_11eb_a4a8_7c67a253903erow0_col4\" class=\"data row0 col4\" >0.065163</td>\n",
       "            </tr>\n",
       "            <tr>\n",
       "                        <th id=\"T_b3fc7ef6_36bc_11eb_a4a8_7c67a253903elevel0_row1\" class=\"row_heading level0 row1\" >1</th>\n",
       "                        <td id=\"T_b3fc7ef6_36bc_11eb_a4a8_7c67a253903erow1_col0\" class=\"data row1 col0\" >{'Phones', 'Appliances', 'Tables'} -> {'Furnishings'}</td>\n",
       "                        <td id=\"T_b3fc7ef6_36bc_11eb_a4a8_7c67a253903erow1_col1\" class=\"data row1 col1\" >0.001397</td>\n",
       "                        <td id=\"T_b3fc7ef6_36bc_11eb_a4a8_7c67a253903erow1_col2\" class=\"data row1 col2\" >0.700000</td>\n",
       "                        <td id=\"T_b3fc7ef6_36bc_11eb_a4a8_7c67a253903erow1_col3\" class=\"data row1 col3\" >3.998062</td>\n",
       "                        <td id=\"T_b3fc7ef6_36bc_11eb_a4a8_7c67a253903erow1_col4\" class=\"data row1 col4\" >0.061776</td>\n",
       "            </tr>\n",
       "            <tr>\n",
       "                        <th id=\"T_b3fc7ef6_36bc_11eb_a4a8_7c67a253903elevel0_row2\" class=\"row_heading level0 row2\" >2</th>\n",
       "                        <td id=\"T_b3fc7ef6_36bc_11eb_a4a8_7c67a253903erow2_col0\" class=\"data row2 col0\" >{'Binders', 'Art', 'Tables'} -> {'Phones'}</td>\n",
       "                        <td id=\"T_b3fc7ef6_36bc_11eb_a4a8_7c67a253903erow2_col1\" class=\"data row2 col1\" >0.001397</td>\n",
       "                        <td id=\"T_b3fc7ef6_36bc_11eb_a4a8_7c67a253903erow2_col2\" class=\"data row2 col2\" >0.636364</td>\n",
       "                        <td id=\"T_b3fc7ef6_36bc_11eb_a4a8_7c67a253903erow2_col3\" class=\"data row2 col3\" >3.915904</td>\n",
       "                        <td id=\"T_b3fc7ef6_36bc_11eb_a4a8_7c67a253903erow2_col4\" class=\"data row2 col4\" >0.060258</td>\n",
       "            </tr>\n",
       "            <tr>\n",
       "                        <th id=\"T_b3fc7ef6_36bc_11eb_a4a8_7c67a253903elevel0_row3\" class=\"row_heading level0 row3\" >3</th>\n",
       "                        <td id=\"T_b3fc7ef6_36bc_11eb_a4a8_7c67a253903erow3_col0\" class=\"data row3 col0\" >{'Binders', 'Envelopes', 'Phones'} -> {'Storage'}</td>\n",
       "                        <td id=\"T_b3fc7ef6_36bc_11eb_a4a8_7c67a253903erow3_col1\" class=\"data row3 col1\" >0.001397</td>\n",
       "                        <td id=\"T_b3fc7ef6_36bc_11eb_a4a8_7c67a253903erow3_col2\" class=\"data row3 col2\" >0.583333</td>\n",
       "                        <td id=\"T_b3fc7ef6_36bc_11eb_a4a8_7c67a253903erow3_col3\" class=\"data row3 col3\" >3.760511</td>\n",
       "                        <td id=\"T_b3fc7ef6_36bc_11eb_a4a8_7c67a253903erow3_col4\" class=\"data row3 col4\" >0.057965</td>\n",
       "            </tr>\n",
       "            <tr>\n",
       "                        <th id=\"T_b3fc7ef6_36bc_11eb_a4a8_7c67a253903elevel0_row4\" class=\"row_heading level0 row4\" >4</th>\n",
       "                        <td id=\"T_b3fc7ef6_36bc_11eb_a4a8_7c67a253903erow4_col0\" class=\"data row4 col0\" >{'Storage', 'Binders', 'Envelopes'} -> {'Phones'}</td>\n",
       "                        <td id=\"T_b3fc7ef6_36bc_11eb_a4a8_7c67a253903erow4_col1\" class=\"data row4 col1\" >0.001397</td>\n",
       "                        <td id=\"T_b3fc7ef6_36bc_11eb_a4a8_7c67a253903erow4_col2\" class=\"data row4 col2\" >0.583333</td>\n",
       "                        <td id=\"T_b3fc7ef6_36bc_11eb_a4a8_7c67a253903erow4_col3\" class=\"data row4 col3\" >3.589578</td>\n",
       "                        <td id=\"T_b3fc7ef6_36bc_11eb_a4a8_7c67a253903erow4_col4\" class=\"data row4 col4\" >0.055900</td>\n",
       "            </tr>\n",
       "            <tr>\n",
       "                        <th id=\"T_b3fc7ef6_36bc_11eb_a4a8_7c67a253903elevel0_row5\" class=\"row_heading level0 row5\" >5</th>\n",
       "                        <td id=\"T_b3fc7ef6_36bc_11eb_a4a8_7c67a253903erow5_col0\" class=\"data row5 col0\" >{'Binders', 'Appliances', 'Tables'} -> {'Furnishings'}</td>\n",
       "                        <td id=\"T_b3fc7ef6_36bc_11eb_a4a8_7c67a253903erow5_col1\" class=\"data row5 col1\" >0.001198</td>\n",
       "                        <td id=\"T_b3fc7ef6_36bc_11eb_a4a8_7c67a253903erow5_col2\" class=\"data row5 col2\" >0.600000</td>\n",
       "                        <td id=\"T_b3fc7ef6_36bc_11eb_a4a8_7c67a253903erow5_col3\" class=\"data row5 col3\" >3.426910</td>\n",
       "                        <td id=\"T_b3fc7ef6_36bc_11eb_a4a8_7c67a253903erow5_col4\" class=\"data row5 col4\" >0.050007</td>\n",
       "            </tr>\n",
       "            <tr>\n",
       "                        <th id=\"T_b3fc7ef6_36bc_11eb_a4a8_7c67a253903elevel0_row6\" class=\"row_heading level0 row6\" >6</th>\n",
       "                        <td id=\"T_b3fc7ef6_36bc_11eb_a4a8_7c67a253903erow6_col0\" class=\"data row6 col0\" >{'Chairs', 'Copiers'} -> {'Paper'}</td>\n",
       "                        <td id=\"T_b3fc7ef6_36bc_11eb_a4a8_7c67a253903erow6_col1\" class=\"data row6 col1\" >0.001597</td>\n",
       "                        <td id=\"T_b3fc7ef6_36bc_11eb_a4a8_7c67a253903erow6_col2\" class=\"data row6 col2\" >0.800000</td>\n",
       "                        <td id=\"T_b3fc7ef6_36bc_11eb_a4a8_7c67a253903erow6_col3\" class=\"data row6 col3\" >3.364568</td>\n",
       "                        <td id=\"T_b3fc7ef6_36bc_11eb_a4a8_7c67a253903erow6_col4\" class=\"data row6 col4\" >0.059067</td>\n",
       "            </tr>\n",
       "            <tr>\n",
       "                        <th id=\"T_b3fc7ef6_36bc_11eb_a4a8_7c67a253903elevel0_row7\" class=\"row_heading level0 row7\" >7</th>\n",
       "                        <td id=\"T_b3fc7ef6_36bc_11eb_a4a8_7c67a253903erow7_col0\" class=\"data row7 col0\" >{'Storage', 'Bookcases', 'Paper'} -> {'Phones'}</td>\n",
       "                        <td id=\"T_b3fc7ef6_36bc_11eb_a4a8_7c67a253903erow7_col1\" class=\"data row7 col1\" >0.001198</td>\n",
       "                        <td id=\"T_b3fc7ef6_36bc_11eb_a4a8_7c67a253903erow7_col2\" class=\"data row7 col2\" >0.545455</td>\n",
       "                        <td id=\"T_b3fc7ef6_36bc_11eb_a4a8_7c67a253903erow7_col3\" class=\"data row7 col3\" >3.356489</td>\n",
       "                        <td id=\"T_b3fc7ef6_36bc_11eb_a4a8_7c67a253903erow7_col4\" class=\"data row7 col4\" >0.048698</td>\n",
       "            </tr>\n",
       "            <tr>\n",
       "                        <th id=\"T_b3fc7ef6_36bc_11eb_a4a8_7c67a253903elevel0_row8\" class=\"row_heading level0 row8\" >8</th>\n",
       "                        <td id=\"T_b3fc7ef6_36bc_11eb_a4a8_7c67a253903erow8_col0\" class=\"data row8 col0\" >{'Furnishings', 'Accessories', 'Tables'} -> {'Paper'}</td>\n",
       "                        <td id=\"T_b3fc7ef6_36bc_11eb_a4a8_7c67a253903erow8_col1\" class=\"data row8 col1\" >0.001397</td>\n",
       "                        <td id=\"T_b3fc7ef6_36bc_11eb_a4a8_7c67a253903erow8_col2\" class=\"data row8 col2\" >0.777778</td>\n",
       "                        <td id=\"T_b3fc7ef6_36bc_11eb_a4a8_7c67a253903erow8_col3\" class=\"data row8 col3\" >3.271107</td>\n",
       "                        <td id=\"T_b3fc7ef6_36bc_11eb_a4a8_7c67a253903erow8_col4\" class=\"data row8 col4\" >0.053816</td>\n",
       "            </tr>\n",
       "            <tr>\n",
       "                        <th id=\"T_b3fc7ef6_36bc_11eb_a4a8_7c67a253903elevel0_row9\" class=\"row_heading level0 row9\" >9</th>\n",
       "                        <td id=\"T_b3fc7ef6_36bc_11eb_a4a8_7c67a253903erow9_col0\" class=\"data row9 col0\" >{'Bookcases', 'Phones', 'Paper'} -> {'Storage'}</td>\n",
       "                        <td id=\"T_b3fc7ef6_36bc_11eb_a4a8_7c67a253903erow9_col1\" class=\"data row9 col1\" >0.001198</td>\n",
       "                        <td id=\"T_b3fc7ef6_36bc_11eb_a4a8_7c67a253903erow9_col2\" class=\"data row9 col2\" >0.500000</td>\n",
       "                        <td id=\"T_b3fc7ef6_36bc_11eb_a4a8_7c67a253903erow9_col3\" class=\"data row9 col3\" >3.223295</td>\n",
       "                        <td id=\"T_b3fc7ef6_36bc_11eb_a4a8_7c67a253903erow9_col4\" class=\"data row9 col4\" >0.046684</td>\n",
       "            </tr>\n",
       "            <tr>\n",
       "                        <th id=\"T_b3fc7ef6_36bc_11eb_a4a8_7c67a253903elevel0_row10\" class=\"row_heading level0 row10\" >10</th>\n",
       "                        <td id=\"T_b3fc7ef6_36bc_11eb_a4a8_7c67a253903erow10_col0\" class=\"data row10 col0\" >{'Binders', 'Fasteners', 'Art'} -> {'Phones'}</td>\n",
       "                        <td id=\"T_b3fc7ef6_36bc_11eb_a4a8_7c67a253903erow10_col1\" class=\"data row10 col1\" >0.001198</td>\n",
       "                        <td id=\"T_b3fc7ef6_36bc_11eb_a4a8_7c67a253903erow10_col2\" class=\"data row10 col2\" >0.500000</td>\n",
       "                        <td id=\"T_b3fc7ef6_36bc_11eb_a4a8_7c67a253903erow10_col3\" class=\"data row10 col3\" >3.076781</td>\n",
       "                        <td id=\"T_b3fc7ef6_36bc_11eb_a4a8_7c67a253903erow10_col4\" class=\"data row10 col4\" >0.044830</td>\n",
       "            </tr>\n",
       "            <tr>\n",
       "                        <th id=\"T_b3fc7ef6_36bc_11eb_a4a8_7c67a253903elevel0_row11\" class=\"row_heading level0 row11\" >11</th>\n",
       "                        <td id=\"T_b3fc7ef6_36bc_11eb_a4a8_7c67a253903erow11_col0\" class=\"data row11 col0\" >{'Storage', 'Fasteners', 'Paper'} -> {'Phones'}</td>\n",
       "                        <td id=\"T_b3fc7ef6_36bc_11eb_a4a8_7c67a253903erow11_col1\" class=\"data row11 col1\" >0.001198</td>\n",
       "                        <td id=\"T_b3fc7ef6_36bc_11eb_a4a8_7c67a253903erow11_col2\" class=\"data row11 col2\" >0.500000</td>\n",
       "                        <td id=\"T_b3fc7ef6_36bc_11eb_a4a8_7c67a253903erow11_col3\" class=\"data row11 col3\" >3.076781</td>\n",
       "                        <td id=\"T_b3fc7ef6_36bc_11eb_a4a8_7c67a253903erow11_col4\" class=\"data row11 col4\" >0.044830</td>\n",
       "            </tr>\n",
       "            <tr>\n",
       "                        <th id=\"T_b3fc7ef6_36bc_11eb_a4a8_7c67a253903elevel0_row12\" class=\"row_heading level0 row12\" >12</th>\n",
       "                        <td id=\"T_b3fc7ef6_36bc_11eb_a4a8_7c67a253903erow12_col0\" class=\"data row12 col0\" >{'Binders', 'Paper', 'Tables'} -> {'Phones'}</td>\n",
       "                        <td id=\"T_b3fc7ef6_36bc_11eb_a4a8_7c67a253903erow12_col1\" class=\"data row12 col1\" >0.001597</td>\n",
       "                        <td id=\"T_b3fc7ef6_36bc_11eb_a4a8_7c67a253903erow12_col2\" class=\"data row12 col2\" >0.500000</td>\n",
       "                        <td id=\"T_b3fc7ef6_36bc_11eb_a4a8_7c67a253903erow12_col3\" class=\"data row12 col3\" >3.076781</td>\n",
       "                        <td id=\"T_b3fc7ef6_36bc_11eb_a4a8_7c67a253903erow12_col4\" class=\"data row12 col4\" >0.051786</td>\n",
       "            </tr>\n",
       "            <tr>\n",
       "                        <th id=\"T_b3fc7ef6_36bc_11eb_a4a8_7c67a253903elevel0_row13\" class=\"row_heading level0 row13\" >13</th>\n",
       "                        <td id=\"T_b3fc7ef6_36bc_11eb_a4a8_7c67a253903erow13_col0\" class=\"data row13 col0\" >{'Storage', 'Fasteners', 'Paper'} -> {'Furnishings'}</td>\n",
       "                        <td id=\"T_b3fc7ef6_36bc_11eb_a4a8_7c67a253903erow13_col1\" class=\"data row13 col1\" >0.001198</td>\n",
       "                        <td id=\"T_b3fc7ef6_36bc_11eb_a4a8_7c67a253903erow13_col2\" class=\"data row13 col2\" >0.500000</td>\n",
       "                        <td id=\"T_b3fc7ef6_36bc_11eb_a4a8_7c67a253903erow13_col3\" class=\"data row13 col3\" >2.855758</td>\n",
       "                        <td id=\"T_b3fc7ef6_36bc_11eb_a4a8_7c67a253903erow13_col4\" class=\"data row13 col4\" >0.041896</td>\n",
       "            </tr>\n",
       "            <tr>\n",
       "                        <th id=\"T_b3fc7ef6_36bc_11eb_a4a8_7c67a253903elevel0_row14\" class=\"row_heading level0 row14\" >14</th>\n",
       "                        <td id=\"T_b3fc7ef6_36bc_11eb_a4a8_7c67a253903erow14_col0\" class=\"data row14 col0\" >{'Tables', 'Accessories', 'Paper'} -> {'Furnishings'}</td>\n",
       "                        <td id=\"T_b3fc7ef6_36bc_11eb_a4a8_7c67a253903erow14_col1\" class=\"data row14 col1\" >0.001397</td>\n",
       "                        <td id=\"T_b3fc7ef6_36bc_11eb_a4a8_7c67a253903erow14_col2\" class=\"data row14 col2\" >0.500000</td>\n",
       "                        <td id=\"T_b3fc7ef6_36bc_11eb_a4a8_7c67a253903erow14_col3\" class=\"data row14 col3\" >2.855758</td>\n",
       "                        <td id=\"T_b3fc7ef6_36bc_11eb_a4a8_7c67a253903erow14_col4\" class=\"data row14 col4\" >0.045262</td>\n",
       "            </tr>\n",
       "            <tr>\n",
       "                        <th id=\"T_b3fc7ef6_36bc_11eb_a4a8_7c67a253903elevel0_row15\" class=\"row_heading level0 row15\" >15</th>\n",
       "                        <td id=\"T_b3fc7ef6_36bc_11eb_a4a8_7c67a253903erow15_col0\" class=\"data row15 col0\" >{'Phones', 'Fasteners', 'Art'} -> {'Binders'}</td>\n",
       "                        <td id=\"T_b3fc7ef6_36bc_11eb_a4a8_7c67a253903erow15_col1\" class=\"data row15 col1\" >0.001198</td>\n",
       "                        <td id=\"T_b3fc7ef6_36bc_11eb_a4a8_7c67a253903erow15_col2\" class=\"data row15 col2\" >0.750000</td>\n",
       "                        <td id=\"T_b3fc7ef6_36bc_11eb_a4a8_7c67a253903erow15_col3\" class=\"data row15 col3\" >2.854673</td>\n",
       "                        <td id=\"T_b3fc7ef6_36bc_11eb_a4a8_7c67a253903erow15_col4\" class=\"data row15 col4\" >0.044281</td>\n",
       "            </tr>\n",
       "            <tr>\n",
       "                        <th id=\"T_b3fc7ef6_36bc_11eb_a4a8_7c67a253903elevel0_row16\" class=\"row_heading level0 row16\" >16</th>\n",
       "                        <td id=\"T_b3fc7ef6_36bc_11eb_a4a8_7c67a253903erow16_col0\" class=\"data row16 col0\" >{'Chairs', 'Appliances', 'Accessories'} -> {'Binders'}</td>\n",
       "                        <td id=\"T_b3fc7ef6_36bc_11eb_a4a8_7c67a253903erow16_col1\" class=\"data row16 col1\" >0.001198</td>\n",
       "                        <td id=\"T_b3fc7ef6_36bc_11eb_a4a8_7c67a253903erow16_col2\" class=\"data row16 col2\" >0.750000</td>\n",
       "                        <td id=\"T_b3fc7ef6_36bc_11eb_a4a8_7c67a253903erow16_col3\" class=\"data row16 col3\" >2.854673</td>\n",
       "                        <td id=\"T_b3fc7ef6_36bc_11eb_a4a8_7c67a253903erow16_col4\" class=\"data row16 col4\" >0.044281</td>\n",
       "            </tr>\n",
       "            <tr>\n",
       "                        <th id=\"T_b3fc7ef6_36bc_11eb_a4a8_7c67a253903elevel0_row17\" class=\"row_heading level0 row17\" >17</th>\n",
       "                        <td id=\"T_b3fc7ef6_36bc_11eb_a4a8_7c67a253903erow17_col0\" class=\"data row17 col0\" >{'Furnishings', 'Appliances', 'Accessories'} -> {'Binders'}</td>\n",
       "                        <td id=\"T_b3fc7ef6_36bc_11eb_a4a8_7c67a253903erow17_col1\" class=\"data row17 col1\" >0.001797</td>\n",
       "                        <td id=\"T_b3fc7ef6_36bc_11eb_a4a8_7c67a253903erow17_col2\" class=\"data row17 col2\" >0.750000</td>\n",
       "                        <td id=\"T_b3fc7ef6_36bc_11eb_a4a8_7c67a253903erow17_col3\" class=\"data row17 col3\" >2.854673</td>\n",
       "                        <td id=\"T_b3fc7ef6_36bc_11eb_a4a8_7c67a253903erow17_col4\" class=\"data row17 col4\" >0.054255</td>\n",
       "            </tr>\n",
       "            <tr>\n",
       "                        <th id=\"T_b3fc7ef6_36bc_11eb_a4a8_7c67a253903elevel0_row18\" class=\"row_heading level0 row18\" >18</th>\n",
       "                        <td id=\"T_b3fc7ef6_36bc_11eb_a4a8_7c67a253903erow18_col0\" class=\"data row18 col0\" >{'Binders', 'Envelopes', 'Phones'} -> {'Paper'}</td>\n",
       "                        <td id=\"T_b3fc7ef6_36bc_11eb_a4a8_7c67a253903erow18_col1\" class=\"data row18 col1\" >0.001597</td>\n",
       "                        <td id=\"T_b3fc7ef6_36bc_11eb_a4a8_7c67a253903erow18_col2\" class=\"data row18 col2\" >0.666667</td>\n",
       "                        <td id=\"T_b3fc7ef6_36bc_11eb_a4a8_7c67a253903erow18_col3\" class=\"data row18 col3\" >2.803806</td>\n",
       "                        <td id=\"T_b3fc7ef6_36bc_11eb_a4a8_7c67a253903erow18_col4\" class=\"data row18 col4\" >0.049370</td>\n",
       "            </tr>\n",
       "            <tr>\n",
       "                        <th id=\"T_b3fc7ef6_36bc_11eb_a4a8_7c67a253903elevel0_row19\" class=\"row_heading level0 row19\" >19</th>\n",
       "                        <td id=\"T_b3fc7ef6_36bc_11eb_a4a8_7c67a253903erow19_col0\" class=\"data row19 col0\" >{'Chairs', 'Furnishings', 'Appliances'} -> {'Binders'}</td>\n",
       "                        <td id=\"T_b3fc7ef6_36bc_11eb_a4a8_7c67a253903erow19_col1\" class=\"data row19 col1\" >0.001597</td>\n",
       "                        <td id=\"T_b3fc7ef6_36bc_11eb_a4a8_7c67a253903erow19_col2\" class=\"data row19 col2\" >0.727273</td>\n",
       "                        <td id=\"T_b3fc7ef6_36bc_11eb_a4a8_7c67a253903erow19_col3\" class=\"data row19 col3\" >2.768168</td>\n",
       "                        <td id=\"T_b3fc7ef6_36bc_11eb_a4a8_7c67a253903erow19_col4\" class=\"data row19 col4\" >0.049518</td>\n",
       "            </tr>\n",
       "    </tbody></table>"
      ],
      "text/plain": [
       "<pandas.io.formats.style.Styler at 0x18037878348>"
      ]
     },
     "execution_count": 84,
     "metadata": {},
     "output_type": "execute_result"
    }
   ],
   "source": [
    "#FP-growth算法\n",
    "Power_Mart_fp_transactions = data_loader(Power_Mart, groupby_key, groupby_column, algorithm=\"fp\")\n",
    "Power_Mart_fp_df = fp_growth_main(Power_Mart_fp_transactions, min_support, min_confidence)\n",
    "Power_Mart_fp_df[0:20].style.set_table_styles(dfstyle)"
   ]
  },
  {
   "cell_type": "markdown",
   "metadata": {},
   "source": [
    "### 2.5.2 规则图示"
   ]
  },
  {
   "cell_type": "markdown",
   "metadata": {},
   "source": [
    "见R语言代码"
   ]
  },
  {
   "cell_type": "markdown",
   "metadata": {},
   "source": [
    "# 三、数据集2"
   ]
  },
  {
   "cell_type": "markdown",
   "metadata": {},
   "source": [
    "## 3.0 数据概览与合并"
   ]
  },
  {
   "cell_type": "code",
   "execution_count": 85,
   "metadata": {},
   "outputs": [
    {
     "data": {
      "text/html": [
       "<div>\n",
       "<style scoped>\n",
       "    .dataframe tbody tr th:only-of-type {\n",
       "        vertical-align: middle;\n",
       "    }\n",
       "\n",
       "    .dataframe tbody tr th {\n",
       "        vertical-align: top;\n",
       "    }\n",
       "\n",
       "    .dataframe thead th {\n",
       "        text-align: right;\n",
       "    }\n",
       "</style>\n",
       "<table border=\"1\" class=\"dataframe\">\n",
       "  <thead>\n",
       "    <tr style=\"text-align: right;\">\n",
       "      <th></th>\n",
       "      <th>order_id</th>\n",
       "      <th>product_id</th>\n",
       "      <th>add_to_cart_order</th>\n",
       "      <th>reordered</th>\n",
       "    </tr>\n",
       "  </thead>\n",
       "  <tbody>\n",
       "    <tr>\n",
       "      <th>0</th>\n",
       "      <td>1</td>\n",
       "      <td>49302</td>\n",
       "      <td>1</td>\n",
       "      <td>1</td>\n",
       "    </tr>\n",
       "    <tr>\n",
       "      <th>1</th>\n",
       "      <td>1</td>\n",
       "      <td>11109</td>\n",
       "      <td>2</td>\n",
       "      <td>1</td>\n",
       "    </tr>\n",
       "    <tr>\n",
       "      <th>2</th>\n",
       "      <td>1</td>\n",
       "      <td>10246</td>\n",
       "      <td>3</td>\n",
       "      <td>0</td>\n",
       "    </tr>\n",
       "    <tr>\n",
       "      <th>3</th>\n",
       "      <td>1</td>\n",
       "      <td>49683</td>\n",
       "      <td>4</td>\n",
       "      <td>0</td>\n",
       "    </tr>\n",
       "    <tr>\n",
       "      <th>4</th>\n",
       "      <td>1</td>\n",
       "      <td>43633</td>\n",
       "      <td>5</td>\n",
       "      <td>1</td>\n",
       "    </tr>\n",
       "  </tbody>\n",
       "</table>\n",
       "</div>"
      ],
      "text/plain": [
       "   order_id  product_id  add_to_cart_order  reordered\n",
       "0         1       49302                  1          1\n",
       "1         1       11109                  2          1\n",
       "2         1       10246                  3          0\n",
       "3         1       49683                  4          0\n",
       "4         1       43633                  5          1"
      ]
     },
     "execution_count": 85,
     "metadata": {},
     "output_type": "execute_result"
    }
   ],
   "source": [
    "#数据集路径\n",
    "filepath_2 = \".\\\\order_products_train.csv\"\n",
    "Order_products_train = pd.read_csv(filepath_2)\n",
    "Order_products_train.head()"
   ]
  },
  {
   "cell_type": "code",
   "execution_count": 86,
   "metadata": {},
   "outputs": [
    {
     "data": {
      "text/plain": [
       "1048575"
      ]
     },
     "execution_count": 86,
     "metadata": {},
     "output_type": "execute_result"
    }
   ],
   "source": [
    "#原数据中观测个数\n",
    "len(Order_products_train.iloc[:,0])"
   ]
  },
  {
   "cell_type": "code",
   "execution_count": 87,
   "metadata": {},
   "outputs": [
    {
     "data": {
      "text/plain": [
       "99574"
      ]
     },
     "execution_count": 87,
     "metadata": {},
     "output_type": "execute_result"
    }
   ],
   "source": [
    "#计算事务数\n",
    "len(Order_products_train.loc[:,'order_id'].unique()) "
   ]
  },
  {
   "cell_type": "code",
   "execution_count": 88,
   "metadata": {},
   "outputs": [
    {
     "data": {
      "text/plain": [
       "36864"
      ]
     },
     "execution_count": 88,
     "metadata": {},
     "output_type": "execute_result"
    }
   ],
   "source": [
    "#计算项集大小\n",
    "len(Order_products_train.loc[:,'product_id'].unique()) "
   ]
  },
  {
   "cell_type": "code",
   "execution_count": 89,
   "metadata": {
    "scrolled": false
   },
   "outputs": [
    {
     "data": {
      "text/html": [
       "<div>\n",
       "<style scoped>\n",
       "    .dataframe tbody tr th:only-of-type {\n",
       "        vertical-align: middle;\n",
       "    }\n",
       "\n",
       "    .dataframe tbody tr th {\n",
       "        vertical-align: top;\n",
       "    }\n",
       "\n",
       "    .dataframe thead th {\n",
       "        text-align: right;\n",
       "    }\n",
       "</style>\n",
       "<table border=\"1\" class=\"dataframe\">\n",
       "  <thead>\n",
       "    <tr style=\"text-align: right;\">\n",
       "      <th></th>\n",
       "      <th>product_id</th>\n",
       "      <th>product_name</th>\n",
       "      <th>aisle_id</th>\n",
       "      <th>department_id</th>\n",
       "    </tr>\n",
       "  </thead>\n",
       "  <tbody>\n",
       "    <tr>\n",
       "      <th>0</th>\n",
       "      <td>1</td>\n",
       "      <td>Chocolate Sandwich Cookies</td>\n",
       "      <td>61</td>\n",
       "      <td>19.0</td>\n",
       "    </tr>\n",
       "    <tr>\n",
       "      <th>1</th>\n",
       "      <td>2</td>\n",
       "      <td>All-Seasons Salt</td>\n",
       "      <td>104</td>\n",
       "      <td>13.0</td>\n",
       "    </tr>\n",
       "    <tr>\n",
       "      <th>2</th>\n",
       "      <td>3</td>\n",
       "      <td>Robust Golden Unsweetened Oolong Tea</td>\n",
       "      <td>94</td>\n",
       "      <td>7.0</td>\n",
       "    </tr>\n",
       "    <tr>\n",
       "      <th>3</th>\n",
       "      <td>4</td>\n",
       "      <td>Smart Ones Classic Favorites Mini Rigatoni Wit...</td>\n",
       "      <td>38</td>\n",
       "      <td>1.0</td>\n",
       "    </tr>\n",
       "    <tr>\n",
       "      <th>4</th>\n",
       "      <td>5</td>\n",
       "      <td>Green Chile Anytime Sauce</td>\n",
       "      <td>5</td>\n",
       "      <td>13.0</td>\n",
       "    </tr>\n",
       "  </tbody>\n",
       "</table>\n",
       "</div>"
      ],
      "text/plain": [
       "   product_id                                       product_name  aisle_id  \\\n",
       "0           1                         Chocolate Sandwich Cookies        61   \n",
       "1           2                                   All-Seasons Salt       104   \n",
       "2           3               Robust Golden Unsweetened Oolong Tea        94   \n",
       "3           4  Smart Ones Classic Favorites Mini Rigatoni Wit...        38   \n",
       "4           5                          Green Chile Anytime Sauce         5   \n",
       "\n",
       "   department_id  \n",
       "0           19.0  \n",
       "1           13.0  \n",
       "2            7.0  \n",
       "3            1.0  \n",
       "4           13.0  "
      ]
     },
     "execution_count": 89,
     "metadata": {},
     "output_type": "execute_result"
    }
   ],
   "source": [
    "filepath_3=\".\\\\products.xlsx\"\n",
    "products = pd.read_excel(filepath_3)\n",
    "products.head()"
   ]
  },
  {
   "cell_type": "markdown",
   "metadata": {},
   "source": [
    "将products合并进Order_products_train表中"
   ]
  },
  {
   "cell_type": "code",
   "execution_count": 90,
   "metadata": {},
   "outputs": [],
   "source": [
    "Order_products_train=pd.merge(Order_products_train, products, how = 'inner', on = 'product_id')"
   ]
  },
  {
   "cell_type": "code",
   "execution_count": 91,
   "metadata": {},
   "outputs": [
    {
     "data": {
      "text/html": [
       "<div>\n",
       "<style scoped>\n",
       "    .dataframe tbody tr th:only-of-type {\n",
       "        vertical-align: middle;\n",
       "    }\n",
       "\n",
       "    .dataframe tbody tr th {\n",
       "        vertical-align: top;\n",
       "    }\n",
       "\n",
       "    .dataframe thead th {\n",
       "        text-align: right;\n",
       "    }\n",
       "</style>\n",
       "<table border=\"1\" class=\"dataframe\">\n",
       "  <thead>\n",
       "    <tr style=\"text-align: right;\">\n",
       "      <th></th>\n",
       "      <th>order_id</th>\n",
       "      <th>product_id</th>\n",
       "      <th>add_to_cart_order</th>\n",
       "      <th>reordered</th>\n",
       "      <th>product_name</th>\n",
       "      <th>aisle_id</th>\n",
       "      <th>department_id</th>\n",
       "    </tr>\n",
       "  </thead>\n",
       "  <tbody>\n",
       "    <tr>\n",
       "      <th>0</th>\n",
       "      <td>1</td>\n",
       "      <td>49302</td>\n",
       "      <td>1</td>\n",
       "      <td>1</td>\n",
       "      <td>Bulgarian Yogurt</td>\n",
       "      <td>120</td>\n",
       "      <td>16.0</td>\n",
       "    </tr>\n",
       "    <tr>\n",
       "      <th>1</th>\n",
       "      <td>816049</td>\n",
       "      <td>49302</td>\n",
       "      <td>7</td>\n",
       "      <td>1</td>\n",
       "      <td>Bulgarian Yogurt</td>\n",
       "      <td>120</td>\n",
       "      <td>16.0</td>\n",
       "    </tr>\n",
       "    <tr>\n",
       "      <th>2</th>\n",
       "      <td>1242203</td>\n",
       "      <td>49302</td>\n",
       "      <td>1</td>\n",
       "      <td>1</td>\n",
       "      <td>Bulgarian Yogurt</td>\n",
       "      <td>120</td>\n",
       "      <td>16.0</td>\n",
       "    </tr>\n",
       "    <tr>\n",
       "      <th>3</th>\n",
       "      <td>1383349</td>\n",
       "      <td>49302</td>\n",
       "      <td>11</td>\n",
       "      <td>1</td>\n",
       "      <td>Bulgarian Yogurt</td>\n",
       "      <td>120</td>\n",
       "      <td>16.0</td>\n",
       "    </tr>\n",
       "    <tr>\n",
       "      <th>4</th>\n",
       "      <td>1787378</td>\n",
       "      <td>49302</td>\n",
       "      <td>8</td>\n",
       "      <td>0</td>\n",
       "      <td>Bulgarian Yogurt</td>\n",
       "      <td>120</td>\n",
       "      <td>16.0</td>\n",
       "    </tr>\n",
       "  </tbody>\n",
       "</table>\n",
       "</div>"
      ],
      "text/plain": [
       "   order_id  product_id  add_to_cart_order  reordered      product_name  \\\n",
       "0         1       49302                  1          1  Bulgarian Yogurt   \n",
       "1    816049       49302                  7          1  Bulgarian Yogurt   \n",
       "2   1242203       49302                  1          1  Bulgarian Yogurt   \n",
       "3   1383349       49302                 11          1  Bulgarian Yogurt   \n",
       "4   1787378       49302                  8          0  Bulgarian Yogurt   \n",
       "\n",
       "   aisle_id  department_id  \n",
       "0       120           16.0  \n",
       "1       120           16.0  \n",
       "2       120           16.0  \n",
       "3       120           16.0  \n",
       "4       120           16.0  "
      ]
     },
     "execution_count": 91,
     "metadata": {},
     "output_type": "execute_result"
    }
   ],
   "source": [
    "Order_products_train.head()"
   ]
  },
  {
   "cell_type": "markdown",
   "metadata": {},
   "source": [
    "## 3.1 参数调整、关联规则输出、算法时间代价比较：第（1）问"
   ]
  },
  {
   "cell_type": "markdown",
   "metadata": {},
   "source": [
    "### 3.1.1 第一组参数：minsup=0.4 minconf=0.4"
   ]
  },
  {
   "cell_type": "code",
   "execution_count": 92,
   "metadata": {},
   "outputs": [],
   "source": [
    "min_support = 0.4 #支持度阈值\n",
    "min_confidence = 0.4 #置信度阈值\n",
    "groupby_key = \"order_id\"#汇总索引\n",
    "groupby_column = \"product_name\" #需要汇总的列\n",
    "#注：data_loader需要传入algorithm参数, \"apr\":Apriori, \"fp\":FP-growth"
   ]
  },
  {
   "cell_type": "code",
   "execution_count": 93,
   "metadata": {},
   "outputs": [
    {
     "name": "stdout",
     "output_type": "stream",
     "text": [
      "Apriori算法本次用时为 0:00:00.336069s\n"
     ]
    }
   ],
   "source": [
    "#Apriori算法\n",
    "Order_products_train_apr_transactions = data_loader(Order_products_train, groupby_key, groupby_column, algorithm=\"apr\")\n",
    "Order_products_train_apr_df = apriori_main(Order_products_train_apr_transactions, min_support, min_confidence)"
   ]
  },
  {
   "cell_type": "code",
   "execution_count": 94,
   "metadata": {},
   "outputs": [
    {
     "data": {
      "text/plain": [
       "0"
      ]
     },
     "execution_count": 94,
     "metadata": {},
     "output_type": "execute_result"
    }
   ],
   "source": [
    "Order_products_train_apr_df.shape[0] #统计满足支持度和置信度要求的规则条数"
   ]
  },
  {
   "cell_type": "code",
   "execution_count": 95,
   "metadata": {},
   "outputs": [
    {
     "name": "stdout",
     "output_type": "stream",
     "text": [
      "FP-growth算法本次用时为 0:00:00.371007s\n"
     ]
    }
   ],
   "source": [
    "#FP-growth算法\n",
    "Order_products_train_fp_transactions = data_loader(Order_products_train, groupby_key, groupby_column, algorithm=\"fp\")\n",
    "Order_products_train_fp_df = fp_growth_main(Order_products_train_fp_transactions, min_support, min_confidence)"
   ]
  },
  {
   "cell_type": "code",
   "execution_count": 96,
   "metadata": {},
   "outputs": [
    {
     "data": {
      "text/plain": [
       "0"
      ]
     },
     "execution_count": 96,
     "metadata": {},
     "output_type": "execute_result"
    }
   ],
   "source": [
    "Order_products_train_fp_df.shape[0] #统计满足支持度和置信度要求的规则条数"
   ]
  },
  {
   "cell_type": "markdown",
   "metadata": {},
   "source": [
    "### 3.1.2 第二组参数：minsup=0.05 minconf=0.4"
   ]
  },
  {
   "cell_type": "code",
   "execution_count": 97,
   "metadata": {},
   "outputs": [],
   "source": [
    "min_support = 0.05 #支持度阈值\n",
    "min_confidence = 0.4 #置信度阈值\n",
    "groupby_key = \"order_id\"#汇总索引\n",
    "groupby_column = \"product_name\" #需要汇总的列\n",
    "#注：data_loader需要传入algorithm参数, \"apr\":Apriori, \"fp\":FP-growth"
   ]
  },
  {
   "cell_type": "code",
   "execution_count": 98,
   "metadata": {},
   "outputs": [
    {
     "name": "stdout",
     "output_type": "stream",
     "text": [
      "Apriori算法本次用时为 0:00:00.766947s\n"
     ]
    }
   ],
   "source": [
    "#Apriori算法\n",
    "Order_products_train_apr_transactions = data_loader(Order_products_train, groupby_key, groupby_column, algorithm=\"apr\")\n",
    "Order_products_train_apr_df = apriori_main(Order_products_train_apr_transactions, min_support, min_confidence)"
   ]
  },
  {
   "cell_type": "code",
   "execution_count": 99,
   "metadata": {},
   "outputs": [
    {
     "data": {
      "text/plain": [
       "0"
      ]
     },
     "execution_count": 99,
     "metadata": {},
     "output_type": "execute_result"
    }
   ],
   "source": [
    "Order_products_train_apr_df.shape[0] #统计满足支持度和置信度要求的规则条数"
   ]
  },
  {
   "cell_type": "code",
   "execution_count": 100,
   "metadata": {},
   "outputs": [
    {
     "name": "stdout",
     "output_type": "stream",
     "text": [
      "FP-growth算法本次用时为 0:00:00.452759s\n"
     ]
    }
   ],
   "source": [
    "#FP-growth算法\n",
    "Order_products_train_fp_transactions = data_loader(Order_products_train, groupby_key, groupby_column, algorithm=\"fp\")\n",
    "Order_products_train_fp_df = fp_growth_main(Order_products_train_fp_transactions, min_support, min_confidence)"
   ]
  },
  {
   "cell_type": "code",
   "execution_count": 101,
   "metadata": {},
   "outputs": [
    {
     "data": {
      "text/plain": [
       "0"
      ]
     },
     "execution_count": 101,
     "metadata": {},
     "output_type": "execute_result"
    }
   ],
   "source": [
    "Order_products_train_fp_df.shape[0] #统计满足支持度和置信度要求的规则条数"
   ]
  },
  {
   "cell_type": "markdown",
   "metadata": {},
   "source": [
    "### 3.1.3 第三组参数：minsup=0.01 minconf=0.4"
   ]
  },
  {
   "cell_type": "code",
   "execution_count": 102,
   "metadata": {},
   "outputs": [],
   "source": [
    "min_support = 0.01 #支持度阈值\n",
    "min_confidence = 0.4 #置信度阈值\n",
    "groupby_key = \"order_id\"#汇总索引\n",
    "groupby_column = \"product_name\" #需要汇总的列\n",
    "#注：data_loader需要传入algorithm参数, \"apr\":Apriori, \"fp\":FP-growth"
   ]
  },
  {
   "cell_type": "code",
   "execution_count": 103,
   "metadata": {},
   "outputs": [
    {
     "name": "stdout",
     "output_type": "stream",
     "text": [
      "Apriori算法本次用时为 0:00:52.042132s\n"
     ]
    }
   ],
   "source": [
    "#Apriori算法\n",
    "Order_products_train_apr_transactions = data_loader(Order_products_train, groupby_key, groupby_column, algorithm=\"apr\")\n",
    "Order_products_train_apr_df = apriori_main(Order_products_train_apr_transactions, min_support, min_confidence)"
   ]
  },
  {
   "cell_type": "code",
   "execution_count": 104,
   "metadata": {},
   "outputs": [
    {
     "data": {
      "text/plain": [
       "0"
      ]
     },
     "execution_count": 104,
     "metadata": {},
     "output_type": "execute_result"
    }
   ],
   "source": [
    "Order_products_train_apr_df.shape[0] #统计满足支持度和置信度要求的规则条数"
   ]
  },
  {
   "cell_type": "code",
   "execution_count": 105,
   "metadata": {},
   "outputs": [
    {
     "name": "stdout",
     "output_type": "stream",
     "text": [
      "FP-growth算法本次用时为 0:00:18.473775s\n"
     ]
    }
   ],
   "source": [
    "#FP-growth算法\n",
    "Order_products_train_fp_transactions = data_loader(Order_products_train, groupby_key, groupby_column, algorithm=\"fp\")\n",
    "Order_products_train_fp_df = fp_growth_main(Order_products_train_fp_transactions, min_support, min_confidence)"
   ]
  },
  {
   "cell_type": "code",
   "execution_count": 106,
   "metadata": {},
   "outputs": [
    {
     "data": {
      "text/plain": [
       "0"
      ]
     },
     "execution_count": 106,
     "metadata": {},
     "output_type": "execute_result"
    }
   ],
   "source": [
    "Order_products_train_fp_df.shape[0] #统计满足支持度和置信度要求的规则条数"
   ]
  },
  {
   "cell_type": "markdown",
   "metadata": {},
   "source": [
    "### 3.1.4 第四组参数：minsup=0.003 minconf=0.4"
   ]
  },
  {
   "cell_type": "code",
   "execution_count": 114,
   "metadata": {},
   "outputs": [],
   "source": [
    "min_support = 0.003 #支持度阈值\n",
    "min_confidence = 0.4 #置信度阈值\n",
    "groupby_key = \"order_id\"#汇总索引\n",
    "groupby_column = \"product_name\" #需要汇总的列\n",
    "#注：data_loader需要传入algorithm参数, \"apr\":Apriori, \"fp\":FP-growth"
   ]
  },
  {
   "cell_type": "code",
   "execution_count": 115,
   "metadata": {
    "scrolled": true
   },
   "outputs": [
    {
     "name": "stdout",
     "output_type": "stream",
     "text": [
      "Apriori算法本次用时为 0:34:39.983492s\n"
     ]
    },
    {
     "data": {
      "text/html": [
       "<style  type=\"text/css\" >\n",
       "    #T_d9f6556c_36c4_11eb_a26c_7c67a253903e th {\n",
       "          font-size: 12px;\n",
       "    }    #T_d9f6556c_36c4_11eb_a26c_7c67a253903e td {\n",
       "          font-size: 10px;\n",
       "    }    #T_d9f6556c_36c4_11eb_a26c_7c67a253903e th {\n",
       "          text-align: center;\n",
       "    }</style><table id=\"T_d9f6556c_36c4_11eb_a26c_7c67a253903e\" ><thead>    <tr>        <th class=\"blank level0\" ></th>        <th class=\"col_heading level0 col0\" >Rule</th>        <th class=\"col_heading level0 col1\" >Support</th>        <th class=\"col_heading level0 col2\" >Confidence</th>        <th class=\"col_heading level0 col3\" >Lift</th>        <th class=\"col_heading level0 col4\" >Correlation</th>    </tr></thead><tbody>\n",
       "                <tr>\n",
       "                        <th id=\"T_d9f6556c_36c4_11eb_a26c_7c67a253903elevel0_row0\" class=\"row_heading level0 row0\" >0</th>\n",
       "                        <td id=\"T_d9f6556c_36c4_11eb_a26c_7c67a253903erow0_col0\" class=\"data row0 col0\" >{Organic Hass Avocado, Organic Raspberries} -> {Bag of Organic Bananas}</td>\n",
       "                        <td id=\"T_d9f6556c_36c4_11eb_a26c_7c67a253903erow0_col1\" class=\"data row0 col1\" >0.004148</td>\n",
       "                        <td id=\"T_d9f6556c_36c4_11eb_a26c_7c67a253903erow0_col2\" class=\"data row0 col2\" >0.525445</td>\n",
       "                        <td id=\"T_d9f6556c_36c4_11eb_a26c_7c67a253903erow0_col3\" class=\"data row0 col3\" >4.495291</td>\n",
       "                        <td id=\"T_d9f6556c_36c4_11eb_a26c_7c67a253903erow0_col4\" class=\"data row0 col4\" >0.113428</td>\n",
       "            </tr>\n",
       "            <tr>\n",
       "                        <th id=\"T_d9f6556c_36c4_11eb_a26c_7c67a253903elevel0_row1\" class=\"row_heading level0 row1\" >1</th>\n",
       "                        <td id=\"T_d9f6556c_36c4_11eb_a26c_7c67a253903erow1_col0\" class=\"data row1 col0\" >{Organic Hass Avocado, Organic Strawberries} -> {Bag of Organic Bananas}</td>\n",
       "                        <td id=\"T_d9f6556c_36c4_11eb_a26c_7c67a253903erow1_col1\" class=\"data row1 col1\" >0.005493</td>\n",
       "                        <td id=\"T_d9f6556c_36c4_11eb_a26c_7c67a253903erow1_col2\" class=\"data row1 col2\" >0.469931</td>\n",
       "                        <td id=\"T_d9f6556c_36c4_11eb_a26c_7c67a253903erow1_col3\" class=\"data row1 col3\" >4.020357</td>\n",
       "                        <td id=\"T_d9f6556c_36c4_11eb_a26c_7c67a253903erow1_col4\" class=\"data row1 col4\" >0.119507</td>\n",
       "            </tr>\n",
       "            <tr>\n",
       "                        <th id=\"T_d9f6556c_36c4_11eb_a26c_7c67a253903elevel0_row2\" class=\"row_heading level0 row2\" >2</th>\n",
       "                        <td id=\"T_d9f6556c_36c4_11eb_a26c_7c67a253903erow2_col0\" class=\"data row2 col0\" >{Organic Cucumber, Organic Strawberries} -> {Bag of Organic Bananas}</td>\n",
       "                        <td id=\"T_d9f6556c_36c4_11eb_a26c_7c67a253903erow2_col1\" class=\"data row2 col1\" >0.003374</td>\n",
       "                        <td id=\"T_d9f6556c_36c4_11eb_a26c_7c67a253903erow2_col2\" class=\"data row2 col2\" >0.426396</td>\n",
       "                        <td id=\"T_d9f6556c_36c4_11eb_a26c_7c67a253903erow2_col3\" class=\"data row2 col3\" >3.647904</td>\n",
       "                        <td id=\"T_d9f6556c_36c4_11eb_a26c_7c67a253903erow2_col4\" class=\"data row2 col4\" >0.086039</td>\n",
       "            </tr>\n",
       "            <tr>\n",
       "                        <th id=\"T_d9f6556c_36c4_11eb_a26c_7c67a253903elevel0_row3\" class=\"row_heading level0 row3\" >3</th>\n",
       "                        <td id=\"T_d9f6556c_36c4_11eb_a26c_7c67a253903erow3_col0\" class=\"data row3 col0\" >{Organic Baby Spinach, Organic Hass Avocado} -> {Bag of Organic Bananas}</td>\n",
       "                        <td id=\"T_d9f6556c_36c4_11eb_a26c_7c67a253903erow3_col1\" class=\"data row3 col1\" >0.003786</td>\n",
       "                        <td id=\"T_d9f6556c_36c4_11eb_a26c_7c67a253903erow3_col2\" class=\"data row3 col2\" >0.400212</td>\n",
       "                        <td id=\"T_d9f6556c_36c4_11eb_a26c_7c67a253903erow3_col3\" class=\"data row3 col3\" >3.423897</td>\n",
       "                        <td id=\"T_d9f6556c_36c4_11eb_a26c_7c67a253903erow3_col4\" class=\"data row3 col4\" >0.086180</td>\n",
       "            </tr>\n",
       "    </tbody></table>"
      ],
      "text/plain": [
       "<pandas.io.formats.style.Styler at 0x18036235488>"
      ]
     },
     "execution_count": 115,
     "metadata": {},
     "output_type": "execute_result"
    }
   ],
   "source": [
    "#Apriori算法\n",
    "Order_products_train_apr_transactions = data_loader(Order_products_train, groupby_key, groupby_column, algorithm=\"apr\")\n",
    "Order_products_train_apr_df = apriori_main(Order_products_train_apr_transactions, min_support, min_confidence)\n",
    "Order_products_train_apr_df.style.set_table_styles(dfstyle)"
   ]
  },
  {
   "cell_type": "code",
   "execution_count": 116,
   "metadata": {},
   "outputs": [
    {
     "data": {
      "text/plain": [
       "4"
      ]
     },
     "execution_count": 116,
     "metadata": {},
     "output_type": "execute_result"
    }
   ],
   "source": [
    "Order_products_train_apr_df.shape[0] #统计满足支持度和置信度要求的规则条数"
   ]
  },
  {
   "cell_type": "code",
   "execution_count": 112,
   "metadata": {},
   "outputs": [
    {
     "name": "stdout",
     "output_type": "stream",
     "text": [
      "FP-growth算法本次用时为 0:00:40.300796s\n"
     ]
    },
    {
     "data": {
      "text/html": [
       "<style  type=\"text/css\" >\n",
       "    #T_ee8e94c2_36bf_11eb_9356_7c67a253903e th {\n",
       "          font-size: 12px;\n",
       "    }    #T_ee8e94c2_36bf_11eb_9356_7c67a253903e td {\n",
       "          font-size: 10px;\n",
       "    }    #T_ee8e94c2_36bf_11eb_9356_7c67a253903e th {\n",
       "          text-align: center;\n",
       "    }</style><table id=\"T_ee8e94c2_36bf_11eb_9356_7c67a253903e\" ><thead>    <tr>        <th class=\"blank level0\" ></th>        <th class=\"col_heading level0 col0\" >Rule</th>        <th class=\"col_heading level0 col1\" >Support</th>        <th class=\"col_heading level0 col2\" >Confidence</th>        <th class=\"col_heading level0 col3\" >Lift</th>        <th class=\"col_heading level0 col4\" >Correlation</th>    </tr></thead><tbody>\n",
       "                <tr>\n",
       "                        <th id=\"T_ee8e94c2_36bf_11eb_9356_7c67a253903elevel0_row0\" class=\"row_heading level0 row0\" >0</th>\n",
       "                        <td id=\"T_ee8e94c2_36bf_11eb_9356_7c67a253903erow0_col0\" class=\"data row0 col0\" >{'Organic Hass Avocado', 'Organic Raspberries'} -> {'Bag of Organic Bananas'}</td>\n",
       "                        <td id=\"T_ee8e94c2_36bf_11eb_9356_7c67a253903erow0_col1\" class=\"data row0 col1\" >0.004148</td>\n",
       "                        <td id=\"T_ee8e94c2_36bf_11eb_9356_7c67a253903erow0_col2\" class=\"data row0 col2\" >0.525445</td>\n",
       "                        <td id=\"T_ee8e94c2_36bf_11eb_9356_7c67a253903erow0_col3\" class=\"data row0 col3\" >4.495291</td>\n",
       "                        <td id=\"T_ee8e94c2_36bf_11eb_9356_7c67a253903erow0_col4\" class=\"data row0 col4\" >0.113428</td>\n",
       "            </tr>\n",
       "            <tr>\n",
       "                        <th id=\"T_ee8e94c2_36bf_11eb_9356_7c67a253903elevel0_row1\" class=\"row_heading level0 row1\" >1</th>\n",
       "                        <td id=\"T_ee8e94c2_36bf_11eb_9356_7c67a253903erow1_col0\" class=\"data row1 col0\" >{'Organic Strawberries', 'Organic Hass Avocado'} -> {'Bag of Organic Bananas'}</td>\n",
       "                        <td id=\"T_ee8e94c2_36bf_11eb_9356_7c67a253903erow1_col1\" class=\"data row1 col1\" >0.005493</td>\n",
       "                        <td id=\"T_ee8e94c2_36bf_11eb_9356_7c67a253903erow1_col2\" class=\"data row1 col2\" >0.469931</td>\n",
       "                        <td id=\"T_ee8e94c2_36bf_11eb_9356_7c67a253903erow1_col3\" class=\"data row1 col3\" >4.020357</td>\n",
       "                        <td id=\"T_ee8e94c2_36bf_11eb_9356_7c67a253903erow1_col4\" class=\"data row1 col4\" >0.119507</td>\n",
       "            </tr>\n",
       "            <tr>\n",
       "                        <th id=\"T_ee8e94c2_36bf_11eb_9356_7c67a253903elevel0_row2\" class=\"row_heading level0 row2\" >2</th>\n",
       "                        <td id=\"T_ee8e94c2_36bf_11eb_9356_7c67a253903erow2_col0\" class=\"data row2 col0\" >{'Organic Strawberries', 'Organic Cucumber'} -> {'Bag of Organic Bananas'}</td>\n",
       "                        <td id=\"T_ee8e94c2_36bf_11eb_9356_7c67a253903erow2_col1\" class=\"data row2 col1\" >0.003374</td>\n",
       "                        <td id=\"T_ee8e94c2_36bf_11eb_9356_7c67a253903erow2_col2\" class=\"data row2 col2\" >0.426396</td>\n",
       "                        <td id=\"T_ee8e94c2_36bf_11eb_9356_7c67a253903erow2_col3\" class=\"data row2 col3\" >3.647904</td>\n",
       "                        <td id=\"T_ee8e94c2_36bf_11eb_9356_7c67a253903erow2_col4\" class=\"data row2 col4\" >0.086039</td>\n",
       "            </tr>\n",
       "            <tr>\n",
       "                        <th id=\"T_ee8e94c2_36bf_11eb_9356_7c67a253903elevel0_row3\" class=\"row_heading level0 row3\" >3</th>\n",
       "                        <td id=\"T_ee8e94c2_36bf_11eb_9356_7c67a253903erow3_col0\" class=\"data row3 col0\" >{'Organic Hass Avocado', 'Organic Baby Spinach'} -> {'Bag of Organic Bananas'}</td>\n",
       "                        <td id=\"T_ee8e94c2_36bf_11eb_9356_7c67a253903erow3_col1\" class=\"data row3 col1\" >0.003786</td>\n",
       "                        <td id=\"T_ee8e94c2_36bf_11eb_9356_7c67a253903erow3_col2\" class=\"data row3 col2\" >0.400212</td>\n",
       "                        <td id=\"T_ee8e94c2_36bf_11eb_9356_7c67a253903erow3_col3\" class=\"data row3 col3\" >3.423897</td>\n",
       "                        <td id=\"T_ee8e94c2_36bf_11eb_9356_7c67a253903erow3_col4\" class=\"data row3 col4\" >0.086180</td>\n",
       "            </tr>\n",
       "    </tbody></table>"
      ],
      "text/plain": [
       "<pandas.io.formats.style.Styler at 0x18038ae8e08>"
      ]
     },
     "execution_count": 112,
     "metadata": {},
     "output_type": "execute_result"
    }
   ],
   "source": [
    "#FP-growth算法\n",
    "Order_products_train_fp_transactions = data_loader(Order_products_train, groupby_key, groupby_column, algorithm=\"fp\")\n",
    "Order_products_train_fp_df = fp_growth_main(Order_products_train_fp_transactions, min_support, min_confidence)\n",
    "Order_products_train_fp_df.style.set_table_styles(dfstyle)"
   ]
  },
  {
   "cell_type": "code",
   "execution_count": 113,
   "metadata": {},
   "outputs": [
    {
     "data": {
      "text/plain": [
       "4"
      ]
     },
     "execution_count": 113,
     "metadata": {},
     "output_type": "execute_result"
    }
   ],
   "source": [
    "Order_products_train_fp_df.shape[0] #统计满足支持度和置信度要求的规则条数"
   ]
  },
  {
   "cell_type": "markdown",
   "metadata": {},
   "source": [
    "### 3.1.5 第五组参数：minsup=0.003 minconf=0.3"
   ]
  },
  {
   "cell_type": "code",
   "execution_count": 117,
   "metadata": {},
   "outputs": [],
   "source": [
    "min_support = 0.003 #支持度阈值\n",
    "min_confidence = 0.3 #置信度阈值\n",
    "groupby_key = \"order_id\"#汇总索引\n",
    "groupby_column = \"product_name\" #需要汇总的列\n",
    "#注：data_loader需要传入algorithm参数, \"apr\":Apriori, \"fp\":FP-growth"
   ]
  },
  {
   "cell_type": "code",
   "execution_count": 118,
   "metadata": {},
   "outputs": [
    {
     "name": "stdout",
     "output_type": "stream",
     "text": [
      "Apriori算法本次用时为 0:30:43.496352s\n"
     ]
    },
    {
     "data": {
      "text/html": [
       "<style  type=\"text/css\" >\n",
       "    #T_2f9f9e28_36c9_11eb_89a0_7c67a253903e th {\n",
       "          font-size: 12px;\n",
       "    }    #T_2f9f9e28_36c9_11eb_89a0_7c67a253903e td {\n",
       "          font-size: 10px;\n",
       "    }    #T_2f9f9e28_36c9_11eb_89a0_7c67a253903e th {\n",
       "          text-align: center;\n",
       "    }</style><table id=\"T_2f9f9e28_36c9_11eb_89a0_7c67a253903e\" ><thead>    <tr>        <th class=\"blank level0\" ></th>        <th class=\"col_heading level0 col0\" >Rule</th>        <th class=\"col_heading level0 col1\" >Support</th>        <th class=\"col_heading level0 col2\" >Confidence</th>        <th class=\"col_heading level0 col3\" >Lift</th>        <th class=\"col_heading level0 col4\" >Correlation</th>    </tr></thead><tbody>\n",
       "                <tr>\n",
       "                        <th id=\"T_2f9f9e28_36c9_11eb_89a0_7c67a253903elevel0_row0\" class=\"row_heading level0 row0\" >0</th>\n",
       "                        <td id=\"T_2f9f9e28_36c9_11eb_89a0_7c67a253903erow0_col0\" class=\"data row0 col0\" >{Yellow Bell Pepper} -> {Orange Bell Pepper}</td>\n",
       "                        <td id=\"T_2f9f9e28_36c9_11eb_89a0_7c67a253903erow0_col1\" class=\"data row0 col1\" >0.003143</td>\n",
       "                        <td id=\"T_2f9f9e28_36c9_11eb_89a0_7c67a253903erow0_col2\" class=\"data row0 col2\" >0.344334</td>\n",
       "                        <td id=\"T_2f9f9e28_36c9_11eb_89a0_7c67a253903erow0_col3\" class=\"data row0 col3\" >24.196723</td>\n",
       "                        <td id=\"T_2f9f9e28_36c9_11eb_89a0_7c67a253903erow0_col4\" class=\"data row0 col4\" >0.267517</td>\n",
       "            </tr>\n",
       "            <tr>\n",
       "                        <th id=\"T_2f9f9e28_36c9_11eb_89a0_7c67a253903elevel0_row1\" class=\"row_heading level0 row1\" >1</th>\n",
       "                        <td id=\"T_2f9f9e28_36c9_11eb_89a0_7c67a253903erow1_col0\" class=\"data row1 col0\" >{Large Lemon, Organic Avocado} -> {Limes}</td>\n",
       "                        <td id=\"T_2f9f9e28_36c9_11eb_89a0_7c67a253903erow1_col1\" class=\"data row1 col1\" >0.003073</td>\n",
       "                        <td id=\"T_2f9f9e28_36c9_11eb_89a0_7c67a253903erow1_col2\" class=\"data row1 col2\" >0.303571</td>\n",
       "                        <td id=\"T_2f9f9e28_36c9_11eb_89a0_7c67a253903erow1_col3\" class=\"data row1 col3\" >6.558434</td>\n",
       "                        <td id=\"T_2f9f9e28_36c9_11eb_89a0_7c67a253903erow1_col4\" class=\"data row1 col4\" >0.123834</td>\n",
       "            </tr>\n",
       "            <tr>\n",
       "                        <th id=\"T_2f9f9e28_36c9_11eb_89a0_7c67a253903elevel0_row2\" class=\"row_heading level0 row2\" >2</th>\n",
       "                        <td id=\"T_2f9f9e28_36c9_11eb_89a0_7c67a253903erow2_col0\" class=\"data row2 col0\" >{Limes, Organic Avocado} -> {Large Lemon}</td>\n",
       "                        <td id=\"T_2f9f9e28_36c9_11eb_89a0_7c67a253903erow2_col1\" class=\"data row2 col1\" >0.003073</td>\n",
       "                        <td id=\"T_2f9f9e28_36c9_11eb_89a0_7c67a253903erow2_col2\" class=\"data row2 col2\" >0.383459</td>\n",
       "                        <td id=\"T_2f9f9e28_36c9_11eb_89a0_7c67a253903erow2_col3\" class=\"data row2 col3\" >6.210558</td>\n",
       "                        <td id=\"T_2f9f9e28_36c9_11eb_89a0_7c67a253903erow2_col4\" class=\"data row2 col4\" >0.120141</td>\n",
       "            </tr>\n",
       "            <tr>\n",
       "                        <th id=\"T_2f9f9e28_36c9_11eb_89a0_7c67a253903elevel0_row3\" class=\"row_heading level0 row3\" >3</th>\n",
       "                        <td id=\"T_2f9f9e28_36c9_11eb_89a0_7c67a253903erow3_col0\" class=\"data row3 col0\" >{Banana, Limes} -> {Large Lemon}</td>\n",
       "                        <td id=\"T_2f9f9e28_36c9_11eb_89a0_7c67a253903erow3_col1\" class=\"data row3 col1\" >0.003646</td>\n",
       "                        <td id=\"T_2f9f9e28_36c9_11eb_89a0_7c67a253903erow3_col2\" class=\"data row3 col2\" >0.360119</td>\n",
       "                        <td id=\"T_2f9f9e28_36c9_11eb_89a0_7c67a253903erow3_col3\" class=\"data row3 col3\" >5.832546</td>\n",
       "                        <td id=\"T_2f9f9e28_36c9_11eb_89a0_7c67a253903erow3_col4\" class=\"data row3 col4\" >0.125365</td>\n",
       "            </tr>\n",
       "            <tr>\n",
       "                        <th id=\"T_2f9f9e28_36c9_11eb_89a0_7c67a253903elevel0_row4\" class=\"row_heading level0 row4\" >4</th>\n",
       "                        <td id=\"T_2f9f9e28_36c9_11eb_89a0_7c67a253903erow4_col0\" class=\"data row4 col0\" >{Bag of Organic Bananas, Organic Raspberries} -> {Organic Hass Avocado}</td>\n",
       "                        <td id=\"T_2f9f9e28_36c9_11eb_89a0_7c67a253903erow4_col1\" class=\"data row4 col1\" >0.004148</td>\n",
       "                        <td id=\"T_2f9f9e28_36c9_11eb_89a0_7c67a253903erow4_col2\" class=\"data row4 col2\" >0.305022</td>\n",
       "                        <td id=\"T_2f9f9e28_36c9_11eb_89a0_7c67a253903erow4_col3\" class=\"data row4 col3\" >5.533299</td>\n",
       "                        <td id=\"T_2f9f9e28_36c9_11eb_89a0_7c67a253903erow4_col4\" class=\"data row4 col4\" >0.128561</td>\n",
       "            </tr>\n",
       "            <tr>\n",
       "                        <th id=\"T_2f9f9e28_36c9_11eb_89a0_7c67a253903elevel0_row5\" class=\"row_heading level0 row5\" >5</th>\n",
       "                        <td id=\"T_2f9f9e28_36c9_11eb_89a0_7c67a253903erow5_col0\" class=\"data row5 col0\" >{Organic Hass Avocado, Organic Raspberries} -> {Bag of Organic Bananas}</td>\n",
       "                        <td id=\"T_2f9f9e28_36c9_11eb_89a0_7c67a253903erow5_col1\" class=\"data row5 col1\" >0.004148</td>\n",
       "                        <td id=\"T_2f9f9e28_36c9_11eb_89a0_7c67a253903erow5_col2\" class=\"data row5 col2\" >0.525445</td>\n",
       "                        <td id=\"T_2f9f9e28_36c9_11eb_89a0_7c67a253903erow5_col3\" class=\"data row5 col3\" >4.495291</td>\n",
       "                        <td id=\"T_2f9f9e28_36c9_11eb_89a0_7c67a253903erow5_col4\" class=\"data row5 col4\" >0.113428</td>\n",
       "            </tr>\n",
       "            <tr>\n",
       "                        <th id=\"T_2f9f9e28_36c9_11eb_89a0_7c67a253903elevel0_row6\" class=\"row_heading level0 row6\" >6</th>\n",
       "                        <td id=\"T_2f9f9e28_36c9_11eb_89a0_7c67a253903erow6_col0\" class=\"data row6 col0\" >{Bag of Organic Bananas, Organic Raspberries} -> {Organic Strawberries}</td>\n",
       "                        <td id=\"T_2f9f9e28_36c9_11eb_89a0_7c67a253903erow6_col1\" class=\"data row6 col1\" >0.004981</td>\n",
       "                        <td id=\"T_2f9f9e28_36c9_11eb_89a0_7c67a253903erow6_col2\" class=\"data row6 col2\" >0.366322</td>\n",
       "                        <td id=\"T_2f9f9e28_36c9_11eb_89a0_7c67a253903erow6_col3\" class=\"data row6 col3\" >4.430481</td>\n",
       "                        <td id=\"T_2f9f9e28_36c9_11eb_89a0_7c67a253903erow6_col4\" class=\"data row6 col4\" >0.120923</td>\n",
       "            </tr>\n",
       "            <tr>\n",
       "                        <th id=\"T_2f9f9e28_36c9_11eb_89a0_7c67a253903elevel0_row7\" class=\"row_heading level0 row7\" >7</th>\n",
       "                        <td id=\"T_2f9f9e28_36c9_11eb_89a0_7c67a253903erow7_col0\" class=\"data row7 col0\" >{Bag of Organic Bananas, Organic Cucumber} -> {Organic Strawberries}</td>\n",
       "                        <td id=\"T_2f9f9e28_36c9_11eb_89a0_7c67a253903erow7_col1\" class=\"data row7 col1\" >0.003374</td>\n",
       "                        <td id=\"T_2f9f9e28_36c9_11eb_89a0_7c67a253903erow7_col2\" class=\"data row7 col2\" >0.347107</td>\n",
       "                        <td id=\"T_2f9f9e28_36c9_11eb_89a0_7c67a253903erow7_col3\" class=\"data row7 col3\" >4.198090</td>\n",
       "                        <td id=\"T_2f9f9e28_36c9_11eb_89a0_7c67a253903erow7_col4\" class=\"data row7 col4\" >0.095131</td>\n",
       "            </tr>\n",
       "            <tr>\n",
       "                        <th id=\"T_2f9f9e28_36c9_11eb_89a0_7c67a253903elevel0_row8\" class=\"row_heading level0 row8\" >8</th>\n",
       "                        <td id=\"T_2f9f9e28_36c9_11eb_89a0_7c67a253903erow8_col0\" class=\"data row8 col0\" >{Organic Hass Avocado, Organic Strawberries} -> {Bag of Organic Bananas}</td>\n",
       "                        <td id=\"T_2f9f9e28_36c9_11eb_89a0_7c67a253903erow8_col1\" class=\"data row8 col1\" >0.005493</td>\n",
       "                        <td id=\"T_2f9f9e28_36c9_11eb_89a0_7c67a253903erow8_col2\" class=\"data row8 col2\" >0.469931</td>\n",
       "                        <td id=\"T_2f9f9e28_36c9_11eb_89a0_7c67a253903erow8_col3\" class=\"data row8 col3\" >4.020357</td>\n",
       "                        <td id=\"T_2f9f9e28_36c9_11eb_89a0_7c67a253903erow8_col4\" class=\"data row8 col4\" >0.119507</td>\n",
       "            </tr>\n",
       "            <tr>\n",
       "                        <th id=\"T_2f9f9e28_36c9_11eb_89a0_7c67a253903elevel0_row9\" class=\"row_heading level0 row9\" >9</th>\n",
       "                        <td id=\"T_2f9f9e28_36c9_11eb_89a0_7c67a253903erow9_col0\" class=\"data row9 col0\" >{Bag of Organic Bananas, Organic Hass Avocado} -> {Organic Strawberries}</td>\n",
       "                        <td id=\"T_2f9f9e28_36c9_11eb_89a0_7c67a253903erow9_col1\" class=\"data row9 col1\" >0.005493</td>\n",
       "                        <td id=\"T_2f9f9e28_36c9_11eb_89a0_7c67a253903erow9_col2\" class=\"data row9 col2\" >0.303889</td>\n",
       "                        <td id=\"T_2f9f9e28_36c9_11eb_89a0_7c67a253903erow9_col3\" class=\"data row9 col3\" >3.675383</td>\n",
       "                        <td id=\"T_2f9f9e28_36c9_11eb_89a0_7c67a253903erow9_col4\" class=\"data row9 col4\" >0.108983</td>\n",
       "            </tr>\n",
       "            <tr>\n",
       "                        <th id=\"T_2f9f9e28_36c9_11eb_89a0_7c67a253903elevel0_row10\" class=\"row_heading level0 row10\" >10</th>\n",
       "                        <td id=\"T_2f9f9e28_36c9_11eb_89a0_7c67a253903erow10_col0\" class=\"data row10 col0\" >{Organic Cucumber, Organic Strawberries} -> {Bag of Organic Bananas}</td>\n",
       "                        <td id=\"T_2f9f9e28_36c9_11eb_89a0_7c67a253903erow10_col1\" class=\"data row10 col1\" >0.003374</td>\n",
       "                        <td id=\"T_2f9f9e28_36c9_11eb_89a0_7c67a253903erow10_col2\" class=\"data row10 col2\" >0.426396</td>\n",
       "                        <td id=\"T_2f9f9e28_36c9_11eb_89a0_7c67a253903erow10_col3\" class=\"data row10 col3\" >3.647904</td>\n",
       "                        <td id=\"T_2f9f9e28_36c9_11eb_89a0_7c67a253903erow10_col4\" class=\"data row10 col4\" >0.086039</td>\n",
       "            </tr>\n",
       "            <tr>\n",
       "                        <th id=\"T_2f9f9e28_36c9_11eb_89a0_7c67a253903elevel0_row11\" class=\"row_heading level0 row11\" >11</th>\n",
       "                        <td id=\"T_2f9f9e28_36c9_11eb_89a0_7c67a253903erow11_col0\" class=\"data row11 col0\" >{Organic Raspberries} -> {Organic Strawberries}</td>\n",
       "                        <td id=\"T_2f9f9e28_36c9_11eb_89a0_7c67a253903erow11_col1\" class=\"data row11 col1\" >0.012664</td>\n",
       "                        <td id=\"T_2f9f9e28_36c9_11eb_89a0_7c67a253903erow11_col2\" class=\"data row11 col2\" >0.300238</td>\n",
       "                        <td id=\"T_2f9f9e28_36c9_11eb_89a0_7c67a253903erow11_col3\" class=\"data row11 col3\" >3.631229</td>\n",
       "                        <td id=\"T_2f9f9e28_36c9_11eb_89a0_7c67a253903erow11_col4\" class=\"data row11 col4\" >0.165773</td>\n",
       "            </tr>\n",
       "            <tr>\n",
       "                        <th id=\"T_2f9f9e28_36c9_11eb_89a0_7c67a253903elevel0_row12\" class=\"row_heading level0 row12\" >12</th>\n",
       "                        <td id=\"T_2f9f9e28_36c9_11eb_89a0_7c67a253903erow12_col0\" class=\"data row12 col0\" >{Organic Baby Spinach, Organic Hass Avocado} -> {Bag of Organic Bananas}</td>\n",
       "                        <td id=\"T_2f9f9e28_36c9_11eb_89a0_7c67a253903erow12_col1\" class=\"data row12 col1\" >0.003786</td>\n",
       "                        <td id=\"T_2f9f9e28_36c9_11eb_89a0_7c67a253903erow12_col2\" class=\"data row12 col2\" >0.400212</td>\n",
       "                        <td id=\"T_2f9f9e28_36c9_11eb_89a0_7c67a253903erow12_col3\" class=\"data row12 col3\" >3.423897</td>\n",
       "                        <td id=\"T_2f9f9e28_36c9_11eb_89a0_7c67a253903erow12_col4\" class=\"data row12 col4\" >0.086180</td>\n",
       "            </tr>\n",
       "            <tr>\n",
       "                        <th id=\"T_2f9f9e28_36c9_11eb_89a0_7c67a253903elevel0_row13\" class=\"row_heading level0 row13\" >13</th>\n",
       "                        <td id=\"T_2f9f9e28_36c9_11eb_89a0_7c67a253903erow13_col0\" class=\"data row13 col0\" >{Organic Raspberries, Organic Strawberries} -> {Bag of Organic Bananas}</td>\n",
       "                        <td id=\"T_2f9f9e28_36c9_11eb_89a0_7c67a253903erow13_col1\" class=\"data row13 col1\" >0.004981</td>\n",
       "                        <td id=\"T_2f9f9e28_36c9_11eb_89a0_7c67a253903erow13_col2\" class=\"data row13 col2\" >0.393339</td>\n",
       "                        <td id=\"T_2f9f9e28_36c9_11eb_89a0_7c67a253903erow13_col3\" class=\"data row13 col3\" >3.365091</td>\n",
       "                        <td id=\"T_2f9f9e28_36c9_11eb_89a0_7c67a253903erow13_col4\" class=\"data row13 col4\" >0.097449</td>\n",
       "            </tr>\n",
       "            <tr>\n",
       "                        <th id=\"T_2f9f9e28_36c9_11eb_89a0_7c67a253903elevel0_row14\" class=\"row_heading level0 row14\" >14</th>\n",
       "                        <td id=\"T_2f9f9e28_36c9_11eb_89a0_7c67a253903erow14_col0\" class=\"data row14 col0\" >{Organic Baby Spinach, Organic Strawberries} -> {Bag of Organic Bananas}</td>\n",
       "                        <td id=\"T_2f9f9e28_36c9_11eb_89a0_7c67a253903erow14_col1\" class=\"data row14 col1\" >0.004459</td>\n",
       "                        <td id=\"T_2f9f9e28_36c9_11eb_89a0_7c67a253903erow14_col2\" class=\"data row14 col2\" >0.360390</td>\n",
       "                        <td id=\"T_2f9f9e28_36c9_11eb_89a0_7c67a253903erow14_col3\" class=\"data row14 col3\" >3.083206</td>\n",
       "                        <td id=\"T_2f9f9e28_36c9_11eb_89a0_7c67a253903erow14_col4\" class=\"data row14 col4\" >0.084829</td>\n",
       "            </tr>\n",
       "            <tr>\n",
       "                        <th id=\"T_2f9f9e28_36c9_11eb_89a0_7c67a253903elevel0_row15\" class=\"row_heading level0 row15\" >15</th>\n",
       "                        <td id=\"T_2f9f9e28_36c9_11eb_89a0_7c67a253903erow15_col0\" class=\"data row15 col0\" >{Organic Navel Orange} -> {Bag of Organic Bananas}</td>\n",
       "                        <td id=\"T_2f9f9e28_36c9_11eb_89a0_7c67a253903erow15_col1\" class=\"data row15 col1\" >0.005433</td>\n",
       "                        <td id=\"T_2f9f9e28_36c9_11eb_89a0_7c67a253903erow15_col2\" class=\"data row15 col2\" >0.351984</td>\n",
       "                        <td id=\"T_2f9f9e28_36c9_11eb_89a0_7c67a253903erow15_col3\" class=\"data row15 col3\" >3.011298</td>\n",
       "                        <td id=\"T_2f9f9e28_36c9_11eb_89a0_7c67a253903erow15_col4\" class=\"data row15 col4\" >0.091621</td>\n",
       "            </tr>\n",
       "            <tr>\n",
       "                        <th id=\"T_2f9f9e28_36c9_11eb_89a0_7c67a253903elevel0_row16\" class=\"row_heading level0 row16\" >16</th>\n",
       "                        <td id=\"T_2f9f9e28_36c9_11eb_89a0_7c67a253903erow16_col0\" class=\"data row16 col0\" >{Organic Kiwi} -> {Bag of Organic Bananas}</td>\n",
       "                        <td id=\"T_2f9f9e28_36c9_11eb_89a0_7c67a253903erow16_col1\" class=\"data row16 col1\" >0.004841</td>\n",
       "                        <td id=\"T_2f9f9e28_36c9_11eb_89a0_7c67a253903erow16_col2\" class=\"data row16 col2\" >0.350036</td>\n",
       "                        <td id=\"T_2f9f9e28_36c9_11eb_89a0_7c67a253903erow16_col3\" class=\"data row16 col3\" >2.994631</td>\n",
       "                        <td id=\"T_2f9f9e28_36c9_11eb_89a0_7c67a253903erow16_col4\" class=\"data row16 col4\" >0.085933</td>\n",
       "            </tr>\n",
       "            <tr>\n",
       "                        <th id=\"T_2f9f9e28_36c9_11eb_89a0_7c67a253903elevel0_row17\" class=\"row_heading level0 row17\" >17</th>\n",
       "                        <td id=\"T_2f9f9e28_36c9_11eb_89a0_7c67a253903erow17_col0\" class=\"data row17 col0\" >{Organic Large Extra Fancy Fuji Apple} -> {Bag of Organic Bananas}</td>\n",
       "                        <td id=\"T_2f9f9e28_36c9_11eb_89a0_7c67a253903erow17_col1\" class=\"data row17 col1\" >0.007462</td>\n",
       "                        <td id=\"T_2f9f9e28_36c9_11eb_89a0_7c67a253903erow17_col2\" class=\"data row17 col2\" >0.337267</td>\n",
       "                        <td id=\"T_2f9f9e28_36c9_11eb_89a0_7c67a253903erow17_col3\" class=\"data row17 col3\" >2.885391</td>\n",
       "                        <td id=\"T_2f9f9e28_36c9_11eb_89a0_7c67a253903erow17_col4\" class=\"data row17 col4\" >0.103174</td>\n",
       "            </tr>\n",
       "            <tr>\n",
       "                        <th id=\"T_2f9f9e28_36c9_11eb_89a0_7c67a253903elevel0_row18\" class=\"row_heading level0 row18\" >18</th>\n",
       "                        <td id=\"T_2f9f9e28_36c9_11eb_89a0_7c67a253903erow18_col0\" class=\"data row18 col0\" >{Organic Hass Avocado} -> {Bag of Organic Bananas}</td>\n",
       "                        <td id=\"T_2f9f9e28_36c9_11eb_89a0_7c67a253903erow18_col1\" class=\"data row18 col1\" >0.018077</td>\n",
       "                        <td id=\"T_2f9f9e28_36c9_11eb_89a0_7c67a253903erow18_col2\" class=\"data row18 col2\" >0.327929</td>\n",
       "                        <td id=\"T_2f9f9e28_36c9_11eb_89a0_7c67a253903erow18_col3\" class=\"data row18 col3\" >2.805495</td>\n",
       "                        <td id=\"T_2f9f9e28_36c9_11eb_89a0_7c67a253903erow18_col4\" class=\"data row18 col4\" >0.158657</td>\n",
       "            </tr>\n",
       "            <tr>\n",
       "                        <th id=\"T_2f9f9e28_36c9_11eb_89a0_7c67a253903elevel0_row19\" class=\"row_heading level0 row19\" >19</th>\n",
       "                        <td id=\"T_2f9f9e28_36c9_11eb_89a0_7c67a253903erow19_col0\" class=\"data row19 col0\" >{Organic D'Anjou Pears} -> {Bag of Organic Bananas}</td>\n",
       "                        <td id=\"T_2f9f9e28_36c9_11eb_89a0_7c67a253903erow19_col1\" class=\"data row19 col1\" >0.004770</td>\n",
       "                        <td id=\"T_2f9f9e28_36c9_11eb_89a0_7c67a253903erow19_col2\" class=\"data row19 col2\" >0.326236</td>\n",
       "                        <td id=\"T_2f9f9e28_36c9_11eb_89a0_7c67a253903erow19_col3\" class=\"data row19 col3\" >2.791017</td>\n",
       "                        <td id=\"T_2f9f9e28_36c9_11eb_89a0_7c67a253903erow19_col4\" class=\"data row19 col4\" >0.079375</td>\n",
       "            </tr>\n",
       "    </tbody></table>"
      ],
      "text/plain": [
       "<pandas.io.formats.style.Styler at 0x1803585cb48>"
      ]
     },
     "execution_count": 118,
     "metadata": {},
     "output_type": "execute_result"
    }
   ],
   "source": [
    "#Apriori算法\n",
    "Order_products_train_apr_transactions = data_loader(Order_products_train, groupby_key, groupby_column, algorithm=\"apr\")\n",
    "Order_products_train_apr_df = apriori_main(Order_products_train_apr_transactions, min_support, min_confidence)\n",
    "Order_products_train_apr_df[0:20].style.set_table_styles(dfstyle)"
   ]
  },
  {
   "cell_type": "code",
   "execution_count": 119,
   "metadata": {},
   "outputs": [
    {
     "data": {
      "text/plain": [
       "34"
      ]
     },
     "execution_count": 119,
     "metadata": {},
     "output_type": "execute_result"
    }
   ],
   "source": [
    "Order_products_train_apr_df.shape[0] #统计满足支持度和置信度要求的规则条数"
   ]
  },
  {
   "cell_type": "code",
   "execution_count": 120,
   "metadata": {},
   "outputs": [
    {
     "name": "stdout",
     "output_type": "stream",
     "text": [
      "FP-growth算法本次用时为 0:00:36.406657s\n"
     ]
    },
    {
     "data": {
      "text/html": [
       "<style  type=\"text/css\" >\n",
       "    #T_4cee720c_36c9_11eb_90c1_7c67a253903e th {\n",
       "          font-size: 12px;\n",
       "    }    #T_4cee720c_36c9_11eb_90c1_7c67a253903e td {\n",
       "          font-size: 10px;\n",
       "    }    #T_4cee720c_36c9_11eb_90c1_7c67a253903e th {\n",
       "          text-align: center;\n",
       "    }</style><table id=\"T_4cee720c_36c9_11eb_90c1_7c67a253903e\" ><thead>    <tr>        <th class=\"blank level0\" ></th>        <th class=\"col_heading level0 col0\" >Rule</th>        <th class=\"col_heading level0 col1\" >Support</th>        <th class=\"col_heading level0 col2\" >Confidence</th>        <th class=\"col_heading level0 col3\" >Lift</th>        <th class=\"col_heading level0 col4\" >Correlation</th>    </tr></thead><tbody>\n",
       "                <tr>\n",
       "                        <th id=\"T_4cee720c_36c9_11eb_90c1_7c67a253903elevel0_row0\" class=\"row_heading level0 row0\" >0</th>\n",
       "                        <td id=\"T_4cee720c_36c9_11eb_90c1_7c67a253903erow0_col0\" class=\"data row0 col0\" >{'Yellow Bell Pepper'} -> {'Orange Bell Pepper'}</td>\n",
       "                        <td id=\"T_4cee720c_36c9_11eb_90c1_7c67a253903erow0_col1\" class=\"data row0 col1\" >0.003143</td>\n",
       "                        <td id=\"T_4cee720c_36c9_11eb_90c1_7c67a253903erow0_col2\" class=\"data row0 col2\" >0.344334</td>\n",
       "                        <td id=\"T_4cee720c_36c9_11eb_90c1_7c67a253903erow0_col3\" class=\"data row0 col3\" >24.196723</td>\n",
       "                        <td id=\"T_4cee720c_36c9_11eb_90c1_7c67a253903erow0_col4\" class=\"data row0 col4\" >0.267517</td>\n",
       "            </tr>\n",
       "            <tr>\n",
       "                        <th id=\"T_4cee720c_36c9_11eb_90c1_7c67a253903elevel0_row1\" class=\"row_heading level0 row1\" >1</th>\n",
       "                        <td id=\"T_4cee720c_36c9_11eb_90c1_7c67a253903erow1_col0\" class=\"data row1 col0\" >{'Large Lemon', 'Organic Avocado'} -> {'Limes'}</td>\n",
       "                        <td id=\"T_4cee720c_36c9_11eb_90c1_7c67a253903erow1_col1\" class=\"data row1 col1\" >0.003073</td>\n",
       "                        <td id=\"T_4cee720c_36c9_11eb_90c1_7c67a253903erow1_col2\" class=\"data row1 col2\" >0.303571</td>\n",
       "                        <td id=\"T_4cee720c_36c9_11eb_90c1_7c67a253903erow1_col3\" class=\"data row1 col3\" >6.558434</td>\n",
       "                        <td id=\"T_4cee720c_36c9_11eb_90c1_7c67a253903erow1_col4\" class=\"data row1 col4\" >0.123834</td>\n",
       "            </tr>\n",
       "            <tr>\n",
       "                        <th id=\"T_4cee720c_36c9_11eb_90c1_7c67a253903elevel0_row2\" class=\"row_heading level0 row2\" >2</th>\n",
       "                        <td id=\"T_4cee720c_36c9_11eb_90c1_7c67a253903erow2_col0\" class=\"data row2 col0\" >{'Organic Avocado', 'Limes'} -> {'Large Lemon'}</td>\n",
       "                        <td id=\"T_4cee720c_36c9_11eb_90c1_7c67a253903erow2_col1\" class=\"data row2 col1\" >0.003073</td>\n",
       "                        <td id=\"T_4cee720c_36c9_11eb_90c1_7c67a253903erow2_col2\" class=\"data row2 col2\" >0.383459</td>\n",
       "                        <td id=\"T_4cee720c_36c9_11eb_90c1_7c67a253903erow2_col3\" class=\"data row2 col3\" >6.210558</td>\n",
       "                        <td id=\"T_4cee720c_36c9_11eb_90c1_7c67a253903erow2_col4\" class=\"data row2 col4\" >0.120141</td>\n",
       "            </tr>\n",
       "            <tr>\n",
       "                        <th id=\"T_4cee720c_36c9_11eb_90c1_7c67a253903elevel0_row3\" class=\"row_heading level0 row3\" >3</th>\n",
       "                        <td id=\"T_4cee720c_36c9_11eb_90c1_7c67a253903erow3_col0\" class=\"data row3 col0\" >{'Limes', 'Banana'} -> {'Large Lemon'}</td>\n",
       "                        <td id=\"T_4cee720c_36c9_11eb_90c1_7c67a253903erow3_col1\" class=\"data row3 col1\" >0.003646</td>\n",
       "                        <td id=\"T_4cee720c_36c9_11eb_90c1_7c67a253903erow3_col2\" class=\"data row3 col2\" >0.360119</td>\n",
       "                        <td id=\"T_4cee720c_36c9_11eb_90c1_7c67a253903erow3_col3\" class=\"data row3 col3\" >5.832546</td>\n",
       "                        <td id=\"T_4cee720c_36c9_11eb_90c1_7c67a253903erow3_col4\" class=\"data row3 col4\" >0.125365</td>\n",
       "            </tr>\n",
       "            <tr>\n",
       "                        <th id=\"T_4cee720c_36c9_11eb_90c1_7c67a253903elevel0_row4\" class=\"row_heading level0 row4\" >4</th>\n",
       "                        <td id=\"T_4cee720c_36c9_11eb_90c1_7c67a253903erow4_col0\" class=\"data row4 col0\" >{'Organic Raspberries', 'Bag of Organic Bananas'} -> {'Organic Hass Avocado'}</td>\n",
       "                        <td id=\"T_4cee720c_36c9_11eb_90c1_7c67a253903erow4_col1\" class=\"data row4 col1\" >0.004148</td>\n",
       "                        <td id=\"T_4cee720c_36c9_11eb_90c1_7c67a253903erow4_col2\" class=\"data row4 col2\" >0.305022</td>\n",
       "                        <td id=\"T_4cee720c_36c9_11eb_90c1_7c67a253903erow4_col3\" class=\"data row4 col3\" >5.533299</td>\n",
       "                        <td id=\"T_4cee720c_36c9_11eb_90c1_7c67a253903erow4_col4\" class=\"data row4 col4\" >0.128561</td>\n",
       "            </tr>\n",
       "            <tr>\n",
       "                        <th id=\"T_4cee720c_36c9_11eb_90c1_7c67a253903elevel0_row5\" class=\"row_heading level0 row5\" >5</th>\n",
       "                        <td id=\"T_4cee720c_36c9_11eb_90c1_7c67a253903erow5_col0\" class=\"data row5 col0\" >{'Organic Hass Avocado', 'Organic Raspberries'} -> {'Bag of Organic Bananas'}</td>\n",
       "                        <td id=\"T_4cee720c_36c9_11eb_90c1_7c67a253903erow5_col1\" class=\"data row5 col1\" >0.004148</td>\n",
       "                        <td id=\"T_4cee720c_36c9_11eb_90c1_7c67a253903erow5_col2\" class=\"data row5 col2\" >0.525445</td>\n",
       "                        <td id=\"T_4cee720c_36c9_11eb_90c1_7c67a253903erow5_col3\" class=\"data row5 col3\" >4.495291</td>\n",
       "                        <td id=\"T_4cee720c_36c9_11eb_90c1_7c67a253903erow5_col4\" class=\"data row5 col4\" >0.113428</td>\n",
       "            </tr>\n",
       "            <tr>\n",
       "                        <th id=\"T_4cee720c_36c9_11eb_90c1_7c67a253903elevel0_row6\" class=\"row_heading level0 row6\" >6</th>\n",
       "                        <td id=\"T_4cee720c_36c9_11eb_90c1_7c67a253903erow6_col0\" class=\"data row6 col0\" >{'Organic Raspberries', 'Bag of Organic Bananas'} -> {'Organic Strawberries'}</td>\n",
       "                        <td id=\"T_4cee720c_36c9_11eb_90c1_7c67a253903erow6_col1\" class=\"data row6 col1\" >0.004981</td>\n",
       "                        <td id=\"T_4cee720c_36c9_11eb_90c1_7c67a253903erow6_col2\" class=\"data row6 col2\" >0.366322</td>\n",
       "                        <td id=\"T_4cee720c_36c9_11eb_90c1_7c67a253903erow6_col3\" class=\"data row6 col3\" >4.430481</td>\n",
       "                        <td id=\"T_4cee720c_36c9_11eb_90c1_7c67a253903erow6_col4\" class=\"data row6 col4\" >0.120923</td>\n",
       "            </tr>\n",
       "            <tr>\n",
       "                        <th id=\"T_4cee720c_36c9_11eb_90c1_7c67a253903elevel0_row7\" class=\"row_heading level0 row7\" >7</th>\n",
       "                        <td id=\"T_4cee720c_36c9_11eb_90c1_7c67a253903erow7_col0\" class=\"data row7 col0\" >{'Organic Cucumber', 'Bag of Organic Bananas'} -> {'Organic Strawberries'}</td>\n",
       "                        <td id=\"T_4cee720c_36c9_11eb_90c1_7c67a253903erow7_col1\" class=\"data row7 col1\" >0.003374</td>\n",
       "                        <td id=\"T_4cee720c_36c9_11eb_90c1_7c67a253903erow7_col2\" class=\"data row7 col2\" >0.347107</td>\n",
       "                        <td id=\"T_4cee720c_36c9_11eb_90c1_7c67a253903erow7_col3\" class=\"data row7 col3\" >4.198090</td>\n",
       "                        <td id=\"T_4cee720c_36c9_11eb_90c1_7c67a253903erow7_col4\" class=\"data row7 col4\" >0.095131</td>\n",
       "            </tr>\n",
       "            <tr>\n",
       "                        <th id=\"T_4cee720c_36c9_11eb_90c1_7c67a253903elevel0_row8\" class=\"row_heading level0 row8\" >8</th>\n",
       "                        <td id=\"T_4cee720c_36c9_11eb_90c1_7c67a253903erow8_col0\" class=\"data row8 col0\" >{'Organic Strawberries', 'Organic Hass Avocado'} -> {'Bag of Organic Bananas'}</td>\n",
       "                        <td id=\"T_4cee720c_36c9_11eb_90c1_7c67a253903erow8_col1\" class=\"data row8 col1\" >0.005493</td>\n",
       "                        <td id=\"T_4cee720c_36c9_11eb_90c1_7c67a253903erow8_col2\" class=\"data row8 col2\" >0.469931</td>\n",
       "                        <td id=\"T_4cee720c_36c9_11eb_90c1_7c67a253903erow8_col3\" class=\"data row8 col3\" >4.020357</td>\n",
       "                        <td id=\"T_4cee720c_36c9_11eb_90c1_7c67a253903erow8_col4\" class=\"data row8 col4\" >0.119507</td>\n",
       "            </tr>\n",
       "            <tr>\n",
       "                        <th id=\"T_4cee720c_36c9_11eb_90c1_7c67a253903elevel0_row9\" class=\"row_heading level0 row9\" >9</th>\n",
       "                        <td id=\"T_4cee720c_36c9_11eb_90c1_7c67a253903erow9_col0\" class=\"data row9 col0\" >{'Organic Hass Avocado', 'Bag of Organic Bananas'} -> {'Organic Strawberries'}</td>\n",
       "                        <td id=\"T_4cee720c_36c9_11eb_90c1_7c67a253903erow9_col1\" class=\"data row9 col1\" >0.005493</td>\n",
       "                        <td id=\"T_4cee720c_36c9_11eb_90c1_7c67a253903erow9_col2\" class=\"data row9 col2\" >0.303889</td>\n",
       "                        <td id=\"T_4cee720c_36c9_11eb_90c1_7c67a253903erow9_col3\" class=\"data row9 col3\" >3.675383</td>\n",
       "                        <td id=\"T_4cee720c_36c9_11eb_90c1_7c67a253903erow9_col4\" class=\"data row9 col4\" >0.108983</td>\n",
       "            </tr>\n",
       "            <tr>\n",
       "                        <th id=\"T_4cee720c_36c9_11eb_90c1_7c67a253903elevel0_row10\" class=\"row_heading level0 row10\" >10</th>\n",
       "                        <td id=\"T_4cee720c_36c9_11eb_90c1_7c67a253903erow10_col0\" class=\"data row10 col0\" >{'Organic Strawberries', 'Organic Cucumber'} -> {'Bag of Organic Bananas'}</td>\n",
       "                        <td id=\"T_4cee720c_36c9_11eb_90c1_7c67a253903erow10_col1\" class=\"data row10 col1\" >0.003374</td>\n",
       "                        <td id=\"T_4cee720c_36c9_11eb_90c1_7c67a253903erow10_col2\" class=\"data row10 col2\" >0.426396</td>\n",
       "                        <td id=\"T_4cee720c_36c9_11eb_90c1_7c67a253903erow10_col3\" class=\"data row10 col3\" >3.647904</td>\n",
       "                        <td id=\"T_4cee720c_36c9_11eb_90c1_7c67a253903erow10_col4\" class=\"data row10 col4\" >0.086039</td>\n",
       "            </tr>\n",
       "            <tr>\n",
       "                        <th id=\"T_4cee720c_36c9_11eb_90c1_7c67a253903elevel0_row11\" class=\"row_heading level0 row11\" >11</th>\n",
       "                        <td id=\"T_4cee720c_36c9_11eb_90c1_7c67a253903erow11_col0\" class=\"data row11 col0\" >{'Organic Raspberries'} -> {'Organic Strawberries'}</td>\n",
       "                        <td id=\"T_4cee720c_36c9_11eb_90c1_7c67a253903erow11_col1\" class=\"data row11 col1\" >0.012664</td>\n",
       "                        <td id=\"T_4cee720c_36c9_11eb_90c1_7c67a253903erow11_col2\" class=\"data row11 col2\" >0.300238</td>\n",
       "                        <td id=\"T_4cee720c_36c9_11eb_90c1_7c67a253903erow11_col3\" class=\"data row11 col3\" >3.631229</td>\n",
       "                        <td id=\"T_4cee720c_36c9_11eb_90c1_7c67a253903erow11_col4\" class=\"data row11 col4\" >0.165773</td>\n",
       "            </tr>\n",
       "            <tr>\n",
       "                        <th id=\"T_4cee720c_36c9_11eb_90c1_7c67a253903elevel0_row12\" class=\"row_heading level0 row12\" >12</th>\n",
       "                        <td id=\"T_4cee720c_36c9_11eb_90c1_7c67a253903erow12_col0\" class=\"data row12 col0\" >{'Organic Hass Avocado', 'Organic Baby Spinach'} -> {'Bag of Organic Bananas'}</td>\n",
       "                        <td id=\"T_4cee720c_36c9_11eb_90c1_7c67a253903erow12_col1\" class=\"data row12 col1\" >0.003786</td>\n",
       "                        <td id=\"T_4cee720c_36c9_11eb_90c1_7c67a253903erow12_col2\" class=\"data row12 col2\" >0.400212</td>\n",
       "                        <td id=\"T_4cee720c_36c9_11eb_90c1_7c67a253903erow12_col3\" class=\"data row12 col3\" >3.423897</td>\n",
       "                        <td id=\"T_4cee720c_36c9_11eb_90c1_7c67a253903erow12_col4\" class=\"data row12 col4\" >0.086180</td>\n",
       "            </tr>\n",
       "            <tr>\n",
       "                        <th id=\"T_4cee720c_36c9_11eb_90c1_7c67a253903elevel0_row13\" class=\"row_heading level0 row13\" >13</th>\n",
       "                        <td id=\"T_4cee720c_36c9_11eb_90c1_7c67a253903erow13_col0\" class=\"data row13 col0\" >{'Organic Strawberries', 'Organic Raspberries'} -> {'Bag of Organic Bananas'}</td>\n",
       "                        <td id=\"T_4cee720c_36c9_11eb_90c1_7c67a253903erow13_col1\" class=\"data row13 col1\" >0.004981</td>\n",
       "                        <td id=\"T_4cee720c_36c9_11eb_90c1_7c67a253903erow13_col2\" class=\"data row13 col2\" >0.393339</td>\n",
       "                        <td id=\"T_4cee720c_36c9_11eb_90c1_7c67a253903erow13_col3\" class=\"data row13 col3\" >3.365091</td>\n",
       "                        <td id=\"T_4cee720c_36c9_11eb_90c1_7c67a253903erow13_col4\" class=\"data row13 col4\" >0.097449</td>\n",
       "            </tr>\n",
       "            <tr>\n",
       "                        <th id=\"T_4cee720c_36c9_11eb_90c1_7c67a253903elevel0_row14\" class=\"row_heading level0 row14\" >14</th>\n",
       "                        <td id=\"T_4cee720c_36c9_11eb_90c1_7c67a253903erow14_col0\" class=\"data row14 col0\" >{'Organic Strawberries', 'Organic Baby Spinach'} -> {'Bag of Organic Bananas'}</td>\n",
       "                        <td id=\"T_4cee720c_36c9_11eb_90c1_7c67a253903erow14_col1\" class=\"data row14 col1\" >0.004459</td>\n",
       "                        <td id=\"T_4cee720c_36c9_11eb_90c1_7c67a253903erow14_col2\" class=\"data row14 col2\" >0.360390</td>\n",
       "                        <td id=\"T_4cee720c_36c9_11eb_90c1_7c67a253903erow14_col3\" class=\"data row14 col3\" >3.083206</td>\n",
       "                        <td id=\"T_4cee720c_36c9_11eb_90c1_7c67a253903erow14_col4\" class=\"data row14 col4\" >0.084829</td>\n",
       "            </tr>\n",
       "            <tr>\n",
       "                        <th id=\"T_4cee720c_36c9_11eb_90c1_7c67a253903elevel0_row15\" class=\"row_heading level0 row15\" >15</th>\n",
       "                        <td id=\"T_4cee720c_36c9_11eb_90c1_7c67a253903erow15_col0\" class=\"data row15 col0\" >{'Organic Navel Orange'} -> {'Bag of Organic Bananas'}</td>\n",
       "                        <td id=\"T_4cee720c_36c9_11eb_90c1_7c67a253903erow15_col1\" class=\"data row15 col1\" >0.005433</td>\n",
       "                        <td id=\"T_4cee720c_36c9_11eb_90c1_7c67a253903erow15_col2\" class=\"data row15 col2\" >0.351984</td>\n",
       "                        <td id=\"T_4cee720c_36c9_11eb_90c1_7c67a253903erow15_col3\" class=\"data row15 col3\" >3.011298</td>\n",
       "                        <td id=\"T_4cee720c_36c9_11eb_90c1_7c67a253903erow15_col4\" class=\"data row15 col4\" >0.091621</td>\n",
       "            </tr>\n",
       "            <tr>\n",
       "                        <th id=\"T_4cee720c_36c9_11eb_90c1_7c67a253903elevel0_row16\" class=\"row_heading level0 row16\" >16</th>\n",
       "                        <td id=\"T_4cee720c_36c9_11eb_90c1_7c67a253903erow16_col0\" class=\"data row16 col0\" >{'Organic Kiwi'} -> {'Bag of Organic Bananas'}</td>\n",
       "                        <td id=\"T_4cee720c_36c9_11eb_90c1_7c67a253903erow16_col1\" class=\"data row16 col1\" >0.004841</td>\n",
       "                        <td id=\"T_4cee720c_36c9_11eb_90c1_7c67a253903erow16_col2\" class=\"data row16 col2\" >0.350036</td>\n",
       "                        <td id=\"T_4cee720c_36c9_11eb_90c1_7c67a253903erow16_col3\" class=\"data row16 col3\" >2.994631</td>\n",
       "                        <td id=\"T_4cee720c_36c9_11eb_90c1_7c67a253903erow16_col4\" class=\"data row16 col4\" >0.085933</td>\n",
       "            </tr>\n",
       "            <tr>\n",
       "                        <th id=\"T_4cee720c_36c9_11eb_90c1_7c67a253903elevel0_row17\" class=\"row_heading level0 row17\" >17</th>\n",
       "                        <td id=\"T_4cee720c_36c9_11eb_90c1_7c67a253903erow17_col0\" class=\"data row17 col0\" >{'Organic Large Extra Fancy Fuji Apple'} -> {'Bag of Organic Bananas'}</td>\n",
       "                        <td id=\"T_4cee720c_36c9_11eb_90c1_7c67a253903erow17_col1\" class=\"data row17 col1\" >0.007462</td>\n",
       "                        <td id=\"T_4cee720c_36c9_11eb_90c1_7c67a253903erow17_col2\" class=\"data row17 col2\" >0.337267</td>\n",
       "                        <td id=\"T_4cee720c_36c9_11eb_90c1_7c67a253903erow17_col3\" class=\"data row17 col3\" >2.885391</td>\n",
       "                        <td id=\"T_4cee720c_36c9_11eb_90c1_7c67a253903erow17_col4\" class=\"data row17 col4\" >0.103174</td>\n",
       "            </tr>\n",
       "            <tr>\n",
       "                        <th id=\"T_4cee720c_36c9_11eb_90c1_7c67a253903elevel0_row18\" class=\"row_heading level0 row18\" >18</th>\n",
       "                        <td id=\"T_4cee720c_36c9_11eb_90c1_7c67a253903erow18_col0\" class=\"data row18 col0\" >{'Organic Hass Avocado'} -> {'Bag of Organic Bananas'}</td>\n",
       "                        <td id=\"T_4cee720c_36c9_11eb_90c1_7c67a253903erow18_col1\" class=\"data row18 col1\" >0.018077</td>\n",
       "                        <td id=\"T_4cee720c_36c9_11eb_90c1_7c67a253903erow18_col2\" class=\"data row18 col2\" >0.327929</td>\n",
       "                        <td id=\"T_4cee720c_36c9_11eb_90c1_7c67a253903erow18_col3\" class=\"data row18 col3\" >2.805495</td>\n",
       "                        <td id=\"T_4cee720c_36c9_11eb_90c1_7c67a253903erow18_col4\" class=\"data row18 col4\" >0.158657</td>\n",
       "            </tr>\n",
       "            <tr>\n",
       "                        <th id=\"T_4cee720c_36c9_11eb_90c1_7c67a253903elevel0_row19\" class=\"row_heading level0 row19\" >19</th>\n",
       "                        <td id=\"T_4cee720c_36c9_11eb_90c1_7c67a253903erow19_col0\" class=\"data row19 col0\" >{\"Organic D'Anjou Pears\"} -> {'Bag of Organic Bananas'}</td>\n",
       "                        <td id=\"T_4cee720c_36c9_11eb_90c1_7c67a253903erow19_col1\" class=\"data row19 col1\" >0.004770</td>\n",
       "                        <td id=\"T_4cee720c_36c9_11eb_90c1_7c67a253903erow19_col2\" class=\"data row19 col2\" >0.326236</td>\n",
       "                        <td id=\"T_4cee720c_36c9_11eb_90c1_7c67a253903erow19_col3\" class=\"data row19 col3\" >2.791017</td>\n",
       "                        <td id=\"T_4cee720c_36c9_11eb_90c1_7c67a253903erow19_col4\" class=\"data row19 col4\" >0.079375</td>\n",
       "            </tr>\n",
       "    </tbody></table>"
      ],
      "text/plain": [
       "<pandas.io.formats.style.Styler at 0x1803f15fec8>"
      ]
     },
     "execution_count": 120,
     "metadata": {},
     "output_type": "execute_result"
    }
   ],
   "source": [
    "#FP-growth算法\n",
    "Order_products_train_fp_transactions = data_loader(Order_products_train, groupby_key, groupby_column, algorithm=\"fp\")\n",
    "Order_products_train_fp_df = fp_growth_main(Order_products_train_fp_transactions, min_support, min_confidence)\n",
    "Order_products_train_fp_df[0:20].style.set_table_styles(dfstyle)"
   ]
  },
  {
   "cell_type": "code",
   "execution_count": 121,
   "metadata": {},
   "outputs": [
    {
     "data": {
      "text/plain": [
       "34"
      ]
     },
     "execution_count": 121,
     "metadata": {},
     "output_type": "execute_result"
    }
   ],
   "source": [
    "Order_products_train_fp_df.shape[0] #统计满足支持度和置信度要求的规则条数"
   ]
  },
  {
   "cell_type": "markdown",
   "metadata": {},
   "source": [
    "5综上，选择第五组参数进行后续处理！"
   ]
  },
  {
   "cell_type": "markdown",
   "metadata": {},
   "source": [
    "## 3.2 规则图示：第（2）问"
   ]
  },
  {
   "cell_type": "markdown",
   "metadata": {},
   "source": [
    "见R语言代码"
   ]
  },
  {
   "cell_type": "markdown",
   "metadata": {},
   "source": [
    "## 3.3 最强规则及兴趣度指标计算：第（3）问"
   ]
  },
  {
   "cell_type": "markdown",
   "metadata": {},
   "source": [
    "采用3.1.5的第五组参数"
   ]
  },
  {
   "cell_type": "code",
   "execution_count": 122,
   "metadata": {},
   "outputs": [],
   "source": [
    "min_support = 0.003 #支持度阈值\n",
    "min_confidence = 0.3 #置信度阈值\n",
    "groupby_key = \"order_id\"#汇总索引\n",
    "groupby_column = \"product_name\" #需要汇总的列\n",
    "#注：data_loader需要传入algorithm参数, \"apr\":Apriori, \"fp\":FP-growth"
   ]
  },
  {
   "cell_type": "code",
   "execution_count": 123,
   "metadata": {},
   "outputs": [
    {
     "name": "stdout",
     "output_type": "stream",
     "text": [
      "FP-growth算法本次用时为 0:00:36.151372s\n"
     ]
    },
    {
     "data": {
      "text/html": [
       "<style  type=\"text/css\" >\n",
       "    #T_6a8cb6d4_36c9_11eb_b45d_7c67a253903e th {\n",
       "          font-size: 12px;\n",
       "    }    #T_6a8cb6d4_36c9_11eb_b45d_7c67a253903e td {\n",
       "          font-size: 10px;\n",
       "    }    #T_6a8cb6d4_36c9_11eb_b45d_7c67a253903e th {\n",
       "          text-align: center;\n",
       "    }</style><table id=\"T_6a8cb6d4_36c9_11eb_b45d_7c67a253903e\" ><thead>    <tr>        <th class=\"blank level0\" ></th>        <th class=\"col_heading level0 col0\" >Rule</th>        <th class=\"col_heading level0 col1\" >Support</th>        <th class=\"col_heading level0 col2\" >Confidence</th>        <th class=\"col_heading level0 col3\" >Lift</th>        <th class=\"col_heading level0 col4\" >Correlation</th>    </tr></thead><tbody>\n",
       "                <tr>\n",
       "                        <th id=\"T_6a8cb6d4_36c9_11eb_b45d_7c67a253903elevel0_row0\" class=\"row_heading level0 row0\" >0</th>\n",
       "                        <td id=\"T_6a8cb6d4_36c9_11eb_b45d_7c67a253903erow0_col0\" class=\"data row0 col0\" >{'Yellow Bell Pepper'} -> {'Orange Bell Pepper'}</td>\n",
       "                        <td id=\"T_6a8cb6d4_36c9_11eb_b45d_7c67a253903erow0_col1\" class=\"data row0 col1\" >0.003143</td>\n",
       "                        <td id=\"T_6a8cb6d4_36c9_11eb_b45d_7c67a253903erow0_col2\" class=\"data row0 col2\" >0.344334</td>\n",
       "                        <td id=\"T_6a8cb6d4_36c9_11eb_b45d_7c67a253903erow0_col3\" class=\"data row0 col3\" >24.196723</td>\n",
       "                        <td id=\"T_6a8cb6d4_36c9_11eb_b45d_7c67a253903erow0_col4\" class=\"data row0 col4\" >0.267517</td>\n",
       "            </tr>\n",
       "            <tr>\n",
       "                        <th id=\"T_6a8cb6d4_36c9_11eb_b45d_7c67a253903elevel0_row1\" class=\"row_heading level0 row1\" >1</th>\n",
       "                        <td id=\"T_6a8cb6d4_36c9_11eb_b45d_7c67a253903erow1_col0\" class=\"data row1 col0\" >{'Large Lemon', 'Organic Avocado'} -> {'Limes'}</td>\n",
       "                        <td id=\"T_6a8cb6d4_36c9_11eb_b45d_7c67a253903erow1_col1\" class=\"data row1 col1\" >0.003073</td>\n",
       "                        <td id=\"T_6a8cb6d4_36c9_11eb_b45d_7c67a253903erow1_col2\" class=\"data row1 col2\" >0.303571</td>\n",
       "                        <td id=\"T_6a8cb6d4_36c9_11eb_b45d_7c67a253903erow1_col3\" class=\"data row1 col3\" >6.558434</td>\n",
       "                        <td id=\"T_6a8cb6d4_36c9_11eb_b45d_7c67a253903erow1_col4\" class=\"data row1 col4\" >0.123834</td>\n",
       "            </tr>\n",
       "            <tr>\n",
       "                        <th id=\"T_6a8cb6d4_36c9_11eb_b45d_7c67a253903elevel0_row2\" class=\"row_heading level0 row2\" >2</th>\n",
       "                        <td id=\"T_6a8cb6d4_36c9_11eb_b45d_7c67a253903erow2_col0\" class=\"data row2 col0\" >{'Organic Avocado', 'Limes'} -> {'Large Lemon'}</td>\n",
       "                        <td id=\"T_6a8cb6d4_36c9_11eb_b45d_7c67a253903erow2_col1\" class=\"data row2 col1\" >0.003073</td>\n",
       "                        <td id=\"T_6a8cb6d4_36c9_11eb_b45d_7c67a253903erow2_col2\" class=\"data row2 col2\" >0.383459</td>\n",
       "                        <td id=\"T_6a8cb6d4_36c9_11eb_b45d_7c67a253903erow2_col3\" class=\"data row2 col3\" >6.210558</td>\n",
       "                        <td id=\"T_6a8cb6d4_36c9_11eb_b45d_7c67a253903erow2_col4\" class=\"data row2 col4\" >0.120141</td>\n",
       "            </tr>\n",
       "            <tr>\n",
       "                        <th id=\"T_6a8cb6d4_36c9_11eb_b45d_7c67a253903elevel0_row3\" class=\"row_heading level0 row3\" >3</th>\n",
       "                        <td id=\"T_6a8cb6d4_36c9_11eb_b45d_7c67a253903erow3_col0\" class=\"data row3 col0\" >{'Limes', 'Banana'} -> {'Large Lemon'}</td>\n",
       "                        <td id=\"T_6a8cb6d4_36c9_11eb_b45d_7c67a253903erow3_col1\" class=\"data row3 col1\" >0.003646</td>\n",
       "                        <td id=\"T_6a8cb6d4_36c9_11eb_b45d_7c67a253903erow3_col2\" class=\"data row3 col2\" >0.360119</td>\n",
       "                        <td id=\"T_6a8cb6d4_36c9_11eb_b45d_7c67a253903erow3_col3\" class=\"data row3 col3\" >5.832546</td>\n",
       "                        <td id=\"T_6a8cb6d4_36c9_11eb_b45d_7c67a253903erow3_col4\" class=\"data row3 col4\" >0.125365</td>\n",
       "            </tr>\n",
       "            <tr>\n",
       "                        <th id=\"T_6a8cb6d4_36c9_11eb_b45d_7c67a253903elevel0_row4\" class=\"row_heading level0 row4\" >4</th>\n",
       "                        <td id=\"T_6a8cb6d4_36c9_11eb_b45d_7c67a253903erow4_col0\" class=\"data row4 col0\" >{'Organic Raspberries', 'Bag of Organic Bananas'} -> {'Organic Hass Avocado'}</td>\n",
       "                        <td id=\"T_6a8cb6d4_36c9_11eb_b45d_7c67a253903erow4_col1\" class=\"data row4 col1\" >0.004148</td>\n",
       "                        <td id=\"T_6a8cb6d4_36c9_11eb_b45d_7c67a253903erow4_col2\" class=\"data row4 col2\" >0.305022</td>\n",
       "                        <td id=\"T_6a8cb6d4_36c9_11eb_b45d_7c67a253903erow4_col3\" class=\"data row4 col3\" >5.533299</td>\n",
       "                        <td id=\"T_6a8cb6d4_36c9_11eb_b45d_7c67a253903erow4_col4\" class=\"data row4 col4\" >0.128561</td>\n",
       "            </tr>\n",
       "            <tr>\n",
       "                        <th id=\"T_6a8cb6d4_36c9_11eb_b45d_7c67a253903elevel0_row5\" class=\"row_heading level0 row5\" >5</th>\n",
       "                        <td id=\"T_6a8cb6d4_36c9_11eb_b45d_7c67a253903erow5_col0\" class=\"data row5 col0\" >{'Organic Hass Avocado', 'Organic Raspberries'} -> {'Bag of Organic Bananas'}</td>\n",
       "                        <td id=\"T_6a8cb6d4_36c9_11eb_b45d_7c67a253903erow5_col1\" class=\"data row5 col1\" >0.004148</td>\n",
       "                        <td id=\"T_6a8cb6d4_36c9_11eb_b45d_7c67a253903erow5_col2\" class=\"data row5 col2\" >0.525445</td>\n",
       "                        <td id=\"T_6a8cb6d4_36c9_11eb_b45d_7c67a253903erow5_col3\" class=\"data row5 col3\" >4.495291</td>\n",
       "                        <td id=\"T_6a8cb6d4_36c9_11eb_b45d_7c67a253903erow5_col4\" class=\"data row5 col4\" >0.113428</td>\n",
       "            </tr>\n",
       "            <tr>\n",
       "                        <th id=\"T_6a8cb6d4_36c9_11eb_b45d_7c67a253903elevel0_row6\" class=\"row_heading level0 row6\" >6</th>\n",
       "                        <td id=\"T_6a8cb6d4_36c9_11eb_b45d_7c67a253903erow6_col0\" class=\"data row6 col0\" >{'Organic Raspberries', 'Bag of Organic Bananas'} -> {'Organic Strawberries'}</td>\n",
       "                        <td id=\"T_6a8cb6d4_36c9_11eb_b45d_7c67a253903erow6_col1\" class=\"data row6 col1\" >0.004981</td>\n",
       "                        <td id=\"T_6a8cb6d4_36c9_11eb_b45d_7c67a253903erow6_col2\" class=\"data row6 col2\" >0.366322</td>\n",
       "                        <td id=\"T_6a8cb6d4_36c9_11eb_b45d_7c67a253903erow6_col3\" class=\"data row6 col3\" >4.430481</td>\n",
       "                        <td id=\"T_6a8cb6d4_36c9_11eb_b45d_7c67a253903erow6_col4\" class=\"data row6 col4\" >0.120923</td>\n",
       "            </tr>\n",
       "            <tr>\n",
       "                        <th id=\"T_6a8cb6d4_36c9_11eb_b45d_7c67a253903elevel0_row7\" class=\"row_heading level0 row7\" >7</th>\n",
       "                        <td id=\"T_6a8cb6d4_36c9_11eb_b45d_7c67a253903erow7_col0\" class=\"data row7 col0\" >{'Organic Cucumber', 'Bag of Organic Bananas'} -> {'Organic Strawberries'}</td>\n",
       "                        <td id=\"T_6a8cb6d4_36c9_11eb_b45d_7c67a253903erow7_col1\" class=\"data row7 col1\" >0.003374</td>\n",
       "                        <td id=\"T_6a8cb6d4_36c9_11eb_b45d_7c67a253903erow7_col2\" class=\"data row7 col2\" >0.347107</td>\n",
       "                        <td id=\"T_6a8cb6d4_36c9_11eb_b45d_7c67a253903erow7_col3\" class=\"data row7 col3\" >4.198090</td>\n",
       "                        <td id=\"T_6a8cb6d4_36c9_11eb_b45d_7c67a253903erow7_col4\" class=\"data row7 col4\" >0.095131</td>\n",
       "            </tr>\n",
       "            <tr>\n",
       "                        <th id=\"T_6a8cb6d4_36c9_11eb_b45d_7c67a253903elevel0_row8\" class=\"row_heading level0 row8\" >8</th>\n",
       "                        <td id=\"T_6a8cb6d4_36c9_11eb_b45d_7c67a253903erow8_col0\" class=\"data row8 col0\" >{'Organic Strawberries', 'Organic Hass Avocado'} -> {'Bag of Organic Bananas'}</td>\n",
       "                        <td id=\"T_6a8cb6d4_36c9_11eb_b45d_7c67a253903erow8_col1\" class=\"data row8 col1\" >0.005493</td>\n",
       "                        <td id=\"T_6a8cb6d4_36c9_11eb_b45d_7c67a253903erow8_col2\" class=\"data row8 col2\" >0.469931</td>\n",
       "                        <td id=\"T_6a8cb6d4_36c9_11eb_b45d_7c67a253903erow8_col3\" class=\"data row8 col3\" >4.020357</td>\n",
       "                        <td id=\"T_6a8cb6d4_36c9_11eb_b45d_7c67a253903erow8_col4\" class=\"data row8 col4\" >0.119507</td>\n",
       "            </tr>\n",
       "            <tr>\n",
       "                        <th id=\"T_6a8cb6d4_36c9_11eb_b45d_7c67a253903elevel0_row9\" class=\"row_heading level0 row9\" >9</th>\n",
       "                        <td id=\"T_6a8cb6d4_36c9_11eb_b45d_7c67a253903erow9_col0\" class=\"data row9 col0\" >{'Organic Hass Avocado', 'Bag of Organic Bananas'} -> {'Organic Strawberries'}</td>\n",
       "                        <td id=\"T_6a8cb6d4_36c9_11eb_b45d_7c67a253903erow9_col1\" class=\"data row9 col1\" >0.005493</td>\n",
       "                        <td id=\"T_6a8cb6d4_36c9_11eb_b45d_7c67a253903erow9_col2\" class=\"data row9 col2\" >0.303889</td>\n",
       "                        <td id=\"T_6a8cb6d4_36c9_11eb_b45d_7c67a253903erow9_col3\" class=\"data row9 col3\" >3.675383</td>\n",
       "                        <td id=\"T_6a8cb6d4_36c9_11eb_b45d_7c67a253903erow9_col4\" class=\"data row9 col4\" >0.108983</td>\n",
       "            </tr>\n",
       "            <tr>\n",
       "                        <th id=\"T_6a8cb6d4_36c9_11eb_b45d_7c67a253903elevel0_row10\" class=\"row_heading level0 row10\" >10</th>\n",
       "                        <td id=\"T_6a8cb6d4_36c9_11eb_b45d_7c67a253903erow10_col0\" class=\"data row10 col0\" >{'Organic Strawberries', 'Organic Cucumber'} -> {'Bag of Organic Bananas'}</td>\n",
       "                        <td id=\"T_6a8cb6d4_36c9_11eb_b45d_7c67a253903erow10_col1\" class=\"data row10 col1\" >0.003374</td>\n",
       "                        <td id=\"T_6a8cb6d4_36c9_11eb_b45d_7c67a253903erow10_col2\" class=\"data row10 col2\" >0.426396</td>\n",
       "                        <td id=\"T_6a8cb6d4_36c9_11eb_b45d_7c67a253903erow10_col3\" class=\"data row10 col3\" >3.647904</td>\n",
       "                        <td id=\"T_6a8cb6d4_36c9_11eb_b45d_7c67a253903erow10_col4\" class=\"data row10 col4\" >0.086039</td>\n",
       "            </tr>\n",
       "            <tr>\n",
       "                        <th id=\"T_6a8cb6d4_36c9_11eb_b45d_7c67a253903elevel0_row11\" class=\"row_heading level0 row11\" >11</th>\n",
       "                        <td id=\"T_6a8cb6d4_36c9_11eb_b45d_7c67a253903erow11_col0\" class=\"data row11 col0\" >{'Organic Raspberries'} -> {'Organic Strawberries'}</td>\n",
       "                        <td id=\"T_6a8cb6d4_36c9_11eb_b45d_7c67a253903erow11_col1\" class=\"data row11 col1\" >0.012664</td>\n",
       "                        <td id=\"T_6a8cb6d4_36c9_11eb_b45d_7c67a253903erow11_col2\" class=\"data row11 col2\" >0.300238</td>\n",
       "                        <td id=\"T_6a8cb6d4_36c9_11eb_b45d_7c67a253903erow11_col3\" class=\"data row11 col3\" >3.631229</td>\n",
       "                        <td id=\"T_6a8cb6d4_36c9_11eb_b45d_7c67a253903erow11_col4\" class=\"data row11 col4\" >0.165773</td>\n",
       "            </tr>\n",
       "            <tr>\n",
       "                        <th id=\"T_6a8cb6d4_36c9_11eb_b45d_7c67a253903elevel0_row12\" class=\"row_heading level0 row12\" >12</th>\n",
       "                        <td id=\"T_6a8cb6d4_36c9_11eb_b45d_7c67a253903erow12_col0\" class=\"data row12 col0\" >{'Organic Hass Avocado', 'Organic Baby Spinach'} -> {'Bag of Organic Bananas'}</td>\n",
       "                        <td id=\"T_6a8cb6d4_36c9_11eb_b45d_7c67a253903erow12_col1\" class=\"data row12 col1\" >0.003786</td>\n",
       "                        <td id=\"T_6a8cb6d4_36c9_11eb_b45d_7c67a253903erow12_col2\" class=\"data row12 col2\" >0.400212</td>\n",
       "                        <td id=\"T_6a8cb6d4_36c9_11eb_b45d_7c67a253903erow12_col3\" class=\"data row12 col3\" >3.423897</td>\n",
       "                        <td id=\"T_6a8cb6d4_36c9_11eb_b45d_7c67a253903erow12_col4\" class=\"data row12 col4\" >0.086180</td>\n",
       "            </tr>\n",
       "            <tr>\n",
       "                        <th id=\"T_6a8cb6d4_36c9_11eb_b45d_7c67a253903elevel0_row13\" class=\"row_heading level0 row13\" >13</th>\n",
       "                        <td id=\"T_6a8cb6d4_36c9_11eb_b45d_7c67a253903erow13_col0\" class=\"data row13 col0\" >{'Organic Strawberries', 'Organic Raspberries'} -> {'Bag of Organic Bananas'}</td>\n",
       "                        <td id=\"T_6a8cb6d4_36c9_11eb_b45d_7c67a253903erow13_col1\" class=\"data row13 col1\" >0.004981</td>\n",
       "                        <td id=\"T_6a8cb6d4_36c9_11eb_b45d_7c67a253903erow13_col2\" class=\"data row13 col2\" >0.393339</td>\n",
       "                        <td id=\"T_6a8cb6d4_36c9_11eb_b45d_7c67a253903erow13_col3\" class=\"data row13 col3\" >3.365091</td>\n",
       "                        <td id=\"T_6a8cb6d4_36c9_11eb_b45d_7c67a253903erow13_col4\" class=\"data row13 col4\" >0.097449</td>\n",
       "            </tr>\n",
       "            <tr>\n",
       "                        <th id=\"T_6a8cb6d4_36c9_11eb_b45d_7c67a253903elevel0_row14\" class=\"row_heading level0 row14\" >14</th>\n",
       "                        <td id=\"T_6a8cb6d4_36c9_11eb_b45d_7c67a253903erow14_col0\" class=\"data row14 col0\" >{'Organic Strawberries', 'Organic Baby Spinach'} -> {'Bag of Organic Bananas'}</td>\n",
       "                        <td id=\"T_6a8cb6d4_36c9_11eb_b45d_7c67a253903erow14_col1\" class=\"data row14 col1\" >0.004459</td>\n",
       "                        <td id=\"T_6a8cb6d4_36c9_11eb_b45d_7c67a253903erow14_col2\" class=\"data row14 col2\" >0.360390</td>\n",
       "                        <td id=\"T_6a8cb6d4_36c9_11eb_b45d_7c67a253903erow14_col3\" class=\"data row14 col3\" >3.083206</td>\n",
       "                        <td id=\"T_6a8cb6d4_36c9_11eb_b45d_7c67a253903erow14_col4\" class=\"data row14 col4\" >0.084829</td>\n",
       "            </tr>\n",
       "            <tr>\n",
       "                        <th id=\"T_6a8cb6d4_36c9_11eb_b45d_7c67a253903elevel0_row15\" class=\"row_heading level0 row15\" >15</th>\n",
       "                        <td id=\"T_6a8cb6d4_36c9_11eb_b45d_7c67a253903erow15_col0\" class=\"data row15 col0\" >{'Organic Navel Orange'} -> {'Bag of Organic Bananas'}</td>\n",
       "                        <td id=\"T_6a8cb6d4_36c9_11eb_b45d_7c67a253903erow15_col1\" class=\"data row15 col1\" >0.005433</td>\n",
       "                        <td id=\"T_6a8cb6d4_36c9_11eb_b45d_7c67a253903erow15_col2\" class=\"data row15 col2\" >0.351984</td>\n",
       "                        <td id=\"T_6a8cb6d4_36c9_11eb_b45d_7c67a253903erow15_col3\" class=\"data row15 col3\" >3.011298</td>\n",
       "                        <td id=\"T_6a8cb6d4_36c9_11eb_b45d_7c67a253903erow15_col4\" class=\"data row15 col4\" >0.091621</td>\n",
       "            </tr>\n",
       "            <tr>\n",
       "                        <th id=\"T_6a8cb6d4_36c9_11eb_b45d_7c67a253903elevel0_row16\" class=\"row_heading level0 row16\" >16</th>\n",
       "                        <td id=\"T_6a8cb6d4_36c9_11eb_b45d_7c67a253903erow16_col0\" class=\"data row16 col0\" >{'Organic Kiwi'} -> {'Bag of Organic Bananas'}</td>\n",
       "                        <td id=\"T_6a8cb6d4_36c9_11eb_b45d_7c67a253903erow16_col1\" class=\"data row16 col1\" >0.004841</td>\n",
       "                        <td id=\"T_6a8cb6d4_36c9_11eb_b45d_7c67a253903erow16_col2\" class=\"data row16 col2\" >0.350036</td>\n",
       "                        <td id=\"T_6a8cb6d4_36c9_11eb_b45d_7c67a253903erow16_col3\" class=\"data row16 col3\" >2.994631</td>\n",
       "                        <td id=\"T_6a8cb6d4_36c9_11eb_b45d_7c67a253903erow16_col4\" class=\"data row16 col4\" >0.085933</td>\n",
       "            </tr>\n",
       "            <tr>\n",
       "                        <th id=\"T_6a8cb6d4_36c9_11eb_b45d_7c67a253903elevel0_row17\" class=\"row_heading level0 row17\" >17</th>\n",
       "                        <td id=\"T_6a8cb6d4_36c9_11eb_b45d_7c67a253903erow17_col0\" class=\"data row17 col0\" >{'Organic Large Extra Fancy Fuji Apple'} -> {'Bag of Organic Bananas'}</td>\n",
       "                        <td id=\"T_6a8cb6d4_36c9_11eb_b45d_7c67a253903erow17_col1\" class=\"data row17 col1\" >0.007462</td>\n",
       "                        <td id=\"T_6a8cb6d4_36c9_11eb_b45d_7c67a253903erow17_col2\" class=\"data row17 col2\" >0.337267</td>\n",
       "                        <td id=\"T_6a8cb6d4_36c9_11eb_b45d_7c67a253903erow17_col3\" class=\"data row17 col3\" >2.885391</td>\n",
       "                        <td id=\"T_6a8cb6d4_36c9_11eb_b45d_7c67a253903erow17_col4\" class=\"data row17 col4\" >0.103174</td>\n",
       "            </tr>\n",
       "            <tr>\n",
       "                        <th id=\"T_6a8cb6d4_36c9_11eb_b45d_7c67a253903elevel0_row18\" class=\"row_heading level0 row18\" >18</th>\n",
       "                        <td id=\"T_6a8cb6d4_36c9_11eb_b45d_7c67a253903erow18_col0\" class=\"data row18 col0\" >{'Organic Hass Avocado'} -> {'Bag of Organic Bananas'}</td>\n",
       "                        <td id=\"T_6a8cb6d4_36c9_11eb_b45d_7c67a253903erow18_col1\" class=\"data row18 col1\" >0.018077</td>\n",
       "                        <td id=\"T_6a8cb6d4_36c9_11eb_b45d_7c67a253903erow18_col2\" class=\"data row18 col2\" >0.327929</td>\n",
       "                        <td id=\"T_6a8cb6d4_36c9_11eb_b45d_7c67a253903erow18_col3\" class=\"data row18 col3\" >2.805495</td>\n",
       "                        <td id=\"T_6a8cb6d4_36c9_11eb_b45d_7c67a253903erow18_col4\" class=\"data row18 col4\" >0.158657</td>\n",
       "            </tr>\n",
       "            <tr>\n",
       "                        <th id=\"T_6a8cb6d4_36c9_11eb_b45d_7c67a253903elevel0_row19\" class=\"row_heading level0 row19\" >19</th>\n",
       "                        <td id=\"T_6a8cb6d4_36c9_11eb_b45d_7c67a253903erow19_col0\" class=\"data row19 col0\" >{\"Organic D'Anjou Pears\"} -> {'Bag of Organic Bananas'}</td>\n",
       "                        <td id=\"T_6a8cb6d4_36c9_11eb_b45d_7c67a253903erow19_col1\" class=\"data row19 col1\" >0.004770</td>\n",
       "                        <td id=\"T_6a8cb6d4_36c9_11eb_b45d_7c67a253903erow19_col2\" class=\"data row19 col2\" >0.326236</td>\n",
       "                        <td id=\"T_6a8cb6d4_36c9_11eb_b45d_7c67a253903erow19_col3\" class=\"data row19 col3\" >2.791017</td>\n",
       "                        <td id=\"T_6a8cb6d4_36c9_11eb_b45d_7c67a253903erow19_col4\" class=\"data row19 col4\" >0.079375</td>\n",
       "            </tr>\n",
       "    </tbody></table>"
      ],
      "text/plain": [
       "<pandas.io.formats.style.Styler at 0x18030563208>"
      ]
     },
     "execution_count": 123,
     "metadata": {},
     "output_type": "execute_result"
    }
   ],
   "source": [
    "#FP-growth算法\n",
    "Order_products_train_fp_transactions = data_loader(Order_products_train, groupby_key, groupby_column, algorithm=\"fp\")\n",
    "Order_products_train_fp_df = fp_growth_main(Order_products_train_fp_transactions, min_support, min_confidence)\n",
    "Order_products_train_fp_df[0:20].style.set_table_styles(dfstyle)"
   ]
  },
  {
   "cell_type": "code",
   "execution_count": 124,
   "metadata": {},
   "outputs": [
    {
     "data": {
      "text/plain": [
       "34"
      ]
     },
     "execution_count": 124,
     "metadata": {},
     "output_type": "execute_result"
    }
   ],
   "source": [
    "Order_products_train_fp_df.shape[0] #统计满足支持度和置信度要求的规则条数"
   ]
  },
  {
   "cell_type": "markdown",
   "metadata": {},
   "source": [
    "## 3.4 将商品概化为商品类（根据department字段） ：第（4）问"
   ]
  },
  {
   "cell_type": "code",
   "execution_count": 127,
   "metadata": {},
   "outputs": [],
   "source": [
    "#画图\n",
    "import datetime\n",
    "from functools import reduce\n",
    "from pathlib import Path\n",
    "\n",
    "from bqplot import *\n",
    "from bqplot.marks import Graph\n",
    "from efficient_apriori import apriori\n",
    "from ipywidgets import (\n",
    "    AppLayout,\n",
    "    Button,\n",
    "    FloatLogSlider,\n",
    "    FloatSlider,\n",
    "    HBox,\n",
    "    IntSlider,\n",
    "    Label,\n",
    "    Layout,\n",
    "    SelectMultiple,\n",
    "    Textarea,\n",
    "    TwoByTwoLayout,\n",
    "    VBox,\n",
    ")\n",
    "\n",
    "\n",
    "class Arulesviz:\n",
    "    def __init__(\n",
    "        self,\n",
    "        transactions,\n",
    "        min_sup,\n",
    "        min_conf,\n",
    "        min_lift,\n",
    "        max_sup=1.0,\n",
    "        min_slift=0.1,\n",
    "        products_to_drop=[],\n",
    "    ):\n",
    "        self.rules = []\n",
    "        self.transactions = transactions\n",
    "        self.min_lift = min_lift\n",
    "        self.min_slift = min_slift\n",
    "        self.min_slift = min_slift or min_lift\n",
    "        self.min_sup = min_sup\n",
    "        self.min_conf = min_conf\n",
    "        self.max_sup = max_sup\n",
    "        self.products_to_in = []\n",
    "        self.products_to_out = products_to_drop\n",
    "        self._hovered_product = None\n",
    "\n",
    "    def _standardized_lift(self, rule, s=None, c=None):\n",
    "        \"\"\"\n",
    "        Parameters\n",
    "        ----------\n",
    "        rule:\n",
    "              Target rule\n",
    "        s: float\n",
    "           Support treshold user for rule mining\n",
    "        c: float\n",
    "           Confidence treshold user for rule mining\n",
    "        \"\"\"\n",
    "        s = s or self.min_sup\n",
    "        c = c or self.min_conf\n",
    "        prob_A = getattr(rule, \"support\") / getattr(rule, \"confidence\")\n",
    "        prob_B = getattr(rule, \"confidence\") / getattr(rule, \"lift\")\n",
    "        mult_A_and_B = prob_A * prob_B\n",
    "        L = max(\n",
    "            1 / prob_A + 1 / prob_B - 1 / (mult_A_and_B),\n",
    "            s / mult_A_and_B,\n",
    "            c / prob_B,\n",
    "            0,\n",
    "        )\n",
    "        U = min(1 / prob_A, 1 / prob_B)\n",
    "        slift = (getattr(rule, \"lift\") - L) / (U - L)\n",
    "        return slift\n",
    "\n",
    "    def create_rules(self, drop_products=True, max_sup=None):\n",
    "        max_sup = max_sup or self.max_sup\n",
    "        tr = self.transactions\n",
    "        if drop_products:\n",
    "            to_drop = set(self.products_to_out)\n",
    "            tr = [set(x) - to_drop for x in tr]\n",
    "            tr = [x for x in tr if x]\n",
    "        _, self.rules = apriori(\n",
    "            tr, min_support=self.min_sup, min_confidence=self.min_conf\n",
    "        )\n",
    "        for rule in self.rules:\n",
    "            setattr(rule, \"slift\", self._standardized_lift(rule))\n",
    "        self.rules = self.filter_numeric(\n",
    "            \"support\", max_sup, self.rules, should_be_lower=True\n",
    "        )\n",
    "        self._max_sup = max([x.support for x in self.rules])\n",
    "        self._max_conf = max([x.confidence for x in self.rules])\n",
    "\n",
    "    def filter_numeric(self, atr, val, rules, should_be_lower=False):\n",
    "        rules = rules\n",
    "        if should_be_lower:\n",
    "            return [x for x in rules if getattr(x, atr) < val]\n",
    "        return [x for x in rules if getattr(x, atr) > val]\n",
    "\n",
    "    def filter_drop_if_name_in(self, vals, rules, lhs=True, rhs=True):\n",
    "        rules = rules\n",
    "        vals = set(vals)\n",
    "        f = lambda x: not any(\n",
    "            [(lhs and (vals & set(x.lhs))), (rhs and (vals & set(x.rhs)))]\n",
    "        )\n",
    "        return list(filter(f, rules))\n",
    "\n",
    "    def filter_drop_if_name_out(self, vals, rules, lhs=True, rhs=True):\n",
    "        rules = rules\n",
    "        vals = set(vals)\n",
    "        f = lambda x: any(\n",
    "            [(lhs and (vals & set(x.lhs))), (rhs and (vals & set(x.rhs)))]\n",
    "        )\n",
    "        return list(filter(f, rules))\n",
    "\n",
    "    def get_unique_products(self, rules):\n",
    "        rules = rules\n",
    "        return reduce(\n",
    "            lambda x, y: (x if isinstance(x, set) else set(x.lhs) | set(x.rhs))\n",
    "            | set(y.lhs)\n",
    "            | set(y.rhs),\n",
    "            rules,\n",
    "        )\n",
    "\n",
    "    def create_graph(self, rules):\n",
    "        rules = rules\n",
    "        nodes = []\n",
    "        links = []\n",
    "        colors = []\n",
    "        name_to_id = {}\n",
    "        already_seen = set()\n",
    "        for sr in rules:\n",
    "            current_comb = tuple(sorted(set(sr.lhs) | set(sr.rhs)))\n",
    "            if current_comb in already_seen:\n",
    "                continue\n",
    "            else:\n",
    "                already_seen.add(current_comb)\n",
    "            # node_size = max(min(sr.lift * 10, 30), 5)\n",
    "            nodes.append(\n",
    "                {\n",
    "                    \"label\": f\".\",\n",
    "                    \"shape\": \"circle\",\n",
    "                    \"shape_attrs\": {\"r\": max(min(sr.lift, 7), 2)},\n",
    "                    \"is_rule\": True,\n",
    "                    \"tooltip\": str(sr),\n",
    "                }\n",
    "            )\n",
    "            colors.append(\"black\")\n",
    "            rule_id = len(nodes) - 1\n",
    "\n",
    "            for node_name in sr.lhs:\n",
    "                l_node_id = name_to_id.get(node_name, None)\n",
    "                if l_node_id == None:\n",
    "                    nodes.append(\n",
    "                        {\n",
    "                            \"label\": node_name,\n",
    "                            \"shape\": \"rect\",\n",
    "                            \"is_rule\": False,\n",
    "                            \"shape_attrs\": {\n",
    "                                \"width\": 6 * len(node_name) + 8,\n",
    "                                \"height\": 20,\n",
    "                            },\n",
    "                        }\n",
    "                    )\n",
    "                    colors.append(\"white\")\n",
    "                    l_node_id = len(nodes) - 1\n",
    "                    name_to_id[node_name] = l_node_id\n",
    "                links.append({\"source\": l_node_id, \"target\": rule_id, \"value\": sr.lift})\n",
    "\n",
    "            for node_name in sr.rhs:\n",
    "                r_node_id = name_to_id.get(node_name, None)\n",
    "                if r_node_id == None:\n",
    "                    nodes.append(\n",
    "                        {\n",
    "                            \"label\": node_name,\n",
    "                            \"shape\": \"rect\",\n",
    "                            \"is_rule\": False,\n",
    "                            \"shape_attrs\": {\n",
    "                                \"width\": 6 * len(node_name) + 8,\n",
    "                                \"height\": 20,\n",
    "                            },\n",
    "                        }\n",
    "                    )\n",
    "                    r_node_id = len(nodes) - 1\n",
    "                    name_to_id[node_name] = r_node_id\n",
    "                    colors.append(\"white\")\n",
    "                links.append({\"source\": rule_id, \"target\": r_node_id, \"value\": sr.lift})\n",
    "        return nodes, links, colors\n",
    "\n",
    "    def replot_graph(self):\n",
    "        sub_rules = self.filter_numeric(\"lift\", self.min_lift, rules=self.rules)\n",
    "        sub_rules = self.filter_numeric(\"support\", self.min_sup, rules=sub_rules)\n",
    "        sub_rules = self.filter_numeric(\"slift\", self.min_slift, rules=sub_rules)\n",
    "        sub_rules = self.filter_numeric(\"confidence\", self.min_conf, rules=sub_rules)\n",
    "        sub_rules = self.filter_drop_if_name_in(self.products_to_out, rules=sub_rules)\n",
    "        sub_rules = self.filter_drop_if_name_out(self.products_to_in, rules=sub_rules)\n",
    "        (\n",
    "            self.graph.node_data,\n",
    "            self.graph.link_data,\n",
    "            _,  # self.graph.colors,\n",
    "        ) = self.create_graph(sub_rules)\n",
    "\n",
    "    def handler_products_out_filter(self, value):\n",
    "        self.products_to_out = value[\"new\"]\n",
    "        self.replot_graph()\n",
    "\n",
    "    def setup_products_out_selector(self):\n",
    "        self.selector_products_out = SelectMultiple(\n",
    "            options=sorted(self.get_unique_products(self.rules)),\n",
    "            value=[],\n",
    "            rows=10,\n",
    "            # description=\"Drop\",\n",
    "            disabled=False,\n",
    "        )\n",
    "        self.selector_products_out.observe(self.handler_products_out_filter, \"value\")\n",
    "\n",
    "    def handler_products_in_filter(self, value):\n",
    "        self.products_to_in = value[\"new\"]\n",
    "        self.replot_graph()\n",
    "\n",
    "    def setup_products_in_selector(self):\n",
    "        self.selector_products_in = SelectMultiple(\n",
    "            options=sorted(self.get_unique_products(self.rules)),\n",
    "            value=sorted(self.get_unique_products(self.rules)),\n",
    "            rows=10,\n",
    "            # description=\"Include\",\n",
    "            disabled=False,\n",
    "        )\n",
    "        self.products_to_in = sorted(self.get_unique_products(self.rules))\n",
    "        self.selector_products_in.observe(self.handler_products_in_filter, \"value\")\n",
    "\n",
    "    def set_slider_value(self, value):\n",
    "        setattr(self, getattr(value[\"owner\"], \"description\"), value[\"new\"])\n",
    "        self.replot_graph()\n",
    "\n",
    "    def setup_lift_slider(self):\n",
    "        name = \"lift\"\n",
    "        setattr(\n",
    "            self,\n",
    "            f\"slider_{name}\",\n",
    "            FloatLogSlider(\n",
    "                value=getattr(self, f\"min_{name}\"),\n",
    "                min=-0.5,\n",
    "                max=1.5,\n",
    "                step=0.05,\n",
    "                base=10,\n",
    "                description=f\"min_{name}\",\n",
    "                disabled=False,\n",
    "                continuous_update=False,\n",
    "                orientation=\"horizontal\",\n",
    "                readout=True,\n",
    "                readout_format=\".3f\",\n",
    "            ),\n",
    "        )\n",
    "        getattr(self, f\"slider_{name}\").observe(self.set_slider_value, \"value\")\n",
    "\n",
    "    def setup_conf_slider(self):\n",
    "        name = \"conf\"\n",
    "        setattr(\n",
    "            self,\n",
    "            f\"slider_{name}\",\n",
    "            FloatSlider(\n",
    "                value=getattr(self, f\"min_{name}\"),\n",
    "                min=0.0,\n",
    "                max=self._max_conf,\n",
    "                step=0.0001,\n",
    "                base=10,\n",
    "                description=f\"min_{name}\",\n",
    "                disabled=False,\n",
    "                continuous_update=False,\n",
    "                orientation=\"horizontal\",\n",
    "                readout=True,\n",
    "                readout_format=\".5f\",\n",
    "            ),\n",
    "        )\n",
    "        getattr(self, f\"slider_{name}\").observe(self.set_slider_value, \"value\")\n",
    "\n",
    "    def setup_slift_slider(self):\n",
    "        name = \"slift\"\n",
    "        setattr(\n",
    "            self,\n",
    "            f\"slider_{name}\",\n",
    "            FloatSlider(\n",
    "                value=getattr(self, f\"min_{name}\"),\n",
    "                min=0.0,\n",
    "                max=1.0,\n",
    "                step=0.0001,\n",
    "                base=10,\n",
    "                description=f\"min_{name}\",\n",
    "                disabled=False,\n",
    "                continuous_update=False,\n",
    "                orientation=\"horizontal\",\n",
    "                readout=True,\n",
    "                readout_format=\".5f\",\n",
    "            ),\n",
    "        )\n",
    "        getattr(self, f\"slider_{name}\").observe(self.set_slider_value, \"value\")\n",
    "\n",
    "    def setup_sup_slider(self):\n",
    "        name = \"sup\"\n",
    "        setattr(\n",
    "            self,\n",
    "            f\"slider_{name}\",\n",
    "            FloatSlider(\n",
    "                value=getattr(self, f\"min_{name}\"),\n",
    "                min=0.0,\n",
    "                max=self._max_sup,\n",
    "                step=0.0001,\n",
    "                base=10,\n",
    "                description=f\"min_{name}\",\n",
    "                disabled=False,\n",
    "                continuous_update=False,\n",
    "                orientation=\"horizontal\",\n",
    "                readout=True,\n",
    "                readout_format=\".5f\",\n",
    "            ),\n",
    "        )\n",
    "        getattr(self, f\"slider_{name}\").observe(self.set_slider_value, \"value\")\n",
    "\n",
    "    def _save_graph_img(self, b):\n",
    "        self.fig.save_png(\n",
    "            f\"arulesviz_{datetime.datetime.now().isoformat().replace(':','-').split('.')[0]}.png\"\n",
    "        )\n",
    "\n",
    "    def setup_graph_to_img_button(self):\n",
    "        self.graph_to_img_button = Button(description=\"Save img!\")\n",
    "        self.graph_to_img_button.on_click(self._save_graph_img)\n",
    "\n",
    "    def plot_graph(\n",
    "        self,\n",
    "        width=1000,\n",
    "        height=750,\n",
    "        charge=-200,\n",
    "        link_type=\"arc\",\n",
    "        directed=True,\n",
    "        link_distance=100,\n",
    "    ):\n",
    "        fig_layout = Layout(width=f\"{width}px\", height=f\"{height}px\")\n",
    "        nodes, links, colors = self.create_graph(\n",
    "            self.filter_numeric(\"lift\", self.min_lift, rules=self.rules)\n",
    "        )\n",
    "        # xs = LinearScale(min=0, max=1000)\n",
    "        # ys = LinearScale(min=0, max=750)\n",
    "        cs = ColorScale(scheme=\"Reds\")\n",
    "        self.graph = Graph(\n",
    "            node_data=nodes,\n",
    "            link_data=links,\n",
    "            # colors=colors,\n",
    "            charge=charge,\n",
    "            link_type=link_type,\n",
    "            directed=directed,\n",
    "            link_distance=link_distance,\n",
    "            # scales={'color': cs}\n",
    "        )\n",
    "        margin = dict(top=-60, bottom=-60, left=-60, right=-60)\n",
    "        self.fig = Figure(\n",
    "            marks=[self.graph],\n",
    "            layout=Layout(width=f\"{width}px\", height=f\"{height}px\"),\n",
    "            fig_margin=dict(top=0, bottom=0, left=0, right=0),\n",
    "            legend_text={\"font-size\": 7},\n",
    "        )\n",
    "\n",
    "        # tooltip = Tooltip(fields=[\"foo\"], formats=[\"\", \"\", \"\"])\n",
    "        # self.graph.tooltip = tooltip\n",
    "\n",
    "        # self.graph.on_hover(self.hover_handler)\n",
    "        self.graph.on_element_click(self.hover_handler)\n",
    "        self.graph.on_background_click(self.clean_tooltip)\n",
    "        self.graph.interactions = {\"click\": \"tooltip\"}\n",
    "        self.setup_sup_slider()\n",
    "        self.setup_lift_slider()\n",
    "        self.setup_conf_slider()\n",
    "        self.setup_slift_slider()\n",
    "        self.setup_products_in_selector()\n",
    "        self.setup_products_out_selector()\n",
    "        self.setup_graph_to_img_button()\n",
    "        self.setup_product_tooltip()\n",
    "        return VBox(\n",
    "            [\n",
    "                HBox(\n",
    "                    [\n",
    "                        self.selector_products_in,\n",
    "                        self.selector_products_out,\n",
    "                        VBox(\n",
    "                            [\n",
    "                                getattr(self, \"slider_lift\"),\n",
    "                                getattr(self, \"slider_slift\"),\n",
    "                                getattr(self, \"slider_conf\"),\n",
    "                                getattr(self, \"slider_sup\"),\n",
    "                            ]\n",
    "                        ),\n",
    "                        getattr(self, \"graph_to_img_button\"),\n",
    "                    ]\n",
    "                ),\n",
    "                self.fig,\n",
    "            ]\n",
    "        )\n",
    "\n",
    "    def clean_tooltip(self, x, y):\n",
    "        self.graph.tooltip = None\n",
    "\n",
    "    def plot_scatter(\n",
    "        self,\n",
    "        products=[],\n",
    "        min_width=600,\n",
    "        min_height=600,\n",
    "        max_width=600,\n",
    "        max_height=600,\n",
    "        with_toolbar=True,\n",
    "        display_names=False,\n",
    "    ):\n",
    "        if products:\n",
    "            sub_rules = self.filter_drop_if_name_out(products, self.rules)\n",
    "        else:\n",
    "            sub_rules = self.rules\n",
    "        data_x = [np.round(x.support * 100, 3) for x in sub_rules]\n",
    "        data_y = [np.round(x.confidence * 100, 3) for x in sub_rules]\n",
    "        color = [np.round(x.lift, 4) for x in sub_rules]\n",
    "        names = [str(sr) for sr in sub_rules]\n",
    "        sc_x = LinearScale()\n",
    "        sc_y = LinearScale()\n",
    "        sc_color = ColorScale(scheme=\"Reds\")\n",
    "        ax_c = ColorAxis(\n",
    "            scale=sc_color,\n",
    "            tick_format=\"\",\n",
    "            label=\"Lift\",\n",
    "            orientation=\"vertical\",\n",
    "            side=\"right\",\n",
    "        )\n",
    "        tt = Tooltip(fields=[\"name\"], formats=[\"\"])\n",
    "        scatt = Scatter(\n",
    "            x=data_x,\n",
    "            y=data_y,\n",
    "            color=color,\n",
    "            scales={\"x\": sc_x, \"y\": sc_y, \"color\": sc_color},\n",
    "            tooltip=tt,\n",
    "            names=names,\n",
    "            display_names=display_names,\n",
    "        )\n",
    "        ax_x = Axis(scale=sc_x, label=\"Sup*100\")\n",
    "        ax_y = Axis(scale=sc_y, label=\"Conf*100\", orientation=\"vertical\")\n",
    "        m_chart = dict(top=50, bottom=70, left=50, right=100)\n",
    "        fig = Figure(\n",
    "            marks=[scatt],\n",
    "            axes=[ax_x, ax_y, ax_c],\n",
    "            fig_margin=m_chart,\n",
    "            layout=Layout(\n",
    "                min_width=f\"{min_width}px\",\n",
    "                min_height=f\"{min_height}px\",\n",
    "                max_width=f\"{max_width}px\",\n",
    "                max_height=f\"{max_height}px\",\n",
    "            ),\n",
    "        )\n",
    "        if with_toolbar:\n",
    "            toolbar = Toolbar(figure=fig)\n",
    "            return VBox([fig, toolbar])\n",
    "        else:\n",
    "            return fig\n",
    "\n",
    "    def setup_product_tooltip(self, products=[]):\n",
    "        self.graph.tooltip = self.plot_scatter(products)\n",
    "        if len(products) == 1:\n",
    "            self.graph.tooltip.title = products[-1]\n",
    "        else:\n",
    "            self.graph.tooltip.title = \"Products scatter\"\n",
    "\n",
    "    def hover_handler(self, qq, content):\n",
    "        product = content.get(\"data\", {}).get(\"label\", -1)\n",
    "        is_rule = content.get(\"data\", {}).get(\"tooltip\", None)\n",
    "        if product != self._hovered_product:\n",
    "            if is_rule:\n",
    "                self._hovered_product = content.get(\"data\", {}).get(\"tooltip\", None)\n",
    "                self.graph.tooltip = Textarea(\n",
    "                    content.get(\"data\", {}).get(\"tooltip\", None)\n",
    "                )\n",
    "                self.graph.tooltip_location = \"center\"\n",
    "            else:\n",
    "                self._hovered_product = product\n",
    "                self.setup_product_tooltip([product])\n",
    "                self.graph.tooltip_location = \"center\""
   ]
  },
  {
   "cell_type": "markdown",
   "metadata": {},
   "source": [
    "### 1、读取数据并将数据集按照key进行join，对数据集的department和aisles两个label进行基础的描述性统计分析"
   ]
  },
  {
   "cell_type": "code",
   "execution_count": 130,
   "metadata": {},
   "outputs": [
    {
     "data": {
      "text/html": [
       "<div>\n",
       "<style scoped>\n",
       "    .dataframe tbody tr th:only-of-type {\n",
       "        vertical-align: middle;\n",
       "    }\n",
       "\n",
       "    .dataframe tbody tr th {\n",
       "        vertical-align: top;\n",
       "    }\n",
       "\n",
       "    .dataframe thead th {\n",
       "        text-align: right;\n",
       "    }\n",
       "</style>\n",
       "<table border=\"1\" class=\"dataframe\">\n",
       "  <thead>\n",
       "    <tr style=\"text-align: right;\">\n",
       "      <th></th>\n",
       "      <th>order_id</th>\n",
       "      <th>product_id</th>\n",
       "      <th>add_to_cart_order</th>\n",
       "      <th>reordered</th>\n",
       "      <th>product_name</th>\n",
       "      <th>aisle_id</th>\n",
       "      <th>department_id</th>\n",
       "      <th>department</th>\n",
       "      <th>aisle</th>\n",
       "    </tr>\n",
       "  </thead>\n",
       "  <tbody>\n",
       "    <tr>\n",
       "      <th>0</th>\n",
       "      <td>1</td>\n",
       "      <td>49302</td>\n",
       "      <td>1</td>\n",
       "      <td>1</td>\n",
       "      <td>Bulgarian Yogurt</td>\n",
       "      <td>120</td>\n",
       "      <td>16.0</td>\n",
       "      <td>dairy eggs</td>\n",
       "      <td>yogurt</td>\n",
       "    </tr>\n",
       "    <tr>\n",
       "      <th>1</th>\n",
       "      <td>1</td>\n",
       "      <td>11109</td>\n",
       "      <td>2</td>\n",
       "      <td>1</td>\n",
       "      <td>Organic 4% Milk Fat Whole Milk Cottage Cheese</td>\n",
       "      <td>108</td>\n",
       "      <td>16.0</td>\n",
       "      <td>dairy eggs</td>\n",
       "      <td>other creams cheeses</td>\n",
       "    </tr>\n",
       "    <tr>\n",
       "      <th>2</th>\n",
       "      <td>1</td>\n",
       "      <td>10246</td>\n",
       "      <td>3</td>\n",
       "      <td>0</td>\n",
       "      <td>Organic Celery Hearts</td>\n",
       "      <td>83</td>\n",
       "      <td>4.0</td>\n",
       "      <td>produce</td>\n",
       "      <td>fresh vegetables</td>\n",
       "    </tr>\n",
       "    <tr>\n",
       "      <th>3</th>\n",
       "      <td>1</td>\n",
       "      <td>49683</td>\n",
       "      <td>4</td>\n",
       "      <td>0</td>\n",
       "      <td>Cucumber Kirby</td>\n",
       "      <td>83</td>\n",
       "      <td>4.0</td>\n",
       "      <td>produce</td>\n",
       "      <td>fresh vegetables</td>\n",
       "    </tr>\n",
       "    <tr>\n",
       "      <th>4</th>\n",
       "      <td>1</td>\n",
       "      <td>43633</td>\n",
       "      <td>5</td>\n",
       "      <td>1</td>\n",
       "      <td>Lightly Smoked Sardines in Olive Oil</td>\n",
       "      <td>95</td>\n",
       "      <td>15.0</td>\n",
       "      <td>canned goods</td>\n",
       "      <td>canned meat seafood</td>\n",
       "    </tr>\n",
       "    <tr>\n",
       "      <th>...</th>\n",
       "      <td>...</td>\n",
       "      <td>...</td>\n",
       "      <td>...</td>\n",
       "      <td>...</td>\n",
       "      <td>...</td>\n",
       "      <td>...</td>\n",
       "      <td>...</td>\n",
       "      <td>...</td>\n",
       "      <td>...</td>\n",
       "    </tr>\n",
       "    <tr>\n",
       "      <th>1048570</th>\n",
       "      <td>2593147</td>\n",
       "      <td>44142</td>\n",
       "      <td>3</td>\n",
       "      <td>0</td>\n",
       "      <td>Red Onion</td>\n",
       "      <td>83</td>\n",
       "      <td>4.0</td>\n",
       "      <td>produce</td>\n",
       "      <td>fresh vegetables</td>\n",
       "    </tr>\n",
       "    <tr>\n",
       "      <th>1048571</th>\n",
       "      <td>2593147</td>\n",
       "      <td>34969</td>\n",
       "      <td>4</td>\n",
       "      <td>1</td>\n",
       "      <td>Red Vine Tomato</td>\n",
       "      <td>83</td>\n",
       "      <td>4.0</td>\n",
       "      <td>produce</td>\n",
       "      <td>fresh vegetables</td>\n",
       "    </tr>\n",
       "    <tr>\n",
       "      <th>1048572</th>\n",
       "      <td>2593147</td>\n",
       "      <td>33055</td>\n",
       "      <td>5</td>\n",
       "      <td>0</td>\n",
       "      <td>Organic Golden Delicious Apple</td>\n",
       "      <td>24</td>\n",
       "      <td>4.0</td>\n",
       "      <td>produce</td>\n",
       "      <td>fresh fruits</td>\n",
       "    </tr>\n",
       "    <tr>\n",
       "      <th>1048573</th>\n",
       "      <td>2593147</td>\n",
       "      <td>16185</td>\n",
       "      <td>6</td>\n",
       "      <td>1</td>\n",
       "      <td>Sharp Cheddar Cheese</td>\n",
       "      <td>21</td>\n",
       "      <td>16.0</td>\n",
       "      <td>dairy eggs</td>\n",
       "      <td>packaged cheese</td>\n",
       "    </tr>\n",
       "    <tr>\n",
       "      <th>1048574</th>\n",
       "      <td>2593147</td>\n",
       "      <td>7364</td>\n",
       "      <td>7</td>\n",
       "      <td>0</td>\n",
       "      <td>Red Mild Enchilada Sauce</td>\n",
       "      <td>30</td>\n",
       "      <td>6.0</td>\n",
       "      <td>international</td>\n",
       "      <td>latino foods</td>\n",
       "    </tr>\n",
       "  </tbody>\n",
       "</table>\n",
       "<p>1048575 rows × 9 columns</p>\n",
       "</div>"
      ],
      "text/plain": [
       "         order_id  product_id  add_to_cart_order  reordered  \\\n",
       "0               1       49302                  1          1   \n",
       "1               1       11109                  2          1   \n",
       "2               1       10246                  3          0   \n",
       "3               1       49683                  4          0   \n",
       "4               1       43633                  5          1   \n",
       "...           ...         ...                ...        ...   \n",
       "1048570   2593147       44142                  3          0   \n",
       "1048571   2593147       34969                  4          1   \n",
       "1048572   2593147       33055                  5          0   \n",
       "1048573   2593147       16185                  6          1   \n",
       "1048574   2593147        7364                  7          0   \n",
       "\n",
       "                                          product_name  aisle_id  \\\n",
       "0                                     Bulgarian Yogurt       120   \n",
       "1        Organic 4% Milk Fat Whole Milk Cottage Cheese       108   \n",
       "2                                Organic Celery Hearts        83   \n",
       "3                                       Cucumber Kirby        83   \n",
       "4                 Lightly Smoked Sardines in Olive Oil        95   \n",
       "...                                                ...       ...   \n",
       "1048570                                      Red Onion        83   \n",
       "1048571                                Red Vine Tomato        83   \n",
       "1048572                 Organic Golden Delicious Apple        24   \n",
       "1048573                           Sharp Cheddar Cheese        21   \n",
       "1048574                       Red Mild Enchilada Sauce        30   \n",
       "\n",
       "         department_id     department                 aisle  \n",
       "0                 16.0     dairy eggs                yogurt  \n",
       "1                 16.0     dairy eggs  other creams cheeses  \n",
       "2                  4.0        produce      fresh vegetables  \n",
       "3                  4.0        produce      fresh vegetables  \n",
       "4                 15.0   canned goods   canned meat seafood  \n",
       "...                ...            ...                   ...  \n",
       "1048570            4.0        produce      fresh vegetables  \n",
       "1048571            4.0        produce      fresh vegetables  \n",
       "1048572            4.0        produce          fresh fruits  \n",
       "1048573           16.0     dairy eggs       packaged cheese  \n",
       "1048574            6.0  international          latino foods  \n",
       "\n",
       "[1048575 rows x 9 columns]"
      ]
     },
     "execution_count": 130,
     "metadata": {},
     "output_type": "execute_result"
    }
   ],
   "source": [
    "order = pd.read_csv(\"./order_products_train.csv\")\n",
    "department = pd.read_csv(\"./departments.csv\")\n",
    "aisles = pd.read_csv(\"./aisles.csv\")\n",
    "product = pd.read_csv(\"./products.csv\",encoding='ISO-8859-1')\n",
    "##以order为主表，其他表left join连接\n",
    "order_data = pd.merge((pd.merge((pd.merge(order, product, on = 'product_id', how ='left')),department,on='department_id',how='left')),aisles,on='aisle_id',how='left')\n",
    "order_data"
   ]
  },
  {
   "cell_type": "code",
   "execution_count": 131,
   "metadata": {},
   "outputs": [
    {
     "data": {
      "text/plain": [
       "24439"
      ]
     },
     "execution_count": 131,
     "metadata": {},
     "output_type": "execute_result"
    }
   ],
   "source": [
    "len(order_data[order_data.department=='deli'].loc[:,'order_id'].unique())"
   ]
  },
  {
   "cell_type": "code",
   "execution_count": 132,
   "metadata": {},
   "outputs": [
    {
     "name": "stdout",
     "output_type": "stream",
     "text": [
      "99574\n",
      "22\n",
      "134\n",
      "['dairy eggs' 'produce' 'canned goods' 'beverages' 'deli' 'snacks'\n",
      " 'pantry' 'frozen' 'meat seafood' 'household' 'bakery' 'personal care'\n",
      " 'dry goods pasta' 'babies' 'missing' 'other' 'breakfast' 'international'\n",
      " 'alcohol' 'bulk' 'pets' nan]\n",
      "['yogurt' 'other creams cheeses' 'fresh vegetables' 'canned meat seafood'\n",
      " 'fresh fruits' 'packaged cheese' 'specialty cheeses'\n",
      " 'water seltzer sparkling water' 'cream' 'packaged vegetables fruits'\n",
      " 'eggs' 'lunch meat' 'nuts seeds dried fruit' 'oils vinegars'\n",
      " 'frozen produce' 'fresh herbs' 'refrigerated'\n",
      " 'refrigerated pudding desserts' 'canned jarred vegetables'\n",
      " 'soy lactosefree' 'crackers' 'hot dogs bacon sausage'\n",
      " 'frozen appetizers sides' 'butter' 'fresh dips tapenades'\n",
      " 'canned meals beans' 'ice cream ice' 'dish detergents' 'milk'\n",
      " 'canned fruit applesauce' 'frozen meat seafood' 'baking ingredients'\n",
      " 'laundry' 'soup broth bouillon' 'condiments' 'juice nectars'\n",
      " 'tortillas flat bread' 'soap' 'plates bowls cups flatware' 'food storage'\n",
      " 'paper goods' 'chips pretzels' 'pasta sauce' 'muscles joints pain relief'\n",
      " 'cold flu allergy' 'bread' 'grains rice dried goods' 'spreads'\n",
      " 'popcorn jerky' 'digestion' 'baby accessories' 'missing' 'other'\n",
      " 'more household' 'packaged produce' 'candy chocolate'\n",
      " 'breakfast bars pastries' 'cleaning products' 'spices seasonings'\n",
      " 'diapers wipes' 'fresh pasta' 'frozen breakfast' 'latino foods'\n",
      " 'preserved dips spreads' 'asian foods' 'pickled goods olives'\n",
      " 'instant foods' 'energy granola bars' 'hot cereal pancake mixes'\n",
      " 'packaged meat' 'soft drinks' 'cookies cakes' 'frozen pizza' 'tea'\n",
      " 'energy sports drinks' 'prepared meals' 'poultry counter'\n",
      " 'trail mix snack mix' 'buns rolls' 'prepared soups salads'\n",
      " 'doughs gelatins bake mixes' 'deodorants' 'dry pasta' 'frozen meals'\n",
      " 'cereal' 'breakfast bakery' 'white wines' 'coffee'\n",
      " 'fruit vegetable snacks' 'oral hygiene' 'packaged seafood'\n",
      " 'bulk grains rice dried goods' 'packaged poultry' 'body lotions soap'\n",
      " 'tofu meat alternatives' 'dog food care' 'bakery desserts'\n",
      " 'baby food formula' 'honeys syrups nectars' 'meat counter'\n",
      " 'trash bags liners' 'kitchen supplies' 'hair care' 'beers coolers'\n",
      " 'first aid' 'vitamins supplements' 'granola' 'protein meal replacements'\n",
      " 'shave needs' 'salad dressing toppings' 'indian foods'\n",
      " 'frozen vegan vegetarian' 'spirits' 'frozen dessert' 'mint gum'\n",
      " 'cat food care' 'facial care' 'specialty wines champagnes' 'skin care'\n",
      " 'frozen breads doughs' 'red wines' 'marinades meat preparation'\n",
      " 'feminine care' 'baking supplies decor' 'seafood counter'\n",
      " 'ice cream toppings' 'cocoa drink mixes' 'kosher foods'\n",
      " 'air fresheners candles' 'beauty' 'bulk dried fruits vegetables'\n",
      " 'eye ear care' 'baby bath body care' 'frozen juice']\n"
     ]
    }
   ],
   "source": [
    "print(len(order_data.loc[:,'order_id'].unique()))\n",
    "print(len(order_data.loc[:,'department'].unique()))\n",
    "print(len(order_data.loc[:,'aisle'].unique()))\n",
    "print(order_data.loc[:,'department'].unique())\n",
    "print(order_data.loc[:,'aisle'].unique())"
   ]
  },
  {
   "cell_type": "markdown",
   "metadata": {},
   "source": [
    "在department这个类别中，客户购买比例最多的是produce，产品包括各种fresh vegetables,fresh fruits,packaged vegetables fruits；客户购买比例第二多的是dairy eggs,产品包括各种乳制品、鸡蛋、黄油、豆制品等。"
   ]
  },
  {
   "cell_type": "markdown",
   "metadata": {},
   "source": [
    "### 2、department"
   ]
  },
  {
   "cell_type": "code",
   "execution_count": 133,
   "metadata": {},
   "outputs": [
    {
     "data": {
      "application/vnd.jupyter.widget-view+json": {
       "model_id": "f12afc07ddbc4158ba02859401835a5b",
       "version_major": 2,
       "version_minor": 0
      },
      "text/plain": [
       "VBox(children=(Figure(axes=[Axis(label='Sup*100', scale=LinearScale()), Axis(label='Conf*100', orientation='ve…"
      ]
     },
     "metadata": {},
     "output_type": "display_data"
    }
   ],
   "source": [
    "basket_Sub = list(order_data.groupby('order_id')['department'])\n",
    "dataset=[]\n",
    "for i in range(len(basket_Sub)):\n",
    "    dataset.append(list(basket_Sub[i][1]))\n",
    "g = Arulesviz(dataset, 0.1, 0.4, 0, products_to_drop=[])\n",
    "g.create_rules()\n",
    "g.plot_scatter()"
   ]
  },
  {
   "cell_type": "markdown",
   "metadata": {},
   "source": [
    "可以看出lift大的点大多集中在support=0.1，confidence=[0.3,0.6]左右，因此将参数设定为min_support=0.1，min_confidence=0.4"
   ]
  },
  {
   "cell_type": "code",
   "execution_count": 134,
   "metadata": {},
   "outputs": [
    {
     "name": "stdout",
     "output_type": "stream",
     "text": [
      "FP-growth算法本次用时为 0:00:05.655875s\n"
     ]
    },
    {
     "data": {
      "text/html": [
       "<style  type=\"text/css\" >\n",
       "    #T_5d992842_36cd_11eb_b441_7c67a253903e th {\n",
       "          font-size: 12px;\n",
       "    }    #T_5d992842_36cd_11eb_b441_7c67a253903e td {\n",
       "          font-size: 10px;\n",
       "    }    #T_5d992842_36cd_11eb_b441_7c67a253903e th {\n",
       "          text-align: center;\n",
       "    }</style><table id=\"T_5d992842_36cd_11eb_b441_7c67a253903e\" ><thead>    <tr>        <th class=\"blank level0\" ></th>        <th class=\"col_heading level0 col0\" >Rule</th>        <th class=\"col_heading level0 col1\" >Support</th>        <th class=\"col_heading level0 col2\" >Confidence</th>        <th class=\"col_heading level0 col3\" >Lift</th>        <th class=\"col_heading level0 col4\" >Correlation</th>    </tr></thead><tbody>\n",
       "                <tr>\n",
       "                        <th id=\"T_5d992842_36cd_11eb_b441_7c67a253903elevel0_row0\" class=\"row_heading level0 row0\" >0</th>\n",
       "                        <td id=\"T_5d992842_36cd_11eb_b441_7c67a253903erow0_col0\" class=\"data row0 col0\" >{'deli'} -> {'snacks', 'dairy eggs', 'produce'}</td>\n",
       "                        <td id=\"T_5d992842_36cd_11eb_b441_7c67a253903erow0_col1\" class=\"data row0 col1\" >0.107508</td>\n",
       "                        <td id=\"T_5d992842_36cd_11eb_b441_7c67a253903erow0_col2\" class=\"data row0 col2\" >0.438029</td>\n",
       "                        <td id=\"T_5d992842_36cd_11eb_b441_7c67a253903erow0_col3\" class=\"data row0 col3\" >1.611957</td>\n",
       "                        <td id=\"T_5d992842_36cd_11eb_b441_7c67a253903erow0_col4\" class=\"data row0 col4\" >0.213193</td>\n",
       "            </tr>\n",
       "            <tr>\n",
       "                        <th id=\"T_5d992842_36cd_11eb_b441_7c67a253903elevel0_row1\" class=\"row_heading level0 row1\" >1</th>\n",
       "                        <td id=\"T_5d992842_36cd_11eb_b441_7c67a253903erow1_col0\" class=\"data row1 col0\" >{'dairy eggs', 'deli'} -> {'snacks', 'produce'}</td>\n",
       "                        <td id=\"T_5d992842_36cd_11eb_b441_7c67a253903erow1_col1\" class=\"data row1 col1\" >0.107508</td>\n",
       "                        <td id=\"T_5d992842_36cd_11eb_b441_7c67a253903erow1_col2\" class=\"data row1 col2\" >0.543456</td>\n",
       "                        <td id=\"T_5d992842_36cd_11eb_b441_7c67a253903erow1_col3\" class=\"data row1 col3\" >1.609629</td>\n",
       "                        <td id=\"T_5d992842_36cd_11eb_b441_7c67a253903erow1_col4\" class=\"data row1 col4\" >0.216141</td>\n",
       "            </tr>\n",
       "            <tr>\n",
       "                        <th id=\"T_5d992842_36cd_11eb_b441_7c67a253903elevel0_row2\" class=\"row_heading level0 row2\" >2</th>\n",
       "                        <td id=\"T_5d992842_36cd_11eb_b441_7c67a253903erow2_col0\" class=\"data row2 col0\" >{'canned goods'} -> {'produce', 'pantry'}</td>\n",
       "                        <td id=\"T_5d992842_36cd_11eb_b441_7c67a253903erow2_col1\" class=\"data row2 col1\" >0.107156</td>\n",
       "                        <td id=\"T_5d992842_36cd_11eb_b441_7c67a253903erow2_col2\" class=\"data row2 col2\" >0.478926</td>\n",
       "                        <td id=\"T_5d992842_36cd_11eb_b441_7c67a253903erow2_col3\" class=\"data row2 col3\" >1.604273</td>\n",
       "                        <td id=\"T_5d992842_36cd_11eb_b441_7c67a253903erow2_col4\" class=\"data row2 col4\" >0.211639</td>\n",
       "            </tr>\n",
       "            <tr>\n",
       "                        <th id=\"T_5d992842_36cd_11eb_b441_7c67a253903elevel0_row3\" class=\"row_heading level0 row3\" >3</th>\n",
       "                        <td id=\"T_5d992842_36cd_11eb_b441_7c67a253903erow3_col0\" class=\"data row3 col0\" >{'canned goods'} -> {'dairy eggs', 'pantry'}</td>\n",
       "                        <td id=\"T_5d992842_36cd_11eb_b441_7c67a253903erow3_col1\" class=\"data row3 col1\" >0.100378</td>\n",
       "                        <td id=\"T_5d992842_36cd_11eb_b441_7c67a253903erow3_col2\" class=\"data row3 col2\" >0.448629</td>\n",
       "                        <td id=\"T_5d992842_36cd_11eb_b441_7c67a253903erow3_col3\" class=\"data row3 col3\" >1.597931</td>\n",
       "                        <td id=\"T_5d992842_36cd_11eb_b441_7c67a253903erow3_col4\" class=\"data row3 col4\" >0.200562</td>\n",
       "            </tr>\n",
       "            <tr>\n",
       "                        <th id=\"T_5d992842_36cd_11eb_b441_7c67a253903elevel0_row4\" class=\"row_heading level0 row4\" >4</th>\n",
       "                        <td id=\"T_5d992842_36cd_11eb_b441_7c67a253903erow4_col0\" class=\"data row4 col0\" >{'produce', 'deli'} -> {'snacks', 'dairy eggs'}</td>\n",
       "                        <td id=\"T_5d992842_36cd_11eb_b441_7c67a253903erow4_col1\" class=\"data row4 col1\" >0.107508</td>\n",
       "                        <td id=\"T_5d992842_36cd_11eb_b441_7c67a253903erow4_col2\" class=\"data row4 col2\" >0.511907</td>\n",
       "                        <td id=\"T_5d992842_36cd_11eb_b441_7c67a253903erow4_col3\" class=\"data row4 col3\" >1.584133</td>\n",
       "                        <td id=\"T_5d992842_36cd_11eb_b441_7c67a253903erow4_col4\" class=\"data row4 col4\" >0.208103</td>\n",
       "            </tr>\n",
       "            <tr>\n",
       "                        <th id=\"T_5d992842_36cd_11eb_b441_7c67a253903elevel0_row5\" class=\"row_heading level0 row5\" >5</th>\n",
       "                        <td id=\"T_5d992842_36cd_11eb_b441_7c67a253903erow5_col0\" class=\"data row5 col0\" >{'bakery', 'produce'} -> {'frozen', 'dairy eggs'}</td>\n",
       "                        <td id=\"T_5d992842_36cd_11eb_b441_7c67a253903erow5_col1\" class=\"data row5 col1\" >0.108542</td>\n",
       "                        <td id=\"T_5d992842_36cd_11eb_b441_7c67a253903erow5_col2\" class=\"data row5 col2\" >0.469586</td>\n",
       "                        <td id=\"T_5d992842_36cd_11eb_b441_7c67a253903erow5_col3\" class=\"data row5 col3\" >1.563467</td>\n",
       "                        <td id=\"T_5d992842_36cd_11eb_b441_7c67a253903erow5_col4\" class=\"data row5 col4\" >0.202423</td>\n",
       "            </tr>\n",
       "            <tr>\n",
       "                        <th id=\"T_5d992842_36cd_11eb_b441_7c67a253903elevel0_row6\" class=\"row_heading level0 row6\" >6</th>\n",
       "                        <td id=\"T_5d992842_36cd_11eb_b441_7c67a253903erow6_col0\" class=\"data row6 col0\" >{'bakery', 'produce'} -> {'dairy eggs', 'pantry'}</td>\n",
       "                        <td id=\"T_5d992842_36cd_11eb_b441_7c67a253903erow6_col1\" class=\"data row6 col1\" >0.101071</td>\n",
       "                        <td id=\"T_5d992842_36cd_11eb_b441_7c67a253903erow6_col2\" class=\"data row6 col2\" >0.437261</td>\n",
       "                        <td id=\"T_5d992842_36cd_11eb_b441_7c67a253903erow6_col3\" class=\"data row6 col3\" >1.557441</td>\n",
       "                        <td id=\"T_5d992842_36cd_11eb_b441_7c67a253903erow6_col4\" class=\"data row6 col4\" >0.190961</td>\n",
       "            </tr>\n",
       "            <tr>\n",
       "                        <th id=\"T_5d992842_36cd_11eb_b441_7c67a253903elevel0_row7\" class=\"row_heading level0 row7\" >7</th>\n",
       "                        <td id=\"T_5d992842_36cd_11eb_b441_7c67a253903erow7_col0\" class=\"data row7 col0\" >{'bakery', 'produce'} -> {'snacks', 'dairy eggs'}</td>\n",
       "                        <td id=\"T_5d992842_36cd_11eb_b441_7c67a253903erow7_col1\" class=\"data row7 col1\" >0.115733</td>\n",
       "                        <td id=\"T_5d992842_36cd_11eb_b441_7c67a253903erow7_col2\" class=\"data row7 col2\" >0.500695</td>\n",
       "                        <td id=\"T_5d992842_36cd_11eb_b441_7c67a253903erow7_col3\" class=\"data row7 col3\" >1.549437</td>\n",
       "                        <td id=\"T_5d992842_36cd_11eb_b441_7c67a253903erow7_col4\" class=\"data row7 col4\" >0.208156</td>\n",
       "            </tr>\n",
       "            <tr>\n",
       "                        <th id=\"T_5d992842_36cd_11eb_b441_7c67a253903elevel0_row8\" class=\"row_heading level0 row8\" >8</th>\n",
       "                        <td id=\"T_5d992842_36cd_11eb_b441_7c67a253903erow8_col0\" class=\"data row8 col0\" >{'dairy eggs', 'canned goods'} -> {'pantry'}</td>\n",
       "                        <td id=\"T_5d992842_36cd_11eb_b441_7c67a253903erow8_col1\" class=\"data row8 col1\" >0.100378</td>\n",
       "                        <td id=\"T_5d992842_36cd_11eb_b441_7c67a253903erow8_col2\" class=\"data row8 col2\" >0.560698</td>\n",
       "                        <td id=\"T_5d992842_36cd_11eb_b441_7c67a253903erow8_col3\" class=\"data row8 col3\" >1.543442</td>\n",
       "                        <td id=\"T_5d992842_36cd_11eb_b441_7c67a253903erow8_col4\" class=\"data row8 col4\" >0.191684</td>\n",
       "            </tr>\n",
       "            <tr>\n",
       "                        <th id=\"T_5d992842_36cd_11eb_b441_7c67a253903elevel0_row9\" class=\"row_heading level0 row9\" >9</th>\n",
       "                        <td id=\"T_5d992842_36cd_11eb_b441_7c67a253903erow9_col0\" class=\"data row9 col0\" >{'bakery'} -> {'snacks', 'dairy eggs', 'produce'}</td>\n",
       "                        <td id=\"T_5d992842_36cd_11eb_b441_7c67a253903erow9_col1\" class=\"data row9 col1\" >0.115733</td>\n",
       "                        <td id=\"T_5d992842_36cd_11eb_b441_7c67a253903erow9_col2\" class=\"data row9 col2\" >0.418567</td>\n",
       "                        <td id=\"T_5d992842_36cd_11eb_b441_7c67a253903erow9_col3\" class=\"data row9 col3\" >1.540337</td>\n",
       "                        <td id=\"T_5d992842_36cd_11eb_b441_7c67a253903erow9_col4\" class=\"data row9 col4\" >0.204043</td>\n",
       "            </tr>\n",
       "            <tr>\n",
       "                        <th id=\"T_5d992842_36cd_11eb_b441_7c67a253903elevel0_row10\" class=\"row_heading level0 row10\" >10</th>\n",
       "                        <td id=\"T_5d992842_36cd_11eb_b441_7c67a253903erow10_col0\" class=\"data row10 col0\" >{'snacks', 'dairy eggs', 'produce'} -> {'bakery'}</td>\n",
       "                        <td id=\"T_5d992842_36cd_11eb_b441_7c67a253903erow10_col1\" class=\"data row10 col1\" >0.115733</td>\n",
       "                        <td id=\"T_5d992842_36cd_11eb_b441_7c67a253903erow10_col2\" class=\"data row10 col2\" >0.425900</td>\n",
       "                        <td id=\"T_5d992842_36cd_11eb_b441_7c67a253903erow10_col3\" class=\"data row10 col3\" >1.540337</td>\n",
       "                        <td id=\"T_5d992842_36cd_11eb_b441_7c67a253903erow10_col4\" class=\"data row10 col4\" >0.204043</td>\n",
       "            </tr>\n",
       "            <tr>\n",
       "                        <th id=\"T_5d992842_36cd_11eb_b441_7c67a253903elevel0_row11\" class=\"row_heading level0 row11\" >11</th>\n",
       "                        <td id=\"T_5d992842_36cd_11eb_b441_7c67a253903erow11_col0\" class=\"data row11 col0\" >{'frozen', 'dairy eggs', 'produce'} -> {'bakery'}</td>\n",
       "                        <td id=\"T_5d992842_36cd_11eb_b441_7c67a253903erow11_col1\" class=\"data row11 col1\" >0.108542</td>\n",
       "                        <td id=\"T_5d992842_36cd_11eb_b441_7c67a253903erow11_col2\" class=\"data row11 col2\" >0.421693</td>\n",
       "                        <td id=\"T_5d992842_36cd_11eb_b441_7c67a253903erow11_col3\" class=\"data row11 col3\" >1.525123</td>\n",
       "                        <td id=\"T_5d992842_36cd_11eb_b441_7c67a253903erow11_col4\" class=\"data row11 col4\" >0.191122</td>\n",
       "            </tr>\n",
       "            <tr>\n",
       "                        <th id=\"T_5d992842_36cd_11eb_b441_7c67a253903elevel0_row12\" class=\"row_heading level0 row12\" >12</th>\n",
       "                        <td id=\"T_5d992842_36cd_11eb_b441_7c67a253903erow12_col0\" class=\"data row12 col0\" >{'bakery', 'dairy eggs'} -> {'frozen', 'produce'}</td>\n",
       "                        <td id=\"T_5d992842_36cd_11eb_b441_7c67a253903erow12_col1\" class=\"data row12 col1\" >0.108542</td>\n",
       "                        <td id=\"T_5d992842_36cd_11eb_b441_7c67a253903erow12_col2\" class=\"data row12 col2\" >0.477913</td>\n",
       "                        <td id=\"T_5d992842_36cd_11eb_b441_7c67a253903erow12_col3\" class=\"data row12 col3\" >1.518094</td>\n",
       "                        <td id=\"T_5d992842_36cd_11eb_b441_7c67a253903erow12_col4\" class=\"data row12 col4\" >0.190369</td>\n",
       "            </tr>\n",
       "            <tr>\n",
       "                        <th id=\"T_5d992842_36cd_11eb_b441_7c67a253903elevel0_row13\" class=\"row_heading level0 row13\" >13</th>\n",
       "                        <td id=\"T_5d992842_36cd_11eb_b441_7c67a253903erow13_col0\" class=\"data row13 col0\" >{'deli'} -> {'snacks', 'dairy eggs'}</td>\n",
       "                        <td id=\"T_5d992842_36cd_11eb_b441_7c67a253903erow13_col1\" class=\"data row13 col1\" >0.120262</td>\n",
       "                        <td id=\"T_5d992842_36cd_11eb_b441_7c67a253903erow13_col2\" class=\"data row13 col2\" >0.489995</td>\n",
       "                        <td id=\"T_5d992842_36cd_11eb_b441_7c67a253903erow13_col3\" class=\"data row13 col3\" >1.516326</td>\n",
       "                        <td id=\"T_5d992842_36cd_11eb_b441_7c67a253903erow13_col4\" class=\"data row13 col4\" >0.203468</td>\n",
       "            </tr>\n",
       "            <tr>\n",
       "                        <th id=\"T_5d992842_36cd_11eb_b441_7c67a253903elevel0_row14\" class=\"row_heading level0 row14\" >14</th>\n",
       "                        <td id=\"T_5d992842_36cd_11eb_b441_7c67a253903erow14_col0\" class=\"data row14 col0\" >{'produce', 'canned goods'} -> {'pantry'}</td>\n",
       "                        <td id=\"T_5d992842_36cd_11eb_b441_7c67a253903erow14_col1\" class=\"data row14 col1\" >0.107156</td>\n",
       "                        <td id=\"T_5d992842_36cd_11eb_b441_7c67a253903erow14_col2\" class=\"data row14 col2\" >0.548332</td>\n",
       "                        <td id=\"T_5d992842_36cd_11eb_b441_7c67a253903erow14_col3\" class=\"data row14 col3\" >1.509403</td>\n",
       "                        <td id=\"T_5d992842_36cd_11eb_b441_7c67a253903erow14_col4\" class=\"data row14 col4\" >0.189631</td>\n",
       "            </tr>\n",
       "            <tr>\n",
       "                        <th id=\"T_5d992842_36cd_11eb_b441_7c67a253903elevel0_row15\" class=\"row_heading level0 row15\" >15</th>\n",
       "                        <td id=\"T_5d992842_36cd_11eb_b441_7c67a253903erow15_col0\" class=\"data row15 col0\" >{'bakery', 'dairy eggs'} -> {'snacks', 'produce'}</td>\n",
       "                        <td id=\"T_5d992842_36cd_11eb_b441_7c67a253903erow15_col1\" class=\"data row15 col1\" >0.115733</td>\n",
       "                        <td id=\"T_5d992842_36cd_11eb_b441_7c67a253903erow15_col2\" class=\"data row15 col2\" >0.509573</td>\n",
       "                        <td id=\"T_5d992842_36cd_11eb_b441_7c67a253903erow15_col3\" class=\"data row15 col3\" >1.509273</td>\n",
       "                        <td id=\"T_5d992842_36cd_11eb_b441_7c67a253903erow15_col4\" class=\"data row15 col4\" >0.197101</td>\n",
       "            </tr>\n",
       "            <tr>\n",
       "                        <th id=\"T_5d992842_36cd_11eb_b441_7c67a253903elevel0_row16\" class=\"row_heading level0 row16\" >16</th>\n",
       "                        <td id=\"T_5d992842_36cd_11eb_b441_7c67a253903erow16_col0\" class=\"data row16 col0\" >{'produce', 'dairy eggs', 'pantry'} -> {'bakery'}</td>\n",
       "                        <td id=\"T_5d992842_36cd_11eb_b441_7c67a253903erow16_col1\" class=\"data row16 col1\" >0.101071</td>\n",
       "                        <td id=\"T_5d992842_36cd_11eb_b441_7c67a253903erow16_col2\" class=\"data row16 col2\" >0.415971</td>\n",
       "                        <td id=\"T_5d992842_36cd_11eb_b441_7c67a253903erow16_col3\" class=\"data row16 col3\" >1.504427</td>\n",
       "                        <td id=\"T_5d992842_36cd_11eb_b441_7c67a253903erow16_col4\" class=\"data row16 col4\" >0.176665</td>\n",
       "            </tr>\n",
       "            <tr>\n",
       "                        <th id=\"T_5d992842_36cd_11eb_b441_7c67a253903elevel0_row17\" class=\"row_heading level0 row17\" >17</th>\n",
       "                        <td id=\"T_5d992842_36cd_11eb_b441_7c67a253903erow17_col0\" class=\"data row17 col0\" >{'deli'} -> {'snacks', 'produce'}</td>\n",
       "                        <td id=\"T_5d992842_36cd_11eb_b441_7c67a253903erow17_col1\" class=\"data row17 col1\" >0.123727</td>\n",
       "                        <td id=\"T_5d992842_36cd_11eb_b441_7c67a253903erow17_col2\" class=\"data row17 col2\" >0.504112</td>\n",
       "                        <td id=\"T_5d992842_36cd_11eb_b441_7c67a253903erow17_col3\" class=\"data row17 col3\" >1.493098</td>\n",
       "                        <td id=\"T_5d992842_36cd_11eb_b441_7c67a253903erow17_col4\" class=\"data row17 col4\" >0.200781</td>\n",
       "            </tr>\n",
       "            <tr>\n",
       "                        <th id=\"T_5d992842_36cd_11eb_b441_7c67a253903elevel0_row18\" class=\"row_heading level0 row18\" >18</th>\n",
       "                        <td id=\"T_5d992842_36cd_11eb_b441_7c67a253903erow18_col0\" class=\"data row18 col0\" >{'bakery', 'dairy eggs'} -> {'produce', 'pantry'}</td>\n",
       "                        <td id=\"T_5d992842_36cd_11eb_b441_7c67a253903erow18_col1\" class=\"data row18 col1\" >0.101071</td>\n",
       "                        <td id=\"T_5d992842_36cd_11eb_b441_7c67a253903erow18_col2\" class=\"data row18 col2\" >0.445014</td>\n",
       "                        <td id=\"T_5d992842_36cd_11eb_b441_7c67a253903erow18_col3\" class=\"data row18 col3\" >1.490677</td>\n",
       "                        <td id=\"T_5d992842_36cd_11eb_b441_7c67a253903erow18_col4\" class=\"data row18 col4\" >0.173522</td>\n",
       "            </tr>\n",
       "            <tr>\n",
       "                        <th id=\"T_5d992842_36cd_11eb_b441_7c67a253903elevel0_row19\" class=\"row_heading level0 row19\" >19</th>\n",
       "                        <td id=\"T_5d992842_36cd_11eb_b441_7c67a253903erow19_col0\" class=\"data row19 col0\" >{'frozen', 'dairy eggs'} -> {'snacks', 'produce'}</td>\n",
       "                        <td id=\"T_5d992842_36cd_11eb_b441_7c67a253903erow19_col1\" class=\"data row19 col1\" >0.150310</td>\n",
       "                        <td id=\"T_5d992842_36cd_11eb_b441_7c67a253903erow19_col2\" class=\"data row19 col2\" >0.500451</td>\n",
       "                        <td id=\"T_5d992842_36cd_11eb_b441_7c67a253903erow19_col3\" class=\"data row19 col3\" >1.482255</td>\n",
       "                        <td id=\"T_5d992842_36cd_11eb_b441_7c67a253903erow19_col4\" class=\"data row19 col4\" >0.225589</td>\n",
       "            </tr>\n",
       "    </tbody></table>"
      ],
      "text/plain": [
       "<pandas.io.formats.style.Styler at 0x1802a468d88>"
      ]
     },
     "execution_count": 134,
     "metadata": {},
     "output_type": "execute_result"
    }
   ],
   "source": [
    "#参数\n",
    "min_support = 0.1 #支持度阈值\n",
    "min_confidence = 0.4 #置信度阈值\n",
    "groupby_key = \"order_id\" #汇总索引\n",
    "groupby_column = \"department\" #需要汇总的列\n",
    "#注：data_loader需要传入algorithm参数, \"apr\":Apriori, \"fp\":FP-growth\n",
    "#FP-growth算法\n",
    "Order_products_train_fp_transactions = data_loader(order_data, groupby_key, groupby_column, algorithm=\"fp\")\n",
    "Order_products_train_fp_df = fp_growth_main(Order_products_train_fp_transactions, min_support, min_confidence)\n",
    "Order_products_train_fp_df[0:20].style.set_table_styles(dfstyle)"
   ]
  },
  {
   "cell_type": "markdown",
   "metadata": {},
   "source": [
    "超市的经营中，陈列是一项重要的技术，超市将产品A和B放在一起，不仅要考虑A对B的促销作用，还要考虑B对A的促销作用。在department维度上，选择参数min_support=0.1，min_confidence=0.4筛选出来的20条规则（按照lift进行排序），虽然这19条规则在confidence上表现的不错，但是lift都在1左右，说明在LHS的条件下对RHS事件发生率的提升度都在1左右，可以说两个条件没有任何关联，可以说并不是很有趣的关联规则。\n",
    "\n",
    "但可以相对比较看看，"
   ]
  },
  {
   "cell_type": "code",
   "execution_count": 135,
   "metadata": {},
   "outputs": [
    {
     "data": {
      "application/vnd.jupyter.widget-view+json": {
       "model_id": "14a170e8a7ab44d086267af00db6af53",
       "version_major": 2,
       "version_minor": 0
      },
      "text/plain": [
       "VBox(children=(HBox(children=(SelectMultiple(index=(0, 1, 2, 3, 4, 5, 6, 7, 8, 9, 10, 11, 12), options=('baker…"
      ]
     },
     "metadata": {},
     "output_type": "display_data"
    }
   ],
   "source": [
    "g = Arulesviz(dataset, 0.1, 0.4, 1.5, products_to_drop=[])\n",
    "g.create_rules()\n",
    "g.plot_graph(width=1000, directed=True, charge=-1000, link_distance=20)"
   ]
  },
  {
   "cell_type": "markdown",
   "metadata": {},
   "source": [
    "## 3.5 将商品概化为商品类（根据aisle字段） ：第（5）问"
   ]
  },
  {
   "cell_type": "code",
   "execution_count": 136,
   "metadata": {},
   "outputs": [
    {
     "data": {
      "application/vnd.jupyter.widget-view+json": {
       "model_id": "aeba330234f24b159f4d9d7b7e6c98a9",
       "version_major": 2,
       "version_minor": 0
      },
      "text/plain": [
       "VBox(children=(Figure(axes=[Axis(label='Sup*100', scale=LinearScale()), Axis(label='Conf*100', orientation='ve…"
      ]
     },
     "metadata": {},
     "output_type": "display_data"
    }
   ],
   "source": [
    "basket_Sub = list(order_data.groupby('order_id')['aisle'])\n",
    "dataset=[]\n",
    "for i in range(len(basket_Sub)):\n",
    "    dataset.append(list(basket_Sub[i][1]))\n",
    "g = Arulesviz(dataset, 0.2, 0.4, 0, products_to_drop=[])\n",
    "g.create_rules()\n",
    "g.plot_scatter()"
   ]
  },
  {
   "cell_type": "markdown",
   "metadata": {},
   "source": [
    "可以看出lift大的点大多集中在support=0.2，confidence=[0.4,0.8]左右，因此将参数设定为min_support=0.2，min_confidence=0.4"
   ]
  },
  {
   "cell_type": "code",
   "execution_count": 137,
   "metadata": {},
   "outputs": [
    {
     "name": "stdout",
     "output_type": "stream",
     "text": [
      "FP-growth算法本次用时为 0:00:00.897600s\n"
     ]
    },
    {
     "data": {
      "text/html": [
       "<style  type=\"text/css\" >\n",
       "    #T_7356de3e_36cd_11eb_b25e_7c67a253903e th {\n",
       "          font-size: 12px;\n",
       "    }    #T_7356de3e_36cd_11eb_b25e_7c67a253903e td {\n",
       "          font-size: 10px;\n",
       "    }    #T_7356de3e_36cd_11eb_b25e_7c67a253903e th {\n",
       "          text-align: center;\n",
       "    }</style><table id=\"T_7356de3e_36cd_11eb_b25e_7c67a253903e\" ><thead>    <tr>        <th class=\"blank level0\" ></th>        <th class=\"col_heading level0 col0\" >Rule</th>        <th class=\"col_heading level0 col1\" >Support</th>        <th class=\"col_heading level0 col2\" >Confidence</th>        <th class=\"col_heading level0 col3\" >Lift</th>        <th class=\"col_heading level0 col4\" >Correlation</th>    </tr></thead><tbody>\n",
       "                <tr>\n",
       "                        <th id=\"T_7356de3e_36cd_11eb_b25e_7c67a253903elevel0_row0\" class=\"row_heading level0 row0\" >0</th>\n",
       "                        <td id=\"T_7356de3e_36cd_11eb_b25e_7c67a253903erow0_col0\" class=\"data row0 col0\" >{'packaged vegetables fruits'} -> {'fresh fruits', 'fresh vegetables'}</td>\n",
       "                        <td id=\"T_7356de3e_36cd_11eb_b25e_7c67a253903erow0_col1\" class=\"data row0 col1\" >0.202071</td>\n",
       "                        <td id=\"T_7356de3e_36cd_11eb_b25e_7c67a253903erow0_col2\" class=\"data row0 col2\" >0.529835</td>\n",
       "                        <td id=\"T_7356de3e_36cd_11eb_b25e_7c67a253903erow0_col3\" class=\"data row0 col3\" >1.623166</td>\n",
       "                        <td id=\"T_7356de3e_36cd_11eb_b25e_7c67a253903erow0_col4\" class=\"data row0 col4\" >0.340619</td>\n",
       "            </tr>\n",
       "            <tr>\n",
       "                        <th id=\"T_7356de3e_36cd_11eb_b25e_7c67a253903elevel0_row1\" class=\"row_heading level0 row1\" >1</th>\n",
       "                        <td id=\"T_7356de3e_36cd_11eb_b25e_7c67a253903erow1_col0\" class=\"data row1 col0\" >{'fresh fruits', 'fresh vegetables'} -> {'packaged vegetables fruits'}</td>\n",
       "                        <td id=\"T_7356de3e_36cd_11eb_b25e_7c67a253903erow1_col1\" class=\"data row1 col1\" >0.202071</td>\n",
       "                        <td id=\"T_7356de3e_36cd_11eb_b25e_7c67a253903erow1_col2\" class=\"data row1 col2\" >0.619051</td>\n",
       "                        <td id=\"T_7356de3e_36cd_11eb_b25e_7c67a253903erow1_col3\" class=\"data row1 col3\" >1.623166</td>\n",
       "                        <td id=\"T_7356de3e_36cd_11eb_b25e_7c67a253903erow1_col4\" class=\"data row1 col4\" >0.340619</td>\n",
       "            </tr>\n",
       "            <tr>\n",
       "                        <th id=\"T_7356de3e_36cd_11eb_b25e_7c67a253903elevel0_row2\" class=\"row_heading level0 row2\" >2</th>\n",
       "                        <td id=\"T_7356de3e_36cd_11eb_b25e_7c67a253903erow2_col0\" class=\"data row2 col0\" >{'fresh vegetables'} -> {'fresh fruits', 'packaged vegetables fruits'}</td>\n",
       "                        <td id=\"T_7356de3e_36cd_11eb_b25e_7c67a253903erow2_col1\" class=\"data row2 col1\" >0.202071</td>\n",
       "                        <td id=\"T_7356de3e_36cd_11eb_b25e_7c67a253903erow2_col2\" class=\"data row2 col2\" >0.448849</td>\n",
       "                        <td id=\"T_7356de3e_36cd_11eb_b25e_7c67a253903erow2_col3\" class=\"data row2 col3\" >1.575108</td>\n",
       "                        <td id=\"T_7356de3e_36cd_11eb_b25e_7c67a253903erow2_col4\" class=\"data row2 col4\" >0.328533</td>\n",
       "            </tr>\n",
       "            <tr>\n",
       "                        <th id=\"T_7356de3e_36cd_11eb_b25e_7c67a253903elevel0_row3\" class=\"row_heading level0 row3\" >3</th>\n",
       "                        <td id=\"T_7356de3e_36cd_11eb_b25e_7c67a253903erow3_col0\" class=\"data row3 col0\" >{'fresh fruits', 'packaged vegetables fruits'} -> {'fresh vegetables'}</td>\n",
       "                        <td id=\"T_7356de3e_36cd_11eb_b25e_7c67a253903erow3_col1\" class=\"data row3 col1\" >0.202071</td>\n",
       "                        <td id=\"T_7356de3e_36cd_11eb_b25e_7c67a253903erow3_col2\" class=\"data row3 col2\" >0.709110</td>\n",
       "                        <td id=\"T_7356de3e_36cd_11eb_b25e_7c67a253903erow3_col3\" class=\"data row3 col3\" >1.575108</td>\n",
       "                        <td id=\"T_7356de3e_36cd_11eb_b25e_7c67a253903erow3_col4\" class=\"data row3 col4\" >0.328533</td>\n",
       "            </tr>\n",
       "            <tr>\n",
       "                        <th id=\"T_7356de3e_36cd_11eb_b25e_7c67a253903elevel0_row4\" class=\"row_heading level0 row4\" >4</th>\n",
       "                        <td id=\"T_7356de3e_36cd_11eb_b25e_7c67a253903erow4_col0\" class=\"data row4 col0\" >{'fresh vegetables', 'packaged vegetables fruits'} -> {'fresh fruits'}</td>\n",
       "                        <td id=\"T_7356de3e_36cd_11eb_b25e_7c67a253903erow4_col1\" class=\"data row4 col1\" >0.202071</td>\n",
       "                        <td id=\"T_7356de3e_36cd_11eb_b25e_7c67a253903erow4_col2\" class=\"data row4 col2\" >0.804679</td>\n",
       "                        <td id=\"T_7356de3e_36cd_11eb_b25e_7c67a253903erow4_col3\" class=\"data row4 col3\" >1.465373</td>\n",
       "                        <td id=\"T_7356de3e_36cd_11eb_b25e_7c67a253903erow4_col4\" class=\"data row4 col4\" >0.297404</td>\n",
       "            </tr>\n",
       "            <tr>\n",
       "                        <th id=\"T_7356de3e_36cd_11eb_b25e_7c67a253903elevel0_row5\" class=\"row_heading level0 row5\" >5</th>\n",
       "                        <td id=\"T_7356de3e_36cd_11eb_b25e_7c67a253903erow5_col0\" class=\"data row5 col0\" >{'fresh vegetables'} -> {'packaged vegetables fruits'}</td>\n",
       "                        <td id=\"T_7356de3e_36cd_11eb_b25e_7c67a253903erow5_col1\" class=\"data row5 col1\" >0.251120</td>\n",
       "                        <td id=\"T_7356de3e_36cd_11eb_b25e_7c67a253903erow5_col2\" class=\"data row5 col2\" >0.557799</td>\n",
       "                        <td id=\"T_7356de3e_36cd_11eb_b25e_7c67a253903erow5_col3\" class=\"data row5 col3\" >1.462562</td>\n",
       "                        <td id=\"T_7356de3e_36cd_11eb_b25e_7c67a253903erow5_col4\" class=\"data row5 col4\" >0.328654</td>\n",
       "            </tr>\n",
       "            <tr>\n",
       "                        <th id=\"T_7356de3e_36cd_11eb_b25e_7c67a253903elevel0_row6\" class=\"row_heading level0 row6\" >6</th>\n",
       "                        <td id=\"T_7356de3e_36cd_11eb_b25e_7c67a253903erow6_col0\" class=\"data row6 col0\" >{'packaged vegetables fruits'} -> {'fresh vegetables'}</td>\n",
       "                        <td id=\"T_7356de3e_36cd_11eb_b25e_7c67a253903erow6_col1\" class=\"data row6 col1\" >0.251120</td>\n",
       "                        <td id=\"T_7356de3e_36cd_11eb_b25e_7c67a253903erow6_col2\" class=\"data row6 col2\" >0.658442</td>\n",
       "                        <td id=\"T_7356de3e_36cd_11eb_b25e_7c67a253903erow6_col3\" class=\"data row6 col3\" >1.462562</td>\n",
       "                        <td id=\"T_7356de3e_36cd_11eb_b25e_7c67a253903erow6_col4\" class=\"data row6 col4\" >0.328654</td>\n",
       "            </tr>\n",
       "            <tr>\n",
       "                        <th id=\"T_7356de3e_36cd_11eb_b25e_7c67a253903elevel0_row7\" class=\"row_heading level0 row7\" >7</th>\n",
       "                        <td id=\"T_7356de3e_36cd_11eb_b25e_7c67a253903erow7_col0\" class=\"data row7 col0\" >{'fresh fruits'} -> {'packaged vegetables fruits'}</td>\n",
       "                        <td id=\"T_7356de3e_36cd_11eb_b25e_7c67a253903erow7_col1\" class=\"data row7 col1\" >0.284964</td>\n",
       "                        <td id=\"T_7356de3e_36cd_11eb_b25e_7c67a253903erow7_col2\" class=\"data row7 col2\" >0.518938</td>\n",
       "                        <td id=\"T_7356de3e_36cd_11eb_b25e_7c67a253903erow7_col3\" class=\"data row7 col3\" >1.360668</td>\n",
       "                        <td id=\"T_7356de3e_36cd_11eb_b25e_7c67a253903erow7_col4\" class=\"data row7 col4\" >0.312529</td>\n",
       "            </tr>\n",
       "            <tr>\n",
       "                        <th id=\"T_7356de3e_36cd_11eb_b25e_7c67a253903elevel0_row8\" class=\"row_heading level0 row8\" >8</th>\n",
       "                        <td id=\"T_7356de3e_36cd_11eb_b25e_7c67a253903erow8_col0\" class=\"data row8 col0\" >{'packaged vegetables fruits'} -> {'fresh fruits'}</td>\n",
       "                        <td id=\"T_7356de3e_36cd_11eb_b25e_7c67a253903erow8_col1\" class=\"data row8 col1\" >0.284964</td>\n",
       "                        <td id=\"T_7356de3e_36cd_11eb_b25e_7c67a253903erow8_col2\" class=\"data row8 col2\" >0.747182</td>\n",
       "                        <td id=\"T_7356de3e_36cd_11eb_b25e_7c67a253903erow8_col3\" class=\"data row8 col3\" >1.360668</td>\n",
       "                        <td id=\"T_7356de3e_36cd_11eb_b25e_7c67a253903erow8_col4\" class=\"data row8 col4\" >0.312529</td>\n",
       "            </tr>\n",
       "            <tr>\n",
       "                        <th id=\"T_7356de3e_36cd_11eb_b25e_7c67a253903elevel0_row9\" class=\"row_heading level0 row9\" >9</th>\n",
       "                        <td id=\"T_7356de3e_36cd_11eb_b25e_7c67a253903erow9_col0\" class=\"data row9 col0\" >{'fresh fruits'} -> {'fresh vegetables'}</td>\n",
       "                        <td id=\"T_7356de3e_36cd_11eb_b25e_7c67a253903erow9_col1\" class=\"data row9 col1\" >0.326421</td>\n",
       "                        <td id=\"T_7356de3e_36cd_11eb_b25e_7c67a253903erow9_col2\" class=\"data row9 col2\" >0.594433</td>\n",
       "                        <td id=\"T_7356de3e_36cd_11eb_b25e_7c67a253903erow9_col3\" class=\"data row9 col3\" >1.320382</td>\n",
       "                        <td id=\"T_7356de3e_36cd_11eb_b25e_7c67a253903erow9_col4\" class=\"data row9 col4\" >0.319947</td>\n",
       "            </tr>\n",
       "            <tr>\n",
       "                        <th id=\"T_7356de3e_36cd_11eb_b25e_7c67a253903elevel0_row10\" class=\"row_heading level0 row10\" >10</th>\n",
       "                        <td id=\"T_7356de3e_36cd_11eb_b25e_7c67a253903erow10_col0\" class=\"data row10 col0\" >{'fresh vegetables'} -> {'fresh fruits'}</td>\n",
       "                        <td id=\"T_7356de3e_36cd_11eb_b25e_7c67a253903erow10_col1\" class=\"data row10 col1\" >0.326421</td>\n",
       "                        <td id=\"T_7356de3e_36cd_11eb_b25e_7c67a253903erow10_col2\" class=\"data row10 col2\" >0.725060</td>\n",
       "                        <td id=\"T_7356de3e_36cd_11eb_b25e_7c67a253903erow10_col3\" class=\"data row10 col3\" >1.320382</td>\n",
       "                        <td id=\"T_7356de3e_36cd_11eb_b25e_7c67a253903erow10_col4\" class=\"data row10 col4\" >0.319947</td>\n",
       "            </tr>\n",
       "    </tbody></table>"
      ],
      "text/plain": [
       "<pandas.io.formats.style.Styler at 0x1802b2f04c8>"
      ]
     },
     "execution_count": 137,
     "metadata": {},
     "output_type": "execute_result"
    }
   ],
   "source": [
    "#参数\n",
    "min_support = 0.2 #支持度阈值\n",
    "min_confidence = 0.4 #置信度阈值\n",
    "groupby_key = \"order_id\" #汇总索引\n",
    "groupby_column = \"aisle\" #需要汇总的列\n",
    "#注：data_loader需要传入algorithm参数, \"apr\":Apriori, \"fp\":FP-growth\n",
    "#FP-growth算法\n",
    "Order_products_train_fp_transactions = data_loader(order_data, groupby_key, groupby_column, algorithm=\"fp\")\n",
    "Order_products_train_fp_df = fp_growth_main(Order_products_train_fp_transactions, min_support, min_confidence)\n",
    "Order_products_train_fp_df[0:20].style.set_table_styles(dfstyle)"
   ]
  },
  {
   "cell_type": "markdown",
   "metadata": {},
   "source": [
    "在department维度上，选择参数min_support=0.2，min_confidence=0.4筛选出来的11条规则（按照lift进行排序），集中在fresh fruits，fresh vegetables，packaged vegetables fruits三类产品之间，其中lift最高的两条规则显示，买了packaged vegetables fruits会购买fresh fruits和fresh vegetables，购买了fresh fruits和fresh vegetables也会购买packaged vegetables fruits，起到了相互促销的作用，这符合常理。"
   ]
  },
  {
   "cell_type": "code",
   "execution_count": 138,
   "metadata": {},
   "outputs": [
    {
     "data": {
      "application/vnd.jupyter.widget-view+json": {
       "model_id": "7df571901e6e44e7adb0ee267ea40fcf",
       "version_major": 2,
       "version_minor": 0
      },
      "text/plain": [
       "VBox(children=(HBox(children=(SelectMultiple(index=(0, 1, 2), options=('fresh fruits', 'fresh vegetables', 'pa…"
      ]
     },
     "metadata": {},
     "output_type": "display_data"
    }
   ],
   "source": [
    "g = Arulesviz(dataset, 0.2, 0.4, 0, products_to_drop=[])\n",
    "g.create_rules()\n",
    "g.plot_graph(width=1000, directed=True, charge=-1000, link_distance=20)"
   ]
  }
 ],
 "metadata": {
  "kernelspec": {
   "display_name": "Python 3",
   "language": "python",
   "name": "python3"
  },
  "language_info": {
   "codemirror_mode": {
    "name": "ipython",
    "version": 3
   },
   "file_extension": ".py",
   "mimetype": "text/x-python",
   "name": "python",
   "nbconvert_exporter": "python",
   "pygments_lexer": "ipython3",
   "version": "3.7.6"
  }
 },
 "nbformat": 4,
 "nbformat_minor": 4
}
